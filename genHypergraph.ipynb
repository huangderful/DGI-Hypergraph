{
 "cells": [
  {
   "cell_type": "code",
   "execution_count": 1,
   "metadata": {},
   "outputs": [
    {
     "name": "stderr",
     "output_type": "stream",
     "text": [
      "c:\\Users\\richa\\Desktop\\CodingWorkspaces\\DGI-Hypergraph\\datatestingvenv\\lib\\site-packages\\IPython\\core\\interactiveshell.py:3258: DtypeWarning: Columns (2,4,6,8,9,10) have mixed types.Specify dtype option on import or set low_memory=False.\n",
      "  interactivity=interactivity, compiler=compiler, result=result)\n"
     ]
    }
   ],
   "source": [
    "import pandas as pd\n",
    "from scipy.sparse import dok_matrix, save_npz\n",
    "from tqdm import tqdm\n",
    "tqdm.pandas()  # Enable tqdm for pandas\n",
    "import json\n",
    "DGIDB_PATH = \"./Data/DGIDB/interactions.tsv\"\n",
    "DGIDB = pd.read_csv(DGIDB_PATH, sep=\"\\t\")\n",
    "HUMANNET_PATH = \"./Data/HumanNet/HumanNet-GSP.tsv\"\n",
    "HUMANNET = pd.read_csv(HUMANNET_PATH, sep=\"\\t\")\n",
    "NCBI_PATH = \"./Data/ncbi/gene2refseq.gz\"\n",
    "NCBI_INFO = pd.read_csv(NCBI_PATH, sep='\\t', compression='gzip')"
   ]
  },
  {
   "cell_type": "code",
   "execution_count": 2,
   "metadata": {},
   "outputs": [
    {
     "name": "stdout",
     "output_type": "stream",
     "text": [
      "NCBI Gene ID for TP53: 7157\n"
     ]
    }
   ],
   "source": [
    "\n",
    "# Filter for Homo sapiens genes (tax_id = 9606)\n",
    "human_gene2refseq = NCBI_INFO[NCBI_INFO['#tax_id'] == 9606]\n",
    "\n",
    "# Create a mapping from gene claim names (Symbol) to NCBI gene IDs (GeneID)\n",
    "gene_claim_to_id = pd.Series(human_gene2refseq.GeneID.values, index=human_gene2refseq.Symbol).to_dict()\n",
    "gene_claim_name = \"TP53\"\n",
    "ncbi_gene_id = gene_claim_to_id.get(gene_claim_name, \"Gene name not found\")\n",
    "print(f\"NCBI Gene ID for {gene_claim_name}: {ncbi_gene_id}\")"
   ]
  },
  {
   "cell_type": "code",
   "execution_count": 3,
   "metadata": {},
   "outputs": [],
   "source": [
    "def get_ncbi_gene_id(gene_claim_name):\n",
    "    return gene_claim_to_id.get(gene_claim_name, None)\n",
    "# Add a new column to dgidb with NCBI gene IDs\n"
   ]
  },
  {
   "cell_type": "code",
   "execution_count": 4,
   "metadata": {},
   "outputs": [
    {
     "name": "stdout",
     "output_type": "stream",
     "text": [
      "  gene_claim_name gene_concept_id gene_name interaction_source_db_name  \\\n",
      "0          CYP2D6       hgnc:2625    CYP2D6                        DTC   \n",
      "1           PPARG       hgnc:9236     PPARG                        DTC   \n",
      "2           ATAD5      hgnc:25752     ATAD5                        DTC   \n",
      "3            RGS4      hgnc:10000      RGS4                        DTC   \n",
      "4           MAPK1       hgnc:6871     MAPK1                        DTC   \n",
      "\n",
      "  interaction_source_db_version interaction_type  interaction_score  \\\n",
      "0                        9/2/20              NaN           0.017709   \n",
      "1                        9/2/20              NaN           0.840123   \n",
      "2                        9/2/20              NaN           0.177992   \n",
      "3                        9/2/20              NaN           0.034319   \n",
      "4                        9/2/20              NaN           0.050007   \n",
      "\n",
      "           drug_claim_name       drug_concept_id                drug_name  \\\n",
      "0               RACLOPRIDE          ncit:C152139               RACLOPRIDE   \n",
      "1      KALOPANAX-SAPONIN F  chembl:CHEMBL1833984     CHEMBL:CHEMBL1833984   \n",
      "2                RO-5-3335    chembl:CHEMBL91609       CHEMBL:CHEMBL91609   \n",
      "3  3,4-DICHLOROISOCOUMARIN      drugbank:DB04459  3,4-DICHLOROISOCOUMARIN   \n",
      "4             WITHAFERIN A   iuphar.ligand:13097             WITHAFERIN A   \n",
      "\n",
      "  approved immunotherapy anti_neoplastic  ncbi_gene_id  \n",
      "0    False         False           False        1565.0  \n",
      "1    False         False           False        5468.0  \n",
      "2    False         False           False       79915.0  \n",
      "3    False         False           False        5999.0  \n",
      "4    False         False           False        5594.0  \n"
     ]
    }
   ],
   "source": [
    "DGIDB['ncbi_gene_id'] = DGIDB['gene_claim_name'].apply(get_ncbi_gene_id)\n",
    "print(DGIDB.head())"
   ]
  },
  {
   "cell_type": "code",
   "execution_count": 5,
   "metadata": {},
   "outputs": [
    {
     "name": "stdout",
     "output_type": "stream",
     "text": [
      "  gene_claim_name gene_concept_id gene_name interaction_source_db_name  \\\n",
      "0          CYP2D6       hgnc:2625    CYP2D6                        DTC   \n",
      "1           PPARG       hgnc:9236     PPARG                        DTC   \n",
      "2           ATAD5      hgnc:25752     ATAD5                        DTC   \n",
      "3            RGS4      hgnc:10000      RGS4                        DTC   \n",
      "4           MAPK1       hgnc:6871     MAPK1                        DTC   \n",
      "\n",
      "  interaction_source_db_version interaction_type  interaction_score  \\\n",
      "0                        9/2/20              NaN           0.017709   \n",
      "1                        9/2/20              NaN           0.840123   \n",
      "2                        9/2/20              NaN           0.177992   \n",
      "3                        9/2/20              NaN           0.034319   \n",
      "4                        9/2/20              NaN           0.050007   \n",
      "\n",
      "           drug_claim_name       drug_concept_id                drug_name  \\\n",
      "0               RACLOPRIDE          ncit:C152139               RACLOPRIDE   \n",
      "1      KALOPANAX-SAPONIN F  chembl:CHEMBL1833984     CHEMBL:CHEMBL1833984   \n",
      "2                RO-5-3335    chembl:CHEMBL91609       CHEMBL:CHEMBL91609   \n",
      "3  3,4-DICHLOROISOCOUMARIN      drugbank:DB04459  3,4-DICHLOROISOCOUMARIN   \n",
      "4             WITHAFERIN A   iuphar.ligand:13097             WITHAFERIN A   \n",
      "\n",
      "  approved immunotherapy anti_neoplastic ncbi_gene_id  \n",
      "0    False         False           False         1565  \n",
      "1    False         False           False         5468  \n",
      "2    False         False           False        79915  \n",
      "3    False         False           False         5999  \n",
      "4    False         False           False         5594  \n"
     ]
    }
   ],
   "source": [
    "DGIDB['ncbi_gene_id'] = DGIDB['ncbi_gene_id'].apply(lambda x: str(int(x)) if pd.notnull(x) else None)\n",
    "print(DGIDB.head())"
   ]
  },
  {
   "cell_type": "code",
   "execution_count": 6,
   "metadata": {},
   "outputs": [],
   "source": [
    "DGIDB.to_csv(\"dgidb_ncbi_v1.csv\", index=False)"
   ]
  },
  {
   "cell_type": "code",
   "execution_count": 7,
   "metadata": {},
   "outputs": [
    {
     "name": "stdout",
     "output_type": "stream",
     "text": [
      "Number of rows with None in 'ncbi_gene_id': 44265\n"
     ]
    }
   ],
   "source": [
    "# Count rows where 'ncbi_gene_id' is None\n",
    "DGIDB = pd.read_csv(\"dgidb_ncbi_v1.csv\")\n",
    "none_count = DGIDB['ncbi_gene_id'].isna().sum()\n",
    "\n",
    "# Print the count\n",
    "print(f\"Number of rows with None in 'ncbi_gene_id': {none_count}\")"
   ]
  },
  {
   "cell_type": "code",
   "execution_count": 8,
   "metadata": {},
   "outputs": [
    {
     "name": "stdout",
     "output_type": "stream",
     "text": [
      "Number of genes where gene_claim_name has 'ncbi': 16070\n",
      "Number of genes where gene_claim_name has 'ncbi' and ncbi_gene_id is None: 16070\n"
     ]
    }
   ],
   "source": [
    "ncbi_count = DGIDB['gene_claim_name'].str.contains('ncbi', case=False, na=False).sum()\n",
    "\n",
    "print(\"Number of genes where gene_claim_name has 'ncbi':\", ncbi_count)\n",
    "ncbi_none_count = DGIDB[\n",
    "    DGIDB['gene_claim_name'].str.contains('NCBIGENE:', case=False, na=False) &\n",
    "    DGIDB['ncbi_gene_id'].isna()\n",
    "].shape[0]\n",
    "\n",
    "print(\"Number of genes where gene_claim_name has 'ncbi' and ncbi_gene_id is None:\", ncbi_none_count)"
   ]
  },
  {
   "cell_type": "code",
   "execution_count": 9,
   "metadata": {},
   "outputs": [],
   "source": [
    "DGIDB.loc[\n",
    "    DGIDB['gene_claim_name'].str.contains('NCBIGENE:', case=False, na=False), \n",
    "    'ncbi_gene_id'\n",
    "] = DGIDB['gene_claim_name'].str.extract(r'NCBIGENE:(\\d+)', expand=False)\n",
    "DGIDB['ncbi_gene_id'] = DGIDB['ncbi_gene_id'].apply(lambda x: str(int(x)) if pd.notnull(x) else None)"
   ]
  },
  {
   "cell_type": "code",
   "execution_count": 10,
   "metadata": {},
   "outputs": [
    {
     "name": "stdout",
     "output_type": "stream",
     "text": [
      "  gene_claim_name gene_concept_id gene_name interaction_source_db_name  \\\n",
      "0          CYP2D6       hgnc:2625    CYP2D6                        DTC   \n",
      "1           PPARG       hgnc:9236     PPARG                        DTC   \n",
      "2           ATAD5      hgnc:25752     ATAD5                        DTC   \n",
      "3            RGS4      hgnc:10000      RGS4                        DTC   \n",
      "4           MAPK1       hgnc:6871     MAPK1                        DTC   \n",
      "\n",
      "  interaction_source_db_version interaction_type  interaction_score  \\\n",
      "0                        9/2/20              NaN           0.017709   \n",
      "1                        9/2/20              NaN           0.840123   \n",
      "2                        9/2/20              NaN           0.177992   \n",
      "3                        9/2/20              NaN           0.034319   \n",
      "4                        9/2/20              NaN           0.050007   \n",
      "\n",
      "           drug_claim_name       drug_concept_id                drug_name  \\\n",
      "0               RACLOPRIDE          ncit:C152139               RACLOPRIDE   \n",
      "1      KALOPANAX-SAPONIN F  chembl:CHEMBL1833984     CHEMBL:CHEMBL1833984   \n",
      "2                RO-5-3335    chembl:CHEMBL91609       CHEMBL:CHEMBL91609   \n",
      "3  3,4-DICHLOROISOCOUMARIN      drugbank:DB04459  3,4-DICHLOROISOCOUMARIN   \n",
      "4             WITHAFERIN A   iuphar.ligand:13097             WITHAFERIN A   \n",
      "\n",
      "  approved immunotherapy anti_neoplastic ncbi_gene_id  \n",
      "0    False         False           False         1565  \n",
      "1    False         False           False         5468  \n",
      "2    False         False           False        79915  \n",
      "3    False         False           False         5999  \n",
      "4    False         False           False         5594  \n"
     ]
    }
   ],
   "source": [
    "print(DGIDB.head())"
   ]
  },
  {
   "cell_type": "code",
   "execution_count": 11,
   "metadata": {},
   "outputs": [],
   "source": [
    "DGIDB.to_csv(\"dgidb_ncbi_v2.csv\", index=False)"
   ]
  },
  {
   "cell_type": "code",
   "execution_count": 12,
   "metadata": {},
   "outputs": [
    {
     "name": "stdout",
     "output_type": "stream",
     "text": [
      "Examples of rows where 'ncbi_gene_id' is None:\n",
      "                                     gene_claim_name ncbi_gene_id\n",
      "5                     ANGIOTENSIN II RECEPTOR TYPE-1         None\n",
      "6      VASCULAR ENDOTHELIAL GROWTH FACTOR RECEPTOR 2         None\n",
      "7                       POLY [ADP-RIBOSE] POLYMERASE         None\n",
      "19                                    UNIPROT:P08588         None\n",
      "20                                    UNIPROT:Q9Y5Y9         None\n",
      "...                                              ...          ...\n",
      "97974                   PROSTAGLANDIN G/H SYNTHASE 2         None\n",
      "97975               EPIDERMAL GROWTH FACTOR RECEPTOR         None\n",
      "97976                            ADENOSINE DEAMINASE         None\n",
      "97977                                     MESOTHELIN         None\n",
      "97979                                     MESOTHELIN         None\n",
      "\n",
      "[28195 rows x 2 columns]\n"
     ]
    }
   ],
   "source": [
    "# Filter rows where ncbi_gene_id is None\n",
    "none_rows = DGIDB[DGIDB['ncbi_gene_id'].isna()]\n",
    "none_rows.to_csv(\"none_rows.csv\")\n",
    "# Print the first few examples\n",
    "print(\"Examples of rows where 'ncbi_gene_id' is None:\")\n",
    "print(none_rows[['gene_claim_name', 'ncbi_gene_id']])\n"
   ]
  },
  {
   "cell_type": "code",
   "execution_count": 13,
   "metadata": {},
   "outputs": [
    {
     "name": "stdout",
     "output_type": "stream",
     "text": [
      "Number of times each gene_claim_name appears where 'ncbi_gene_id' is None:\n",
      "BACTERIAL FIMBRIN D-MANNOSE ADHESIN               188\n",
      "TRANSIENT RECEPTOR POTENTIAL CATION CHANNEL V1    178\n",
      "CANNABINOID RECEPTOR 1                            176\n",
      "TYROSINASE                                        143\n",
      "B-LYMPHOCYTE SURFACE ANTIGEN B4                   135\n",
      "                                                 ... \n",
      "NOTCH-2 RECEPTOR                                    1\n",
      "GLUCOSE TRANSPORTER TYPE 4                          1\n",
      "THYROTROPIN-RELEASING HORMONE                       1\n",
      "STEROL O-ACYLTRANSFERASE                            1\n",
      "SHORT TRANSIENT RECEPTOR POTENTIAL CHANNEL 4        1\n",
      "Name: gene_claim_name, Length: 3434, dtype: int64\n"
     ]
    }
   ],
   "source": [
    "# Count occurrences of each unique gene_claim_name where ncbi_gene_id is None\n",
    "gene_claim_name_counts = none_rows['gene_claim_name'].value_counts()\n",
    "\n",
    "# Print the counts\n",
    "print(\"Number of times each gene_claim_name appears where 'ncbi_gene_id' is None:\")\n",
    "print(gene_claim_name_counts)\n"
   ]
  },
  {
   "cell_type": "code",
   "execution_count": 14,
   "metadata": {},
   "outputs": [
    {
     "name": "stdout",
     "output_type": "stream",
     "text": [
      "Number of ncbi_gene_id in DGIDB but not in HumanNet[gene1]: 2161\n",
      "Number of ncbi_gene_id in DGIDB but not in HumanNet[gene1] or HumanNet[gene2]: 2032\n",
      "Total number of interactions in DGIDB: 98239\n",
      "Total number of unique genes in DGIDB: 4835\n",
      "Number of rows in DGIDB where ncbi_gene_id is not in HumanNet[gene1] or HumanNet[gene2]: 17100\n"
     ]
    }
   ],
   "source": [
    "# Convert ncbi_gene_id in DGIDB to a set for efficient lookup (drop NaN values)\n",
    "dgidb_ncbi_ids = set(DGIDB['ncbi_gene_id'].dropna().astype(str))\n",
    "\n",
    "# Combine HumanNet's gene1 and gene2 into a single set\n",
    "humannet_genes = set(HUMANNET['Gene1'].astype(str)) | set(HUMANNET['Gene2'].astype(str))\n",
    "humannet_gene1 = set(HUMANNET['Gene1'].astype(str))\n",
    "# Find ncbi_gene_ids in DGIDB that are not in HumanNet\n",
    "unique_in_dgidb1 = dgidb_ncbi_ids - humannet_gene1\n",
    "unique_in_dgidb = dgidb_ncbi_ids - humannet_genes\n",
    "# Print the count of such ncbi_gene_ids\n",
    "print(\"Number of ncbi_gene_id in DGIDB but not in HumanNet[gene1]:\", len(unique_in_dgidb1))\n",
    "print(\"Number of ncbi_gene_id in DGIDB but not in HumanNet[gene1] or HumanNet[gene2]:\", len(unique_in_dgidb))\n",
    "print(\"Total number of interactions in DGIDB:\", len(DGIDB))\n",
    "print(\"Total number of unique genes in DGIDB:\",len(dgidb_ncbi_ids))\n",
    "rows_not_in_humannet = DGIDB[DGIDB['ncbi_gene_id'].notna() & ~DGIDB['ncbi_gene_id'].astype(str).isin(humannet_genes)]\n",
    "print(\"Number of rows in DGIDB where ncbi_gene_id is not in HumanNet[gene1] or HumanNet[gene2]:\", len(rows_not_in_humannet))\n"
   ]
  },
  {
   "cell_type": "code",
   "execution_count": 28,
   "metadata": {},
   "outputs": [],
   "source": [
    "v2 = pd.read_csv(\"./Data/DGIDB/converted/human/dgidb_ncbi_v2.csv\")"
   ]
  },
  {
   "cell_type": "code",
   "execution_count": 29,
   "metadata": {},
   "outputs": [
    {
     "name": "stdout",
     "output_type": "stream",
     "text": [
      "                                  gene_claim_name gene_concept_id gene_name  \\\n",
      "5                  ANGIOTENSIN II RECEPTOR TYPE-1        hgnc:336     AGTR1   \n",
      "6   VASCULAR ENDOTHELIAL GROWTH FACTOR RECEPTOR 2       hgnc:6307       KDR   \n",
      "7                    POLY [ADP-RIBOSE] POLYMERASE        hgnc:270     PARP1   \n",
      "19                                 UNIPROT:P08588        hgnc:285     ADRB1   \n",
      "20                                 UNIPROT:Q9Y5Y9      hgnc:10582    SCN10A   \n",
      "\n",
      "   interaction_source_db_name interaction_source_db_version interaction_type  \\\n",
      "5                         TTD                    2020.06.01              NaN   \n",
      "6                         TTD                    2020.06.01              NaN   \n",
      "7                         TTD                    2020.06.01              NaN   \n",
      "19                       TEND                      1-Aug-11              NaN   \n",
      "20                       TEND                      1-Aug-11              NaN   \n",
      "\n",
      "    interaction_score drug_claim_name   drug_concept_id       drug_name  \\\n",
      "5            0.667470  ANGIOTENSIN II     rxcui:1999003  ANGIOTENSIN II   \n",
      "6            0.026412         HKI-272     rxcui:1940643       NERATINIB   \n",
      "7            2.100307        CEP-9722  drugbank:DB14882        CEP-9722   \n",
      "19           1.790034      ARBUTAMINE       rxcui:61609      ARBUTAMINE   \n",
      "20           0.230297       DIBUCAINE        rxcui:3339       DIBUCAINE   \n",
      "\n",
      "   approved immunotherapy anti_neoplastic  ncbi_gene_id  \n",
      "5      True         False           False           NaN  \n",
      "6      True         False            True           NaN  \n",
      "7     False         False           False           NaN  \n",
      "19     True         False           False           NaN  \n",
      "20     True         False           False           NaN  \n"
     ]
    }
   ],
   "source": [
    "none_rows = v2[v2['ncbi_gene_id'].isna()]\n",
    "print(none_rows.head())"
   ]
  },
  {
   "cell_type": "code",
   "execution_count": 30,
   "metadata": {},
   "outputs": [
    {
     "name": "stdout",
     "output_type": "stream",
     "text": [
      "Number of rows removed: 28195\n",
      "Number of rows remaining: 70044\n"
     ]
    }
   ],
   "source": [
    "# Remove rows with None values in 'ncbi_gene_id' column\n",
    "v2 = v2.dropna(subset=['ncbi_gene_id'])\n",
    "\n",
    "# Verify the number of rows removed\n",
    "print(f\"Number of rows removed: {len(none_rows)}\")\n",
    "print(f\"Number of rows remaining: {len(v2)}\")\n",
    "v2['ncbi_gene_id'] = v2['ncbi_gene_id'].apply(lambda x: str(int(x)) if pd.notnull(x) else None)"
   ]
  },
  {
   "cell_type": "code",
   "execution_count": 31,
   "metadata": {},
   "outputs": [],
   "source": [
    "v2.to_csv(\"./Data/DGIDB/converted/human/dgidb_ncbi_v3.csv\", index=False)"
   ]
  },
  {
   "cell_type": "code",
   "execution_count": 32,
   "metadata": {},
   "outputs": [],
   "source": [
    "DGIDB=v2"
   ]
  },
  {
   "cell_type": "code",
   "execution_count": 33,
   "metadata": {},
   "outputs": [
    {
     "name": "stdout",
     "output_type": "stream",
     "text": [
      "The degree of gene 54936 is: 48\n"
     ]
    }
   ],
   "source": [
    "# Create PPI subnetwork\n",
    "\n",
    "import numpy as np\n",
    "# Get the unique list of genes\n",
    "genes = pd.unique(HUMANNET[['Gene1', 'Gene2']].values.ravel())\n",
    "\n",
    "# Create a mapping of genes to indices for the adjacency matrix\n",
    "gene_to_index = {gene: idx for idx, gene in enumerate(genes)}\n",
    "\n",
    "# Initialize an adjacency matrix of zeros\n",
    "adj_matrix = np.zeros((len(genes), len(genes)), dtype=int)\n",
    "\n",
    "# Fill the adjacency matrix based on HumanNet edges\n",
    "for _, row in HUMANNET.iterrows():\n",
    "    i, j = gene_to_index[row[\"Gene1\"]], gene_to_index[row[\"Gene2\"]]\n",
    "    adj_matrix[i, j] = 1\n",
    "    adj_matrix[j, i] = 1  # Ensure symmetry\n",
    "\n",
    "# Create a DataFrame for the adjacency matrix for easy visualization if needed\n",
    "adj_matrix_df = pd.DataFrame(adj_matrix, index=genes, columns=genes)\n",
    "\n",
    "# Define a function to get the degree of a specific gene\n",
    "def get_gene_degree(gene):\n",
    "    if gene not in gene_to_index:\n",
    "        raise ValueError(f\"Gene {gene} not found in the dataset.\")\n",
    "    index = gene_to_index[gene]\n",
    "    return adj_matrix[index].sum()\n",
    "\n",
    "# Example usage\n",
    "gene_example = 54936\n",
    "degree = get_gene_degree(gene_example)\n",
    "print(f\"The degree of gene {gene_example} is: {degree}\")"
   ]
  },
  {
   "cell_type": "code",
   "execution_count": 34,
   "metadata": {},
   "outputs": [
    {
     "name": "stdout",
     "output_type": "stream",
     "text": [
      "Weighted incidence matrix saved as 'hypergraph_incidence_matrix_weighted.npz'.\n"
     ]
    }
   ],
   "source": [
    "from scipy.sparse import dok_matrix, save_npz\n",
    "# Calculate gene degrees in HumanNet\n",
    "genes_in_humannet = pd.unique(HUMANNET[['Gene1', 'Gene2']].values.ravel())\n",
    "gene_to_degree = {gene: 0 for gene in genes_in_humannet}\n",
    "\n",
    "for _, row in HUMANNET.iterrows():\n",
    "    gene_to_degree[row[\"Gene1\"]] += 1\n",
    "    gene_to_degree[row[\"Gene2\"]] += 1\n",
    "\n",
    "# Add degrees to DGIDB with fallback to 0.01 for missing genes\n",
    "DGIDB['ncbi_gene_id'] = DGIDB['ncbi_gene_id'].astype(str)\n",
    "gene_to_degree = {str(gene): degree for gene, degree in gene_to_degree.items()}\n",
    "DGIDB['degree'] = DGIDB['ncbi_gene_id'].map(gene_to_degree).fillna(0.01)\n",
    "\n",
    "# Create mappings for vertices and hyperedges\n",
    "genes = DGIDB['ncbi_gene_id'].unique()\n",
    "drugs = DGIDB['drug_name'].unique()\n",
    "gene_to_index = {gene: i for i, gene in enumerate(genes)}\n",
    "drug_to_index = {drug: i for i, drug in enumerate(drugs)}\n",
    "\n",
    "# Initialize a sparse incidence matrix\n",
    "incidence_matrix = dok_matrix((len(genes), len(drugs)), dtype=float)\n",
    "\n",
    "# Populate the incidence matrix with degree as weight\n",
    "for _, row in DGIDB.iterrows():\n",
    "    gene_idx = gene_to_index[row['ncbi_gene_id']]\n",
    "    drug_idx = drug_to_index[row['drug_name']]\n",
    "    degree = row['degree']\n",
    "    incidence_matrix[gene_idx, drug_idx] = degree\n",
    "\n",
    "# Convert the DOK matrix to CSR format\n",
    "csr_matrix = incidence_matrix.tocsr()\n",
    "\n",
    "# Save the matrix as .npz file\n",
    "save_npz(\"hypergraph_incidence_matrix_weighted.npz\", csr_matrix)\n",
    "\n",
    "# Print confirmation\n",
    "print(\"Weighted incidence matrix saved as 'hypergraph_incidence_matrix_weighted.npz'.\")"
   ]
  },
  {
   "cell_type": "code",
   "execution_count": 35,
   "metadata": {},
   "outputs": [
    {
     "name": "stdout",
     "output_type": "stream",
     "text": [
      "Mappings saved to gene_to_index.json and drug_to_index.json.\n"
     ]
    }
   ],
   "source": [
    "import json\n",
    "\n",
    "# Define file paths\n",
    "gene_to_index_path = \"gene_to_index.json\"\n",
    "drug_to_index_path = \"drug_to_index.json\"\n",
    "\n",
    "# Save gene_to_index mapping\n",
    "with open(gene_to_index_path, 'w') as gene_file:\n",
    "    json.dump(gene_to_index, gene_file, indent=4)\n",
    "\n",
    "# Save drug_to_index mapping\n",
    "with open(drug_to_index_path, 'w') as drug_file:\n",
    "    json.dump(drug_to_index, drug_file, indent=4)\n",
    "\n",
    "print(f\"Mappings saved to {gene_to_index_path} and {drug_to_index_path}.\")\n"
   ]
  },
  {
   "cell_type": "code",
   "execution_count": 36,
   "metadata": {},
   "outputs": [
    {
     "name": "stdout",
     "output_type": "stream",
     "text": [
      "Binary incidence matrix saved as 'hypergraph_incidence_matrix_binary.npz'.\n"
     ]
    }
   ],
   "source": [
    "from scipy.sparse import dok_matrix, save_npz\n",
    "import pandas as pd\n",
    "\n",
    "# Create mappings for vertices and hyperedges\n",
    "genes = DGIDB['ncbi_gene_id'].unique()\n",
    "drugs = DGIDB['drug_name'].unique()\n",
    "gene_to_index = {gene: i for i, gene in enumerate(genes)}\n",
    "drug_to_index = {drug: i for i, drug in enumerate(drugs)}\n",
    "\n",
    "# Initialize a sparse binary incidence matrix\n",
    "binary_incidence_matrix = dok_matrix((len(genes), len(drugs)), dtype=int)\n",
    "\n",
    "# Populate the binary incidence matrix with 1 where there is a relationship\n",
    "for _, row in DGIDB.iterrows():\n",
    "    gene_idx = gene_to_index[row['ncbi_gene_id']]\n",
    "    drug_idx = drug_to_index[row['drug_name']]\n",
    "    binary_incidence_matrix[gene_idx, drug_idx] = 1\n",
    "\n",
    "# Convert the DOK matrix to CSR format\n",
    "binary_csr_matrix = binary_incidence_matrix.tocsr()\n",
    "\n",
    "# Save the binary matrix as .npz file\n",
    "save_npz(\"hypergraph_incidence_matrix_binary.npz\", binary_csr_matrix)\n",
    "\n",
    "# Print confirmation\n",
    "print(\"Binary incidence matrix saved as 'hypergraph_incidence_matrix_binary.npz'.\")\n"
   ]
  },
  {
   "cell_type": "code",
   "execution_count": 37,
   "metadata": {},
   "outputs": [
    {
     "name": "stdout",
     "output_type": "stream",
     "text": [
      "  (0, 0)\t1\n",
      "  (1, 1)\t1\n",
      "  (2, 2)\t1\n",
      "  (3, 3)\t1\n",
      "  (4, 4)\t1\n",
      "  (5, 5)\t1\n",
      "  (6, 6)\t1\n",
      "  (7, 7)\t1\n",
      "  (8, 8)\t1\n",
      "  (9, 9)\t1\n",
      "  (10, 10)\t1\n",
      "  (11, 11)\t1\n",
      "  (12, 12)\t1\n",
      "  (13, 13)\t1\n",
      "  (14, 14)\t1\n",
      "  (15, 15)\t1\n",
      "  (16, 16)\t1\n",
      "  (17, 17)\t1\n",
      "  (18, 18)\t1\n",
      "  (19, 19)\t1\n",
      "  (20, 20)\t1\n",
      "  (21, 21)\t1\n",
      "  (22, 22)\t1\n",
      "  (23, 23)\t1\n",
      "  (0, 24)\t1\n",
      "  :\t:\n",
      "  (1285, 16398)\t1\n",
      "  (64, 13493)\t1\n",
      "  (116, 5036)\t1\n",
      "  (116, 3687)\t1\n",
      "  (42, 12949)\t1\n",
      "  (42, 14675)\t1\n",
      "  (4523, 264)\t1\n",
      "  (277, 198)\t1\n",
      "  (67, 1804)\t1\n",
      "  (585, 16798)\t1\n",
      "  (73, 8251)\t1\n",
      "  (73, 8927)\t1\n",
      "  (268, 2755)\t1\n",
      "  (772, 883)\t1\n",
      "  (212, 27)\t1\n",
      "  (212, 3447)\t1\n",
      "  (180, 57)\t1\n",
      "  (151, 3167)\t1\n",
      "  (151, 1829)\t1\n",
      "  (1244, 16131)\t1\n",
      "  (315, 6546)\t1\n",
      "  (315, 15780)\t1\n",
      "  (315, 8251)\t1\n",
      "  (315, 1165)\t1\n",
      "  (85, 16799)\t1\n"
     ]
    }
   ],
   "source": [
    "print(binary_incidence_matrix)\n"
   ]
  },
  {
   "cell_type": "code",
   "execution_count": 38,
   "metadata": {},
   "outputs": [
    {
     "name": "stdout",
     "output_type": "stream",
     "text": [
      "  (0, 0)\t52.0\n",
      "  (1, 1)\t398.0\n",
      "  (2, 2)\t16.0\n",
      "  (3, 3)\t0.01\n",
      "  (4, 4)\t202.0\n",
      "  (5, 5)\t0.01\n",
      "  (6, 6)\t0.01\n",
      "  (7, 7)\t54.0\n",
      "  (8, 8)\t0.01\n",
      "  (9, 9)\t311.0\n",
      "  (10, 10)\t41.0\n",
      "  (11, 11)\t67.0\n",
      "  (12, 12)\t0.01\n",
      "  (13, 13)\t158.0\n",
      "  (14, 14)\t59.0\n",
      "  (15, 15)\t0.01\n",
      "  (16, 16)\t324.0\n",
      "  (17, 17)\t62.0\n",
      "  (18, 18)\t39.0\n",
      "  (19, 19)\t35.0\n",
      "  (20, 20)\t0.01\n",
      "  (21, 21)\t197.0\n",
      "  (22, 22)\t85.0\n",
      "  (23, 23)\t25.0\n",
      "  (0, 24)\t52.0\n",
      "  :\t:\n",
      "  (1285, 16398)\t23.0\n",
      "  (64, 13493)\t0.01\n",
      "  (116, 5036)\t138.0\n",
      "  (116, 3687)\t138.0\n",
      "  (42, 12949)\t152.0\n",
      "  (42, 14675)\t152.0\n",
      "  (4523, 264)\t0.01\n",
      "  (277, 198)\t112.0\n",
      "  (67, 1804)\t138.0\n",
      "  (585, 16798)\t7.0\n",
      "  (73, 8251)\t339.0\n",
      "  (73, 8927)\t339.0\n",
      "  (268, 2755)\t0.01\n",
      "  (772, 883)\t4.0\n",
      "  (212, 27)\t57.0\n",
      "  (212, 3447)\t57.0\n",
      "  (180, 57)\t58.0\n",
      "  (151, 3167)\t441.0\n",
      "  (151, 1829)\t441.0\n",
      "  (1244, 16131)\t46.0\n",
      "  (315, 6546)\t505.0\n",
      "  (315, 15780)\t505.0\n",
      "  (315, 8251)\t505.0\n",
      "  (315, 1165)\t505.0\n",
      "  (85, 16799)\t2.0\n"
     ]
    }
   ],
   "source": [
    "print(incidence_matrix)"
   ]
  }
 ],
 "metadata": {
  "kernelspec": {
   "display_name": "datatestingvenv",
   "language": "python",
   "name": "python3"
  },
  "language_info": {
   "codemirror_mode": {
    "name": "ipython",
    "version": 3
   },
   "file_extension": ".py",
   "mimetype": "text/x-python",
   "name": "python",
   "nbconvert_exporter": "python",
   "pygments_lexer": "ipython3",
   "version": "3.7.0"
  }
 },
 "nbformat": 4,
 "nbformat_minor": 2
}
