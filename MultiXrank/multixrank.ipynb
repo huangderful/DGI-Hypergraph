{
 "cells": [
  {
   "cell_type": "code",
   "execution_count": 1,
   "metadata": {},
   "outputs": [],
   "source": [
    "import multixrank\n",
    "multixrank.Example().write(path=\"airport\")"
   ]
  },
  {
   "cell_type": "code",
   "execution_count": 3,
   "metadata": {},
   "outputs": [],
   "source": [
    "import multixrank\n",
    "multixrank_obj = multixrank.Multixrank(config=\"Data/airport/config_minimal.yml\", wdir=\"Data/airport\")\n",
    "ranking_df = multixrank_obj.random_walk_rank()\n",
    "multixrank_obj.write_ranking(ranking_df, path=\"output_airport\")\n",
    "multixrank_obj.to_sif(ranking_df, path=\"output_airport/airport_seed7_top3.sif\", top=3)"
   ]
  },
  {
   "cell_type": "code",
   "execution_count": null,
   "metadata": {},
   "outputs": [],
   "source": []
  }
 ],
 "metadata": {
  "kernelspec": {
   "display_name": "multirankvenv",
   "language": "python",
   "name": "python3"
  },
  "language_info": {
   "codemirror_mode": {
    "name": "ipython",
    "version": 3
   },
   "file_extension": ".py",
   "mimetype": "text/x-python",
   "name": "python",
   "nbconvert_exporter": "python",
   "pygments_lexer": "ipython3",
   "version": "3.12.9"
  }
 },
 "nbformat": 4,
 "nbformat_minor": 2
}
