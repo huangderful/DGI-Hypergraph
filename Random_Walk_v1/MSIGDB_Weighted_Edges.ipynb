{
 "cells": [
  {
   "cell_type": "code",
   "execution_count": 6,
   "metadata": {},
   "outputs": [
    {
     "name": "stdout",
     "output_type": "stream",
     "text": [
      "Random Walk Path (length 101):\n",
      "[14058, 576, 6504, 4275, 3147, 1213, 1821, 3142, 5732, 5055, 5686, 5176, 5010, 5869, 2101, 5757, 966, 4403, 1548, 5063, 656, 4276, 5110, 1087, 4327, 5923, 3625, 644, 4278, 4629, 5534, 5910, 423, 4284, 4392, 4376, 3192, 204, 4201, 3628, 385, 3449, 203, 6749, 6504, 4264, 6643, 1474, 4050, 5831, 1695, 56, 2370, 4194, 5767, 748, 6667, 6045, 4833, 4337, 1493, 5932, 4997, 4436, 805, 227, 5749, 4673, 567, 3142, 110, 469, 3628, 7306, 1546, 4664, 5748, 574, 4058, 2718, 2861, 998, 3821, 5346, 806, 1145, 2025, 5979, 714, 5785, 112, 2958, 4267, 7381, 33, 1307, 1031, 5019, 4913, 4270, 5726]\n"
     ]
    }
   ],
   "source": [
    "import numpy as np\n",
    "import random\n",
    "from scipy.sparse import load_npz\n",
    "\n",
    "# Load matrices\n",
    "weighted_matrix = load_npz(\"../Data/hypergraphs/DGIDB_MSigDB/human/hypergraph_weighted_incidence_matrix.npz\")  # Load the binary incidence matrix/hypergraph_incidence_matrix_binary.npz\")\n",
    "\n",
    "# Parameters\n",
    "num_steps = 100  # Number of steps in the random walk\n",
    "num_genes = weighted_matrix.shape[0]  # Number of genes (rows in the matrix)\n",
    "\n",
    "# Select a random starting gene (vertex)\n",
    "def random_gene_selection():\n",
    "    return random.randint(0, num_genes - 1)\n",
    "\n",
    "# Perform standard random walk\n",
    "def standard_random_walk(weighted_matrix, num_steps):\n",
    "    # Select initial gene\n",
    "    start_gene = random_gene_selection()\n",
    "    current_gene = start_gene\n",
    "    path = [current_gene]  # Store only genes in the path\n",
    "\n",
    "    for _ in range(num_steps):\n",
    "        # Get the weights of genes connected to the current gene (from the weighted matrix)\n",
    "        connected_genes = weighted_matrix[current_gene, :].toarray().flatten()  # Get the weights of all edges for the current gene\n",
    "        next_genes = np.where(connected_genes > 0)[0]  # Find genes with nonzero weight\n",
    "\n",
    "        if len(next_genes) == 0:\n",
    "            continue  # Skip if no valid next genes\n",
    "\n",
    "        # Select next gene based on weights (normalized)\n",
    "        weights = connected_genes[next_genes]\n",
    "        normalized_weights = weights / weights.sum()  # Normalize the weights to get probabilities\n",
    "        next_gene = random.choices(next_genes, weights=normalized_weights)[0]\n",
    "\n",
    "        # Update current gene\n",
    "        current_gene = next_gene\n",
    "        path.append(current_gene)\n",
    "\n",
    "    return path\n",
    "\n",
    "# Perform the random walk\n",
    "walk_path = standard_random_walk(weighted_matrix, num_steps)\n",
    "\n",
    "# Print the walk path\n",
    "print(f\"Random Walk Path (length {len(walk_path)}):\")\n",
    "print(walk_path)\n"
   ]
  }
 ],
 "metadata": {
  "kernelspec": {
   "display_name": "datatestingvenv",
   "language": "python",
   "name": "python3"
  },
  "language_info": {
   "codemirror_mode": {
    "name": "ipython",
    "version": 3
   },
   "file_extension": ".py",
   "mimetype": "text/x-python",
   "name": "python",
   "nbconvert_exporter": "python",
   "pygments_lexer": "ipython3",
   "version": "3.7.0"
  }
 },
 "nbformat": 4,
 "nbformat_minor": 2
}
