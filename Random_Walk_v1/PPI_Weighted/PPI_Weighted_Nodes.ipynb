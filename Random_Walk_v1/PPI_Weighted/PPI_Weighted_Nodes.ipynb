{
 "cells": [
  {
   "cell_type": "code",
   "execution_count": 1,
   "metadata": {},
   "outputs": [
    {
     "name": "stdout",
     "output_type": "stream",
     "text": [
      "1 iteration\n",
      "2 iteration\n",
      "3 iteration\n",
      "4 iteration\n",
      "5 iteration\n",
      "6 iteration\n",
      "7 iteration\n",
      "8 iteration\n",
      "9 iteration\n",
      "10 iteration\n",
      "Top Genes by Importance:\n",
      "Gene 63: 0.003661\n",
      "Gene 76: 0.003643\n",
      "Gene 0: 0.003290\n",
      "Gene 115: 0.002824\n",
      "Gene 37: 0.002619\n",
      "Gene 111: 0.002590\n",
      "Gene 1076: 0.002590\n",
      "Gene 1031: 0.002590\n",
      "Gene 318: 0.002590\n",
      "Gene 1029: 0.002590\n",
      "\n",
      "Distance per Iteration:\n",
      "[0.3737745604963806, 0.021338884202819652, 0.0067845337283496026, 0.00229106878154604, 0.0008357860517593382, 0.00033490177351925686, 0.0001453670667538425, 6.531599680891057e-05, 3.025454651723171e-05, 1.4441154384770016e-05]\n"
     ]
    }
   ],
   "source": [
    "import numpy as np\n",
    "import random\n",
    "from scipy.sparse import load_npz\n",
    "\n",
    "# Load matrices\n",
    "binary_matrix = load_npz(\"../../Data/hypergraphs/DGIDB_HumanNet/human/undirected/bipolar/hypergraph_incidence_matrix_binary.npz\")\n",
    "weighted_matrix = load_npz(\"../../Data/hypergraphs/DGIDB_HumanNet/human/undirected/bipolar/hypergraph_incidence_matrix_weighted.npz\")\n",
    "\n",
    "# Parameters\n",
    "restart_prob = 0.2  # Restart probability (theta)\n",
    "num_iterations = 10  # Number of iterations\n",
    "num_genes = binary_matrix.shape[0]  # Number of genes\n",
    "num_drugs = binary_matrix.shape[1]  # Number of drugs\n",
    "\n",
    "# Initialize probability vectors\n",
    "v0 = np.ones(num_genes) / num_genes  # Initial uniform probability\n",
    "teleport = np.ones(num_genes) / num_genes  # Restart probability vector\n",
    "\n",
    "def get_hyper_randomwalk(binary_matrix, weighted_matrix, restart_prob, num_iterations):\n",
    "    \"\"\"Performs a hypergraph-based random walk with restart with proper normalization.\"\"\"\n",
    "    vi = v0.copy()  # Start with uniform probability\n",
    "    distance_list = []\n",
    "\n",
    "    for k in range(num_iterations):\n",
    "        print(f\"{k+1} iteration\")\n",
    "\n",
    "        # Store previous probability vector\n",
    "        vj = vi.copy()\n",
    "\n",
    "        # Initialize new probability vector\n",
    "        vi_new = np.zeros(num_genes)\n",
    "\n",
    "        for gene in range(num_genes):\n",
    "            # Find drugs (hyperedges) connected to the current gene\n",
    "            connected_drugs = binary_matrix[gene, :].nonzero()[1]  # Nonzero columns\n",
    "\n",
    "            if len(connected_drugs) == 0:\n",
    "                continue  # Skip if no drugs are found\n",
    "\n",
    "            # Collect probabilities from neighbors\n",
    "            prob_sum = 0\n",
    "            for drug in connected_drugs:\n",
    "                # Find genes connected to the selected drug (via weights)\n",
    "                connected_genes = weighted_matrix[:, drug].toarray().flatten()\n",
    "                neighbor_genes = np.where(connected_genes > 0)[0]  # Get genes with nonzero weight\n",
    "\n",
    "                if len(neighbor_genes) == 0:\n",
    "                    continue\n",
    "\n",
    "                # Normalize weights\n",
    "                weights = connected_genes[neighbor_genes]\n",
    "                weight_sum = np.sum(weights)\n",
    "                if weight_sum > 0:\n",
    "                    weights /= weight_sum  # Normalize to sum to 1\n",
    "\n",
    "                # Transition probability contribution\n",
    "                prob_sum += np.sum(weights * vj[neighbor_genes])  \n",
    "\n",
    "            vi_new[gene] = prob_sum  # Update probability for the gene\n",
    "\n",
    "        # Normalize vi_new to avoid overflow\n",
    "        vi_new /= np.sum(vi_new) if np.sum(vi_new) > 0 else 1\n",
    "\n",
    "        # Apply restart probability\n",
    "        vi = restart_prob * vi_new + (1 - restart_prob) * teleport\n",
    "\n",
    "        # Calculate distance\n",
    "        distance = np.sum(np.abs(vj - vi))\n",
    "        distance_list.append(distance)\n",
    "\n",
    "    # Sort importance scores in descending order\n",
    "    importance_scores = np.argsort(vi)[::-1]\n",
    "    importance_values = vi[importance_scores]\n",
    "\n",
    "    # Return importance scores and distance values\n",
    "    return {\"Importance\": list(zip(importance_scores, importance_values)), \"Distance\": distance_list}\n",
    "\n",
    "# Run the random walk\n",
    "result = get_hyper_randomwalk(binary_matrix, weighted_matrix, restart_prob, num_iterations)\n",
    "\n",
    "# Print results\n",
    "print(\"Top Genes by Importance:\")\n",
    "for gene, score in result[\"Importance\"][:10]:\n",
    "    print(f\"Gene {gene}: {score:.6f}\")\n",
    "\n",
    "print(\"\\nDistance per Iteration:\")\n",
    "print(result[\"Distance\"])\n"
   ]
  },
  {
   "cell_type": "code",
   "execution_count": 2,
   "metadata": {},
   "outputs": [],
   "source": [
    "import json\n",
    "\n",
    "# Load the JSON data from the file\n",
    "with open('../../Data/hypergraphs/DGIDB_HumanNet/human/undirected/bipolar/gene_to_index.json', 'r') as file:\n",
    "    gene_to_index = json.load(file)\n",
    "\n",
    "# Invert the dictionary to map indices back to genes\n",
    "index_to_gene = {v: k for k, v in gene_to_index.items()}\n",
    "\n",
    "def get_gene_by_index(index):\n",
    "    return index_to_gene.get(index, \"Index not found\")\n"
   ]
  },
  {
   "cell_type": "code",
   "execution_count": 3,
   "metadata": {},
   "outputs": [
    {
     "name": "stderr",
     "output_type": "stream",
     "text": [
      "c:\\Users\\richa\\Desktop\\CodingWorkspaces\\DGI-Hypergraph\\datatestingvenv\\lib\\site-packages\\IPython\\core\\interactiveshell.py:3258: DtypeWarning: Columns (10,11,12) have mixed types.Specify dtype option on import or set low_memory=False.\n",
      "  interactivity=interactivity, compiler=compiler, result=result)\n"
     ]
    }
   ],
   "source": [
    "import pandas as pd\n",
    "dgidb = pd.read_csv(\"../../Data/DGIDB/converted/human/dgidb_ncbi_v3.csv\")"
   ]
  },
  {
   "cell_type": "code",
   "execution_count": 8,
   "metadata": {},
   "outputs": [
    {
     "name": "stdout",
     "output_type": "stream",
     "text": [
      "      gene_claim_name gene_concept_id gene_name interaction_source_db_name  \\\n",
      "155                AR        hgnc:644        AR                        DTC   \n",
      "178                AR        hgnc:644        AR                     ChEMBL   \n",
      "196                AR        hgnc:644        AR                        DTC   \n",
      "311                AR        hgnc:644        AR                        DTC   \n",
      "352                AR        hgnc:644        AR                        DTC   \n",
      "...               ...             ...       ...                        ...   \n",
      "69386              AR        hgnc:644        AR                        DTC   \n",
      "69470              AR        hgnc:644        AR                        DTC   \n",
      "69478              AR        hgnc:644        AR                        DTC   \n",
      "69520              AR        hgnc:644        AR                        DTC   \n",
      "69535              AR        hgnc:644        AR                        DTC   \n",
      "\n",
      "      interaction_source_db_version interaction_type  interaction_score  \\\n",
      "155                          9/2/20              NaN           0.058472   \n",
      "178                              33          agonist           0.116944   \n",
      "196                          9/2/20              NaN           0.007309   \n",
      "311                          9/2/20              NaN           0.058472   \n",
      "352                          9/2/20              NaN           0.058472   \n",
      "...                             ...              ...                ...   \n",
      "69386                        9/2/20              NaN           0.029236   \n",
      "69470                        9/2/20              NaN           0.058472   \n",
      "69478                        9/2/20              NaN           0.029236   \n",
      "69520                        9/2/20              NaN           0.058472   \n",
      "69535                        9/2/20              NaN           0.014618   \n",
      "\n",
      "           drug_claim_name      drug_concept_id              drug_name  \\\n",
      "155                ALLISAN  chembl:CHEMBL504381                ALLISAN   \n",
      "178     METHANDROSTENOLONE           rxcui:6818     METHANDROSTENOLONE   \n",
      "196                DANAZOL           rxcui:3102                DANAZOL   \n",
      "311           ORBIFLOXACIN         rxcui:995897           ORBIFLOXACIN   \n",
      "352            MESTANOLONE          ncit:C83939            MESTANOLONE   \n",
      "...                    ...                  ...                    ...   \n",
      "69386        FENPYROXYMATE  chembl:CHEMBL365100          FENPYROXYMATE   \n",
      "69470  PHENYLETHYL ALCOHOL           rxcui:8126    PHENYLETHYL ALCOHOL   \n",
      "69478        OXIGLUTATIONE          ncit:C62624          OXIGLUTATIONE   \n",
      "69520       SULFACARBAMIDE         ncit:C152453         SULFACARBAMIDE   \n",
      "69535         FLUMETHASONE          rxcui:25113  FLUMETHASONE PIVALATE   \n",
      "\n",
      "      approved immunotherapy anti_neoplastic  ncbi_gene_id  \n",
      "155      False         False           False           367  \n",
      "178       True         False           False           367  \n",
      "196       True         False            True           367  \n",
      "311      False         False           False           367  \n",
      "352      False         False           False           367  \n",
      "...        ...           ...             ...           ...  \n",
      "69386    False         False           False           367  \n",
      "69470     True         False           False           367  \n",
      "69478     True         False           False           367  \n",
      "69520     True         False           False           367  \n",
      "69535     True         False           False           367  \n",
      "\n",
      "[937 rows x 14 columns]\n"
     ]
    }
   ],
   "source": [
    "print(dgidb[(dgidb['ncbi_gene_id']) == 367])"
   ]
  },
  {
   "cell_type": "code",
   "execution_count": 4,
   "metadata": {},
   "outputs": [
    {
     "name": "stdout",
     "output_type": "stream",
     "text": [
      "63\n",
      "Gene 1576, Claim Name: CYP3A4 : 0.003661\n",
      "76\n",
      "Gene 1544, Claim Name: CYP1A2 : 0.003643\n",
      "0\n",
      "Gene 1565, Claim Name: CYP2D6 : 0.003290\n",
      "115\n",
      "Gene 1813, Claim Name: NCBIGENE:1813 : 0.002824\n",
      "37\n",
      "Gene 1559, Claim Name: CYP2C9 : 0.002619\n",
      "111\n",
      "Gene 6, Claim Name: NCBIGENE:6 : 0.002590\n",
      "1076\n",
      "Gene 215, Claim Name: NCBIGENE:215 : 0.002590\n",
      "1031\n",
      "Gene 12, Claim Name: NCBIGENE:12 : 0.002590\n",
      "318\n",
      "Gene 262, Claim Name: NCBIGENE:262 : 0.002590\n",
      "1029\n",
      "Gene 8, Claim Name: NCBIGENE:8 : 0.002590\n"
     ]
    }
   ],
   "source": [
    "# Function to get the gene_claim_name from ncbi_gene_id\n",
    "def get_gene_claim_name(ncbi_gene_id):\n",
    "    ncbi_gene_id = int(ncbi_gene_id)\n",
    "    # result = dgidb[dgidb['ncbi_gene_id'] == ncbi_gene_id]\n",
    "    result = dgidb[(dgidb['ncbi_gene_id']) == ncbi_gene_id]\n",
    "    if not result.empty:\n",
    "        return result['gene_claim_name'].values[0]\n",
    "    else:\n",
    "        return \"Gene name not found\"\n",
    "for gene, score in result[\"Importance\"][:10]:\n",
    "    print(gene)\n",
    "    ncbi_gene = get_gene_by_index(gene)\n",
    "    claim_name = get_gene_claim_name(ncbi_gene)\n",
    "    print(f\"Gene {ncbi_gene}, Claim Name: {claim_name} : {score:.6f}\")"
   ]
  },
  {
   "cell_type": "code",
   "execution_count": null,
   "metadata": {},
   "outputs": [
    {
     "name": "stdout",
     "output_type": "stream",
     "text": [
      "Top genes by importance have been saved to 'top_genes_by_importance.tsv'\n"
     ]
    }
   ],
   "source": [
    "import pandas as pd\n",
    "\n",
    "# Assuming 'result' is a dictionary with \"Importance\" as a key containing a list of tuples (gene, score)\n",
    "top_genes = result[\"Importance\"]\n",
    "\n",
    "# Create a DataFrame from the top genes\n",
    "df_top_genes = pd.DataFrame(top_genes, columns=['Gene', 'Score'])\n",
    "\n",
    "# Save the DataFrame to a TSV file\n",
    "df_top_genes.to_csv('importance_scores.tsv', sep='\\t', index=False)\n",
    "\n",
    "print(\"Top genes by importance have been saved to 'importance_scores.tsv'\")\n"
   ]
  },
  {
   "cell_type": "code",
   "execution_count": null,
   "metadata": {},
   "outputs": [],
   "source": [
    "\n"
   ]
  }
 ],
 "metadata": {
  "kernelspec": {
   "display_name": "datatestingvenv",
   "language": "python",
   "name": "python3"
  },
  "language_info": {
   "codemirror_mode": {
    "name": "ipython",
    "version": 3
   },
   "file_extension": ".py",
   "mimetype": "text/x-python",
   "name": "python",
   "nbconvert_exporter": "python",
   "pygments_lexer": "ipython3",
   "version": "3.7.0"
  }
 },
 "nbformat": 4,
 "nbformat_minor": 2
}
