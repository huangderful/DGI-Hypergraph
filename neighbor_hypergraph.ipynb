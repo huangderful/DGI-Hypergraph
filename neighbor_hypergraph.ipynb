{
 "cells": [
  {
   "cell_type": "markdown",
   "metadata": {},
   "source": [
    "### Creates subhypergraph from the original one"
   ]
  },
  {
   "cell_type": "code",
   "execution_count": 80,
   "metadata": {},
   "outputs": [
    {
     "name": "stdout",
     "output_type": "stream",
     "text": [
      "top k indices [97, 85, 0, 31, 47, 366, 1333, 1299, 463, 518]\n"
     ]
    }
   ],
   "source": [
    "import pandas as pd\n",
    "import os\n",
    "from scipy.sparse import dok_matrix, save_npz, load_npz\n",
    "#params\n",
    "K = 10\n",
    "HOP = 1\n",
    "OUTPUT_PATH = f\"./Data/hypergraphs/DGIDB_HumanNet/neighbor/bipolar_k={K}_h={HOP}/\"\n",
    "if not os.path.exists(OUTPUT_PATH):\n",
    "    os.makedirs(OUTPUT_PATH)\n",
    "# loading data only really need the scores\n",
    "# binary_bipolar_matrix = load_npz(\"./Data/hypergraphs/DGIDB_HumanNet/human/undirected/bipolar/hypergraph_incidence_matrix_binary.npz\")\n",
    "# weighted_bipolar_matrix = load_npz(\"./Data/hypergraphs/DGIDB_HumanNet/human/undirected/bipolar/hypergraph_incidence_matrix_weighted.npz\")\n",
    "# The bipolar gene to index and the full gene to index are assumed to be IDENTICAL\n",
    "bipolar_scores = pd.read_csv(\"./Random_Walk_v1/PPI_Weighted/complete_data/importance_scores_BIPOLAR_complete.tsv\", sep=\"\\t\")\n",
    "top_k_indices = bipolar_scores[\"index\"][:K].to_list()\n",
    "print(\"top k indices\", top_k_indices)\n",
    "#Full matrices probably don't change\n",
    "binary_full_matrix = load_npz(\"./Data/hypergraphs/DGIDB_HumanNet/human/undirected/full/hypergraph_incidence_matrix_binary.npz\")\n",
    "weighted_full_matrix = load_npz(\"./Data/hypergraphs/DGIDB_HumanNet/human/undirected/full/hypergraph_incidence_matrix_weighted.npz\")\n"
   ]
  },
  {
   "cell_type": "code",
   "execution_count": 81,
   "metadata": {},
   "outputs": [
    {
     "name": "stdout",
     "output_type": "stream",
     "text": [
      "2983\n",
      "1782\n"
     ]
    }
   ],
   "source": [
    "# Initialize a sparse incidence matrix\n",
    "queue = top_k_indices.copy()\n",
    "# Perform BFS up to n hops\n",
    "current_genes = set(top_k_indices)\n",
    "\n",
    "all_genes = set(top_k_indices)\n",
    "all_drugs = set()\n",
    "\n",
    "# BFS for n Hops\n",
    "for hop in range(HOP):\n",
    "    next_genes = set()\n",
    "    next_drugs = set()\n",
    "\n",
    "    # Step 1: Gene → Drug\n",
    "    for gene in current_genes:\n",
    "        connected_drugs = binary_full_matrix[gene, :].nonzero()[1]\n",
    "        for drug in connected_drugs:\n",
    "            next_drugs.add(drug)\n",
    "    \n",
    "    # Step 2: Drug → Gene\n",
    "    for drug in next_drugs:\n",
    "        connected_genes = binary_full_matrix[:, drug].nonzero()[0]\n",
    "        for gene in connected_genes:\n",
    "            next_genes.add(gene)\n",
    "    \n",
    "    # Update the sets for the next hop\n",
    "    all_drugs.update(next_drugs)\n",
    "    all_genes.update(next_genes)\n",
    "    current_genes = next_genes\n",
    "\n",
    "    # Move to the next level\n",
    "print(len(all_genes))\n",
    "print(len(all_drugs))"
   ]
  },
  {
   "cell_type": "code",
   "execution_count": 82,
   "metadata": {},
   "outputs": [],
   "source": [
    "# Initialize filtered incidence matrices\n",
    "binary_incidence_matrix = dok_matrix((binary_full_matrix.shape), dtype=float)\n",
    "weighted_incidence_matrix = dok_matrix((weighted_full_matrix.shape), dtype=float)\n",
    "# Copy relevant nodes and edges\n",
    "for gene in all_genes:\n",
    "    for drug in binary_full_matrix[gene].nonzero()[1]:\n",
    "        if drug in all_drugs:\n",
    "            binary_incidence_matrix[gene, drug] = binary_full_matrix[gene, drug]\n",
    "            weighted_incidence_matrix[gene, drug] = weighted_full_matrix[gene, drug]\n",
    "\n",
    "\n",
    "binary_csr_matrix = binary_incidence_matrix.tocsr()\n",
    "weighted_csr_matrix = weighted_incidence_matrix.tocsr()\n",
    "\n",
    "save_npz(OUTPUT_PATH + \"hypergraph_incidence_matrix_binary.npz\", binary_csr_matrix)\n",
    "save_npz(OUTPUT_PATH + \"hypergraph_incidence_matrix_weighted.npz\", weighted_csr_matrix)\n",
    "\n"
   ]
  }
 ],
 "metadata": {
  "kernelspec": {
   "display_name": "datatestingvenv",
   "language": "python",
   "name": "python3"
  },
  "language_info": {
   "codemirror_mode": {
    "name": "ipython",
    "version": 3
   },
   "file_extension": ".py",
   "mimetype": "text/x-python",
   "name": "python",
   "nbconvert_exporter": "python",
   "pygments_lexer": "ipython3",
   "version": "3.7.0"
  }
 },
 "nbformat": 4,
 "nbformat_minor": 2
}
