{
 "cells": [
  {
   "cell_type": "code",
   "execution_count": 2,
   "metadata": {},
   "outputs": [],
   "source": [
    "import pandas as pd\n",
    "import os\n",
    "DGIDB = pd.read_csv(\"./Data/DGIDB/converted/human/dgidb_ncbi_v2.csv\")\n",
    "HUMANNET_PATH = \"./Data/HumanNet/HumanNet-GSP.tsv\"\n",
    "HUMANNET = pd.read_csv(HUMANNET_PATH, sep=\"\\t\")\n",
    "DDDB_PATH = \"./Data/DDDB/NIHMS851432-supplement-1.csv\"\n",
    "DDDB = pd.read_csv(DDDB_PATH)\n",
    "# Bipolar is 13746004 SNOMED\n",
    "# Schizophrenia is 58214004 SNOMED\n",
    "# ADHD is 406506008\n",
    "DISEASE_SNOMED_CODES = [13746004]\n",
    "OUTPUT_PATH = \"./Data/hypergraphs/DGIDB_HumanNet/human/undirected/bipolar/\"\n",
    "if not os.path.exists(OUTPUT_PATH):\n",
    "    os.makedirs(OUTPUT_PATH)"
   ]
  },
  {
   "cell_type": "code",
   "execution_count": 3,
   "metadata": {},
   "outputs": [
    {
     "name": "stdout",
     "output_type": "stream",
     "text": [
      "NDF-RT Code: N0000004713 -> Drug Name: donepezil [Chemical/Ingredient]\n"
     ]
    }
   ],
   "source": [
    "import requests\n",
    "\n",
    "# Set your BioPortal API key here\n",
    "BIOPORTAL_API_KEY = \"ddb8139c-1d85-4ccf-96c0-2f855b5114ae\"\n",
    "\n",
    "def get_drug_name_from_ndfrt(ndfrt_code):\n",
    "    \"\"\"Fetches the drug name for a given NDF-RT code using the BioPortal API.\"\"\"\n",
    "    base_url = f\"https://data.bioontology.org/ontologies/NDFRT/classes/http%3A%2F%2Fpurl.bioontology.org%2Fontology%2FNDFRT%2F{ndfrt_code}\"\n",
    "    \n",
    "    headers = {\"Authorization\": f\"apikey token={BIOPORTAL_API_KEY}\"}\n",
    "    \n",
    "    response = requests.get(base_url, headers=headers)\n",
    "    \n",
    "    if response.status_code == 200:\n",
    "        data = response.json()\n",
    "        return data.get(\"prefLabel\", \"Unknown Drug\")  # Extract drug name (preferred label)\n",
    "    else:\n",
    "        print(f\"Error {response.status_code}: {response.text}\")\n",
    "        return \"Unknown Drug\"\n",
    "\n",
    "# Example Usage\n",
    "ndfrt_code = \"N0000004713\"\n",
    "drug_name = get_drug_name_from_ndfrt(ndfrt_code)\n",
    "print(f\"NDF-RT Code: {ndfrt_code} -> Drug Name: {drug_name}\")\n"
   ]
  },
  {
   "cell_type": "code",
   "execution_count": 4,
   "metadata": {},
   "outputs": [
    {
     "name": "stdout",
     "output_type": "stream",
     "text": [
      "13746004 : 16\n",
      "['CLONAZEPAM', 'BUPROPION', 'SERTRALINE', 'OLANZAPINE', 'ZIPRASIDONE', 'QUETIAPINE', 'CHLORPROMAZINE', 'CARBAMAZEPINE', 'ALLOPURINOL', 'PERPHENAZINE', 'VALPROIC ACID', 'CLOZAPINE', 'LITHIUM', 'RISPERIDONE', 'LAMOTRIGINE', 'ARIPIPRAZOLE']\n",
      "Length:  16\n"
     ]
    }
   ],
   "source": [
    "specific_disease_drugs = []\n",
    "for disease_code in DISEASE_SNOMED_CODES:\n",
    "    ndfrt_values = DDDB.loc[DDDB[\"SNOMED\"] == disease_code, \"NDF-RT\"].to_numpy()\n",
    "    for drug in ndfrt_values:\n",
    "        specific_disease_drugs.append(get_drug_name_from_ndfrt(drug))\n",
    "    print(disease_code, \":\", len(ndfrt_values))\n",
    "\n",
    "print(specific_disease_drugs)\n",
    "print(\"Length: \", len(specific_disease_drugs))\n",
    "\n"
   ]
  },
  {
   "cell_type": "code",
   "execution_count": 5,
   "metadata": {},
   "outputs": [
    {
     "name": "stdout",
     "output_type": "stream",
     "text": [
      "Drug: CLONAZEPAM -> Appears 54 times in DGIDB\n",
      "Drug: BUPROPION -> Appears 5 times in DGIDB\n",
      "Drug: SERTRALINE -> Appears 10 times in DGIDB\n",
      "Drug: OLANZAPINE -> Appears 45 times in DGIDB\n",
      "Drug: ZIPRASIDONE -> Appears 15 times in DGIDB\n",
      "Drug: QUETIAPINE -> Appears 14 times in DGIDB\n",
      "Drug: CHLORPROMAZINE -> Appears 19 times in DGIDB\n",
      "Drug: CARBAMAZEPINE -> Appears 27 times in DGIDB\n",
      "Drug: ALLOPURINOL -> Appears 8 times in DGIDB\n",
      "Drug: PERPHENAZINE -> Appears 18 times in DGIDB\n",
      "Drug: VALPROIC ACID -> Appears 40 times in DGIDB\n",
      "Drug: CLOZAPINE -> Appears 42 times in DGIDB\n",
      "Drug: LITHIUM -> Appears 19 times in DGIDB\n",
      "Drug: RISPERIDONE -> Appears 18 times in DGIDB\n",
      "Drug: LAMOTRIGINE -> Appears 18 times in DGIDB\n",
      "Drug: ARIPIPRAZOLE -> Appears 9 times in DGIDB\n"
     ]
    }
   ],
   "source": [
    "# Convert to Pandas Series for optimized counting\n",
    "specific_disease_drug_counts = {drug: (DGIDB[\"drug_claim_name\"] == drug).sum() for drug in specific_disease_drugs}\n",
    "\n",
    "# Print results\n",
    "for drug, count in specific_disease_drug_counts.items():\n",
    "    print(f\"Drug: {drug} -> Appears {count} times in DGIDB\")\n"
   ]
  },
  {
   "cell_type": "code",
   "execution_count": 6,
   "metadata": {},
   "outputs": [
    {
     "name": "stdout",
     "output_type": "stream",
     "text": [
      "Weighted incidence matrix saved as 'hypergraph_incidence_matrix_weighted.npz'.\n"
     ]
    }
   ],
   "source": [
    "# BIPOLAR HYPERGRAPH\n",
    "from scipy.sparse import dok_matrix, save_npz\n",
    "# Calculate gene degrees in HumanNet\n",
    "genes_in_humannet = pd.unique(HUMANNET[['Gene1', 'Gene2']].values.ravel())\n",
    "gene_to_degree = {gene: 0 for gene in genes_in_humannet}\n",
    "\n",
    "for _, row in HUMANNET.iterrows():\n",
    "    gene_to_degree[row[\"Gene1\"]] += 1\n",
    "    gene_to_degree[row[\"Gene2\"]] += 1\n",
    "\n",
    "# Add degrees to DGIDB with fallback to 0.01 for missing genes\n",
    "DGIDB['ncbi_gene_id'] = DGIDB['ncbi_gene_id'].astype(str)\n",
    "gene_to_degree = {str(gene): degree for gene, degree in gene_to_degree.items()}\n",
    "DGIDB['degree'] = DGIDB['ncbi_gene_id'].map(gene_to_degree).fillna(0.01)\n",
    "\n",
    "# Create mappings for vertices and hyperedges\n",
    "genes = DGIDB['ncbi_gene_id'].unique()\n",
    "# drugs = DGIDB['drug_name'].unique()\n",
    "# Filter the drugs in DGIDB to include only bipolar drugs\n",
    "filtered_drugs = [drug for drug in DGIDB['drug_name'].unique() if drug in specific_disease_drugs]\n",
    "\n",
    "# Create a mapping for drug indices with only bipolar drugs\n",
    "drug_to_index = {drug: i for i, drug in enumerate(filtered_drugs)}\n",
    "gene_to_index = {gene: i for i, gene in enumerate(genes)}\n",
    "# drug_to_index = {drug: i for i, drug in enumerate(drugs)}\n",
    "# Initialize a sparse incidence matrix\n",
    "incidence_matrix = dok_matrix((len(genes), len(filtered_drugs)), dtype=float)\n",
    "\n",
    "# Populate the incidence matrix with degree as weight\n",
    "for _, row in DGIDB.iterrows():\n",
    "    if row['drug_name'] in specific_disease_drugs:  # Check if the drug is in the bipolar drugs list\n",
    "        gene_idx = gene_to_index[row['ncbi_gene_id']]\n",
    "        drug_idx = drug_to_index[row['drug_name']]\n",
    "        degree = row['degree']\n",
    "        incidence_matrix[gene_idx, drug_idx] = degree\n",
    "\n",
    "# Convert the DOK matrix to CSR format\n",
    "csr_matrix = incidence_matrix.tocsr()\n",
    "\n",
    "# Save the matrix as .npz file\n",
    "save_npz(OUTPUT_PATH + \"hypergraph_incidence_matrix_weighted.npz\", csr_matrix)\n",
    "# Print confirmation\n",
    "print(\"Weighted incidence matrix saved as 'hypergraph_incidence_matrix_weighted.npz'.\")"
   ]
  },
  {
   "cell_type": "code",
   "execution_count": 7,
   "metadata": {},
   "outputs": [
    {
     "name": "stdout",
     "output_type": "stream",
     "text": [
      "Mappings saved to ./Data/hypergraphs/DGIDB_HumanNet/human/undirected/bipolar/gene_to_index.json and ./Data/hypergraphs/DGIDB_HumanNet/human/undirected/bipolar/drug_to_index.json.\n"
     ]
    }
   ],
   "source": [
    "import json\n",
    "\n",
    "# Define file paths\n",
    "gene_to_index_path = OUTPUT_PATH + \"gene_to_index.json\"\n",
    "drug_to_index_path = OUTPUT_PATH + \"drug_to_index.json\"\n",
    "\n",
    "# Save gene_to_index mapping\n",
    "with open(gene_to_index_path, 'w') as gene_file:\n",
    "    json.dump(gene_to_index, gene_file, indent=4)\n",
    "\n",
    "# Save drug_to_index mapping\n",
    "with open(drug_to_index_path, 'w') as drug_file:\n",
    "    json.dump(drug_to_index, drug_file, indent=4)\n",
    "\n",
    "print(f\"Mappings saved to {gene_to_index_path} and {drug_to_index_path}.\")\n"
   ]
  },
  {
   "cell_type": "code",
   "execution_count": 8,
   "metadata": {},
   "outputs": [
    {
     "name": "stdout",
     "output_type": "stream",
     "text": [
      "Number of filtered drugs: 12\n",
      "Number of drug indices: 12\n"
     ]
    }
   ],
   "source": [
    "# Check length of filtered_drugs and drug_to_index\n",
    "print(\"Number of filtered drugs:\", len(filtered_drugs))\n",
    "print(\"Number of drug indices:\", len(drug_to_index))\n"
   ]
  },
  {
   "cell_type": "code",
   "execution_count": 9,
   "metadata": {},
   "outputs": [
    {
     "name": "stdout",
     "output_type": "stream",
     "text": [
      "Binary incidence matrix saved as 'hypergraph_incidence_matrix_binary.npz'.\n"
     ]
    }
   ],
   "source": [
    "from scipy.sparse import dok_matrix, save_npz\n",
    "import pandas as pd\n",
    "# Initialize a sparse binary incidence matrix\n",
    "binary_incidence_matrix = dok_matrix((len(genes), len(filtered_drugs)), dtype=int)\n",
    "\n",
    "# Populate the binary incidence matrix with 1 where there is a relationship\n",
    "for _, row in DGIDB.iterrows():\n",
    "    if row['drug_name'] in specific_disease_drugs:\n",
    "        gene_idx = gene_to_index[row['ncbi_gene_id']]\n",
    "        drug_idx = drug_to_index[row['drug_name']]\n",
    "        binary_incidence_matrix[gene_idx, drug_idx] = 1\n",
    "\n",
    "# Convert the DOK matrix to CSR format\n",
    "binary_csr_matrix = binary_incidence_matrix.tocsr()\n",
    "\n",
    "# Save the binary matrix as .npz file\n",
    "save_npz(OUTPUT_PATH + \"hypergraph_incidence_matrix_binary.npz\", binary_csr_matrix)\n",
    "\n",
    "# Print confirmation\n",
    "print(\"Binary incidence matrix saved as 'hypergraph_incidence_matrix_binary.npz'.\")\n"
   ]
  },
  {
   "cell_type": "code",
   "execution_count": 10,
   "metadata": {},
   "outputs": [
    {
     "name": "stdout",
     "output_type": "stream",
     "text": [
      "  (173, 0)\t1\n",
      "  (31, 1)\t1\n",
      "  (330, 2)\t1\n",
      "  (425, 3)\t1\n",
      "  (518, 4)\t1\n",
      "  (97, 5)\t1\n",
      "  (674, 0)\t1\n",
      "  (47, 6)\t1\n",
      "  (698, 1)\t1\n",
      "  (903, 2)\t1\n",
      "  (824, 1)\t1\n",
      "  (706, 1)\t1\n",
      "  (933, 2)\t1\n",
      "  (934, 2)\t1\n",
      "  (935, 2)\t1\n",
      "  (949, 3)\t1\n",
      "  (820, 1)\t1\n",
      "  (971, 7)\t1\n",
      "  (631, 8)\t1\n",
      "  (311, 8)\t1\n",
      "  (35, 8)\t1\n",
      "  (301, 4)\t1\n",
      "  (479, 7)\t1\n",
      "  (399, 7)\t1\n",
      "  (478, 3)\t1\n",
      "  :\t:\n",
      "  (238, 10)\t1\n",
      "  (85, 0)\t1\n",
      "  (1690, 8)\t1\n",
      "  (824, 0)\t1\n",
      "  (2248, 0)\t1\n",
      "  (1551, 0)\t1\n",
      "  (97, 10)\t1\n",
      "  (96, 5)\t1\n",
      "  (61, 8)\t1\n",
      "  (427, 4)\t1\n",
      "  (1333, 4)\t1\n",
      "  (366, 4)\t1\n",
      "  (140, 8)\t1\n",
      "  (436, 7)\t1\n",
      "  (47, 10)\t1\n",
      "  (2133, 5)\t1\n",
      "  (2538, 0)\t1\n",
      "  (822, 0)\t1\n",
      "  (927, 0)\t1\n",
      "  (4766, 0)\t1\n",
      "  (969, 0)\t1\n",
      "  (720, 0)\t1\n",
      "  (2610, 0)\t1\n",
      "  (4767, 0)\t1\n",
      "  (1299, 4)\t1\n"
     ]
    }
   ],
   "source": [
    "print(binary_incidence_matrix)"
   ]
  },
  {
   "cell_type": "code",
   "execution_count": 11,
   "metadata": {},
   "outputs": [
    {
     "name": "stdout",
     "output_type": "stream",
     "text": [
      "  (173, 0)\t209.0\n",
      "  (31, 1)\t47.0\n",
      "  (330, 2)\t0.01\n",
      "  (425, 3)\t0.01\n",
      "  (518, 4)\t88.0\n",
      "  (97, 5)\t50.0\n",
      "  (674, 0)\t0.01\n",
      "  (47, 6)\t49.0\n",
      "  (698, 1)\t458.0\n",
      "  (903, 2)\t0.01\n",
      "  (824, 1)\t0.01\n",
      "  (706, 1)\t25.0\n",
      "  (933, 2)\t4.0\n",
      "  (934, 2)\t0.01\n",
      "  (935, 2)\t12.0\n",
      "  (949, 3)\t29.0\n",
      "  (820, 1)\t78.0\n",
      "  (971, 7)\t27.0\n",
      "  (631, 8)\t136.0\n",
      "  (311, 8)\t105.0\n",
      "  (35, 8)\t100.0\n",
      "  (301, 4)\t1.0\n",
      "  (479, 7)\t12.0\n",
      "  (399, 7)\t0.01\n",
      "  (478, 3)\t166.0\n",
      "  :\t:\n",
      "  (238, 10)\t45.0\n",
      "  (85, 0)\t62.0\n",
      "  (1690, 8)\t72.0\n",
      "  (824, 0)\t0.01\n",
      "  (2248, 0)\t244.0\n",
      "  (1551, 0)\t41.0\n",
      "  (97, 10)\t50.0\n",
      "  (96, 5)\t20.0\n",
      "  (61, 8)\t268.0\n",
      "  (427, 4)\t1.0\n",
      "  (1333, 4)\t33.0\n",
      "  (366, 4)\t10.0\n",
      "  (140, 8)\t138.0\n",
      "  (436, 7)\t28.0\n",
      "  (47, 10)\t49.0\n",
      "  (2133, 5)\t249.0\n",
      "  (2538, 0)\t0.01\n",
      "  (822, 0)\t96.0\n",
      "  (927, 0)\t20.0\n",
      "  (4766, 0)\t0.01\n",
      "  (969, 0)\t33.0\n",
      "  (720, 0)\t155.0\n",
      "  (2610, 0)\t61.0\n",
      "  (4767, 0)\t18.0\n",
      "  (1299, 4)\t0.01\n"
     ]
    }
   ],
   "source": [
    "print(incidence_matrix)"
   ]
  }
 ],
 "metadata": {
  "kernelspec": {
   "display_name": "datatestingvenv",
   "language": "python",
   "name": "python3"
  },
  "language_info": {
   "codemirror_mode": {
    "name": "ipython",
    "version": 3
   },
   "file_extension": ".py",
   "mimetype": "text/x-python",
   "name": "python",
   "nbconvert_exporter": "python",
   "pygments_lexer": "ipython3",
   "version": "3.7.0"
  }
 },
 "nbformat": 4,
 "nbformat_minor": 2
}
