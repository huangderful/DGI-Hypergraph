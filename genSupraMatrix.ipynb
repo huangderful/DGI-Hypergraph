{
 "cells": [
  {
   "cell_type": "code",
   "execution_count": 2,
   "metadata": {},
   "outputs": [
    {
     "name": "stdout",
     "output_type": "stream",
     "text": [
      "Number of unique matches: 4642\n",
      "Number of unique non-matches: 17471\n"
     ]
    }
   ],
   "source": [
    "import json\n",
    "import json\n",
    "\n",
    "# Open the JSON file and load its content into a dictionary\n",
    "with open(\"./Data/hypergraphs/DGIDB_HumanNet/human/undirected/temp/gene_to_index.json\", \"r\") as file:\n",
    "    dgidb = json.load(file)\n",
    "with open(\"./Data/hypergraphs/MSIGDB_HumanNet/human/gene_to_index.json\", \"r\") as file:\n",
    "    msigdb = json.load(file)\n",
    "# Now you can use the 'dgidb' dictionary\n",
    "# Convert the keys to sets for easy comparison\n",
    "dgidb_keys = set(dgidb.keys())\n",
    "msigdb_keys = set(msigdb.keys())\n",
    "\n",
    "# Find unique matches\n",
    "unique_matches = dgidb_keys.intersection(msigdb_keys)\n",
    "unique_match_count = len(unique_matches)\n",
    "\n",
    "# Find keys that don't match\n",
    "dgidb_only = dgidb_keys - msigdb_keys\n",
    "msigdb_only = msigdb_keys - dgidb_keys\n",
    "unique_non_matches = dgidb_only.union(msigdb_only)\n",
    "unique_non_match_count = len(unique_non_matches)\n",
    "\n",
    "# Print the counts\n",
    "print(f\"Number of unique matches: {unique_match_count}\")\n",
    "print(f\"Number of unique non-matches: {unique_non_match_count}\")\n"
   ]
  },
  {
   "cell_type": "code",
   "execution_count": 3,
   "metadata": {},
   "outputs": [
    {
     "name": "stdout",
     "output_type": "stream",
     "text": [
      "Inter-Layer Matrix D:\n",
      " [[0. 0. 0. ... 0. 0. 0.]\n",
      " [0. 0. 0. ... 0. 0. 0.]\n",
      " [0. 0. 0. ... 0. 0. 0.]\n",
      " ...\n",
      " [0. 0. 0. ... 0. 0. 0.]\n",
      " [0. 0. 0. ... 0. 0. 0.]\n",
      " [0. 0. 0. ... 0. 0. 0.]]\n"
     ]
    }
   ],
   "source": [
    "import numpy as np\n",
    "# Jump probability for matching genes\n",
    "w = 0.5\n",
    "\n",
    "# Number of genes (assuming they are both of same size or matchable)\n",
    "num_genes_dgidb = len(dgidb)\n",
    "num_genes_msigdb = len(msigdb)\n",
    "\n",
    "# Initialize the inter-layer matrix (D) with zeros\n",
    "D = np.zeros((num_genes_dgidb, num_genes_msigdb))\n",
    "i = 0\n",
    "# Build the inter-layer matrix (D)\n",
    "for gene_dgidb, idx_dgidb in dgidb.items():\n",
    "    # If the gene exists in both gene-to-index mappings\n",
    "    if gene_dgidb in msigdb:\n",
    "        idx_msigdb = msigdb[gene_dgidb]\n",
    "        D[idx_dgidb, idx_msigdb] = w  # Set jump probability\n",
    "        i += 1\n",
    "print(\"Inter-Layer Matrix D:\\n\", D)"
   ]
  },
  {
   "cell_type": "code",
   "execution_count": 4,
   "metadata": {},
   "outputs": [
    {
     "name": "stdout",
     "output_type": "stream",
     "text": [
      "26755\n",
      "1 iteration\n",
      "vi_new [3.17697627e-04 5.60642870e-05 0.00000000e+00 ... 0.00000000e+00\n",
      " 0.00000000e+00 0.00000000e+00]\n"
     ]
    },
    {
     "name": "stderr",
     "output_type": "stream",
     "text": [
      "MSIGDB Gene Processing: 100%|██████████| 21981/21981 [13:29<00:00, 27.14it/s]  \n"
     ]
    },
    {
     "name": "stdout",
     "output_type": "stream",
     "text": [
      "vi_new [3.17697627e-04 5.60642870e-05 0.00000000e+00 ... 1.19603812e-03\n",
      " 1.23341432e-03 9.34404784e-04]\n",
      "2 iteration\n",
      "vi_new [2.70130643e-04 6.59478488e-05 0.00000000e+00 ... 0.00000000e+00\n",
      " 0.00000000e+00 0.00000000e+00]\n"
     ]
    },
    {
     "name": "stderr",
     "output_type": "stream",
     "text": [
      "MSIGDB Gene Processing: 100%|██████████| 21981/21981 [13:14<00:00, 27.68it/s] \n"
     ]
    },
    {
     "name": "stdout",
     "output_type": "stream",
     "text": [
      "vi_new [2.70130643e-04 6.59478488e-05 0.00000000e+00 ... 1.52393301e-03\n",
      " 1.67293820e-03 1.25247939e-03]\n",
      "3 iteration\n",
      "vi_new [2.66614969e-04 6.71440757e-05 0.00000000e+00 ... 0.00000000e+00\n",
      " 0.00000000e+00 0.00000000e+00]\n"
     ]
    },
    {
     "name": "stderr",
     "output_type": "stream",
     "text": [
      "MSIGDB Gene Processing: 100%|██████████| 21981/21981 [12:02<00:00, 30.41it/s] \n"
     ]
    },
    {
     "name": "stdout",
     "output_type": "stream",
     "text": [
      "vi_new [2.66614969e-04 6.71440757e-05 0.00000000e+00 ... 1.53766375e-03\n",
      " 1.70931061e-03 1.27378873e-03]\n",
      "4 iteration\n",
      "vi_new [2.66102272e-04 6.72103470e-05 0.00000000e+00 ... 0.00000000e+00\n",
      " 0.00000000e+00 0.00000000e+00]\n"
     ]
    },
    {
     "name": "stderr",
     "output_type": "stream",
     "text": [
      "MSIGDB Gene Processing: 100%|██████████| 21981/21981 [10:57<00:00, 33.46it/s] \n"
     ]
    },
    {
     "name": "stdout",
     "output_type": "stream",
     "text": [
      "vi_new [2.66102272e-04 6.72103470e-05 0.00000000e+00 ... 1.53905226e-03\n",
      " 1.71514248e-03 1.27767963e-03]\n",
      "5 iteration\n",
      "vi_new [2.65910889e-04 6.72069594e-05 0.00000000e+00 ... 0.00000000e+00\n",
      " 0.00000000e+00 0.00000000e+00]\n"
     ]
    },
    {
     "name": "stderr",
     "output_type": "stream",
     "text": [
      "MSIGDB Gene Processing: 100%|██████████| 21981/21981 [10:57<00:00, 33.42it/s] \n"
     ]
    },
    {
     "name": "stdout",
     "output_type": "stream",
     "text": [
      "vi_new [2.65910889e-04 6.72069594e-05 0.00000000e+00 ... 1.53932361e-03\n",
      " 1.71597617e-03 1.27892464e-03]\n",
      "6 iteration\n",
      "vi_new [2.65820747e-04 6.72056947e-05 0.00000000e+00 ... 0.00000000e+00\n",
      " 0.00000000e+00 0.00000000e+00]\n"
     ]
    },
    {
     "name": "stderr",
     "output_type": "stream",
     "text": [
      "MSIGDB Gene Processing: 100%|██████████| 21981/21981 [11:51<00:00, 30.91it/s] \n"
     ]
    },
    {
     "name": "stdout",
     "output_type": "stream",
     "text": [
      "vi_new [2.65820747e-04 6.72056947e-05 0.00000000e+00 ... 1.53942934e-03\n",
      " 1.71592076e-03 1.27944373e-03]\n",
      "7 iteration\n",
      "vi_new [2.65775182e-04 6.72064209e-05 0.00000000e+00 ... 0.00000000e+00\n",
      " 0.00000000e+00 0.00000000e+00]\n"
     ]
    },
    {
     "name": "stderr",
     "output_type": "stream",
     "text": [
      "MSIGDB Gene Processing: 100%|██████████| 21981/21981 [11:18<00:00, 32.42it/s] \n"
     ]
    },
    {
     "name": "stdout",
     "output_type": "stream",
     "text": [
      "vi_new [2.65775182e-04 6.72064209e-05 0.00000000e+00 ... 1.53948534e-03\n",
      " 1.71576617e-03 1.27968739e-03]\n",
      "8 iteration\n",
      "vi_new [2.65751463e-04 6.72074383e-05 0.00000000e+00 ... 0.00000000e+00\n",
      " 0.00000000e+00 0.00000000e+00]\n"
     ]
    },
    {
     "name": "stderr",
     "output_type": "stream",
     "text": [
      "MSIGDB Gene Processing: 100%|██████████| 21981/21981 [11:07<00:00, 32.95it/s] \n"
     ]
    },
    {
     "name": "stdout",
     "output_type": "stream",
     "text": [
      "vi_new [2.65751463e-04 6.72074383e-05 0.00000000e+00 ... 1.53951682e-03\n",
      " 1.71564966e-03 1.27980897e-03]\n",
      "9 iteration\n",
      "vi_new [2.65738935e-04 6.72082247e-05 0.00000000e+00 ... 0.00000000e+00\n",
      " 0.00000000e+00 0.00000000e+00]\n"
     ]
    },
    {
     "name": "stderr",
     "output_type": "stream",
     "text": [
      "MSIGDB Gene Processing: 100%|██████████| 21981/21981 [10:57<00:00, 33.42it/s] \n"
     ]
    },
    {
     "name": "stdout",
     "output_type": "stream",
     "text": [
      "vi_new [2.65738935e-04 6.72082247e-05 0.00000000e+00 ... 1.53953446e-03\n",
      " 1.71557753e-03 1.27987174e-03]\n",
      "10 iteration\n",
      "vi_new [2.65732263e-04 6.72087347e-05 0.00000000e+00 ... 0.00000000e+00\n",
      " 0.00000000e+00 0.00000000e+00]\n"
     ]
    },
    {
     "name": "stderr",
     "output_type": "stream",
     "text": [
      "MSIGDB Gene Processing: 100%|██████████| 21981/21981 [11:14<00:00, 32.56it/s] "
     ]
    },
    {
     "name": "stdout",
     "output_type": "stream",
     "text": [
      "vi_new [2.65732263e-04 6.72087347e-05 0.00000000e+00 ... 1.53954423e-03\n",
      " 1.71553591e-03 1.27990476e-03]\n",
      "Top Genes by Importance:\n",
      "Gene 0: 0.000032\n",
      "Gene 1: 0.000030\n",
      "Gene 2: 0.000030\n",
      "Gene 3: 0.000031\n",
      "Gene 4: 0.000030\n",
      "Gene 5: 0.000030\n",
      "Gene 6: 0.000030\n",
      "Gene 7: 0.000030\n",
      "Gene 8: 0.000030\n",
      "Gene 9: 0.000030\n",
      "\n",
      "Distance per Iteration:\n",
      "[0.19032158831266643, 0.020123515157926288, 0.008001529283774289, 0.003968822590130649, 0.0020745117231113523, 0.0011082627731718335, 0.000596792391496234, 0.00032167161404475226, 0.0001734499588684373, 9.354137864702647e-05]\n"
     ]
    },
    {
     "name": "stderr",
     "output_type": "stream",
     "text": [
      "\n"
     ]
    }
   ],
   "source": [
    "from scipy.sparse import load_npz\n",
    "from tqdm import tqdm\n",
    "\n",
    "# Parameters\n",
    "# Load matrices\n",
    "DGIDB_binary_matrix = load_npz(\"./Data/hypergraphs/DGIDB_HumanNet/human/undirected/bipolar/hypergraph_incidence_matrix_binary.npz\")\n",
    "DGIDB_weighted_matrix = load_npz(\"./Data/hypergraphs/DGIDB_HumanNet/human/undirected/bipolar/hypergraph_incidence_matrix_weighted.npz\")\n",
    "MSIGDB_weighted_matrix = load_npz(\"./Data/hypergraphs/MSIGDB_HumanNet/human/hypergraph_weighted_incidence_matrix.npz\")\n",
    "MSIGDB_binary_matrix = load_npz(\"./Data/hypergraphs/MSIGDB_HumanNet/human/hypergraph_binary_incidence_matrix.npz\")\n",
    "\n",
    "restart_prob = 0.2  # Restart probability (theta)\n",
    "num_iterations = 10  # Number of iterations\n",
    "num_genes_DGIDB = DGIDB_binary_matrix.shape[0]  # Number of genes in DGIDB\n",
    "num_genes_MSIGDB = MSIGDB_binary_matrix.shape[0]  # Number of genes in MSIGDB\n",
    "\n",
    "# Initialize probability vectors\n",
    "v0 = np.zeros(num_genes_DGIDB + num_genes_MSIGDB)  # Combined vector for DGIDB and MSIGDB\n",
    "teleport = np.zeros(num_genes_DGIDB + num_genes_MSIGDB)  # Restart probability vector\n",
    "print(num_genes_DGIDB + num_genes_MSIGDB)\n",
    "# Initialize probability vectors\n",
    "v0[:] = 1.0 / (num_genes_DGIDB + num_genes_MSIGDB)  # Starting on DGIDB\n",
    "teleport[:] = 1.0 / (num_genes_DGIDB + num_genes_MSIGDB)\n",
    "\n",
    "def get_hyper_randomwalk(DGIDB_binary_matrix, DGIDB_weighted_matrix, MSIGDB_weighted_matrix, MSIGDB_binary_matrix, D, restart_prob, num_iterations):\n",
    "    \"\"\"Performs a hypergraph-based random walk with restart considering inter-layer transitions.\"\"\"\n",
    "    vi = v0.copy()  # Start with uniform probability (combined for both DGIDB and MSIGDB)\n",
    "    distance_list = []\n",
    "\n",
    "    for k in range(num_iterations):\n",
    "        print(f\"{k+1} iteration\")\n",
    "\n",
    "        # Store previous probability vector\n",
    "        vj = vi.copy()\n",
    "\n",
    "        # Initialize new probability vector\n",
    "        vi_new = np.zeros_like(vi)\n",
    "\n",
    "        # Handle transitions for DGIDB (first part of the vector)\n",
    "        for gene in range(num_genes_DGIDB):\n",
    "            # Intra-hypergraph transitions in DGIDB (moving within DGIDB)\n",
    "            connected_drugs = DGIDB_binary_matrix[gene, :].nonzero()[1]  # Nonzero columns in DGIDB binary matrix\n",
    "\n",
    "            if len(connected_drugs) == 0:\n",
    "                continue  # Skip if no drugs are found\n",
    "\n",
    "            # Collect probabilities from neighbors in DGIDB\n",
    "            prob_sum = 0\n",
    "            for drug in connected_drugs:\n",
    "                # Find genes connected to the selected drug (weighted transition in DGIDB)\n",
    "                connected_genes = DGIDB_weighted_matrix[:, drug].toarray().flatten()\n",
    "                neighbor_genes = np.where(connected_genes > 0)[0]  # Get genes with nonzero weight\n",
    "\n",
    "                if len(neighbor_genes) == 0:\n",
    "                    continue\n",
    "\n",
    "                # Normalize weights within DGIDB\n",
    "                weights = connected_genes[neighbor_genes]\n",
    "                weight_sum = np.sum(weights)\n",
    "                if weight_sum > 0:\n",
    "                    weights /= weight_sum  # Normalize to sum to 1\n",
    "\n",
    "                # Transition probability contribution\n",
    "                prob_sum += np.sum(weights * vj[neighbor_genes])\n",
    "\n",
    "            # Add inter-hypergraph jump probabilities (from DGIDB to MSIGDB)\n",
    "            vi_new[gene] = prob_sum + np.sum(D[gene, :] * vj[num_genes_DGIDB:])  # Jump to MSIGDB part\n",
    "        print(\"vi_new\", vi_new)\n",
    "        # Handle transitions for MSIGDB (second part of the vector)\n",
    "        for gene in tqdm(range(num_genes_MSIGDB), desc=\"MSIGDB Gene Processing\"):\n",
    "            # Intra-hypergraph transitions in MSIGDB (moving within MSIGDB)\n",
    "            connected_pathways = MSIGDB_binary_matrix[gene, :].nonzero()[1]  # Nonzero columns in MSIGDB binary matrix\n",
    "\n",
    "            if len(connected_pathways) == 0:\n",
    "                continue  # Skip if no pathways are found\n",
    "\n",
    "            # Collect probabilities from neighbors in MSIGDB\n",
    "            prob_sum = 0\n",
    "            for pathway in connected_pathways:\n",
    "                # Find genes connected to the selected pathway (weighted transition in MSIGDB)\n",
    "                connected_genes = MSIGDB_weighted_matrix[:, pathway].toarray().flatten()\n",
    "                neighbor_genes = np.where(connected_genes > 0)[0]  # Get genes with nonzero weight\n",
    "\n",
    "                if len(neighbor_genes) == 0:\n",
    "                    continue\n",
    "\n",
    "                # Normalize weights within MSIGDB\n",
    "                weights = connected_genes[neighbor_genes]\n",
    "                weight_sum = np.sum(weights)\n",
    "                if weight_sum > 0:\n",
    "                    weights /= weight_sum  # Normalize to sum to 1\n",
    "\n",
    "                # Transition probability contribution\n",
    "                prob_sum += np.sum(weights * vj[num_genes_DGIDB + neighbor_genes])\n",
    "\n",
    "            # Add inter-hypergraph jump probabilities (from MSIGDB to DGIDB)\n",
    "            vi_new[num_genes_DGIDB + gene] = prob_sum + np.sum(D[:, gene] * vj[:num_genes_DGIDB])  # Jump to DGIDB part\n",
    "        print(\"vi_new\", vi_new)\n",
    "        # Normalize vi_new to avoid overflow\n",
    "        vi_new /= np.sum(vi_new) if np.sum(vi_new) > 0 else 1\n",
    "\n",
    "        # Apply restart probability\n",
    "        vi = restart_prob * vi_new + (1 - restart_prob) * teleport\n",
    "\n",
    "        # Calculate distance (convergence criterion)\n",
    "        distance = np.sum(np.abs(vj - vi))\n",
    "        distance_list.append(distance)\n",
    "\n",
    "    # Sort importance scores in descending order\n",
    "    # importance_scores = np.argsort(vi)[::-1]\n",
    "    # importance_values = vi[importance_scores]\n",
    "    return {\"Importance\": vi, \"Distance\": distance_list}\n",
    "    # # Return importance scores and distance values\n",
    "    # return {\"Importance\": list(zip(importance_scores, importance_values)), \"Distance\": distance_list}\n",
    "\n",
    "# Run the random walk with restart considering inter-layer transitions\n",
    "result = get_hyper_randomwalk(DGIDB_binary_matrix, DGIDB_weighted_matrix, MSIGDB_weighted_matrix, MSIGDB_binary_matrix, D, restart_prob, num_iterations)\n",
    "\n",
    "# Print results\n",
    "print(\"Top Genes by Importance:\")\n",
    "i = 0\n",
    "for score in result[\"Importance\"][:10]:\n",
    "    print(f\"Gene {i}: {score:.6f}\")\n",
    "    i+=1\n",
    "\n",
    "print(\"\\nDistance per Iteration:\")\n",
    "print(result[\"Distance\"])"
   ]
  },
  {
   "cell_type": "code",
   "execution_count": null,
   "metadata": {},
   "outputs": [
    {
     "name": "stdout",
     "output_type": "stream",
     "text": [
      "{'Importance': array([3.15194851e-05, 3.03103106e-05, 2.99009531e-05, ...,\n",
      "       3.92780666e-05, 4.03500033e-05, 3.76966448e-05]), 'Distance': [0.19032158831266643, 0.020123515157926288, 0.008001529283774289, 0.003968822590130649, 0.0020745117231113523, 0.0011082627731718335, 0.000596792391496234, 0.00032167161404475226, 0.0001734499588684373, 9.354137864702647e-05]}\n"
     ]
    }
   ],
   "source": [
    "with open('importance_data_BIPOLAR_MULTILAYER.txt', 'w') as file:\n",
    "    file.write(str(result))"
   ]
  },
  {
   "cell_type": "code",
   "execution_count": 6,
   "metadata": {},
   "outputs": [],
   "source": [
    "import pandas as pd\n",
    "\n",
    "DGIDB_vector = result[\"Importance\"][:num_genes_DGIDB]\n",
    "MSIGDB_vector = result[\"Importance\"][num_genes_DGIDB:]\n",
    "\n",
    "DGIDB_Importance_df = pd.DataFrame({\"Index\": np.arange(len(DGIDB_vector)), \"Importance\": DGIDB_vector})\n",
    "MSIGDB_Importance_df = pd.DataFrame({\"Index\": np.arange(len(MSIGDB_vector)), \"Importance\": MSIGDB_vector})\n"
   ]
  },
  {
   "cell_type": "code",
   "execution_count": 7,
   "metadata": {},
   "outputs": [],
   "source": [
    "import json\n",
    "import pandas as pd\n",
    "with open(\"./Data/hypergraphs/DGIDB_HumanNet/human/undirected/temp/gene_to_index.json\", \"r\") as file:\n",
    "    dgidb_gene_to_index = json.load(file)\n",
    "with open(\"./Data/hypergraphs/MSIGDB_HumanNet/human/gene_to_index.json\", \"r\") as file:\n",
    "    msigdb_gene_to_index = json.load(file)\n",
    "\n",
    "DGIDB_gene_to_index_df = pd.DataFrame({\n",
    "    \"gene\": list(dgidb_gene_to_index.keys()),\n",
    "    \"Index\": list(dgidb_gene_to_index.values()),\n",
    "})\n",
    "\n",
    "MSIGDB_gene_to_index_df = pd.DataFrame({\n",
    "    \"gene\": list(msigdb_gene_to_index.keys()),\n",
    "    \"Index\": list(msigdb_gene_to_index.values()),\n",
    "})\n",
    "\n",
    "DGIDB_df = pd.merge(DGIDB_Importance_df, DGIDB_gene_to_index_df, on=\"Index\")\n",
    "MSIGDB_df = pd.merge(MSIGDB_Importance_df, MSIGDB_Importance_df, on=\"Index\")\n"
   ]
  },
  {
   "cell_type": "code",
   "execution_count": 8,
   "metadata": {},
   "outputs": [
    {
     "name": "stdout",
     "output_type": "stream",
     "text": [
      "        gene  Importance\n",
      "0       1576    0.000032\n",
      "1       1544    0.000032\n",
      "2       1565    0.000032\n",
      "3       1813    0.000031\n",
      "4         12    0.000031\n",
      "...      ...         ...\n",
      "4769    2831    0.000030\n",
      "4770  283106    0.000030\n",
      "4771  283120    0.000030\n",
      "4772    2832    0.000030\n",
      "4773    9992    0.000030\n",
      "\n",
      "[4774 rows x 2 columns]\n"
     ]
    }
   ],
   "source": [
    "# Assuming DGIDB_df and MSIGDB_df both have 'gene' and 'Importance' columns\n",
    "combined_df = pd.concat([DGIDB_df, MSIGDB_df])\n",
    "\n",
    "# Group by 'gene' and sum the 'Importance' scores\n",
    "final_df = combined_df.groupby(\"gene\", as_index=False).sum()\n",
    "\n",
    "# Sort by 'Importance' in descending order\n",
    "final_df = final_df.sort_values(by=\"Importance\", ascending=False)\n",
    "\n",
    "# Reset the index\n",
    "final_df = final_df.reset_index(drop=True)\n",
    "final_df = final_df[[\"gene\", \"Importance\"]]\n",
    "# Print the final DataFrame\n",
    "print(final_df)"
   ]
  },
  {
   "cell_type": "code",
   "execution_count": 9,
   "metadata": {},
   "outputs": [],
   "source": [
    "import pandas as pd\n",
    "dgidb = pd.read_csv(\"./Data/DGIDB/converted/human/dgidb_ncbi_v2.csv\")"
   ]
  },
  {
   "cell_type": "code",
   "execution_count": 10,
   "metadata": {},
   "outputs": [],
   "source": [
    "import json\n",
    "with open(\"./Data/hypergraphs/DGIDB_HumanNet/human/undirected/temp/gene_to_index.json\", \"r\") as file:\n",
    "    dgidb2seq = json.load(file)\n",
    "with open(\"./Data/hypergraphs/MSIGDB_HumanNet/human/gene_to_index.json\", \"r\") as file:\n",
    "    msigdb2seq = json.load(file)\n",
    "\n",
    "def get_gene_by_index_msigdb(index):\n",
    "    gene_to_index = msigdb2seq\n",
    "    print(msigdb)\n",
    "    # Invert the dictionary to map indices back to genes\n",
    "    index_to_gene = {v: k for k, v in gene_to_index.items()}\n",
    "    return index_to_gene.get(index, None)\n",
    "\n",
    "def get_gene_by_index_dgidb(index):\n",
    "    gene_to_index = dgidb2seq\n",
    "    # Invert the dictionary to map indices back to genes\n",
    "    index_to_gene = {v: k for k, v in gene_to_index.items()}\n",
    "    return index_to_gene.get(index, None)\n"
   ]
  },
  {
   "cell_type": "code",
   "execution_count": 11,
   "metadata": {},
   "outputs": [
    {
     "name": "stdout",
     "output_type": "stream",
     "text": [
      "         gene_claim_name gene_concept_id gene_name interaction_source_db_name  \\\n",
      "195                   AR        hgnc:644        AR                        DTC   \n",
      "224                   AR        hgnc:644        AR                     ChEMBL   \n",
      "244                   AR        hgnc:644        AR                        DTC   \n",
      "372                   AR        hgnc:644        AR                        DTC   \n",
      "423                   AR        hgnc:644        AR                        DTC   \n",
      "...                  ...             ...       ...                        ...   \n",
      "87807                 AR        hgnc:644        AR                        DTC   \n",
      "87849                 AR        hgnc:644        AR                        DTC   \n",
      "87863                 AR        hgnc:644        AR                        DTC   \n",
      "88142     UNIPROT:P10275        hgnc:644        AR           TdgClinicalTrial   \n",
      "88237  ANDROGEN RECEPTOR        hgnc:644        AR                        TTD   \n",
      "\n",
      "      interaction_source_db_version interaction_type  interaction_score  \\\n",
      "195                          9/2/20              NaN           0.058472   \n",
      "224                              33          agonist           0.116944   \n",
      "244                          9/2/20              NaN           0.007309   \n",
      "372                          9/2/20              NaN           0.058472   \n",
      "423                          9/2/20              NaN           0.058472   \n",
      "...                             ...              ...                ...   \n",
      "87807                        9/2/20              NaN           0.029236   \n",
      "87849                        9/2/20              NaN           0.058472   \n",
      "87863                        9/2/20              NaN           0.014618   \n",
      "88142                        Jan-14              NaN           0.116944   \n",
      "88237                    2020.06.01              NaN           0.146179   \n",
      "\n",
      "          drug_claim_name      drug_concept_id              drug_name  \\\n",
      "195               ALLISAN  chembl:CHEMBL504381                ALLISAN   \n",
      "224    METHANDROSTENOLONE           rxcui:6818     METHANDROSTENOLONE   \n",
      "244               DANAZOL           rxcui:3102                DANAZOL   \n",
      "372          ORBIFLOXACIN         rxcui:995897           ORBIFLOXACIN   \n",
      "423           MESTANOLONE          ncit:C83939            MESTANOLONE   \n",
      "...                   ...                  ...                    ...   \n",
      "87807       OXIGLUTATIONE          ncit:C62624          OXIGLUTATIONE   \n",
      "87849      SULFACARBAMIDE         ncit:C152453         SULFACARBAMIDE   \n",
      "87863        FLUMETHASONE          rxcui:25113  FLUMETHASONE PIVALATE   \n",
      "88142      DROMOSTANOLONE          rxcui:23678         DROMOSTANOLONE   \n",
      "88237             ARN-509        rxcui:1999574            APALUTAMIDE   \n",
      "\n",
      "      approved immunotherapy anti_neoplastic  ncbi_gene_id  \n",
      "195      False         False           False           367  \n",
      "224       True         False           False           367  \n",
      "244       True         False            True           367  \n",
      "372      False         False           False           367  \n",
      "423      False         False           False           367  \n",
      "...        ...           ...             ...           ...  \n",
      "87807     True         False           False           367  \n",
      "87849     True         False           False           367  \n",
      "87863     True         False           False           367  \n",
      "88142     True         False            True           367  \n",
      "88237     True         False            True           367  \n",
      "\n",
      "[1008 rows x 14 columns]\n"
     ]
    }
   ],
   "source": [
    "print(dgidb[(dgidb['ncbi_gene_id']) == 367])"
   ]
  },
  {
   "cell_type": "code",
   "execution_count": 12,
   "metadata": {},
   "outputs": [
    {
     "name": "stderr",
     "output_type": "stream",
     "text": [
      "c:\\Users\\richa\\Desktop\\CodingWorkspaces\\DGI-Hypergraph\\datatestingvenv\\lib\\site-packages\\IPython\\core\\interactiveshell.py:3258: DtypeWarning: Columns (2,4,6,8,9,10) have mixed types.Specify dtype option on import or set low_memory=False.\n",
      "  interactivity=interactivity, compiler=compiler, result=result)\n"
     ]
    }
   ],
   "source": [
    "NCBI_PATH = \"./Data/ncbi/gene2refseq.gz\"\n",
    "NCBI_INFO = pd.read_csv(NCBI_PATH, sep='\\t', compression='gzip')"
   ]
  },
  {
   "cell_type": "code",
   "execution_count": 13,
   "metadata": {},
   "outputs": [
    {
     "name": "stdout",
     "output_type": "stream",
     "text": [
      "Gene claim name for NCBI Gene ID 8242: KDM5C\n",
      "NCBI Gene ID for Gene Claim Name HTR2C: 3358\n"
     ]
    }
   ],
   "source": [
    "import pandas as pd\n",
    "\n",
    "# Assume NCBI_INFO is your DataFrame\n",
    "# Filter for Homo sapiens genes (tax_id = 9606)\n",
    "human_gene2refseq = NCBI_INFO[NCBI_INFO['#tax_id'] == 9606]\n",
    "\n",
    "# Create a mapping from NCBI gene IDs (GeneID) to gene claim names (Symbol)\n",
    "id_to_gene_claim = pd.Series(human_gene2refseq.Symbol.values, index=human_gene2refseq.GeneID).to_dict()\n",
    "gene_claim_to_id = pd.Series(human_gene2refseq.GeneID.values, index=human_gene2refseq.Symbol).to_dict()\n",
    "\n",
    "# Example usage for looking up the gene claim name using an NCBI Gene ID\n",
    "ncbi_gene_id = 8242  # Replace with your desired NCBI Gene ID\n",
    "gene_claim_name = id_to_gene_claim.get(ncbi_gene_id, \"Gene claim name not found\")\n",
    "print(f\"Gene claim name for NCBI Gene ID {ncbi_gene_id}: {gene_claim_name}\")\n",
    "\n",
    "# Example usage for looking up the NCBI Gene ID using a gene claim name\n",
    "gene_claim_name = \"HTR2C\"  # Replace with your desired gene claim name\n",
    "ncbi_gene_id = gene_claim_to_id.get(gene_claim_name, \"NCBI gene ID not found\")\n",
    "print(f\"NCBI Gene ID for Gene Claim Name {gene_claim_name}: {ncbi_gene_id}\")\n"
   ]
  },
  {
   "cell_type": "code",
   "execution_count": 14,
   "metadata": {},
   "outputs": [
    {
     "name": "stdout",
     "output_type": "stream",
     "text": [
      "[3.15194851e-05 3.03103106e-05 2.99009531e-05 3.08091943e-05\n",
      " 2.99009531e-05 2.99009531e-05 2.99009531e-05 2.99009531e-05\n",
      " 2.99009531e-05 2.99009531e-05]\n"
     ]
    },
    {
     "ename": "TypeError",
     "evalue": "cannot unpack non-iterable numpy.float64 object",
     "output_type": "error",
     "traceback": [
      "\u001b[1;31m---------------------------------------------------------------------------\u001b[0m",
      "\u001b[1;31mTypeError\u001b[0m                                 Traceback (most recent call last)",
      "\u001b[1;32m~\\AppData\\Local\\Temp\\ipykernel_21512\\2205457632.py\u001b[0m in \u001b[0;36m<module>\u001b[1;34m\u001b[0m\n\u001b[0;32m     12\u001b[0m \u001b[1;33m\u001b[0m\u001b[0m\n\u001b[0;32m     13\u001b[0m \u001b[0mprint\u001b[0m\u001b[1;33m(\u001b[0m\u001b[0mresult\u001b[0m\u001b[1;33m[\u001b[0m\u001b[1;34m\"Importance\"\u001b[0m\u001b[1;33m]\u001b[0m\u001b[1;33m[\u001b[0m\u001b[1;33m:\u001b[0m\u001b[1;36m10\u001b[0m\u001b[1;33m]\u001b[0m\u001b[1;33m)\u001b[0m\u001b[1;33m\u001b[0m\u001b[0m\n\u001b[1;32m---> 14\u001b[1;33m \u001b[1;32mfor\u001b[0m \u001b[0mgene\u001b[0m\u001b[1;33m,\u001b[0m \u001b[0mscore\u001b[0m \u001b[1;32min\u001b[0m \u001b[0mresult\u001b[0m\u001b[1;33m[\u001b[0m\u001b[1;34m\"Importance\"\u001b[0m\u001b[1;33m]\u001b[0m\u001b[1;33m[\u001b[0m\u001b[1;33m:\u001b[0m\u001b[1;36m10\u001b[0m\u001b[1;33m]\u001b[0m\u001b[1;33m:\u001b[0m\u001b[1;33m\u001b[0m\u001b[0m\n\u001b[0m\u001b[0;32m     15\u001b[0m     \u001b[0mprint\u001b[0m\u001b[1;33m(\u001b[0m\u001b[0mgene\u001b[0m\u001b[1;33m)\u001b[0m\u001b[1;33m\u001b[0m\u001b[0m\n\u001b[0;32m     16\u001b[0m     \u001b[0mncbi_gene\u001b[0m \u001b[1;33m=\u001b[0m \u001b[0mget_gene_by_index_dgidb\u001b[0m\u001b[1;33m(\u001b[0m\u001b[0mgene\u001b[0m\u001b[1;33m)\u001b[0m\u001b[1;33m\u001b[0m\u001b[0m\n",
      "\u001b[1;31mTypeError\u001b[0m: cannot unpack non-iterable numpy.float64 object"
     ]
    }
   ],
   "source": [
    "# # Function to get the gene_claim_name from ncbi_gene_id\n",
    "# def get_gene_claim_name(ncbi_gene_id):\n",
    "#     ncbi_gene_id = int(ncbi_gene_id)\n",
    "#     # result = dgidb[dgidb['ncbi_gene_id'] == ncbi_gene_id]\n",
    "#     result = dgidb[(dgidb['ncbi_gene_id']) == ncbi_gene_id]\n",
    "#     if not result.empty:\n",
    "#         return result['gene_name'].values[0]\n",
    "#     else:\n",
    "#         return \"Gene name not found\"\n",
    "def get_gene_claim_name_via_NCBI(ncbi_gene_id):\n",
    "    return id_to_gene_claim.get(ncbi_gene_id, \"NCBI GENE CLIAIM NAME NOT FOUND\")\n",
    "    \n",
    "print(result[\"Importance\"][:10])\n",
    "for gene, score in result[\"Importance\"][:10]:\n",
    "    print(gene)\n",
    "    ncbi_gene = get_gene_by_index_dgidb(gene)\n",
    "    if not ncbi_gene:\n",
    "        ncbi_gene = get_gene_by_index_msigdb(gene)\n",
    "    claim_name = get_gene_claim_name_via_NCBI(int(ncbi_gene))\n",
    "    print(f\"Gene {ncbi_gene}, Claim Name: {claim_name} : {score:.6f}\")"
   ]
  },
  {
   "cell_type": "code",
   "execution_count": null,
   "metadata": {},
   "outputs": [
    {
     "ename": "NameError",
     "evalue": "name 'result' is not defined",
     "output_type": "error",
     "traceback": [
      "\u001b[1;31m---------------------------------------------------------------------------\u001b[0m",
      "\u001b[1;31mNameError\u001b[0m                                 Traceback (most recent call last)",
      "\u001b[1;32m~\\AppData\\Local\\Temp\\ipykernel_18868\\3166726931.py\u001b[0m in \u001b[0;36m<module>\u001b[1;34m\u001b[0m\n\u001b[0;32m      1\u001b[0m \u001b[1;31m# Collect the data for the TSV file\u001b[0m\u001b[1;33m\u001b[0m\u001b[1;33m\u001b[0m\u001b[0m\n\u001b[0;32m      2\u001b[0m \u001b[0mdata\u001b[0m \u001b[1;33m=\u001b[0m \u001b[1;33m[\u001b[0m\u001b[1;33m]\u001b[0m\u001b[1;33m\u001b[0m\u001b[0m\n\u001b[1;32m----> 3\u001b[1;33m \u001b[1;32mfor\u001b[0m \u001b[0mgene\u001b[0m\u001b[1;33m,\u001b[0m \u001b[0mscore\u001b[0m \u001b[1;32min\u001b[0m \u001b[0mresult\u001b[0m\u001b[1;33m[\u001b[0m\u001b[1;34m\"Importance\"\u001b[0m\u001b[1;33m]\u001b[0m\u001b[1;33m[\u001b[0m\u001b[1;33m:\u001b[0m\u001b[1;36m10\u001b[0m\u001b[1;33m]\u001b[0m\u001b[1;33m:\u001b[0m\u001b[1;33m\u001b[0m\u001b[0m\n\u001b[0m\u001b[0;32m      4\u001b[0m     \u001b[0mncbi_gene\u001b[0m \u001b[1;33m=\u001b[0m \u001b[0mget_gene_by_index_dgidb\u001b[0m\u001b[1;33m(\u001b[0m\u001b[0mgene\u001b[0m\u001b[1;33m)\u001b[0m\u001b[1;33m\u001b[0m\u001b[0m\n\u001b[0;32m      5\u001b[0m     \u001b[1;32mif\u001b[0m \u001b[1;32mnot\u001b[0m \u001b[0mncbi_gene\u001b[0m\u001b[1;33m:\u001b[0m\u001b[1;33m\u001b[0m\u001b[0m\n",
      "\u001b[1;31mNameError\u001b[0m: name 'result' is not defined"
     ]
    }
   ],
   "source": [
    "# Collect the data for the TSV file\n",
    "data = []\n",
    "for gene, score in result[\"Importance\"][:10]:\n",
    "    ncbi_gene = get_gene_by_index_dgidb(gene)\n",
    "    if not ncbi_gene:\n",
    "        ncbi_gene = get_gene_by_index_msigdb(gene)\n",
    "    claim_name = get_gene_claim_name_via_NCBI(int(ncbi_gene))\n",
    "    data.append({\"Gene_Claim_Name\": claim_name, \"Importance_Score\": score, \"NCBI_Gene_ID\": ncbi_gene})\n",
    "\n",
    "# Create a pandas DataFrame\n",
    "df = pd.DataFrame(data)\n",
    "\n",
    "# Save the DataFrame to a TSV file\n",
    "df.to_csv('gene_claims_importance.tsv', sep='\\t', index=False)\n",
    "\n",
    "print(\"Data successfully written to gene_claims_importance.tsv\")"
   ]
  },
  {
   "cell_type": "code",
   "execution_count": null,
   "metadata": {},
   "outputs": [],
   "source": []
  }
 ],
 "metadata": {
  "kernelspec": {
   "display_name": "datatestingvenv",
   "language": "python",
   "name": "python3"
  },
  "language_info": {
   "codemirror_mode": {
    "name": "ipython",
    "version": 3
   },
   "file_extension": ".py",
   "mimetype": "text/x-python",
   "name": "python",
   "nbconvert_exporter": "python",
   "pygments_lexer": "ipython3",
   "version": "3.7.0"
  }
 },
 "nbformat": 4,
 "nbformat_minor": 2
}
