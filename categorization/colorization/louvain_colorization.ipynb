{
 "cells": [
  {
   "cell_type": "code",
   "execution_count": 7,
   "metadata": {},
   "outputs": [],
   "source": [
    "import ast\n",
    "import json\n",
    "\n",
    "with open(\"../partition.txt\", \"r\") as f:\n",
    "    content = f.read()\n",
    "\n",
    "partition = ast.literal_eval(content)\n",
    "with open('../../Data/hypergraphs/DGIDB_HumanNet/human/undirected/full/gene_to_index.json', 'r') as file:\n",
    "    gene_to_index = json.load(file)\n",
    "\n",
    "# Invert the dictionary to map indices back to genes\n",
    "index_to_gene = {v: k for k, v in gene_to_index.items()}"
   ]
  },
  {
   "cell_type": "code",
   "execution_count": 8,
   "metadata": {},
   "outputs": [
    {
     "name": "stdout",
     "output_type": "stream",
     "text": [
      "Number of unique partitions: 55\n",
      "Partition 4 size: 2482\n",
      "Partition 1 size: 501\n",
      "Partition 5 size: 88\n",
      "Partition 6 size: 29\n",
      "Partition 14 size: 1267\n",
      "Partition 15 size: 45\n",
      "Partition 16 size: 18\n",
      "Partition 20 size: 2\n",
      "Partition 30 size: 6\n",
      "Partition 35 size: 2\n",
      "Partition 36 size: 3\n",
      "Partition 40 size: 2\n",
      "Partition 41 size: 8\n",
      "Partition 44 size: 2\n",
      "Partition 45 size: 8\n",
      "Partition 48 size: 3\n",
      "Partition 50 size: 7\n",
      "Partition 54 size: 10\n",
      "Partition 0 size: 3\n",
      "Partition 2 size: 3\n",
      "Partition 3 size: 6\n",
      "Partition 7 size: 2\n",
      "Partition 8 size: 3\n",
      "Partition 9 size: 6\n",
      "Partition 10 size: 5\n",
      "Partition 11 size: 2\n",
      "Partition 12 size: 4\n",
      "Partition 13 size: 8\n",
      "Partition 17 size: 2\n",
      "Partition 18 size: 2\n",
      "Partition 19 size: 2\n",
      "Partition 21 size: 2\n",
      "Partition 22 size: 3\n",
      "Partition 23 size: 2\n",
      "Partition 24 size: 3\n",
      "Partition 25 size: 2\n",
      "Partition 26 size: 2\n",
      "Partition 27 size: 2\n",
      "Partition 28 size: 2\n",
      "Partition 29 size: 3\n",
      "Partition 31 size: 2\n",
      "Partition 32 size: 3\n",
      "Partition 33 size: 2\n",
      "Partition 34 size: 2\n",
      "Partition 37 size: 3\n",
      "Partition 38 size: 2\n",
      "Partition 39 size: 2\n",
      "Partition 42 size: 2\n",
      "Partition 43 size: 2\n",
      "Partition 46 size: 2\n",
      "Partition 47 size: 2\n",
      "Partition 49 size: 2\n",
      "Partition 51 size: 2\n",
      "Partition 52 size: 2\n",
      "Partition 53 size: 2\n"
     ]
    }
   ],
   "source": [
    "from collections import Counter\n",
    "\n",
    "partition_counts = Counter(partition.values())\n",
    "print(f\"Number of unique partitions: {len(partition_counts)}\")\n",
    "for partition_id, count in partition_counts.items():\n",
    "    print(f\"Partition {partition_id} size: {count}\")"
   ]
  },
  {
   "cell_type": "code",
   "execution_count": 10,
   "metadata": {},
   "outputs": [
    {
     "name": "stdout",
     "output_type": "stream",
     "text": [
      "  ncbi_gene_id  partition_number\n",
      "0         1565                 4\n",
      "1         9641                 1\n",
      "2         7465                 1\n",
      "3        53944                 1\n",
      "4          815                 1\n"
     ]
    }
   ],
   "source": [
    "import pandas as pd\n",
    "\n",
    "# Create a list of tuples (ncbi_gene_id, partition_number)\n",
    "data = [(index_to_gene[idx], partition[idx]) for idx in partition.keys()]\n",
    "\n",
    "# Create a DataFrame from the data\n",
    "df = pd.DataFrame(data, columns=[\"ncbi_gene_id\", \"partition_number\"])\n",
    "\n",
    "# Optionally, you can save the DataFrame to a CSV file if needed\n",
    "# df.to_csv('partitioned_genes.csv', index=False)\n",
    "\n",
    "print(df.head())  # Display the first few rows of the DataFrame\n"
   ]
  },
  {
   "cell_type": "code",
   "execution_count": 11,
   "metadata": {},
   "outputs": [
    {
     "name": "stderr",
     "output_type": "stream",
     "text": [
      "C:\\Users\\richa\\AppData\\Local\\Temp\\ipykernel_20652\\97076900.py:2: DtypeWarning: Columns (2,4,6,8,9,10) have mixed types. Specify dtype option on import or set low_memory=False.\n",
      "  NCBI_INFO = pd.read_csv(NCBI_PATH, sep='\\t', compression='gzip')\n"
     ]
    }
   ],
   "source": [
    "NCBI_PATH = \"../../Data/ncbi/gene2refseq.gz\"\n",
    "NCBI_INFO = pd.read_csv(NCBI_PATH, sep='\\t', compression='gzip')"
   ]
  },
  {
   "cell_type": "code",
   "execution_count": 16,
   "metadata": {},
   "outputs": [
    {
     "name": "stdout",
     "output_type": "stream",
     "text": [
      "CYP2D6\n"
     ]
    }
   ],
   "source": [
    "human_gene2refseq = NCBI_INFO[NCBI_INFO['#tax_id'] == 9606]\n",
    "id_to_gene_claim = pd.Series(human_gene2refseq.Symbol.values, index=human_gene2refseq.GeneID).to_dict()\n",
    "\n",
    "def get_gene_claim_name(ncbi_gene_id):\n",
    "    return id_to_gene_claim.get(ncbi_gene_id, \"NCBI GENE CLAIM NAME NOT FOUND\")\n",
    "print(get_gene_claim_name(1565))\n",
    "df['claim_name'] = df['ncbi_gene_id'].apply(lambda gene: get_gene_claim_name(int(gene)))\n"
   ]
  },
  {
   "cell_type": "code",
   "execution_count": 17,
   "metadata": {},
   "outputs": [],
   "source": [
    "df.to_csv('partitioned_genes.csv', index=False)"
   ]
  }
 ],
 "metadata": {
  "kernelspec": {
   "display_name": "visualizationvenv",
   "language": "python",
   "name": "python3"
  },
  "language_info": {
   "codemirror_mode": {
    "name": "ipython",
    "version": 3
   },
   "file_extension": ".py",
   "mimetype": "text/x-python",
   "name": "python",
   "nbconvert_exporter": "python",
   "pygments_lexer": "ipython3",
   "version": "3.12.9"
  }
 },
 "nbformat": 4,
 "nbformat_minor": 2
}
