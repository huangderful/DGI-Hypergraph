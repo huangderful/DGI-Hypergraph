{
 "cells": [
  {
   "cell_type": "code",
   "execution_count": 1,
   "metadata": {},
   "outputs": [],
   "source": [
    "import pandas as pd\n",
    "import pandas as pd\n",
    "import time\n",
    "from selenium import webdriver\n",
    "from selenium.webdriver.common.by import By\n",
    "from selenium.webdriver.chrome.service import Service\n",
    "from selenium.webdriver.chrome.options import Options\n",
    "\n",
    "# Path to your ChromeDriver\n",
    "chrome_driver_path = \"/Users/richa/Downloads/chromedriver-win64/chromedriver-win64/chromedriver.exe\"\n",
    "DDDB = pd.read_csv(\"../Data/DDDB/NIHMS851432-supplement-1.csv\")\n",
    "#  Configure Selenium\n",
    "chrome_options = Options()\n",
    "chrome_options.add_argument(\"--headless\")\n",
    "chrome_options.add_argument(\"--no-sandbox\")\n",
    "chrome_options.add_argument(\"--disable-dev-shm-usage\")\n",
    "\n",
    "# Set up WebDriver\n",
    "service = Service(chrome_driver_path)\n",
    "driver = webdriver.Chrome(service=service, options=chrome_options)\n",
    "\n",
    "# URL templates\n",
    "SNOMED_URL_TEMPLATE = \"https://bioportal.bioontology.org/ontologies/SNOMEDCT?p=classes&conceptid={}\"\n",
    "ICD11_URL = \"https://icd.who.int/browse/2025-01/mms/en#613065957\""
   ]
  },
  {
   "cell_type": "code",
   "execution_count": null,
   "metadata": {},
   "outputs": [],
   "source": []
  },
  {
   "cell_type": "code",
   "execution_count": 9,
   "metadata": {},
   "outputs": [
    {
     "data": {
      "text/plain": [
       "\"Alzheimer's disease\""
      ]
     },
     "execution_count": 9,
     "metadata": {},
     "output_type": "execute_result"
    }
   ],
   "source": [
    "from selenium.webdriver.common.by import By\n",
    "\n",
    "def get_preferred_name(concept_id):\n",
    "    url = SNOMED_URL_TEMPLATE.format(concept_id)\n",
    "    driver.get(url)\n",
    "    time.sleep(1)\n",
    "\n",
    "    try:\n",
    "        # Locate the <p> tag containing the preferred name\n",
    "        preferred_name_element = driver.find_element(By.XPATH, \"//th[span[contains(text(), 'Preferred Name')]]/following-sibling::td/p\")\n",
    "        \n",
    "        # Extract the text content of the Preferred Name\n",
    "        preferred_name = preferred_name_element.text.strip()\n",
    "        return preferred_name\n",
    "    except Exception as e:\n",
    "        print(f\"Failed to get preferred name for ConceptID: {concept_id}. Error: {e}\")\n",
    "        return \"INCOMPLETE\"\n",
    "\n",
    "get_preferred_name(\"26929004\")\n"
   ]
  },
  {
   "cell_type": "code",
   "execution_count": 10,
   "metadata": {},
   "outputs": [
    {
     "name": "stderr",
     "output_type": "stream",
     "text": [
      "Updating CommonName:   0%|          | 14/3539 [00:01<05:05, 11.52it/s]"
     ]
    },
    {
     "name": "stdout",
     "output_type": "stream",
     "text": [
      "Failed to get preferred name for ConceptID: 372064008. Error: Message: no such element: Unable to locate element: {\"method\":\"xpath\",\"selector\":\"//th[span[contains(text(), 'Preferred Name')]]/following-sibling::td/p\"}\n",
      "  (Session info: chrome=134.0.6998.118); For documentation on this error, please visit: https://www.selenium.dev/documentation/webdriver/troubleshooting/errors#no-such-element-exception\n",
      "Stacktrace:\n",
      "\tGetHandleVerifier [0x00007FF786DB4C25+3179557]\n",
      "\t(No symbol) [0x00007FF786A188A0]\n",
      "\t(No symbol) [0x00007FF7868A91CA]\n",
      "\t(No symbol) [0x00007FF7868FFA67]\n",
      "\t(No symbol) [0x00007FF7868FFC9C]\n",
      "\t(No symbol) [0x00007FF786953627]\n",
      "\t(No symbol) [0x00007FF786927C6F]\n",
      "\t(No symbol) [0x00007FF7869502F3]\n",
      "\t(No symbol) [0x00007FF786927A03]\n",
      "\t(No symbol) [0x00007FF7868F06D0]\n",
      "\t(No symbol) [0x00007FF7868F1983]\n",
      "\tGetHandleVerifier [0x00007FF786E167CD+3579853]\n",
      "\tGetHandleVerifier [0x00007FF786E2D1D2+3672530]\n",
      "\tGetHandleVerifier [0x00007FF786E22153+3627347]\n",
      "\tGetHandleVerifier [0x00007FF786B8092A+868650]\n",
      "\t(No symbol) [0x00007FF786A22FFF]\n",
      "\t(No symbol) [0x00007FF786A1F4A4]\n",
      "\t(No symbol) [0x00007FF786A1F646]\n",
      "\t(No symbol) [0x00007FF786A0EAA9]\n",
      "\tBaseThreadInitThunk [0x00007FFB4C82E8D7+23]\n",
      "\tRtlUserThreadStart [0x00007FFB4E59BF6C+44]\n",
      "\n"
     ]
    },
    {
     "name": "stderr",
     "output_type": "stream",
     "text": [
      "Updating CommonName:   2%|▏         | 66/3539 [00:02<01:58, 29.32it/s]"
     ]
    },
    {
     "name": "stdout",
     "output_type": "stream",
     "text": [
      "Failed to get preferred name for ConceptID: 266109000. Error: Message: no such element: Unable to locate element: {\"method\":\"xpath\",\"selector\":\"//th[span[contains(text(), 'Preferred Name')]]/following-sibling::td/p\"}\n",
      "  (Session info: chrome=134.0.6998.118); For documentation on this error, please visit: https://www.selenium.dev/documentation/webdriver/troubleshooting/errors#no-such-element-exception\n",
      "Stacktrace:\n",
      "\tGetHandleVerifier [0x00007FF786DB4C25+3179557]\n",
      "\t(No symbol) [0x00007FF786A188A0]\n",
      "\t(No symbol) [0x00007FF7868A91CA]\n",
      "\t(No symbol) [0x00007FF7868FFA67]\n",
      "\t(No symbol) [0x00007FF7868FFC9C]\n",
      "\t(No symbol) [0x00007FF786953627]\n",
      "\t(No symbol) [0x00007FF786927C6F]\n",
      "\t(No symbol) [0x00007FF7869502F3]\n",
      "\t(No symbol) [0x00007FF786927A03]\n",
      "\t(No symbol) [0x00007FF7868F06D0]\n",
      "\t(No symbol) [0x00007FF7868F1983]\n",
      "\tGetHandleVerifier [0x00007FF786E167CD+3579853]\n",
      "\tGetHandleVerifier [0x00007FF786E2D1D2+3672530]\n",
      "\tGetHandleVerifier [0x00007FF786E22153+3627347]\n",
      "\tGetHandleVerifier [0x00007FF786B8092A+868650]\n",
      "\t(No symbol) [0x00007FF786A22FFF]\n",
      "\t(No symbol) [0x00007FF786A1F4A4]\n",
      "\t(No symbol) [0x00007FF786A1F646]\n",
      "\t(No symbol) [0x00007FF786A0EAA9]\n",
      "\tBaseThreadInitThunk [0x00007FFB4C82E8D7+23]\n",
      "\tRtlUserThreadStart [0x00007FFB4E59BF6C+44]\n",
      "\n"
     ]
    },
    {
     "name": "stderr",
     "output_type": "stream",
     "text": [
      "Updating CommonName:   2%|▏         | 70/3539 [00:03<03:15, 17.72it/s]"
     ]
    },
    {
     "name": "stdout",
     "output_type": "stream",
     "text": [
      "Failed to get preferred name for ConceptID: 17338001. Error: Message: no such element: Unable to locate element: {\"method\":\"xpath\",\"selector\":\"//th[span[contains(text(), 'Preferred Name')]]/following-sibling::td/p\"}\n",
      "  (Session info: chrome=134.0.6998.118); For documentation on this error, please visit: https://www.selenium.dev/documentation/webdriver/troubleshooting/errors#no-such-element-exception\n",
      "Stacktrace:\n",
      "\tGetHandleVerifier [0x00007FF786DB4C25+3179557]\n",
      "\t(No symbol) [0x00007FF786A188A0]\n",
      "\t(No symbol) [0x00007FF7868A91CA]\n",
      "\t(No symbol) [0x00007FF7868FFA67]\n",
      "\t(No symbol) [0x00007FF7868FFC9C]\n",
      "\t(No symbol) [0x00007FF786953627]\n",
      "\t(No symbol) [0x00007FF786927C6F]\n",
      "\t(No symbol) [0x00007FF7869502F3]\n",
      "\t(No symbol) [0x00007FF786927A03]\n",
      "\t(No symbol) [0x00007FF7868F06D0]\n",
      "\t(No symbol) [0x00007FF7868F1983]\n",
      "\tGetHandleVerifier [0x00007FF786E167CD+3579853]\n",
      "\tGetHandleVerifier [0x00007FF786E2D1D2+3672530]\n",
      "\tGetHandleVerifier [0x00007FF786E22153+3627347]\n",
      "\tGetHandleVerifier [0x00007FF786B8092A+868650]\n",
      "\t(No symbol) [0x00007FF786A22FFF]\n",
      "\t(No symbol) [0x00007FF786A1F4A4]\n",
      "\t(No symbol) [0x00007FF786A1F646]\n",
      "\t(No symbol) [0x00007FF786A0EAA9]\n",
      "\tBaseThreadInitThunk [0x00007FFB4C82E8D7+23]\n",
      "\tRtlUserThreadStart [0x00007FFB4E59BF6C+44]\n",
      "\n"
     ]
    },
    {
     "name": "stderr",
     "output_type": "stream",
     "text": [
      "Updating CommonName:   3%|▎         | 101/3539 [00:04<02:46, 20.61it/s]"
     ]
    },
    {
     "name": "stdout",
     "output_type": "stream",
     "text": [
      "Failed to get preferred name for ConceptID: 248122005. Error: Message: no such element: Unable to locate element: {\"method\":\"xpath\",\"selector\":\"//th[span[contains(text(), 'Preferred Name')]]/following-sibling::td/p\"}\n",
      "  (Session info: chrome=134.0.6998.118); For documentation on this error, please visit: https://www.selenium.dev/documentation/webdriver/troubleshooting/errors#no-such-element-exception\n",
      "Stacktrace:\n",
      "\tGetHandleVerifier [0x00007FF786DB4C25+3179557]\n",
      "\t(No symbol) [0x00007FF786A188A0]\n",
      "\t(No symbol) [0x00007FF7868A91CA]\n",
      "\t(No symbol) [0x00007FF7868FFA67]\n",
      "\t(No symbol) [0x00007FF7868FFC9C]\n",
      "\t(No symbol) [0x00007FF786953627]\n",
      "\t(No symbol) [0x00007FF786927C6F]\n",
      "\t(No symbol) [0x00007FF7869502F3]\n",
      "\t(No symbol) [0x00007FF786927A03]\n",
      "\t(No symbol) [0x00007FF7868F06D0]\n",
      "\t(No symbol) [0x00007FF7868F1983]\n",
      "\tGetHandleVerifier [0x00007FF786E167CD+3579853]\n",
      "\tGetHandleVerifier [0x00007FF786E2D1D2+3672530]\n",
      "\tGetHandleVerifier [0x00007FF786E22153+3627347]\n",
      "\tGetHandleVerifier [0x00007FF786B8092A+868650]\n",
      "\t(No symbol) [0x00007FF786A22FFF]\n",
      "\t(No symbol) [0x00007FF786A1F4A4]\n",
      "\t(No symbol) [0x00007FF786A1F646]\n",
      "\t(No symbol) [0x00007FF786A0EAA9]\n",
      "\tBaseThreadInitThunk [0x00007FFB4C82E8D7+23]\n",
      "\tRtlUserThreadStart [0x00007FFB4E59BF6C+44]\n",
      "\n"
     ]
    },
    {
     "name": "stderr",
     "output_type": "stream",
     "text": [
      "Updating CommonName:   4%|▎         | 125/3539 [00:06<02:46, 20.46it/s]"
     ]
    },
    {
     "name": "stdout",
     "output_type": "stream",
     "text": [
      "Failed to get preferred name for ConceptID: 69878008. Error: Message: no such element: Unable to locate element: {\"method\":\"xpath\",\"selector\":\"//th[span[contains(text(), 'Preferred Name')]]/following-sibling::td/p\"}\n",
      "  (Session info: chrome=134.0.6998.118); For documentation on this error, please visit: https://www.selenium.dev/documentation/webdriver/troubleshooting/errors#no-such-element-exception\n",
      "Stacktrace:\n",
      "\tGetHandleVerifier [0x00007FF786DB4C25+3179557]\n",
      "\t(No symbol) [0x00007FF786A188A0]\n",
      "\t(No symbol) [0x00007FF7868A91CA]\n",
      "\t(No symbol) [0x00007FF7868FFA67]\n",
      "\t(No symbol) [0x00007FF7868FFC9C]\n",
      "\t(No symbol) [0x00007FF786953627]\n",
      "\t(No symbol) [0x00007FF786927C6F]\n",
      "\t(No symbol) [0x00007FF7869502F3]\n",
      "\t(No symbol) [0x00007FF786927A03]\n",
      "\t(No symbol) [0x00007FF7868F06D0]\n",
      "\t(No symbol) [0x00007FF7868F1983]\n",
      "\tGetHandleVerifier [0x00007FF786E167CD+3579853]\n",
      "\tGetHandleVerifier [0x00007FF786E2D1D2+3672530]\n",
      "\tGetHandleVerifier [0x00007FF786E22153+3627347]\n",
      "\tGetHandleVerifier [0x00007FF786B8092A+868650]\n",
      "\t(No symbol) [0x00007FF786A22FFF]\n",
      "\t(No symbol) [0x00007FF786A1F4A4]\n",
      "\t(No symbol) [0x00007FF786A1F646]\n",
      "\t(No symbol) [0x00007FF786A0EAA9]\n",
      "\tBaseThreadInitThunk [0x00007FFB4C82E8D7+23]\n",
      "\tRtlUserThreadStart [0x00007FFB4E59BF6C+44]\n",
      "\n"
     ]
    },
    {
     "name": "stderr",
     "output_type": "stream",
     "text": [
      "Updating CommonName:   5%|▌         | 186/3539 [00:07<01:48, 30.96it/s]"
     ]
    },
    {
     "name": "stdout",
     "output_type": "stream",
     "text": [
      "Failed to get preferred name for ConceptID: 26367008. Error: Message: no such element: Unable to locate element: {\"method\":\"xpath\",\"selector\":\"//th[span[contains(text(), 'Preferred Name')]]/following-sibling::td/p\"}\n",
      "  (Session info: chrome=134.0.6998.118); For documentation on this error, please visit: https://www.selenium.dev/documentation/webdriver/troubleshooting/errors#no-such-element-exception\n",
      "Stacktrace:\n",
      "\tGetHandleVerifier [0x00007FF786DB4C25+3179557]\n",
      "\t(No symbol) [0x00007FF786A188A0]\n",
      "\t(No symbol) [0x00007FF7868A91CA]\n",
      "\t(No symbol) [0x00007FF7868FFA67]\n",
      "\t(No symbol) [0x00007FF7868FFC9C]\n",
      "\t(No symbol) [0x00007FF786953627]\n",
      "\t(No symbol) [0x00007FF786927C6F]\n",
      "\t(No symbol) [0x00007FF7869502F3]\n",
      "\t(No symbol) [0x00007FF786927A03]\n",
      "\t(No symbol) [0x00007FF7868F06D0]\n",
      "\t(No symbol) [0x00007FF7868F1983]\n",
      "\tGetHandleVerifier [0x00007FF786E167CD+3579853]\n",
      "\tGetHandleVerifier [0x00007FF786E2D1D2+3672530]\n",
      "\tGetHandleVerifier [0x00007FF786E22153+3627347]\n",
      "\tGetHandleVerifier [0x00007FF786B8092A+868650]\n",
      "\t(No symbol) [0x00007FF786A22FFF]\n",
      "\t(No symbol) [0x00007FF786A1F4A4]\n",
      "\t(No symbol) [0x00007FF786A1F646]\n",
      "\t(No symbol) [0x00007FF786A0EAA9]\n",
      "\tBaseThreadInitThunk [0x00007FFB4C82E8D7+23]\n",
      "\tRtlUserThreadStart [0x00007FFB4E59BF6C+44]\n",
      "\n"
     ]
    },
    {
     "name": "stderr",
     "output_type": "stream",
     "text": [
      "Updating CommonName:   6%|▋         | 225/3539 [00:08<01:45, 31.37it/s]"
     ]
    },
    {
     "name": "stdout",
     "output_type": "stream",
     "text": [
      "Failed to get preferred name for ConceptID: 397803000. Error: Message: no such element: Unable to locate element: {\"method\":\"xpath\",\"selector\":\"//th[span[contains(text(), 'Preferred Name')]]/following-sibling::td/p\"}\n",
      "  (Session info: chrome=134.0.6998.118); For documentation on this error, please visit: https://www.selenium.dev/documentation/webdriver/troubleshooting/errors#no-such-element-exception\n",
      "Stacktrace:\n",
      "\tGetHandleVerifier [0x00007FF786DB4C25+3179557]\n",
      "\t(No symbol) [0x00007FF786A188A0]\n",
      "\t(No symbol) [0x00007FF7868A91CA]\n",
      "\t(No symbol) [0x00007FF7868FFA67]\n",
      "\t(No symbol) [0x00007FF7868FFC9C]\n",
      "\t(No symbol) [0x00007FF786953627]\n",
      "\t(No symbol) [0x00007FF786927C6F]\n",
      "\t(No symbol) [0x00007FF7869502F3]\n",
      "\t(No symbol) [0x00007FF786927A03]\n",
      "\t(No symbol) [0x00007FF7868F06D0]\n",
      "\t(No symbol) [0x00007FF7868F1983]\n",
      "\tGetHandleVerifier [0x00007FF786E167CD+3579853]\n",
      "\tGetHandleVerifier [0x00007FF786E2D1D2+3672530]\n",
      "\tGetHandleVerifier [0x00007FF786E22153+3627347]\n",
      "\tGetHandleVerifier [0x00007FF786B8092A+868650]\n",
      "\t(No symbol) [0x00007FF786A22FFF]\n",
      "\t(No symbol) [0x00007FF786A1F4A4]\n",
      "\t(No symbol) [0x00007FF786A1F646]\n",
      "\t(No symbol) [0x00007FF786A0EAA9]\n",
      "\tBaseThreadInitThunk [0x00007FFB4C82E8D7+23]\n",
      "\tRtlUserThreadStart [0x00007FFB4E59BF6C+44]\n",
      "\n"
     ]
    },
    {
     "name": "stderr",
     "output_type": "stream",
     "text": [
      "Updating CommonName:   6%|▋         | 229/3539 [00:09<02:26, 22.55it/s]"
     ]
    },
    {
     "name": "stdout",
     "output_type": "stream",
     "text": [
      "Failed to get preferred name for ConceptID: 425528008. Error: Message: no such element: Unable to locate element: {\"method\":\"xpath\",\"selector\":\"//th[span[contains(text(), 'Preferred Name')]]/following-sibling::td/p\"}\n",
      "  (Session info: chrome=134.0.6998.118); For documentation on this error, please visit: https://www.selenium.dev/documentation/webdriver/troubleshooting/errors#no-such-element-exception\n",
      "Stacktrace:\n",
      "\tGetHandleVerifier [0x00007FF786DB4C25+3179557]\n",
      "\t(No symbol) [0x00007FF786A188A0]\n",
      "\t(No symbol) [0x00007FF7868A91CA]\n",
      "\t(No symbol) [0x00007FF7868FFA67]\n",
      "\t(No symbol) [0x00007FF7868FFC9C]\n",
      "\t(No symbol) [0x00007FF786953627]\n",
      "\t(No symbol) [0x00007FF786927C6F]\n",
      "\t(No symbol) [0x00007FF7869502F3]\n",
      "\t(No symbol) [0x00007FF786927A03]\n",
      "\t(No symbol) [0x00007FF7868F06D0]\n",
      "\t(No symbol) [0x00007FF7868F1983]\n",
      "\tGetHandleVerifier [0x00007FF786E167CD+3579853]\n",
      "\tGetHandleVerifier [0x00007FF786E2D1D2+3672530]\n",
      "\tGetHandleVerifier [0x00007FF786E22153+3627347]\n",
      "\tGetHandleVerifier [0x00007FF786B8092A+868650]\n",
      "\t(No symbol) [0x00007FF786A22FFF]\n",
      "\t(No symbol) [0x00007FF786A1F4A4]\n",
      "\t(No symbol) [0x00007FF786A1F646]\n",
      "\t(No symbol) [0x00007FF786A0EAA9]\n",
      "\tBaseThreadInitThunk [0x00007FFB4C82E8D7+23]\n",
      "\tRtlUserThreadStart [0x00007FFB4E59BF6C+44]\n",
      "\n"
     ]
    },
    {
     "name": "stderr",
     "output_type": "stream",
     "text": [
      "Updating CommonName:   7%|▋         | 239/3539 [00:10<03:00, 18.27it/s]"
     ]
    },
    {
     "name": "stdout",
     "output_type": "stream",
     "text": [
      "Failed to get preferred name for ConceptID: 170951000. Error: Message: no such element: Unable to locate element: {\"method\":\"xpath\",\"selector\":\"//th[span[contains(text(), 'Preferred Name')]]/following-sibling::td/p\"}\n",
      "  (Session info: chrome=134.0.6998.118); For documentation on this error, please visit: https://www.selenium.dev/documentation/webdriver/troubleshooting/errors#no-such-element-exception\n",
      "Stacktrace:\n",
      "\tGetHandleVerifier [0x00007FF786DB4C25+3179557]\n",
      "\t(No symbol) [0x00007FF786A188A0]\n",
      "\t(No symbol) [0x00007FF7868A91CA]\n",
      "\t(No symbol) [0x00007FF7868FFA67]\n",
      "\t(No symbol) [0x00007FF7868FFC9C]\n",
      "\t(No symbol) [0x00007FF786953627]\n",
      "\t(No symbol) [0x00007FF786927C6F]\n",
      "\t(No symbol) [0x00007FF7869502F3]\n",
      "\t(No symbol) [0x00007FF786927A03]\n",
      "\t(No symbol) [0x00007FF7868F06D0]\n",
      "\t(No symbol) [0x00007FF7868F1983]\n",
      "\tGetHandleVerifier [0x00007FF786E167CD+3579853]\n",
      "\tGetHandleVerifier [0x00007FF786E2D1D2+3672530]\n",
      "\tGetHandleVerifier [0x00007FF786E22153+3627347]\n",
      "\tGetHandleVerifier [0x00007FF786B8092A+868650]\n",
      "\t(No symbol) [0x00007FF786A22FFF]\n",
      "\t(No symbol) [0x00007FF786A1F4A4]\n",
      "\t(No symbol) [0x00007FF786A1F646]\n",
      "\t(No symbol) [0x00007FF786A0EAA9]\n",
      "\tBaseThreadInitThunk [0x00007FFB4C82E8D7+23]\n",
      "\tRtlUserThreadStart [0x00007FFB4E59BF6C+44]\n",
      "\n"
     ]
    },
    {
     "name": "stderr",
     "output_type": "stream",
     "text": [
      "Updating CommonName:   7%|▋         | 253/3539 [00:11<03:21, 16.34it/s]"
     ]
    },
    {
     "name": "stdout",
     "output_type": "stream",
     "text": [
      "Failed to get preferred name for ConceptID: 60782007. Error: Message: no such element: Unable to locate element: {\"method\":\"xpath\",\"selector\":\"//th[span[contains(text(), 'Preferred Name')]]/following-sibling::td/p\"}\n",
      "  (Session info: chrome=134.0.6998.118); For documentation on this error, please visit: https://www.selenium.dev/documentation/webdriver/troubleshooting/errors#no-such-element-exception\n",
      "Stacktrace:\n",
      "\tGetHandleVerifier [0x00007FF786DB4C25+3179557]\n",
      "\t(No symbol) [0x00007FF786A188A0]\n",
      "\t(No symbol) [0x00007FF7868A91CA]\n",
      "\t(No symbol) [0x00007FF7868FFA67]\n",
      "\t(No symbol) [0x00007FF7868FFC9C]\n",
      "\t(No symbol) [0x00007FF786953627]\n",
      "\t(No symbol) [0x00007FF786927C6F]\n",
      "\t(No symbol) [0x00007FF7869502F3]\n",
      "\t(No symbol) [0x00007FF786927A03]\n",
      "\t(No symbol) [0x00007FF7868F06D0]\n",
      "\t(No symbol) [0x00007FF7868F1983]\n",
      "\tGetHandleVerifier [0x00007FF786E167CD+3579853]\n",
      "\tGetHandleVerifier [0x00007FF786E2D1D2+3672530]\n",
      "\tGetHandleVerifier [0x00007FF786E22153+3627347]\n",
      "\tGetHandleVerifier [0x00007FF786B8092A+868650]\n",
      "\t(No symbol) [0x00007FF786A22FFF]\n",
      "\t(No symbol) [0x00007FF786A1F4A4]\n",
      "\t(No symbol) [0x00007FF786A1F646]\n",
      "\t(No symbol) [0x00007FF786A0EAA9]\n",
      "\tBaseThreadInitThunk [0x00007FFB4C82E8D7+23]\n",
      "\tRtlUserThreadStart [0x00007FFB4E59BF6C+44]\n",
      "\n"
     ]
    },
    {
     "name": "stderr",
     "output_type": "stream",
     "text": [
      "Updating CommonName:   7%|▋         | 256/3539 [00:13<04:28, 12.21it/s]"
     ]
    },
    {
     "name": "stdout",
     "output_type": "stream",
     "text": [
      "Failed to get preferred name for ConceptID: 54200006. Error: Message: no such element: Unable to locate element: {\"method\":\"xpath\",\"selector\":\"//th[span[contains(text(), 'Preferred Name')]]/following-sibling::td/p\"}\n",
      "  (Session info: chrome=134.0.6998.118); For documentation on this error, please visit: https://www.selenium.dev/documentation/webdriver/troubleshooting/errors#no-such-element-exception\n",
      "Stacktrace:\n",
      "\tGetHandleVerifier [0x00007FF786DB4C25+3179557]\n",
      "\t(No symbol) [0x00007FF786A188A0]\n",
      "\t(No symbol) [0x00007FF7868A91CA]\n",
      "\t(No symbol) [0x00007FF7868FFA67]\n",
      "\t(No symbol) [0x00007FF7868FFC9C]\n",
      "\t(No symbol) [0x00007FF786953627]\n",
      "\t(No symbol) [0x00007FF786927C6F]\n",
      "\t(No symbol) [0x00007FF7869502F3]\n",
      "\t(No symbol) [0x00007FF786927A03]\n",
      "\t(No symbol) [0x00007FF7868F06D0]\n",
      "\t(No symbol) [0x00007FF7868F1983]\n",
      "\tGetHandleVerifier [0x00007FF786E167CD+3579853]\n",
      "\tGetHandleVerifier [0x00007FF786E2D1D2+3672530]\n",
      "\tGetHandleVerifier [0x00007FF786E22153+3627347]\n",
      "\tGetHandleVerifier [0x00007FF786B8092A+868650]\n",
      "\t(No symbol) [0x00007FF786A22FFF]\n",
      "\t(No symbol) [0x00007FF786A1F4A4]\n",
      "\t(No symbol) [0x00007FF786A1F646]\n",
      "\t(No symbol) [0x00007FF786A0EAA9]\n",
      "\tBaseThreadInitThunk [0x00007FFB4C82E8D7+23]\n",
      "\tRtlUserThreadStart [0x00007FFB4E59BF6C+44]\n",
      "\n"
     ]
    },
    {
     "name": "stderr",
     "output_type": "stream",
     "text": [
      "Updating CommonName:   7%|▋         | 259/3539 [00:15<07:27,  7.32it/s]"
     ]
    },
    {
     "name": "stdout",
     "output_type": "stream",
     "text": [
      "Failed to get preferred name for ConceptID: 361150008. Error: Message: no such element: Unable to locate element: {\"method\":\"xpath\",\"selector\":\"//th[span[contains(text(), 'Preferred Name')]]/following-sibling::td/p\"}\n",
      "  (Session info: chrome=134.0.6998.118); For documentation on this error, please visit: https://www.selenium.dev/documentation/webdriver/troubleshooting/errors#no-such-element-exception\n",
      "Stacktrace:\n",
      "\tGetHandleVerifier [0x00007FF786DB4C25+3179557]\n",
      "\t(No symbol) [0x00007FF786A188A0]\n",
      "\t(No symbol) [0x00007FF7868A91CA]\n",
      "\t(No symbol) [0x00007FF7868FFA67]\n",
      "\t(No symbol) [0x00007FF7868FFC9C]\n",
      "\t(No symbol) [0x00007FF786953627]\n",
      "\t(No symbol) [0x00007FF786927C6F]\n",
      "\t(No symbol) [0x00007FF7869502F3]\n",
      "\t(No symbol) [0x00007FF786927A03]\n",
      "\t(No symbol) [0x00007FF7868F06D0]\n",
      "\t(No symbol) [0x00007FF7868F1983]\n",
      "\tGetHandleVerifier [0x00007FF786E167CD+3579853]\n",
      "\tGetHandleVerifier [0x00007FF786E2D1D2+3672530]\n",
      "\tGetHandleVerifier [0x00007FF786E22153+3627347]\n",
      "\tGetHandleVerifier [0x00007FF786B8092A+868650]\n",
      "\t(No symbol) [0x00007FF786A22FFF]\n",
      "\t(No symbol) [0x00007FF786A1F4A4]\n",
      "\t(No symbol) [0x00007FF786A1F646]\n",
      "\t(No symbol) [0x00007FF786A0EAA9]\n",
      "\tBaseThreadInitThunk [0x00007FFB4C82E8D7+23]\n",
      "\tRtlUserThreadStart [0x00007FFB4E59BF6C+44]\n",
      "\n"
     ]
    },
    {
     "name": "stderr",
     "output_type": "stream",
     "text": [
      "Updating CommonName:  10%|▉         | 343/3539 [00:16<02:15, 23.67it/s]"
     ]
    },
    {
     "name": "stdout",
     "output_type": "stream",
     "text": [
      "Failed to get preferred name for ConceptID: 182782007. Error: Message: no such element: Unable to locate element: {\"method\":\"xpath\",\"selector\":\"//th[span[contains(text(), 'Preferred Name')]]/following-sibling::td/p\"}\n",
      "  (Session info: chrome=134.0.6998.118); For documentation on this error, please visit: https://www.selenium.dev/documentation/webdriver/troubleshooting/errors#no-such-element-exception\n",
      "Stacktrace:\n",
      "\tGetHandleVerifier [0x00007FF786DB4C25+3179557]\n",
      "\t(No symbol) [0x00007FF786A188A0]\n",
      "\t(No symbol) [0x00007FF7868A91CA]\n",
      "\t(No symbol) [0x00007FF7868FFA67]\n",
      "\t(No symbol) [0x00007FF7868FFC9C]\n",
      "\t(No symbol) [0x00007FF786953627]\n",
      "\t(No symbol) [0x00007FF786927C6F]\n",
      "\t(No symbol) [0x00007FF7869502F3]\n",
      "\t(No symbol) [0x00007FF786927A03]\n",
      "\t(No symbol) [0x00007FF7868F06D0]\n",
      "\t(No symbol) [0x00007FF7868F1983]\n",
      "\tGetHandleVerifier [0x00007FF786E167CD+3579853]\n",
      "\tGetHandleVerifier [0x00007FF786E2D1D2+3672530]\n",
      "\tGetHandleVerifier [0x00007FF786E22153+3627347]\n",
      "\tGetHandleVerifier [0x00007FF786B8092A+868650]\n",
      "\t(No symbol) [0x00007FF786A22FFF]\n",
      "\t(No symbol) [0x00007FF786A1F4A4]\n",
      "\t(No symbol) [0x00007FF786A1F646]\n",
      "\t(No symbol) [0x00007FF786A0EAA9]\n",
      "\tBaseThreadInitThunk [0x00007FFB4C82E8D7+23]\n",
      "\tRtlUserThreadStart [0x00007FFB4E59BF6C+44]\n",
      "\n"
     ]
    },
    {
     "name": "stderr",
     "output_type": "stream",
     "text": [
      "Updating CommonName:  10%|█         | 361/3539 [00:17<02:31, 21.01it/s]"
     ]
    },
    {
     "name": "stdout",
     "output_type": "stream",
     "text": [
      "Failed to get preferred name for ConceptID: 19155002. Error: Message: no such element: Unable to locate element: {\"method\":\"xpath\",\"selector\":\"//th[span[contains(text(), 'Preferred Name')]]/following-sibling::td/p\"}\n",
      "  (Session info: chrome=134.0.6998.118); For documentation on this error, please visit: https://www.selenium.dev/documentation/webdriver/troubleshooting/errors#no-such-element-exception\n",
      "Stacktrace:\n",
      "\tGetHandleVerifier [0x00007FF786DB4C25+3179557]\n",
      "\t(No symbol) [0x00007FF786A188A0]\n",
      "\t(No symbol) [0x00007FF7868A91CA]\n",
      "\t(No symbol) [0x00007FF7868FFA67]\n",
      "\t(No symbol) [0x00007FF7868FFC9C]\n",
      "\t(No symbol) [0x00007FF786953627]\n",
      "\t(No symbol) [0x00007FF786927C6F]\n",
      "\t(No symbol) [0x00007FF7869502F3]\n",
      "\t(No symbol) [0x00007FF786927A03]\n",
      "\t(No symbol) [0x00007FF7868F06D0]\n",
      "\t(No symbol) [0x00007FF7868F1983]\n",
      "\tGetHandleVerifier [0x00007FF786E167CD+3579853]\n",
      "\tGetHandleVerifier [0x00007FF786E2D1D2+3672530]\n",
      "\tGetHandleVerifier [0x00007FF786E22153+3627347]\n",
      "\tGetHandleVerifier [0x00007FF786B8092A+868650]\n",
      "\t(No symbol) [0x00007FF786A22FFF]\n",
      "\t(No symbol) [0x00007FF786A1F4A4]\n",
      "\t(No symbol) [0x00007FF786A1F646]\n",
      "\t(No symbol) [0x00007FF786A0EAA9]\n",
      "\tBaseThreadInitThunk [0x00007FFB4C82E8D7+23]\n",
      "\tRtlUserThreadStart [0x00007FFB4E59BF6C+44]\n",
      "\n"
     ]
    },
    {
     "name": "stderr",
     "output_type": "stream",
     "text": [
      "Updating CommonName:  10%|█         | 366/3539 [00:19<03:14, 16.28it/s]"
     ]
    },
    {
     "name": "stdout",
     "output_type": "stream",
     "text": [
      "Failed to get preferred name for ConceptID: 170951000. Error: Message: no such element: Unable to locate element: {\"method\":\"xpath\",\"selector\":\"//th[span[contains(text(), 'Preferred Name')]]/following-sibling::td/p\"}\n",
      "  (Session info: chrome=134.0.6998.118); For documentation on this error, please visit: https://www.selenium.dev/documentation/webdriver/troubleshooting/errors#no-such-element-exception\n",
      "Stacktrace:\n",
      "\tGetHandleVerifier [0x00007FF786DB4C25+3179557]\n",
      "\t(No symbol) [0x00007FF786A188A0]\n",
      "\t(No symbol) [0x00007FF7868A91CA]\n",
      "\t(No symbol) [0x00007FF7868FFA67]\n",
      "\t(No symbol) [0x00007FF7868FFC9C]\n",
      "\t(No symbol) [0x00007FF786953627]\n",
      "\t(No symbol) [0x00007FF786927C6F]\n",
      "\t(No symbol) [0x00007FF7869502F3]\n",
      "\t(No symbol) [0x00007FF786927A03]\n",
      "\t(No symbol) [0x00007FF7868F06D0]\n",
      "\t(No symbol) [0x00007FF7868F1983]\n",
      "\tGetHandleVerifier [0x00007FF786E167CD+3579853]\n",
      "\tGetHandleVerifier [0x00007FF786E2D1D2+3672530]\n",
      "\tGetHandleVerifier [0x00007FF786E22153+3627347]\n",
      "\tGetHandleVerifier [0x00007FF786B8092A+868650]\n",
      "\t(No symbol) [0x00007FF786A22FFF]\n",
      "\t(No symbol) [0x00007FF786A1F4A4]\n",
      "\t(No symbol) [0x00007FF786A1F646]\n",
      "\t(No symbol) [0x00007FF786A0EAA9]\n",
      "\tBaseThreadInitThunk [0x00007FFB4C82E8D7+23]\n",
      "\tRtlUserThreadStart [0x00007FFB4E59BF6C+44]\n",
      "\n"
     ]
    },
    {
     "name": "stderr",
     "output_type": "stream",
     "text": [
      "Updating CommonName:  11%|█         | 378/3539 [00:20<03:36, 14.58it/s]"
     ]
    },
    {
     "name": "stdout",
     "output_type": "stream",
     "text": [
      "Failed to get preferred name for ConceptID: 15771004. Error: Message: no such element: Unable to locate element: {\"method\":\"xpath\",\"selector\":\"//th[span[contains(text(), 'Preferred Name')]]/following-sibling::td/p\"}\n",
      "  (Session info: chrome=134.0.6998.118); For documentation on this error, please visit: https://www.selenium.dev/documentation/webdriver/troubleshooting/errors#no-such-element-exception\n",
      "Stacktrace:\n",
      "\tGetHandleVerifier [0x00007FF786DB4C25+3179557]\n",
      "\t(No symbol) [0x00007FF786A188A0]\n",
      "\t(No symbol) [0x00007FF7868A91CA]\n",
      "\t(No symbol) [0x00007FF7868FFA67]\n",
      "\t(No symbol) [0x00007FF7868FFC9C]\n",
      "\t(No symbol) [0x00007FF786953627]\n",
      "\t(No symbol) [0x00007FF786927C6F]\n",
      "\t(No symbol) [0x00007FF7869502F3]\n",
      "\t(No symbol) [0x00007FF786927A03]\n",
      "\t(No symbol) [0x00007FF7868F06D0]\n",
      "\t(No symbol) [0x00007FF7868F1983]\n",
      "\tGetHandleVerifier [0x00007FF786E167CD+3579853]\n",
      "\tGetHandleVerifier [0x00007FF786E2D1D2+3672530]\n",
      "\tGetHandleVerifier [0x00007FF786E22153+3627347]\n",
      "\tGetHandleVerifier [0x00007FF786B8092A+868650]\n",
      "\t(No symbol) [0x00007FF786A22FFF]\n",
      "\t(No symbol) [0x00007FF786A1F4A4]\n",
      "\t(No symbol) [0x00007FF786A1F646]\n",
      "\t(No symbol) [0x00007FF786A0EAA9]\n",
      "\tBaseThreadInitThunk [0x00007FFB4C82E8D7+23]\n",
      "\tRtlUserThreadStart [0x00007FFB4E59BF6C+44]\n",
      "\n"
     ]
    },
    {
     "name": "stderr",
     "output_type": "stream",
     "text": [
      "Updating CommonName:  12%|█▏        | 435/3539 [00:21<02:10, 23.86it/s]"
     ]
    },
    {
     "name": "stdout",
     "output_type": "stream",
     "text": [
      "Failed to get preferred name for ConceptID: 186932009. Error: Message: no such element: Unable to locate element: {\"method\":\"xpath\",\"selector\":\"//th[span[contains(text(), 'Preferred Name')]]/following-sibling::td/p\"}\n",
      "  (Session info: chrome=134.0.6998.118); For documentation on this error, please visit: https://www.selenium.dev/documentation/webdriver/troubleshooting/errors#no-such-element-exception\n",
      "Stacktrace:\n",
      "\tGetHandleVerifier [0x00007FF786DB4C25+3179557]\n",
      "\t(No symbol) [0x00007FF786A188A0]\n",
      "\t(No symbol) [0x00007FF7868A91CA]\n",
      "\t(No symbol) [0x00007FF7868FFA67]\n",
      "\t(No symbol) [0x00007FF7868FFC9C]\n",
      "\t(No symbol) [0x00007FF786953627]\n",
      "\t(No symbol) [0x00007FF786927C6F]\n",
      "\t(No symbol) [0x00007FF7869502F3]\n",
      "\t(No symbol) [0x00007FF786927A03]\n",
      "\t(No symbol) [0x00007FF7868F06D0]\n",
      "\t(No symbol) [0x00007FF7868F1983]\n",
      "\tGetHandleVerifier [0x00007FF786E167CD+3579853]\n",
      "\tGetHandleVerifier [0x00007FF786E2D1D2+3672530]\n",
      "\tGetHandleVerifier [0x00007FF786E22153+3627347]\n",
      "\tGetHandleVerifier [0x00007FF786B8092A+868650]\n",
      "\t(No symbol) [0x00007FF786A22FFF]\n",
      "\t(No symbol) [0x00007FF786A1F4A4]\n",
      "\t(No symbol) [0x00007FF786A1F646]\n",
      "\t(No symbol) [0x00007FF786A0EAA9]\n",
      "\tBaseThreadInitThunk [0x00007FFB4C82E8D7+23]\n",
      "\tRtlUserThreadStart [0x00007FFB4E59BF6C+44]\n",
      "\n"
     ]
    },
    {
     "name": "stderr",
     "output_type": "stream",
     "text": [
      "Updating CommonName:  12%|█▏        | 442/3539 [00:22<02:45, 18.71it/s]"
     ]
    },
    {
     "name": "stdout",
     "output_type": "stream",
     "text": [
      "Failed to get preferred name for ConceptID: 240675006. Error: Message: no such element: Unable to locate element: {\"method\":\"xpath\",\"selector\":\"//th[span[contains(text(), 'Preferred Name')]]/following-sibling::td/p\"}\n",
      "  (Session info: chrome=134.0.6998.118); For documentation on this error, please visit: https://www.selenium.dev/documentation/webdriver/troubleshooting/errors#no-such-element-exception\n",
      "Stacktrace:\n",
      "\tGetHandleVerifier [0x00007FF786DB4C25+3179557]\n",
      "\t(No symbol) [0x00007FF786A188A0]\n",
      "\t(No symbol) [0x00007FF7868A91CA]\n",
      "\t(No symbol) [0x00007FF7868FFA67]\n",
      "\t(No symbol) [0x00007FF7868FFC9C]\n",
      "\t(No symbol) [0x00007FF786953627]\n",
      "\t(No symbol) [0x00007FF786927C6F]\n",
      "\t(No symbol) [0x00007FF7869502F3]\n",
      "\t(No symbol) [0x00007FF786927A03]\n",
      "\t(No symbol) [0x00007FF7868F06D0]\n",
      "\t(No symbol) [0x00007FF7868F1983]\n",
      "\tGetHandleVerifier [0x00007FF786E167CD+3579853]\n",
      "\tGetHandleVerifier [0x00007FF786E2D1D2+3672530]\n",
      "\tGetHandleVerifier [0x00007FF786E22153+3627347]\n",
      "\tGetHandleVerifier [0x00007FF786B8092A+868650]\n",
      "\t(No symbol) [0x00007FF786A22FFF]\n",
      "\t(No symbol) [0x00007FF786A1F4A4]\n",
      "\t(No symbol) [0x00007FF786A1F646]\n",
      "\t(No symbol) [0x00007FF786A0EAA9]\n",
      "\tBaseThreadInitThunk [0x00007FFB4C82E8D7+23]\n",
      "\tRtlUserThreadStart [0x00007FFB4E59BF6C+44]\n",
      "\n"
     ]
    },
    {
     "name": "stderr",
     "output_type": "stream",
     "text": [
      "Updating CommonName:  13%|█▎        | 444/3539 [00:23<03:50, 13.44it/s]"
     ]
    },
    {
     "name": "stdout",
     "output_type": "stream",
     "text": [
      "Failed to get preferred name for ConceptID: 266109000. Error: Message: no such element: Unable to locate element: {\"method\":\"xpath\",\"selector\":\"//th[span[contains(text(), 'Preferred Name')]]/following-sibling::td/p\"}\n",
      "  (Session info: chrome=134.0.6998.118); For documentation on this error, please visit: https://www.selenium.dev/documentation/webdriver/troubleshooting/errors#no-such-element-exception\n",
      "Stacktrace:\n",
      "\tGetHandleVerifier [0x00007FF786DB4C25+3179557]\n",
      "\t(No symbol) [0x00007FF786A188A0]\n",
      "\t(No symbol) [0x00007FF7868A91CA]\n",
      "\t(No symbol) [0x00007FF7868FFA67]\n",
      "\t(No symbol) [0x00007FF7868FFC9C]\n",
      "\t(No symbol) [0x00007FF786953627]\n",
      "\t(No symbol) [0x00007FF786927C6F]\n",
      "\t(No symbol) [0x00007FF7869502F3]\n",
      "\t(No symbol) [0x00007FF786927A03]\n",
      "\t(No symbol) [0x00007FF7868F06D0]\n",
      "\t(No symbol) [0x00007FF7868F1983]\n",
      "\tGetHandleVerifier [0x00007FF786E167CD+3579853]\n",
      "\tGetHandleVerifier [0x00007FF786E2D1D2+3672530]\n",
      "\tGetHandleVerifier [0x00007FF786E22153+3627347]\n",
      "\tGetHandleVerifier [0x00007FF786B8092A+868650]\n",
      "\t(No symbol) [0x00007FF786A22FFF]\n",
      "\t(No symbol) [0x00007FF786A1F4A4]\n",
      "\t(No symbol) [0x00007FF786A1F646]\n",
      "\t(No symbol) [0x00007FF786A0EAA9]\n",
      "\tBaseThreadInitThunk [0x00007FFB4C82E8D7+23]\n",
      "\tRtlUserThreadStart [0x00007FFB4E59BF6C+44]\n",
      "\n"
     ]
    },
    {
     "name": "stderr",
     "output_type": "stream",
     "text": [
      "Updating CommonName:  13%|█▎        | 450/3539 [00:25<04:39, 11.07it/s]"
     ]
    },
    {
     "name": "stdout",
     "output_type": "stream",
     "text": [
      "Failed to get preferred name for ConceptID: 420079008. Error: Message: no such element: Unable to locate element: {\"method\":\"xpath\",\"selector\":\"//th[span[contains(text(), 'Preferred Name')]]/following-sibling::td/p\"}\n",
      "  (Session info: chrome=134.0.6998.118); For documentation on this error, please visit: https://www.selenium.dev/documentation/webdriver/troubleshooting/errors#no-such-element-exception\n",
      "Stacktrace:\n",
      "\tGetHandleVerifier [0x00007FF786DB4C25+3179557]\n",
      "\t(No symbol) [0x00007FF786A188A0]\n",
      "\t(No symbol) [0x00007FF7868A91CA]\n",
      "\t(No symbol) [0x00007FF7868FFA67]\n",
      "\t(No symbol) [0x00007FF7868FFC9C]\n",
      "\t(No symbol) [0x00007FF786953627]\n",
      "\t(No symbol) [0x00007FF786927C6F]\n",
      "\t(No symbol) [0x00007FF7869502F3]\n",
      "\t(No symbol) [0x00007FF786927A03]\n",
      "\t(No symbol) [0x00007FF7868F06D0]\n",
      "\t(No symbol) [0x00007FF7868F1983]\n",
      "\tGetHandleVerifier [0x00007FF786E167CD+3579853]\n",
      "\tGetHandleVerifier [0x00007FF786E2D1D2+3672530]\n",
      "\tGetHandleVerifier [0x00007FF786E22153+3627347]\n",
      "\tGetHandleVerifier [0x00007FF786B8092A+868650]\n",
      "\t(No symbol) [0x00007FF786A22FFF]\n",
      "\t(No symbol) [0x00007FF786A1F4A4]\n",
      "\t(No symbol) [0x00007FF786A1F646]\n",
      "\t(No symbol) [0x00007FF786A0EAA9]\n",
      "\tBaseThreadInitThunk [0x00007FFB4C82E8D7+23]\n",
      "\tRtlUserThreadStart [0x00007FFB4E59BF6C+44]\n",
      "\n"
     ]
    },
    {
     "name": "stderr",
     "output_type": "stream",
     "text": [
      "Updating CommonName:  13%|█▎        | 452/3539 [00:26<06:16,  8.20it/s]"
     ]
    },
    {
     "name": "stdout",
     "output_type": "stream",
     "text": [
      "Failed to get preferred name for ConceptID: 427481004. Error: Message: no such element: Unable to locate element: {\"method\":\"xpath\",\"selector\":\"//th[span[contains(text(), 'Preferred Name')]]/following-sibling::td/p\"}\n",
      "  (Session info: chrome=134.0.6998.118); For documentation on this error, please visit: https://www.selenium.dev/documentation/webdriver/troubleshooting/errors#no-such-element-exception\n",
      "Stacktrace:\n",
      "\tGetHandleVerifier [0x00007FF786DB4C25+3179557]\n",
      "\t(No symbol) [0x00007FF786A188A0]\n",
      "\t(No symbol) [0x00007FF7868A91CA]\n",
      "\t(No symbol) [0x00007FF7868FFA67]\n",
      "\t(No symbol) [0x00007FF7868FFC9C]\n",
      "\t(No symbol) [0x00007FF786953627]\n",
      "\t(No symbol) [0x00007FF786927C6F]\n",
      "\t(No symbol) [0x00007FF7869502F3]\n",
      "\t(No symbol) [0x00007FF786927A03]\n",
      "\t(No symbol) [0x00007FF7868F06D0]\n",
      "\t(No symbol) [0x00007FF7868F1983]\n",
      "\tGetHandleVerifier [0x00007FF786E167CD+3579853]\n",
      "\tGetHandleVerifier [0x00007FF786E2D1D2+3672530]\n",
      "\tGetHandleVerifier [0x00007FF786E22153+3627347]\n",
      "\tGetHandleVerifier [0x00007FF786B8092A+868650]\n",
      "\t(No symbol) [0x00007FF786A22FFF]\n",
      "\t(No symbol) [0x00007FF786A1F4A4]\n",
      "\t(No symbol) [0x00007FF786A1F646]\n",
      "\t(No symbol) [0x00007FF786A0EAA9]\n",
      "\tBaseThreadInitThunk [0x00007FFB4C82E8D7+23]\n",
      "\tRtlUserThreadStart [0x00007FFB4E59BF6C+44]\n",
      "\n"
     ]
    },
    {
     "name": "stderr",
     "output_type": "stream",
     "text": [
      "Updating CommonName:  13%|█▎        | 453/3539 [00:30<14:49,  3.47it/s]"
     ]
    },
    {
     "name": "stdout",
     "output_type": "stream",
     "text": [
      "Failed to get preferred name for ConceptID: 429586004. Error: Message: no such element: Unable to locate element: {\"method\":\"xpath\",\"selector\":\"//th[span[contains(text(), 'Preferred Name')]]/following-sibling::td/p\"}\n",
      "  (Session info: chrome=134.0.6998.118); For documentation on this error, please visit: https://www.selenium.dev/documentation/webdriver/troubleshooting/errors#no-such-element-exception\n",
      "Stacktrace:\n",
      "\tGetHandleVerifier [0x00007FF786DB4C25+3179557]\n",
      "\t(No symbol) [0x00007FF786A188A0]\n",
      "\t(No symbol) [0x00007FF7868A91CA]\n",
      "\t(No symbol) [0x00007FF7868FFA67]\n",
      "\t(No symbol) [0x00007FF7868FFC9C]\n",
      "\t(No symbol) [0x00007FF786953627]\n",
      "\t(No symbol) [0x00007FF786927C6F]\n",
      "\t(No symbol) [0x00007FF7869502F3]\n",
      "\t(No symbol) [0x00007FF786927A03]\n",
      "\t(No symbol) [0x00007FF7868F06D0]\n",
      "\t(No symbol) [0x00007FF7868F1983]\n",
      "\tGetHandleVerifier [0x00007FF786E167CD+3579853]\n",
      "\tGetHandleVerifier [0x00007FF786E2D1D2+3672530]\n",
      "\tGetHandleVerifier [0x00007FF786E22153+3627347]\n",
      "\tGetHandleVerifier [0x00007FF786B8092A+868650]\n",
      "\t(No symbol) [0x00007FF786A22FFF]\n",
      "\t(No symbol) [0x00007FF786A1F4A4]\n",
      "\t(No symbol) [0x00007FF786A1F646]\n",
      "\t(No symbol) [0x00007FF786A0EAA9]\n",
      "\tBaseThreadInitThunk [0x00007FFB4C82E8D7+23]\n",
      "\tRtlUserThreadStart [0x00007FFB4E59BF6C+44]\n",
      "\n"
     ]
    },
    {
     "name": "stderr",
     "output_type": "stream",
     "text": [
      "Updating CommonName:  14%|█▎        | 479/3539 [00:31<07:19,  6.96it/s]"
     ]
    },
    {
     "name": "stdout",
     "output_type": "stream",
     "text": [
      "Failed to get preferred name for ConceptID: 255046005. Error: Message: no such element: Unable to locate element: {\"method\":\"xpath\",\"selector\":\"//th[span[contains(text(), 'Preferred Name')]]/following-sibling::td/p\"}\n",
      "  (Session info: chrome=134.0.6998.118); For documentation on this error, please visit: https://www.selenium.dev/documentation/webdriver/troubleshooting/errors#no-such-element-exception\n",
      "Stacktrace:\n",
      "\tGetHandleVerifier [0x00007FF786DB4C25+3179557]\n",
      "\t(No symbol) [0x00007FF786A188A0]\n",
      "\t(No symbol) [0x00007FF7868A91CA]\n",
      "\t(No symbol) [0x00007FF7868FFA67]\n",
      "\t(No symbol) [0x00007FF7868FFC9C]\n",
      "\t(No symbol) [0x00007FF786953627]\n",
      "\t(No symbol) [0x00007FF786927C6F]\n",
      "\t(No symbol) [0x00007FF7869502F3]\n",
      "\t(No symbol) [0x00007FF786927A03]\n",
      "\t(No symbol) [0x00007FF7868F06D0]\n",
      "\t(No symbol) [0x00007FF7868F1983]\n",
      "\tGetHandleVerifier [0x00007FF786E167CD+3579853]\n",
      "\tGetHandleVerifier [0x00007FF786E2D1D2+3672530]\n",
      "\tGetHandleVerifier [0x00007FF786E22153+3627347]\n",
      "\tGetHandleVerifier [0x00007FF786B8092A+868650]\n",
      "\t(No symbol) [0x00007FF786A22FFF]\n",
      "\t(No symbol) [0x00007FF786A1F4A4]\n",
      "\t(No symbol) [0x00007FF786A1F646]\n",
      "\t(No symbol) [0x00007FF786A0EAA9]\n",
      "\tBaseThreadInitThunk [0x00007FFB4C82E8D7+23]\n",
      "\tRtlUserThreadStart [0x00007FFB4E59BF6C+44]\n",
      "\n"
     ]
    },
    {
     "name": "stderr",
     "output_type": "stream",
     "text": [
      "Updating CommonName:  15%|█▍        | 514/3539 [00:32<04:18, 11.70it/s]"
     ]
    },
    {
     "name": "stdout",
     "output_type": "stream",
     "text": [
      "Failed to get preferred name for ConceptID: 52756005. Error: Message: no such element: Unable to locate element: {\"method\":\"xpath\",\"selector\":\"//th[span[contains(text(), 'Preferred Name')]]/following-sibling::td/p\"}\n",
      "  (Session info: chrome=134.0.6998.118); For documentation on this error, please visit: https://www.selenium.dev/documentation/webdriver/troubleshooting/errors#no-such-element-exception\n",
      "Stacktrace:\n",
      "\tGetHandleVerifier [0x00007FF786DB4C25+3179557]\n",
      "\t(No symbol) [0x00007FF786A188A0]\n",
      "\t(No symbol) [0x00007FF7868A91CA]\n",
      "\t(No symbol) [0x00007FF7868FFA67]\n",
      "\t(No symbol) [0x00007FF7868FFC9C]\n",
      "\t(No symbol) [0x00007FF786953627]\n",
      "\t(No symbol) [0x00007FF786927C6F]\n",
      "\t(No symbol) [0x00007FF7869502F3]\n",
      "\t(No symbol) [0x00007FF786927A03]\n",
      "\t(No symbol) [0x00007FF7868F06D0]\n",
      "\t(No symbol) [0x00007FF7868F1983]\n",
      "\tGetHandleVerifier [0x00007FF786E167CD+3579853]\n",
      "\tGetHandleVerifier [0x00007FF786E2D1D2+3672530]\n",
      "\tGetHandleVerifier [0x00007FF786E22153+3627347]\n",
      "\tGetHandleVerifier [0x00007FF786B8092A+868650]\n",
      "\t(No symbol) [0x00007FF786A22FFF]\n",
      "\t(No symbol) [0x00007FF786A1F4A4]\n",
      "\t(No symbol) [0x00007FF786A1F646]\n",
      "\t(No symbol) [0x00007FF786A0EAA9]\n",
      "\tBaseThreadInitThunk [0x00007FFB4C82E8D7+23]\n",
      "\tRtlUserThreadStart [0x00007FFB4E59BF6C+44]\n",
      "\n"
     ]
    },
    {
     "name": "stderr",
     "output_type": "stream",
     "text": [
      "Updating CommonName:  15%|█▌        | 535/3539 [00:34<03:51, 13.00it/s]"
     ]
    },
    {
     "name": "stdout",
     "output_type": "stream",
     "text": [
      "Failed to get preferred name for ConceptID: 237266003. Error: Message: no such element: Unable to locate element: {\"method\":\"xpath\",\"selector\":\"//th[span[contains(text(), 'Preferred Name')]]/following-sibling::td/p\"}\n",
      "  (Session info: chrome=134.0.6998.118); For documentation on this error, please visit: https://www.selenium.dev/documentation/webdriver/troubleshooting/errors#no-such-element-exception\n",
      "Stacktrace:\n",
      "\tGetHandleVerifier [0x00007FF786DB4C25+3179557]\n",
      "\t(No symbol) [0x00007FF786A188A0]\n",
      "\t(No symbol) [0x00007FF7868A91CA]\n",
      "\t(No symbol) [0x00007FF7868FFA67]\n",
      "\t(No symbol) [0x00007FF7868FFC9C]\n",
      "\t(No symbol) [0x00007FF786953627]\n",
      "\t(No symbol) [0x00007FF786927C6F]\n",
      "\t(No symbol) [0x00007FF7869502F3]\n",
      "\t(No symbol) [0x00007FF786927A03]\n",
      "\t(No symbol) [0x00007FF7868F06D0]\n",
      "\t(No symbol) [0x00007FF7868F1983]\n",
      "\tGetHandleVerifier [0x00007FF786E167CD+3579853]\n",
      "\tGetHandleVerifier [0x00007FF786E2D1D2+3672530]\n",
      "\tGetHandleVerifier [0x00007FF786E22153+3627347]\n",
      "\tGetHandleVerifier [0x00007FF786B8092A+868650]\n",
      "\t(No symbol) [0x00007FF786A22FFF]\n",
      "\t(No symbol) [0x00007FF786A1F4A4]\n",
      "\t(No symbol) [0x00007FF786A1F646]\n",
      "\t(No symbol) [0x00007FF786A0EAA9]\n",
      "\tBaseThreadInitThunk [0x00007FFB4C82E8D7+23]\n",
      "\tRtlUserThreadStart [0x00007FFB4E59BF6C+44]\n",
      "\n"
     ]
    },
    {
     "name": "stderr",
     "output_type": "stream",
     "text": [
      "Updating CommonName:  15%|█▌        | 548/3539 [00:39<07:23,  6.74it/s]"
     ]
    },
    {
     "name": "stdout",
     "output_type": "stream",
     "text": [
      "Failed to get preferred name for ConceptID: 236084000. Error: Message: no such element: Unable to locate element: {\"method\":\"xpath\",\"selector\":\"//th[span[contains(text(), 'Preferred Name')]]/following-sibling::td/p\"}\n",
      "  (Session info: chrome=134.0.6998.118); For documentation on this error, please visit: https://www.selenium.dev/documentation/webdriver/troubleshooting/errors#no-such-element-exception\n",
      "Stacktrace:\n",
      "\tGetHandleVerifier [0x00007FF786DB4C25+3179557]\n",
      "\t(No symbol) [0x00007FF786A188A0]\n",
      "\t(No symbol) [0x00007FF7868A91CA]\n",
      "\t(No symbol) [0x00007FF7868FFA67]\n",
      "\t(No symbol) [0x00007FF7868FFC9C]\n",
      "\t(No symbol) [0x00007FF786953627]\n",
      "\t(No symbol) [0x00007FF786927C6F]\n",
      "\t(No symbol) [0x00007FF7869502F3]\n",
      "\t(No symbol) [0x00007FF786927A03]\n",
      "\t(No symbol) [0x00007FF7868F06D0]\n",
      "\t(No symbol) [0x00007FF7868F1983]\n",
      "\tGetHandleVerifier [0x00007FF786E167CD+3579853]\n",
      "\tGetHandleVerifier [0x00007FF786E2D1D2+3672530]\n",
      "\tGetHandleVerifier [0x00007FF786E22153+3627347]\n",
      "\tGetHandleVerifier [0x00007FF786B8092A+868650]\n",
      "\t(No symbol) [0x00007FF786A22FFF]\n",
      "\t(No symbol) [0x00007FF786A1F4A4]\n",
      "\t(No symbol) [0x00007FF786A1F646]\n",
      "\t(No symbol) [0x00007FF786A0EAA9]\n",
      "\tBaseThreadInitThunk [0x00007FFB4C82E8D7+23]\n",
      "\tRtlUserThreadStart [0x00007FFB4E59BF6C+44]\n",
      "\n"
     ]
    },
    {
     "name": "stderr",
     "output_type": "stream",
     "text": [
      "Updating CommonName:  16%|█▌        | 561/3539 [00:40<06:31,  7.61it/s]"
     ]
    },
    {
     "name": "stdout",
     "output_type": "stream",
     "text": [
      "Failed to get preferred name for ConceptID: 54200006. Error: Message: no such element: Unable to locate element: {\"method\":\"xpath\",\"selector\":\"//th[span[contains(text(), 'Preferred Name')]]/following-sibling::td/p\"}\n",
      "  (Session info: chrome=134.0.6998.118); For documentation on this error, please visit: https://www.selenium.dev/documentation/webdriver/troubleshooting/errors#no-such-element-exception\n",
      "Stacktrace:\n",
      "\tGetHandleVerifier [0x00007FF786DB4C25+3179557]\n",
      "\t(No symbol) [0x00007FF786A188A0]\n",
      "\t(No symbol) [0x00007FF7868A91CA]\n",
      "\t(No symbol) [0x00007FF7868FFA67]\n",
      "\t(No symbol) [0x00007FF7868FFC9C]\n",
      "\t(No symbol) [0x00007FF786953627]\n",
      "\t(No symbol) [0x00007FF786927C6F]\n",
      "\t(No symbol) [0x00007FF7869502F3]\n",
      "\t(No symbol) [0x00007FF786927A03]\n",
      "\t(No symbol) [0x00007FF7868F06D0]\n",
      "\t(No symbol) [0x00007FF7868F1983]\n",
      "\tGetHandleVerifier [0x00007FF786E167CD+3579853]\n",
      "\tGetHandleVerifier [0x00007FF786E2D1D2+3672530]\n",
      "\tGetHandleVerifier [0x00007FF786E22153+3627347]\n",
      "\tGetHandleVerifier [0x00007FF786B8092A+868650]\n",
      "\t(No symbol) [0x00007FF786A22FFF]\n",
      "\t(No symbol) [0x00007FF786A1F4A4]\n",
      "\t(No symbol) [0x00007FF786A1F646]\n",
      "\t(No symbol) [0x00007FF786A0EAA9]\n",
      "\tBaseThreadInitThunk [0x00007FFB4C82E8D7+23]\n",
      "\tRtlUserThreadStart [0x00007FFB4E59BF6C+44]\n",
      "\n"
     ]
    },
    {
     "name": "stderr",
     "output_type": "stream",
     "text": [
      "Updating CommonName:  16%|█▌        | 574/3539 [00:41<05:55,  8.35it/s]"
     ]
    },
    {
     "name": "stdout",
     "output_type": "stream",
     "text": [
      "Failed to get preferred name for ConceptID: 54200006. Error: Message: no such element: Unable to locate element: {\"method\":\"xpath\",\"selector\":\"//th[span[contains(text(), 'Preferred Name')]]/following-sibling::td/p\"}\n",
      "  (Session info: chrome=134.0.6998.118); For documentation on this error, please visit: https://www.selenium.dev/documentation/webdriver/troubleshooting/errors#no-such-element-exception\n",
      "Stacktrace:\n",
      "\tGetHandleVerifier [0x00007FF786DB4C25+3179557]\n",
      "\t(No symbol) [0x00007FF786A188A0]\n",
      "\t(No symbol) [0x00007FF7868A91CA]\n",
      "\t(No symbol) [0x00007FF7868FFA67]\n",
      "\t(No symbol) [0x00007FF7868FFC9C]\n",
      "\t(No symbol) [0x00007FF786953627]\n",
      "\t(No symbol) [0x00007FF786927C6F]\n",
      "\t(No symbol) [0x00007FF7869502F3]\n",
      "\t(No symbol) [0x00007FF786927A03]\n",
      "\t(No symbol) [0x00007FF7868F06D0]\n",
      "\t(No symbol) [0x00007FF7868F1983]\n",
      "\tGetHandleVerifier [0x00007FF786E167CD+3579853]\n",
      "\tGetHandleVerifier [0x00007FF786E2D1D2+3672530]\n",
      "\tGetHandleVerifier [0x00007FF786E22153+3627347]\n",
      "\tGetHandleVerifier [0x00007FF786B8092A+868650]\n",
      "\t(No symbol) [0x00007FF786A22FFF]\n",
      "\t(No symbol) [0x00007FF786A1F4A4]\n",
      "\t(No symbol) [0x00007FF786A1F646]\n",
      "\t(No symbol) [0x00007FF786A0EAA9]\n",
      "\tBaseThreadInitThunk [0x00007FFB4C82E8D7+23]\n",
      "\tRtlUserThreadStart [0x00007FFB4E59BF6C+44]\n",
      "\n"
     ]
    },
    {
     "name": "stderr",
     "output_type": "stream",
     "text": [
      "Updating CommonName:  17%|█▋        | 599/3539 [01:02<18:26,  2.66it/s]"
     ]
    },
    {
     "name": "stdout",
     "output_type": "stream",
     "text": [
      "Failed to get preferred name for ConceptID: 32273002. Error: Message: no such element: Unable to locate element: {\"method\":\"xpath\",\"selector\":\"//th[span[contains(text(), 'Preferred Name')]]/following-sibling::td/p\"}\n",
      "  (Session info: chrome=134.0.6998.118); For documentation on this error, please visit: https://www.selenium.dev/documentation/webdriver/troubleshooting/errors#no-such-element-exception\n",
      "Stacktrace:\n",
      "\tGetHandleVerifier [0x00007FF786DB4C25+3179557]\n",
      "\t(No symbol) [0x00007FF786A188A0]\n",
      "\t(No symbol) [0x00007FF7868A91CA]\n",
      "\t(No symbol) [0x00007FF7868FFA67]\n",
      "\t(No symbol) [0x00007FF7868FFC9C]\n",
      "\t(No symbol) [0x00007FF786953627]\n",
      "\t(No symbol) [0x00007FF786927C6F]\n",
      "\t(No symbol) [0x00007FF7869502F3]\n",
      "\t(No symbol) [0x00007FF786927A03]\n",
      "\t(No symbol) [0x00007FF7868F06D0]\n",
      "\t(No symbol) [0x00007FF7868F1983]\n",
      "\tGetHandleVerifier [0x00007FF786E167CD+3579853]\n",
      "\tGetHandleVerifier [0x00007FF786E2D1D2+3672530]\n",
      "\tGetHandleVerifier [0x00007FF786E22153+3627347]\n",
      "\tGetHandleVerifier [0x00007FF786B8092A+868650]\n",
      "\t(No symbol) [0x00007FF786A22FFF]\n",
      "\t(No symbol) [0x00007FF786A1F4A4]\n",
      "\t(No symbol) [0x00007FF786A1F646]\n",
      "\t(No symbol) [0x00007FF786A0EAA9]\n",
      "\tBaseThreadInitThunk [0x00007FFB4C82E8D7+23]\n",
      "\tRtlUserThreadStart [0x00007FFB4E59BF6C+44]\n",
      "\n"
     ]
    },
    {
     "name": "stderr",
     "output_type": "stream",
     "text": [
      "Updating CommonName:  17%|█▋        | 600/3539 [01:03<20:31,  2.39it/s]"
     ]
    },
    {
     "name": "stdout",
     "output_type": "stream",
     "text": [
      "Failed to get preferred name for ConceptID: 33339001. Error: Message: no such element: Unable to locate element: {\"method\":\"xpath\",\"selector\":\"//th[span[contains(text(), 'Preferred Name')]]/following-sibling::td/p\"}\n",
      "  (Session info: chrome=134.0.6998.118); For documentation on this error, please visit: https://www.selenium.dev/documentation/webdriver/troubleshooting/errors#no-such-element-exception\n",
      "Stacktrace:\n",
      "\tGetHandleVerifier [0x00007FF786DB4C25+3179557]\n",
      "\t(No symbol) [0x00007FF786A188A0]\n",
      "\t(No symbol) [0x00007FF7868A91CA]\n",
      "\t(No symbol) [0x00007FF7868FFA67]\n",
      "\t(No symbol) [0x00007FF7868FFC9C]\n",
      "\t(No symbol) [0x00007FF786953627]\n",
      "\t(No symbol) [0x00007FF786927C6F]\n",
      "\t(No symbol) [0x00007FF7869502F3]\n",
      "\t(No symbol) [0x00007FF786927A03]\n",
      "\t(No symbol) [0x00007FF7868F06D0]\n",
      "\t(No symbol) [0x00007FF7868F1983]\n",
      "\tGetHandleVerifier [0x00007FF786E167CD+3579853]\n",
      "\tGetHandleVerifier [0x00007FF786E2D1D2+3672530]\n",
      "\tGetHandleVerifier [0x00007FF786E22153+3627347]\n",
      "\tGetHandleVerifier [0x00007FF786B8092A+868650]\n",
      "\t(No symbol) [0x00007FF786A22FFF]\n",
      "\t(No symbol) [0x00007FF786A1F4A4]\n",
      "\t(No symbol) [0x00007FF786A1F646]\n",
      "\t(No symbol) [0x00007FF786A0EAA9]\n",
      "\tBaseThreadInitThunk [0x00007FFB4C82E8D7+23]\n",
      "\tRtlUserThreadStart [0x00007FFB4E59BF6C+44]\n",
      "\n"
     ]
    },
    {
     "name": "stderr",
     "output_type": "stream",
     "text": [
      "Updating CommonName:  18%|█▊        | 648/3539 [01:32<25:59,  1.85it/s]"
     ]
    },
    {
     "name": "stdout",
     "output_type": "stream",
     "text": [
      "Failed to get preferred name for ConceptID: 129458007. Error: Message: no such element: Unable to locate element: {\"method\":\"xpath\",\"selector\":\"//th[span[contains(text(), 'Preferred Name')]]/following-sibling::td/p\"}\n",
      "  (Session info: chrome=134.0.6998.118); For documentation on this error, please visit: https://www.selenium.dev/documentation/webdriver/troubleshooting/errors#no-such-element-exception\n",
      "Stacktrace:\n",
      "\tGetHandleVerifier [0x00007FF786DB4C25+3179557]\n",
      "\t(No symbol) [0x00007FF786A188A0]\n",
      "\t(No symbol) [0x00007FF7868A91CA]\n",
      "\t(No symbol) [0x00007FF7868FFA67]\n",
      "\t(No symbol) [0x00007FF7868FFC9C]\n",
      "\t(No symbol) [0x00007FF786953627]\n",
      "\t(No symbol) [0x00007FF786927C6F]\n",
      "\t(No symbol) [0x00007FF7869502F3]\n",
      "\t(No symbol) [0x00007FF786927A03]\n",
      "\t(No symbol) [0x00007FF7868F06D0]\n",
      "\t(No symbol) [0x00007FF7868F1983]\n",
      "\tGetHandleVerifier [0x00007FF786E167CD+3579853]\n",
      "\tGetHandleVerifier [0x00007FF786E2D1D2+3672530]\n",
      "\tGetHandleVerifier [0x00007FF786E22153+3627347]\n",
      "\tGetHandleVerifier [0x00007FF786B8092A+868650]\n",
      "\t(No symbol) [0x00007FF786A22FFF]\n",
      "\t(No symbol) [0x00007FF786A1F4A4]\n",
      "\t(No symbol) [0x00007FF786A1F646]\n",
      "\t(No symbol) [0x00007FF786A0EAA9]\n",
      "\tBaseThreadInitThunk [0x00007FFB4C82E8D7+23]\n",
      "\tRtlUserThreadStart [0x00007FFB4E59BF6C+44]\n",
      "\n"
     ]
    },
    {
     "name": "stderr",
     "output_type": "stream",
     "text": [
      "Updating CommonName:  19%|█▊        | 661/3539 [01:33<18:26,  2.60it/s]"
     ]
    },
    {
     "name": "stdout",
     "output_type": "stream",
     "text": [
      "Failed to get preferred name for ConceptID: 236084000. Error: Message: no such element: Unable to locate element: {\"method\":\"xpath\",\"selector\":\"//th[span[contains(text(), 'Preferred Name')]]/following-sibling::td/p\"}\n",
      "  (Session info: chrome=134.0.6998.118); For documentation on this error, please visit: https://www.selenium.dev/documentation/webdriver/troubleshooting/errors#no-such-element-exception\n",
      "Stacktrace:\n",
      "\tGetHandleVerifier [0x00007FF786DB4C25+3179557]\n",
      "\t(No symbol) [0x00007FF786A188A0]\n",
      "\t(No symbol) [0x00007FF7868A91CA]\n",
      "\t(No symbol) [0x00007FF7868FFA67]\n",
      "\t(No symbol) [0x00007FF7868FFC9C]\n",
      "\t(No symbol) [0x00007FF786953627]\n",
      "\t(No symbol) [0x00007FF786927C6F]\n",
      "\t(No symbol) [0x00007FF7869502F3]\n",
      "\t(No symbol) [0x00007FF786927A03]\n",
      "\t(No symbol) [0x00007FF7868F06D0]\n",
      "\t(No symbol) [0x00007FF7868F1983]\n",
      "\tGetHandleVerifier [0x00007FF786E167CD+3579853]\n",
      "\tGetHandleVerifier [0x00007FF786E2D1D2+3672530]\n",
      "\tGetHandleVerifier [0x00007FF786E22153+3627347]\n",
      "\tGetHandleVerifier [0x00007FF786B8092A+868650]\n",
      "\t(No symbol) [0x00007FF786A22FFF]\n",
      "\t(No symbol) [0x00007FF786A1F4A4]\n",
      "\t(No symbol) [0x00007FF786A1F646]\n",
      "\t(No symbol) [0x00007FF786A0EAA9]\n",
      "\tBaseThreadInitThunk [0x00007FFB4C82E8D7+23]\n",
      "\tRtlUserThreadStart [0x00007FFB4E59BF6C+44]\n",
      "\n"
     ]
    },
    {
     "name": "stderr",
     "output_type": "stream",
     "text": [
      "Updating CommonName:  19%|█▉        | 687/3539 [01:51<24:31,  1.94it/s]"
     ]
    },
    {
     "name": "stdout",
     "output_type": "stream",
     "text": [
      "Failed to get preferred name for ConceptID: 410795001. Error: Message: no such element: Unable to locate element: {\"method\":\"xpath\",\"selector\":\"//th[span[contains(text(), 'Preferred Name')]]/following-sibling::td/p\"}\n",
      "  (Session info: chrome=134.0.6998.118); For documentation on this error, please visit: https://www.selenium.dev/documentation/webdriver/troubleshooting/errors#no-such-element-exception\n",
      "Stacktrace:\n",
      "\tGetHandleVerifier [0x00007FF786DB4C25+3179557]\n",
      "\t(No symbol) [0x00007FF786A188A0]\n",
      "\t(No symbol) [0x00007FF7868A91CA]\n",
      "\t(No symbol) [0x00007FF7868FFA67]\n",
      "\t(No symbol) [0x00007FF7868FFC9C]\n",
      "\t(No symbol) [0x00007FF786953627]\n",
      "\t(No symbol) [0x00007FF786927C6F]\n",
      "\t(No symbol) [0x00007FF7869502F3]\n",
      "\t(No symbol) [0x00007FF786927A03]\n",
      "\t(No symbol) [0x00007FF7868F06D0]\n",
      "\t(No symbol) [0x00007FF7868F1983]\n",
      "\tGetHandleVerifier [0x00007FF786E167CD+3579853]\n",
      "\tGetHandleVerifier [0x00007FF786E2D1D2+3672530]\n",
      "\tGetHandleVerifier [0x00007FF786E22153+3627347]\n",
      "\tGetHandleVerifier [0x00007FF786B8092A+868650]\n",
      "\t(No symbol) [0x00007FF786A22FFF]\n",
      "\t(No symbol) [0x00007FF786A1F4A4]\n",
      "\t(No symbol) [0x00007FF786A1F646]\n",
      "\t(No symbol) [0x00007FF786A0EAA9]\n",
      "\tBaseThreadInitThunk [0x00007FFB4C82E8D7+23]\n",
      "\tRtlUserThreadStart [0x00007FFB4E59BF6C+44]\n",
      "\n"
     ]
    },
    {
     "name": "stderr",
     "output_type": "stream",
     "text": [
      "Updating CommonName:  20%|██        | 713/3539 [02:18<37:13,  1.27it/s]"
     ]
    },
    {
     "name": "stdout",
     "output_type": "stream",
     "text": [
      "Failed to get preferred name for ConceptID: 410795001. Error: Message: no such element: Unable to locate element: {\"method\":\"xpath\",\"selector\":\"//th[span[contains(text(), 'Preferred Name')]]/following-sibling::td/p\"}\n",
      "  (Session info: chrome=134.0.6998.118); For documentation on this error, please visit: https://www.selenium.dev/documentation/webdriver/troubleshooting/errors#no-such-element-exception\n",
      "Stacktrace:\n",
      "\tGetHandleVerifier [0x00007FF786DB4C25+3179557]\n",
      "\t(No symbol) [0x00007FF786A188A0]\n",
      "\t(No symbol) [0x00007FF7868A91CA]\n",
      "\t(No symbol) [0x00007FF7868FFA67]\n",
      "\t(No symbol) [0x00007FF7868FFC9C]\n",
      "\t(No symbol) [0x00007FF786953627]\n",
      "\t(No symbol) [0x00007FF786927C6F]\n",
      "\t(No symbol) [0x00007FF7869502F3]\n",
      "\t(No symbol) [0x00007FF786927A03]\n",
      "\t(No symbol) [0x00007FF7868F06D0]\n",
      "\t(No symbol) [0x00007FF7868F1983]\n",
      "\tGetHandleVerifier [0x00007FF786E167CD+3579853]\n",
      "\tGetHandleVerifier [0x00007FF786E2D1D2+3672530]\n",
      "\tGetHandleVerifier [0x00007FF786E22153+3627347]\n",
      "\tGetHandleVerifier [0x00007FF786B8092A+868650]\n",
      "\t(No symbol) [0x00007FF786A22FFF]\n",
      "\t(No symbol) [0x00007FF786A1F4A4]\n",
      "\t(No symbol) [0x00007FF786A1F646]\n",
      "\t(No symbol) [0x00007FF786A0EAA9]\n",
      "\tBaseThreadInitThunk [0x00007FFB4C82E8D7+23]\n",
      "\tRtlUserThreadStart [0x00007FFB4E59BF6C+44]\n",
      "\n"
     ]
    },
    {
     "name": "stderr",
     "output_type": "stream",
     "text": [
      "Updating CommonName:  21%|██        | 726/3539 [02:45<58:18,  1.24s/it]  "
     ]
    },
    {
     "name": "stdout",
     "output_type": "stream",
     "text": [
      "Failed to get preferred name for ConceptID: 32273002. Error: Message: no such element: Unable to locate element: {\"method\":\"xpath\",\"selector\":\"//th[span[contains(text(), 'Preferred Name')]]/following-sibling::td/p\"}\n",
      "  (Session info: chrome=134.0.6998.118); For documentation on this error, please visit: https://www.selenium.dev/documentation/webdriver/troubleshooting/errors#no-such-element-exception\n",
      "Stacktrace:\n",
      "\tGetHandleVerifier [0x00007FF786DB4C25+3179557]\n",
      "\t(No symbol) [0x00007FF786A188A0]\n",
      "\t(No symbol) [0x00007FF7868A91CA]\n",
      "\t(No symbol) [0x00007FF7868FFA67]\n",
      "\t(No symbol) [0x00007FF7868FFC9C]\n",
      "\t(No symbol) [0x00007FF786953627]\n",
      "\t(No symbol) [0x00007FF786927C6F]\n",
      "\t(No symbol) [0x00007FF7869502F3]\n",
      "\t(No symbol) [0x00007FF786927A03]\n",
      "\t(No symbol) [0x00007FF7868F06D0]\n",
      "\t(No symbol) [0x00007FF7868F1983]\n",
      "\tGetHandleVerifier [0x00007FF786E167CD+3579853]\n",
      "\tGetHandleVerifier [0x00007FF786E2D1D2+3672530]\n",
      "\tGetHandleVerifier [0x00007FF786E22153+3627347]\n",
      "\tGetHandleVerifier [0x00007FF786B8092A+868650]\n",
      "\t(No symbol) [0x00007FF786A22FFF]\n",
      "\t(No symbol) [0x00007FF786A1F4A4]\n",
      "\t(No symbol) [0x00007FF786A1F646]\n",
      "\t(No symbol) [0x00007FF786A0EAA9]\n",
      "\tBaseThreadInitThunk [0x00007FFB4C82E8D7+23]\n",
      "\tRtlUserThreadStart [0x00007FFB4E59BF6C+44]\n",
      "\n"
     ]
    },
    {
     "name": "stderr",
     "output_type": "stream",
     "text": [
      "Updating CommonName:  21%|██        | 738/3539 [02:46<34:58,  1.34it/s]"
     ]
    },
    {
     "name": "stdout",
     "output_type": "stream",
     "text": [
      "Failed to get preferred name for ConceptID: 236084000. Error: Message: no such element: Unable to locate element: {\"method\":\"xpath\",\"selector\":\"//th[span[contains(text(), 'Preferred Name')]]/following-sibling::td/p\"}\n",
      "  (Session info: chrome=134.0.6998.118); For documentation on this error, please visit: https://www.selenium.dev/documentation/webdriver/troubleshooting/errors#no-such-element-exception\n",
      "Stacktrace:\n",
      "\tGetHandleVerifier [0x00007FF786DB4C25+3179557]\n",
      "\t(No symbol) [0x00007FF786A188A0]\n",
      "\t(No symbol) [0x00007FF7868A91CA]\n",
      "\t(No symbol) [0x00007FF7868FFA67]\n",
      "\t(No symbol) [0x00007FF7868FFC9C]\n",
      "\t(No symbol) [0x00007FF786953627]\n",
      "\t(No symbol) [0x00007FF786927C6F]\n",
      "\t(No symbol) [0x00007FF7869502F3]\n",
      "\t(No symbol) [0x00007FF786927A03]\n",
      "\t(No symbol) [0x00007FF7868F06D0]\n",
      "\t(No symbol) [0x00007FF7868F1983]\n",
      "\tGetHandleVerifier [0x00007FF786E167CD+3579853]\n",
      "\tGetHandleVerifier [0x00007FF786E2D1D2+3672530]\n",
      "\tGetHandleVerifier [0x00007FF786E22153+3627347]\n",
      "\tGetHandleVerifier [0x00007FF786B8092A+868650]\n",
      "\t(No symbol) [0x00007FF786A22FFF]\n",
      "\t(No symbol) [0x00007FF786A1F4A4]\n",
      "\t(No symbol) [0x00007FF786A1F646]\n",
      "\t(No symbol) [0x00007FF786A0EAA9]\n",
      "\tBaseThreadInitThunk [0x00007FFB4C82E8D7+23]\n",
      "\tRtlUserThreadStart [0x00007FFB4E59BF6C+44]\n",
      "\n"
     ]
    },
    {
     "name": "stderr",
     "output_type": "stream",
     "text": [
      "Updating CommonName:  21%|██▏       | 755/3539 [03:02<37:16,  1.24it/s]"
     ]
    },
    {
     "name": "stdout",
     "output_type": "stream",
     "text": [
      "Failed to get preferred name for ConceptID: 236084000. Error: Message: no such element: Unable to locate element: {\"method\":\"xpath\",\"selector\":\"//th[span[contains(text(), 'Preferred Name')]]/following-sibling::td/p\"}\n",
      "  (Session info: chrome=134.0.6998.118); For documentation on this error, please visit: https://www.selenium.dev/documentation/webdriver/troubleshooting/errors#no-such-element-exception\n",
      "Stacktrace:\n",
      "\tGetHandleVerifier [0x00007FF786DB4C25+3179557]\n",
      "\t(No symbol) [0x00007FF786A188A0]\n",
      "\t(No symbol) [0x00007FF7868A91CA]\n",
      "\t(No symbol) [0x00007FF7868FFA67]\n",
      "\t(No symbol) [0x00007FF7868FFC9C]\n",
      "\t(No symbol) [0x00007FF786953627]\n",
      "\t(No symbol) [0x00007FF786927C6F]\n",
      "\t(No symbol) [0x00007FF7869502F3]\n",
      "\t(No symbol) [0x00007FF786927A03]\n",
      "\t(No symbol) [0x00007FF7868F06D0]\n",
      "\t(No symbol) [0x00007FF7868F1983]\n",
      "\tGetHandleVerifier [0x00007FF786E167CD+3579853]\n",
      "\tGetHandleVerifier [0x00007FF786E2D1D2+3672530]\n",
      "\tGetHandleVerifier [0x00007FF786E22153+3627347]\n",
      "\tGetHandleVerifier [0x00007FF786B8092A+868650]\n",
      "\t(No symbol) [0x00007FF786A22FFF]\n",
      "\t(No symbol) [0x00007FF786A1F4A4]\n",
      "\t(No symbol) [0x00007FF786A1F646]\n",
      "\t(No symbol) [0x00007FF786A0EAA9]\n",
      "\tBaseThreadInitThunk [0x00007FFB4C82E8D7+23]\n",
      "\tRtlUserThreadStart [0x00007FFB4E59BF6C+44]\n",
      "\n"
     ]
    },
    {
     "name": "stderr",
     "output_type": "stream",
     "text": [
      "Updating CommonName:  23%|██▎       | 801/3539 [03:33<20:12,  2.26it/s]  "
     ]
    },
    {
     "name": "stdout",
     "output_type": "stream",
     "text": [
      "Failed to get preferred name for ConceptID: 19155002. Error: Message: no such element: Unable to locate element: {\"method\":\"xpath\",\"selector\":\"//th[span[contains(text(), 'Preferred Name')]]/following-sibling::td/p\"}\n",
      "  (Session info: chrome=134.0.6998.118); For documentation on this error, please visit: https://www.selenium.dev/documentation/webdriver/troubleshooting/errors#no-such-element-exception\n",
      "Stacktrace:\n",
      "\tGetHandleVerifier [0x00007FF786DB4C25+3179557]\n",
      "\t(No symbol) [0x00007FF786A188A0]\n",
      "\t(No symbol) [0x00007FF7868A91CA]\n",
      "\t(No symbol) [0x00007FF7868FFA67]\n",
      "\t(No symbol) [0x00007FF7868FFC9C]\n",
      "\t(No symbol) [0x00007FF786953627]\n",
      "\t(No symbol) [0x00007FF786927C6F]\n",
      "\t(No symbol) [0x00007FF7869502F3]\n",
      "\t(No symbol) [0x00007FF786927A03]\n",
      "\t(No symbol) [0x00007FF7868F06D0]\n",
      "\t(No symbol) [0x00007FF7868F1983]\n",
      "\tGetHandleVerifier [0x00007FF786E167CD+3579853]\n",
      "\tGetHandleVerifier [0x00007FF786E2D1D2+3672530]\n",
      "\tGetHandleVerifier [0x00007FF786E22153+3627347]\n",
      "\tGetHandleVerifier [0x00007FF786B8092A+868650]\n",
      "\t(No symbol) [0x00007FF786A22FFF]\n",
      "\t(No symbol) [0x00007FF786A1F4A4]\n",
      "\t(No symbol) [0x00007FF786A1F646]\n",
      "\t(No symbol) [0x00007FF786A0EAA9]\n",
      "\tBaseThreadInitThunk [0x00007FFB4C82E8D7+23]\n",
      "\tRtlUserThreadStart [0x00007FFB4E59BF6C+44]\n",
      "\n"
     ]
    },
    {
     "name": "stderr",
     "output_type": "stream",
     "text": [
      "Updating CommonName:  23%|██▎       | 802/3539 [03:34<21:40,  2.10it/s]"
     ]
    },
    {
     "name": "stdout",
     "output_type": "stream",
     "text": [
      "Failed to get preferred name for ConceptID: 69878008. Error: Message: no such element: Unable to locate element: {\"method\":\"xpath\",\"selector\":\"//th[span[contains(text(), 'Preferred Name')]]/following-sibling::td/p\"}\n",
      "  (Session info: chrome=134.0.6998.118); For documentation on this error, please visit: https://www.selenium.dev/documentation/webdriver/troubleshooting/errors#no-such-element-exception\n",
      "Stacktrace:\n",
      "\tGetHandleVerifier [0x00007FF786DB4C25+3179557]\n",
      "\t(No symbol) [0x00007FF786A188A0]\n",
      "\t(No symbol) [0x00007FF7868A91CA]\n",
      "\t(No symbol) [0x00007FF7868FFA67]\n",
      "\t(No symbol) [0x00007FF7868FFC9C]\n",
      "\t(No symbol) [0x00007FF786953627]\n",
      "\t(No symbol) [0x00007FF786927C6F]\n",
      "\t(No symbol) [0x00007FF7869502F3]\n",
      "\t(No symbol) [0x00007FF786927A03]\n",
      "\t(No symbol) [0x00007FF7868F06D0]\n",
      "\t(No symbol) [0x00007FF7868F1983]\n",
      "\tGetHandleVerifier [0x00007FF786E167CD+3579853]\n",
      "\tGetHandleVerifier [0x00007FF786E2D1D2+3672530]\n",
      "\tGetHandleVerifier [0x00007FF786E22153+3627347]\n",
      "\tGetHandleVerifier [0x00007FF786B8092A+868650]\n",
      "\t(No symbol) [0x00007FF786A22FFF]\n",
      "\t(No symbol) [0x00007FF786A1F4A4]\n",
      "\t(No symbol) [0x00007FF786A1F646]\n",
      "\t(No symbol) [0x00007FF786A0EAA9]\n",
      "\tBaseThreadInitThunk [0x00007FFB4C82E8D7+23]\n",
      "\tRtlUserThreadStart [0x00007FFB4E59BF6C+44]\n",
      "\n"
     ]
    },
    {
     "name": "stderr",
     "output_type": "stream",
     "text": [
      "Updating CommonName:  23%|██▎       | 805/3539 [03:36<21:11,  2.15it/s]"
     ]
    },
    {
     "name": "stdout",
     "output_type": "stream",
     "text": [
      "Failed to get preferred name for ConceptID: 170951000. Error: Message: no such element: Unable to locate element: {\"method\":\"xpath\",\"selector\":\"//th[span[contains(text(), 'Preferred Name')]]/following-sibling::td/p\"}\n",
      "  (Session info: chrome=134.0.6998.118); For documentation on this error, please visit: https://www.selenium.dev/documentation/webdriver/troubleshooting/errors#no-such-element-exception\n",
      "Stacktrace:\n",
      "\tGetHandleVerifier [0x00007FF786DB4C25+3179557]\n",
      "\t(No symbol) [0x00007FF786A188A0]\n",
      "\t(No symbol) [0x00007FF7868A91CA]\n",
      "\t(No symbol) [0x00007FF7868FFA67]\n",
      "\t(No symbol) [0x00007FF7868FFC9C]\n",
      "\t(No symbol) [0x00007FF786953627]\n",
      "\t(No symbol) [0x00007FF786927C6F]\n",
      "\t(No symbol) [0x00007FF7869502F3]\n",
      "\t(No symbol) [0x00007FF786927A03]\n",
      "\t(No symbol) [0x00007FF7868F06D0]\n",
      "\t(No symbol) [0x00007FF7868F1983]\n",
      "\tGetHandleVerifier [0x00007FF786E167CD+3579853]\n",
      "\tGetHandleVerifier [0x00007FF786E2D1D2+3672530]\n",
      "\tGetHandleVerifier [0x00007FF786E22153+3627347]\n",
      "\tGetHandleVerifier [0x00007FF786B8092A+868650]\n",
      "\t(No symbol) [0x00007FF786A22FFF]\n",
      "\t(No symbol) [0x00007FF786A1F4A4]\n",
      "\t(No symbol) [0x00007FF786A1F646]\n",
      "\t(No symbol) [0x00007FF786A0EAA9]\n",
      "\tBaseThreadInitThunk [0x00007FFB4C82E8D7+23]\n",
      "\tRtlUserThreadStart [0x00007FFB4E59BF6C+44]\n",
      "\n"
     ]
    },
    {
     "name": "stderr",
     "output_type": "stream",
     "text": [
      "Updating CommonName:  24%|██▍       | 852/3539 [05:07<1:12:00,  1.61s/it]"
     ]
    },
    {
     "name": "stdout",
     "output_type": "stream",
     "text": [
      "Failed to get preferred name for ConceptID: 24700007. Error: Message: no such element: Unable to locate element: {\"method\":\"xpath\",\"selector\":\"//th[span[contains(text(), 'Preferred Name')]]/following-sibling::td/p\"}\n",
      "  (Session info: chrome=134.0.6998.118); For documentation on this error, please visit: https://www.selenium.dev/documentation/webdriver/troubleshooting/errors#no-such-element-exception\n",
      "Stacktrace:\n",
      "\tGetHandleVerifier [0x00007FF786DB4C25+3179557]\n",
      "\t(No symbol) [0x00007FF786A188A0]\n",
      "\t(No symbol) [0x00007FF7868A91CA]\n",
      "\t(No symbol) [0x00007FF7868FFA67]\n",
      "\t(No symbol) [0x00007FF7868FFC9C]\n",
      "\t(No symbol) [0x00007FF786953627]\n",
      "\t(No symbol) [0x00007FF786927C6F]\n",
      "\t(No symbol) [0x00007FF7869502F3]\n",
      "\t(No symbol) [0x00007FF786927A03]\n",
      "\t(No symbol) [0x00007FF7868F06D0]\n",
      "\t(No symbol) [0x00007FF7868F1983]\n",
      "\tGetHandleVerifier [0x00007FF786E167CD+3579853]\n",
      "\tGetHandleVerifier [0x00007FF786E2D1D2+3672530]\n",
      "\tGetHandleVerifier [0x00007FF786E22153+3627347]\n",
      "\tGetHandleVerifier [0x00007FF786B8092A+868650]\n",
      "\t(No symbol) [0x00007FF786A22FFF]\n",
      "\t(No symbol) [0x00007FF786A1F4A4]\n",
      "\t(No symbol) [0x00007FF786A1F646]\n",
      "\t(No symbol) [0x00007FF786A0EAA9]\n",
      "\tBaseThreadInitThunk [0x00007FFB4C82E8D7+23]\n",
      "\tRtlUserThreadStart [0x00007FFB4E59BF6C+44]\n",
      "\n"
     ]
    },
    {
     "name": "stderr",
     "output_type": "stream",
     "text": [
      "Updating CommonName:  24%|██▍       | 853/3539 [05:08<1:11:34,  1.60s/it]"
     ]
    },
    {
     "name": "stdout",
     "output_type": "stream",
     "text": [
      "Failed to get preferred name for ConceptID: 32273002. Error: Message: no such element: Unable to locate element: {\"method\":\"xpath\",\"selector\":\"//th[span[contains(text(), 'Preferred Name')]]/following-sibling::td/p\"}\n",
      "  (Session info: chrome=134.0.6998.118); For documentation on this error, please visit: https://www.selenium.dev/documentation/webdriver/troubleshooting/errors#no-such-element-exception\n",
      "Stacktrace:\n",
      "\tGetHandleVerifier [0x00007FF786DB4C25+3179557]\n",
      "\t(No symbol) [0x00007FF786A188A0]\n",
      "\t(No symbol) [0x00007FF7868A91CA]\n",
      "\t(No symbol) [0x00007FF7868FFA67]\n",
      "\t(No symbol) [0x00007FF7868FFC9C]\n",
      "\t(No symbol) [0x00007FF786953627]\n",
      "\t(No symbol) [0x00007FF786927C6F]\n",
      "\t(No symbol) [0x00007FF7869502F3]\n",
      "\t(No symbol) [0x00007FF786927A03]\n",
      "\t(No symbol) [0x00007FF7868F06D0]\n",
      "\t(No symbol) [0x00007FF7868F1983]\n",
      "\tGetHandleVerifier [0x00007FF786E167CD+3579853]\n",
      "\tGetHandleVerifier [0x00007FF786E2D1D2+3672530]\n",
      "\tGetHandleVerifier [0x00007FF786E22153+3627347]\n",
      "\tGetHandleVerifier [0x00007FF786B8092A+868650]\n",
      "\t(No symbol) [0x00007FF786A22FFF]\n",
      "\t(No symbol) [0x00007FF786A1F4A4]\n",
      "\t(No symbol) [0x00007FF786A1F646]\n",
      "\t(No symbol) [0x00007FF786A0EAA9]\n",
      "\tBaseThreadInitThunk [0x00007FFB4C82E8D7+23]\n",
      "\tRtlUserThreadStart [0x00007FFB4E59BF6C+44]\n",
      "\n"
     ]
    },
    {
     "name": "stderr",
     "output_type": "stream",
     "text": [
      "Updating CommonName:  25%|██▌       | 896/3539 [11:10<4:57:28,  6.75s/it] "
     ]
    },
    {
     "name": "stdout",
     "output_type": "stream",
     "text": [
      "Failed to get preferred name for ConceptID: 231450007. Error: Message: no such element: Unable to locate element: {\"method\":\"xpath\",\"selector\":\"//th[span[contains(text(), 'Preferred Name')]]/following-sibling::td/p\"}\n",
      "  (Session info: chrome=134.0.6998.118); For documentation on this error, please visit: https://www.selenium.dev/documentation/webdriver/troubleshooting/errors#no-such-element-exception\n",
      "Stacktrace:\n",
      "\tGetHandleVerifier [0x00007FF786DB4C25+3179557]\n",
      "\t(No symbol) [0x00007FF786A188A0]\n",
      "\t(No symbol) [0x00007FF7868A91CA]\n",
      "\t(No symbol) [0x00007FF7868FFA67]\n",
      "\t(No symbol) [0x00007FF7868FFC9C]\n",
      "\t(No symbol) [0x00007FF786953627]\n",
      "\t(No symbol) [0x00007FF786927C6F]\n",
      "\t(No symbol) [0x00007FF7869502F3]\n",
      "\t(No symbol) [0x00007FF786927A03]\n",
      "\t(No symbol) [0x00007FF7868F06D0]\n",
      "\t(No symbol) [0x00007FF7868F1983]\n",
      "\tGetHandleVerifier [0x00007FF786E167CD+3579853]\n",
      "\tGetHandleVerifier [0x00007FF786E2D1D2+3672530]\n",
      "\tGetHandleVerifier [0x00007FF786E22153+3627347]\n",
      "\tGetHandleVerifier [0x00007FF786B8092A+868650]\n",
      "\t(No symbol) [0x00007FF786A22FFF]\n",
      "\t(No symbol) [0x00007FF786A1F4A4]\n",
      "\t(No symbol) [0x00007FF786A1F646]\n",
      "\t(No symbol) [0x00007FF786A0EAA9]\n",
      "\tBaseThreadInitThunk [0x00007FFB4C82E8D7+23]\n",
      "\tRtlUserThreadStart [0x00007FFB4E59BF6C+44]\n",
      "\n"
     ]
    },
    {
     "name": "stderr",
     "output_type": "stream",
     "text": [
      "Updating CommonName:  26%|██▌       | 919/3539 [14:49<3:25:26,  4.70s/it] "
     ]
    },
    {
     "name": "stdout",
     "output_type": "stream",
     "text": [
      "Failed to get preferred name for ConceptID: 254937005. Error: Message: no such element: Unable to locate element: {\"method\":\"xpath\",\"selector\":\"//th[span[contains(text(), 'Preferred Name')]]/following-sibling::td/p\"}\n",
      "  (Session info: chrome=134.0.6998.118); For documentation on this error, please visit: https://www.selenium.dev/documentation/webdriver/troubleshooting/errors#no-such-element-exception\n",
      "Stacktrace:\n",
      "\tGetHandleVerifier [0x00007FF786DB4C25+3179557]\n",
      "\t(No symbol) [0x00007FF786A188A0]\n",
      "\t(No symbol) [0x00007FF7868A91CA]\n",
      "\t(No symbol) [0x00007FF7868FFA67]\n",
      "\t(No symbol) [0x00007FF7868FFC9C]\n",
      "\t(No symbol) [0x00007FF786953627]\n",
      "\t(No symbol) [0x00007FF786927C6F]\n",
      "\t(No symbol) [0x00007FF7869502F3]\n",
      "\t(No symbol) [0x00007FF786927A03]\n",
      "\t(No symbol) [0x00007FF7868F06D0]\n",
      "\t(No symbol) [0x00007FF7868F1983]\n",
      "\tGetHandleVerifier [0x00007FF786E167CD+3579853]\n",
      "\tGetHandleVerifier [0x00007FF786E2D1D2+3672530]\n",
      "\tGetHandleVerifier [0x00007FF786E22153+3627347]\n",
      "\tGetHandleVerifier [0x00007FF786B8092A+868650]\n",
      "\t(No symbol) [0x00007FF786A22FFF]\n",
      "\t(No symbol) [0x00007FF786A1F4A4]\n",
      "\t(No symbol) [0x00007FF786A1F646]\n",
      "\t(No symbol) [0x00007FF786A0EAA9]\n",
      "\tBaseThreadInitThunk [0x00007FFB4C82E8D7+23]\n",
      "\tRtlUserThreadStart [0x00007FFB4E59BF6C+44]\n",
      "\n"
     ]
    },
    {
     "name": "stderr",
     "output_type": "stream",
     "text": [
      "Updating CommonName:  26%|██▌       | 921/3539 [15:04<3:45:45,  5.17s/it]"
     ]
    },
    {
     "name": "stdout",
     "output_type": "stream",
     "text": [
      "Failed to get preferred name for ConceptID: 255046005. Error: Message: no such element: Unable to locate element: {\"method\":\"xpath\",\"selector\":\"//th[span[contains(text(), 'Preferred Name')]]/following-sibling::td/p\"}\n",
      "  (Session info: chrome=134.0.6998.118); For documentation on this error, please visit: https://www.selenium.dev/documentation/webdriver/troubleshooting/errors#no-such-element-exception\n",
      "Stacktrace:\n",
      "\tGetHandleVerifier [0x00007FF786DB4C25+3179557]\n",
      "\t(No symbol) [0x00007FF786A188A0]\n",
      "\t(No symbol) [0x00007FF7868A91CA]\n",
      "\t(No symbol) [0x00007FF7868FFA67]\n",
      "\t(No symbol) [0x00007FF7868FFC9C]\n",
      "\t(No symbol) [0x00007FF786953627]\n",
      "\t(No symbol) [0x00007FF786927C6F]\n",
      "\t(No symbol) [0x00007FF7869502F3]\n",
      "\t(No symbol) [0x00007FF786927A03]\n",
      "\t(No symbol) [0x00007FF7868F06D0]\n",
      "\t(No symbol) [0x00007FF7868F1983]\n",
      "\tGetHandleVerifier [0x00007FF786E167CD+3579853]\n",
      "\tGetHandleVerifier [0x00007FF786E2D1D2+3672530]\n",
      "\tGetHandleVerifier [0x00007FF786E22153+3627347]\n",
      "\tGetHandleVerifier [0x00007FF786B8092A+868650]\n",
      "\t(No symbol) [0x00007FF786A22FFF]\n",
      "\t(No symbol) [0x00007FF786A1F4A4]\n",
      "\t(No symbol) [0x00007FF786A1F646]\n",
      "\t(No symbol) [0x00007FF786A0EAA9]\n",
      "\tBaseThreadInitThunk [0x00007FFB4C82E8D7+23]\n",
      "\tRtlUserThreadStart [0x00007FFB4E59BF6C+44]\n",
      "\n"
     ]
    },
    {
     "name": "stderr",
     "output_type": "stream",
     "text": [
      "Updating CommonName:  26%|██▌       | 925/3539 [15:56<6:06:03,  8.40s/it]"
     ]
    },
    {
     "name": "stdout",
     "output_type": "stream",
     "text": [
      "Failed to get preferred name for ConceptID: 302817000. Error: Message: no such element: Unable to locate element: {\"method\":\"xpath\",\"selector\":\"//th[span[contains(text(), 'Preferred Name')]]/following-sibling::td/p\"}\n",
      "  (Session info: chrome=134.0.6998.118); For documentation on this error, please visit: https://www.selenium.dev/documentation/webdriver/troubleshooting/errors#no-such-element-exception\n",
      "Stacktrace:\n",
      "\tGetHandleVerifier [0x00007FF786DB4C25+3179557]\n",
      "\t(No symbol) [0x00007FF786A188A0]\n",
      "\t(No symbol) [0x00007FF7868A91CA]\n",
      "\t(No symbol) [0x00007FF7868FFA67]\n",
      "\t(No symbol) [0x00007FF7868FFC9C]\n",
      "\t(No symbol) [0x00007FF786953627]\n",
      "\t(No symbol) [0x00007FF786927C6F]\n",
      "\t(No symbol) [0x00007FF7869502F3]\n",
      "\t(No symbol) [0x00007FF786927A03]\n",
      "\t(No symbol) [0x00007FF7868F06D0]\n",
      "\t(No symbol) [0x00007FF7868F1983]\n",
      "\tGetHandleVerifier [0x00007FF786E167CD+3579853]\n",
      "\tGetHandleVerifier [0x00007FF786E2D1D2+3672530]\n",
      "\tGetHandleVerifier [0x00007FF786E22153+3627347]\n",
      "\tGetHandleVerifier [0x00007FF786B8092A+868650]\n",
      "\t(No symbol) [0x00007FF786A22FFF]\n",
      "\t(No symbol) [0x00007FF786A1F4A4]\n",
      "\t(No symbol) [0x00007FF786A1F646]\n",
      "\t(No symbol) [0x00007FF786A0EAA9]\n",
      "\tBaseThreadInitThunk [0x00007FFB4C82E8D7+23]\n",
      "\tRtlUserThreadStart [0x00007FFB4E59BF6C+44]\n",
      "\n"
     ]
    },
    {
     "name": "stderr",
     "output_type": "stream",
     "text": [
      "Updating CommonName:  27%|██▋       | 959/3539 [20:35<6:37:54,  9.25s/it] "
     ]
    },
    {
     "name": "stdout",
     "output_type": "stream",
     "text": [
      "Failed to get preferred name for ConceptID: 255046005. Error: Message: no such element: Unable to locate element: {\"method\":\"xpath\",\"selector\":\"//th[span[contains(text(), 'Preferred Name')]]/following-sibling::td/p\"}\n",
      "  (Session info: chrome=134.0.6998.118); For documentation on this error, please visit: https://www.selenium.dev/documentation/webdriver/troubleshooting/errors#no-such-element-exception\n",
      "Stacktrace:\n",
      "\tGetHandleVerifier [0x00007FF786DB4C25+3179557]\n",
      "\t(No symbol) [0x00007FF786A188A0]\n",
      "\t(No symbol) [0x00007FF7868A91CA]\n",
      "\t(No symbol) [0x00007FF7868FFA67]\n",
      "\t(No symbol) [0x00007FF7868FFC9C]\n",
      "\t(No symbol) [0x00007FF786953627]\n",
      "\t(No symbol) [0x00007FF786927C6F]\n",
      "\t(No symbol) [0x00007FF7869502F3]\n",
      "\t(No symbol) [0x00007FF786927A03]\n",
      "\t(No symbol) [0x00007FF7868F06D0]\n",
      "\t(No symbol) [0x00007FF7868F1983]\n",
      "\tGetHandleVerifier [0x00007FF786E167CD+3579853]\n",
      "\tGetHandleVerifier [0x00007FF786E2D1D2+3672530]\n",
      "\tGetHandleVerifier [0x00007FF786E22153+3627347]\n",
      "\tGetHandleVerifier [0x00007FF786B8092A+868650]\n",
      "\t(No symbol) [0x00007FF786A22FFF]\n",
      "\t(No symbol) [0x00007FF786A1F4A4]\n",
      "\t(No symbol) [0x00007FF786A1F646]\n",
      "\t(No symbol) [0x00007FF786A0EAA9]\n",
      "\tBaseThreadInitThunk [0x00007FFB4C82E8D7+23]\n",
      "\tRtlUserThreadStart [0x00007FFB4E59BF6C+44]\n",
      "\n"
     ]
    },
    {
     "name": "stderr",
     "output_type": "stream",
     "text": [
      "Updating CommonName:  28%|██▊       | 988/3539 [23:24<2:38:11,  3.72s/it]"
     ]
    },
    {
     "name": "stdout",
     "output_type": "stream",
     "text": [
      "Failed to get preferred name for ConceptID: 19155002. Error: Message: no such element: Unable to locate element: {\"method\":\"xpath\",\"selector\":\"//th[span[contains(text(), 'Preferred Name')]]/following-sibling::td/p\"}\n",
      "  (Session info: chrome=134.0.6998.118); For documentation on this error, please visit: https://www.selenium.dev/documentation/webdriver/troubleshooting/errors#no-such-element-exception\n",
      "Stacktrace:\n",
      "\tGetHandleVerifier [0x00007FF786DB4C25+3179557]\n",
      "\t(No symbol) [0x00007FF786A188A0]\n",
      "\t(No symbol) [0x00007FF7868A91CA]\n",
      "\t(No symbol) [0x00007FF7868FFA67]\n",
      "\t(No symbol) [0x00007FF7868FFC9C]\n",
      "\t(No symbol) [0x00007FF786953627]\n",
      "\t(No symbol) [0x00007FF786927C6F]\n",
      "\t(No symbol) [0x00007FF7869502F3]\n",
      "\t(No symbol) [0x00007FF786927A03]\n",
      "\t(No symbol) [0x00007FF7868F06D0]\n",
      "\t(No symbol) [0x00007FF7868F1983]\n",
      "\tGetHandleVerifier [0x00007FF786E167CD+3579853]\n",
      "\tGetHandleVerifier [0x00007FF786E2D1D2+3672530]\n",
      "\tGetHandleVerifier [0x00007FF786E22153+3627347]\n",
      "\tGetHandleVerifier [0x00007FF786B8092A+868650]\n",
      "\t(No symbol) [0x00007FF786A22FFF]\n",
      "\t(No symbol) [0x00007FF786A1F4A4]\n",
      "\t(No symbol) [0x00007FF786A1F646]\n",
      "\t(No symbol) [0x00007FF786A0EAA9]\n",
      "\tBaseThreadInitThunk [0x00007FFB4C82E8D7+23]\n",
      "\tRtlUserThreadStart [0x00007FFB4E59BF6C+44]\n",
      "\n"
     ]
    },
    {
     "name": "stderr",
     "output_type": "stream",
     "text": [
      "Updating CommonName:  28%|██▊       | 994/3539 [24:07<3:21:06,  4.74s/it]"
     ]
    },
    {
     "name": "stdout",
     "output_type": "stream",
     "text": [
      "Failed to get preferred name for ConceptID: 170951000. Error: Message: no such element: Unable to locate element: {\"method\":\"xpath\",\"selector\":\"//th[span[contains(text(), 'Preferred Name')]]/following-sibling::td/p\"}\n",
      "  (Session info: chrome=134.0.6998.118); For documentation on this error, please visit: https://www.selenium.dev/documentation/webdriver/troubleshooting/errors#no-such-element-exception\n",
      "Stacktrace:\n",
      "\tGetHandleVerifier [0x00007FF786DB4C25+3179557]\n",
      "\t(No symbol) [0x00007FF786A188A0]\n",
      "\t(No symbol) [0x00007FF7868A91CA]\n",
      "\t(No symbol) [0x00007FF7868FFA67]\n",
      "\t(No symbol) [0x00007FF7868FFC9C]\n",
      "\t(No symbol) [0x00007FF786953627]\n",
      "\t(No symbol) [0x00007FF786927C6F]\n",
      "\t(No symbol) [0x00007FF7869502F3]\n",
      "\t(No symbol) [0x00007FF786927A03]\n",
      "\t(No symbol) [0x00007FF7868F06D0]\n",
      "\t(No symbol) [0x00007FF7868F1983]\n",
      "\tGetHandleVerifier [0x00007FF786E167CD+3579853]\n",
      "\tGetHandleVerifier [0x00007FF786E2D1D2+3672530]\n",
      "\tGetHandleVerifier [0x00007FF786E22153+3627347]\n",
      "\tGetHandleVerifier [0x00007FF786B8092A+868650]\n",
      "\t(No symbol) [0x00007FF786A22FFF]\n",
      "\t(No symbol) [0x00007FF786A1F4A4]\n",
      "\t(No symbol) [0x00007FF786A1F646]\n",
      "\t(No symbol) [0x00007FF786A0EAA9]\n",
      "\tBaseThreadInitThunk [0x00007FFB4C82E8D7+23]\n",
      "\tRtlUserThreadStart [0x00007FFB4E59BF6C+44]\n",
      "\n"
     ]
    },
    {
     "name": "stderr",
     "output_type": "stream",
     "text": [
      "Updating CommonName:  28%|██▊       | 998/3539 [24:17<2:29:07,  3.52s/it]"
     ]
    },
    {
     "name": "stdout",
     "output_type": "stream",
     "text": [
      "Failed to get preferred name for ConceptID: 315004001. Error: Message: no such element: Unable to locate element: {\"method\":\"xpath\",\"selector\":\"//th[span[contains(text(), 'Preferred Name')]]/following-sibling::td/p\"}\n",
      "  (Session info: chrome=134.0.6998.118); For documentation on this error, please visit: https://www.selenium.dev/documentation/webdriver/troubleshooting/errors#no-such-element-exception\n",
      "Stacktrace:\n",
      "\tGetHandleVerifier [0x00007FF786DB4C25+3179557]\n",
      "\t(No symbol) [0x00007FF786A188A0]\n",
      "\t(No symbol) [0x00007FF7868A91CA]\n",
      "\t(No symbol) [0x00007FF7868FFA67]\n",
      "\t(No symbol) [0x00007FF7868FFC9C]\n",
      "\t(No symbol) [0x00007FF786953627]\n",
      "\t(No symbol) [0x00007FF786927C6F]\n",
      "\t(No symbol) [0x00007FF7869502F3]\n",
      "\t(No symbol) [0x00007FF786927A03]\n",
      "\t(No symbol) [0x00007FF7868F06D0]\n",
      "\t(No symbol) [0x00007FF7868F1983]\n",
      "\tGetHandleVerifier [0x00007FF786E167CD+3579853]\n",
      "\tGetHandleVerifier [0x00007FF786E2D1D2+3672530]\n",
      "\tGetHandleVerifier [0x00007FF786E22153+3627347]\n",
      "\tGetHandleVerifier [0x00007FF786B8092A+868650]\n",
      "\t(No symbol) [0x00007FF786A22FFF]\n",
      "\t(No symbol) [0x00007FF786A1F4A4]\n",
      "\t(No symbol) [0x00007FF786A1F646]\n",
      "\t(No symbol) [0x00007FF786A0EAA9]\n",
      "\tBaseThreadInitThunk [0x00007FFB4C82E8D7+23]\n",
      "\tRtlUserThreadStart [0x00007FFB4E59BF6C+44]\n",
      "\n"
     ]
    },
    {
     "name": "stderr",
     "output_type": "stream",
     "text": [
      "Updating CommonName:  28%|██▊       | 1008/3539 [24:50<2:02:27,  2.90s/it]"
     ]
    },
    {
     "name": "stdout",
     "output_type": "stream",
     "text": [
      "Failed to get preferred name for ConceptID: 19155002. Error: Message: no such element: Unable to locate element: {\"method\":\"xpath\",\"selector\":\"//th[span[contains(text(), 'Preferred Name')]]/following-sibling::td/p\"}\n",
      "  (Session info: chrome=134.0.6998.118); For documentation on this error, please visit: https://www.selenium.dev/documentation/webdriver/troubleshooting/errors#no-such-element-exception\n",
      "Stacktrace:\n",
      "\tGetHandleVerifier [0x00007FF786DB4C25+3179557]\n",
      "\t(No symbol) [0x00007FF786A188A0]\n",
      "\t(No symbol) [0x00007FF7868A91CA]\n",
      "\t(No symbol) [0x00007FF7868FFA67]\n",
      "\t(No symbol) [0x00007FF7868FFC9C]\n",
      "\t(No symbol) [0x00007FF786953627]\n",
      "\t(No symbol) [0x00007FF786927C6F]\n",
      "\t(No symbol) [0x00007FF7869502F3]\n",
      "\t(No symbol) [0x00007FF786927A03]\n",
      "\t(No symbol) [0x00007FF7868F06D0]\n",
      "\t(No symbol) [0x00007FF7868F1983]\n",
      "\tGetHandleVerifier [0x00007FF786E167CD+3579853]\n",
      "\tGetHandleVerifier [0x00007FF786E2D1D2+3672530]\n",
      "\tGetHandleVerifier [0x00007FF786E22153+3627347]\n",
      "\tGetHandleVerifier [0x00007FF786B8092A+868650]\n",
      "\t(No symbol) [0x00007FF786A22FFF]\n",
      "\t(No symbol) [0x00007FF786A1F4A4]\n",
      "\t(No symbol) [0x00007FF786A1F646]\n",
      "\t(No symbol) [0x00007FF786A0EAA9]\n",
      "\tBaseThreadInitThunk [0x00007FFB4C82E8D7+23]\n",
      "\tRtlUserThreadStart [0x00007FFB4E59BF6C+44]\n",
      "\n"
     ]
    },
    {
     "name": "stderr",
     "output_type": "stream",
     "text": [
      "Updating CommonName:  29%|██▉       | 1027/3539 [27:53<5:14:24,  7.51s/it]"
     ]
    },
    {
     "name": "stdout",
     "output_type": "stream",
     "text": [
      "Failed to get preferred name for ConceptID: 427481004. Error: Message: no such element: Unable to locate element: {\"method\":\"xpath\",\"selector\":\"//th[span[contains(text(), 'Preferred Name')]]/following-sibling::td/p\"}\n",
      "  (Session info: chrome=134.0.6998.118); For documentation on this error, please visit: https://www.selenium.dev/documentation/webdriver/troubleshooting/errors#no-such-element-exception\n",
      "Stacktrace:\n",
      "\tGetHandleVerifier [0x00007FF786DB4C25+3179557]\n",
      "\t(No symbol) [0x00007FF786A188A0]\n",
      "\t(No symbol) [0x00007FF7868A91CA]\n",
      "\t(No symbol) [0x00007FF7868FFA67]\n",
      "\t(No symbol) [0x00007FF7868FFC9C]\n",
      "\t(No symbol) [0x00007FF786953627]\n",
      "\t(No symbol) [0x00007FF786927C6F]\n",
      "\t(No symbol) [0x00007FF7869502F3]\n",
      "\t(No symbol) [0x00007FF786927A03]\n",
      "\t(No symbol) [0x00007FF7868F06D0]\n",
      "\t(No symbol) [0x00007FF7868F1983]\n",
      "\tGetHandleVerifier [0x00007FF786E167CD+3579853]\n",
      "\tGetHandleVerifier [0x00007FF786E2D1D2+3672530]\n",
      "\tGetHandleVerifier [0x00007FF786E22153+3627347]\n",
      "\tGetHandleVerifier [0x00007FF786B8092A+868650]\n",
      "\t(No symbol) [0x00007FF786A22FFF]\n",
      "\t(No symbol) [0x00007FF786A1F4A4]\n",
      "\t(No symbol) [0x00007FF786A1F646]\n",
      "\t(No symbol) [0x00007FF786A0EAA9]\n",
      "\tBaseThreadInitThunk [0x00007FFB4C82E8D7+23]\n",
      "\tRtlUserThreadStart [0x00007FFB4E59BF6C+44]\n",
      "\n"
     ]
    },
    {
     "name": "stderr",
     "output_type": "stream",
     "text": [
      "Updating CommonName:  29%|██▉       | 1029/3539 [28:14<5:31:11,  7.92s/it]"
     ]
    },
    {
     "name": "stdout",
     "output_type": "stream",
     "text": [
      "Failed to get preferred name for ConceptID: 37356005. Error: Message: no such element: Unable to locate element: {\"method\":\"xpath\",\"selector\":\"//th[span[contains(text(), 'Preferred Name')]]/following-sibling::td/p\"}\n",
      "  (Session info: chrome=134.0.6998.118); For documentation on this error, please visit: https://www.selenium.dev/documentation/webdriver/troubleshooting/errors#no-such-element-exception\n",
      "Stacktrace:\n",
      "\tGetHandleVerifier [0x00007FF786DB4C25+3179557]\n",
      "\t(No symbol) [0x00007FF786A188A0]\n",
      "\t(No symbol) [0x00007FF7868A91CA]\n",
      "\t(No symbol) [0x00007FF7868FFA67]\n",
      "\t(No symbol) [0x00007FF7868FFC9C]\n",
      "\t(No symbol) [0x00007FF786953627]\n",
      "\t(No symbol) [0x00007FF786927C6F]\n",
      "\t(No symbol) [0x00007FF7869502F3]\n",
      "\t(No symbol) [0x00007FF786927A03]\n",
      "\t(No symbol) [0x00007FF7868F06D0]\n",
      "\t(No symbol) [0x00007FF7868F1983]\n",
      "\tGetHandleVerifier [0x00007FF786E167CD+3579853]\n",
      "\tGetHandleVerifier [0x00007FF786E2D1D2+3672530]\n",
      "\tGetHandleVerifier [0x00007FF786E22153+3627347]\n",
      "\tGetHandleVerifier [0x00007FF786B8092A+868650]\n",
      "\t(No symbol) [0x00007FF786A22FFF]\n",
      "\t(No symbol) [0x00007FF786A1F4A4]\n",
      "\t(No symbol) [0x00007FF786A1F646]\n",
      "\t(No symbol) [0x00007FF786A0EAA9]\n",
      "\tBaseThreadInitThunk [0x00007FFB4C82E8D7+23]\n",
      "\tRtlUserThreadStart [0x00007FFB4E59BF6C+44]\n",
      "\n"
     ]
    },
    {
     "name": "stderr",
     "output_type": "stream",
     "text": [
      "Updating CommonName:  31%|███       | 1104/3539 [35:15<2:15:51,  3.35s/it] "
     ]
    },
    {
     "name": "stdout",
     "output_type": "stream",
     "text": [
      "Failed to get preferred name for ConceptID: 410793008. Error: Message: no such element: Unable to locate element: {\"method\":\"xpath\",\"selector\":\"//th[span[contains(text(), 'Preferred Name')]]/following-sibling::td/p\"}\n",
      "  (Session info: chrome=134.0.6998.118); For documentation on this error, please visit: https://www.selenium.dev/documentation/webdriver/troubleshooting/errors#no-such-element-exception\n",
      "Stacktrace:\n",
      "\tGetHandleVerifier [0x00007FF786DB4C25+3179557]\n",
      "\t(No symbol) [0x00007FF786A188A0]\n",
      "\t(No symbol) [0x00007FF7868A91CA]\n",
      "\t(No symbol) [0x00007FF7868FFA67]\n",
      "\t(No symbol) [0x00007FF7868FFC9C]\n",
      "\t(No symbol) [0x00007FF786953627]\n",
      "\t(No symbol) [0x00007FF786927C6F]\n",
      "\t(No symbol) [0x00007FF7869502F3]\n",
      "\t(No symbol) [0x00007FF786927A03]\n",
      "\t(No symbol) [0x00007FF7868F06D0]\n",
      "\t(No symbol) [0x00007FF7868F1983]\n",
      "\tGetHandleVerifier [0x00007FF786E167CD+3579853]\n",
      "\tGetHandleVerifier [0x00007FF786E2D1D2+3672530]\n",
      "\tGetHandleVerifier [0x00007FF786E22153+3627347]\n",
      "\tGetHandleVerifier [0x00007FF786B8092A+868650]\n",
      "\t(No symbol) [0x00007FF786A22FFF]\n",
      "\t(No symbol) [0x00007FF786A1F4A4]\n",
      "\t(No symbol) [0x00007FF786A1F646]\n",
      "\t(No symbol) [0x00007FF786A0EAA9]\n",
      "\tBaseThreadInitThunk [0x00007FFB4C82E8D7+23]\n",
      "\tRtlUserThreadStart [0x00007FFB4E59BF6C+44]\n",
      "\n"
     ]
    },
    {
     "name": "stderr",
     "output_type": "stream",
     "text": [
      "Updating CommonName:  31%|███       | 1105/3539 [35:16<2:04:08,  3.06s/it]"
     ]
    },
    {
     "name": "stdout",
     "output_type": "stream",
     "text": [
      "Failed to get preferred name for ConceptID: 410795001. Error: Message: no such element: Unable to locate element: {\"method\":\"xpath\",\"selector\":\"//th[span[contains(text(), 'Preferred Name')]]/following-sibling::td/p\"}\n",
      "  (Session info: chrome=134.0.6998.118); For documentation on this error, please visit: https://www.selenium.dev/documentation/webdriver/troubleshooting/errors#no-such-element-exception\n",
      "Stacktrace:\n",
      "\tGetHandleVerifier [0x00007FF786DB4C25+3179557]\n",
      "\t(No symbol) [0x00007FF786A188A0]\n",
      "\t(No symbol) [0x00007FF7868A91CA]\n",
      "\t(No symbol) [0x00007FF7868FFA67]\n",
      "\t(No symbol) [0x00007FF7868FFC9C]\n",
      "\t(No symbol) [0x00007FF786953627]\n",
      "\t(No symbol) [0x00007FF786927C6F]\n",
      "\t(No symbol) [0x00007FF7869502F3]\n",
      "\t(No symbol) [0x00007FF786927A03]\n",
      "\t(No symbol) [0x00007FF7868F06D0]\n",
      "\t(No symbol) [0x00007FF7868F1983]\n",
      "\tGetHandleVerifier [0x00007FF786E167CD+3579853]\n",
      "\tGetHandleVerifier [0x00007FF786E2D1D2+3672530]\n",
      "\tGetHandleVerifier [0x00007FF786E22153+3627347]\n",
      "\tGetHandleVerifier [0x00007FF786B8092A+868650]\n",
      "\t(No symbol) [0x00007FF786A22FFF]\n",
      "\t(No symbol) [0x00007FF786A1F4A4]\n",
      "\t(No symbol) [0x00007FF786A1F646]\n",
      "\t(No symbol) [0x00007FF786A0EAA9]\n",
      "\tBaseThreadInitThunk [0x00007FFB4C82E8D7+23]\n",
      "\tRtlUserThreadStart [0x00007FFB4E59BF6C+44]\n",
      "\n"
     ]
    },
    {
     "name": "stderr",
     "output_type": "stream",
     "text": [
      "Updating CommonName:  32%|███▏      | 1140/3539 [40:31<5:55:45,  8.90s/it] "
     ]
    },
    {
     "name": "stdout",
     "output_type": "stream",
     "text": [
      "Failed to get preferred name for ConceptID: 88329009. Error: Message: no such element: Unable to locate element: {\"method\":\"xpath\",\"selector\":\"//th[span[contains(text(), 'Preferred Name')]]/following-sibling::td/p\"}\n",
      "  (Session info: chrome=134.0.6998.118); For documentation on this error, please visit: https://www.selenium.dev/documentation/webdriver/troubleshooting/errors#no-such-element-exception\n",
      "Stacktrace:\n",
      "\tGetHandleVerifier [0x00007FF786DB4C25+3179557]\n",
      "\t(No symbol) [0x00007FF786A188A0]\n",
      "\t(No symbol) [0x00007FF7868A91CA]\n",
      "\t(No symbol) [0x00007FF7868FFA67]\n",
      "\t(No symbol) [0x00007FF7868FFC9C]\n",
      "\t(No symbol) [0x00007FF786953627]\n",
      "\t(No symbol) [0x00007FF786927C6F]\n",
      "\t(No symbol) [0x00007FF7869502F3]\n",
      "\t(No symbol) [0x00007FF786927A03]\n",
      "\t(No symbol) [0x00007FF7868F06D0]\n",
      "\t(No symbol) [0x00007FF7868F1983]\n",
      "\tGetHandleVerifier [0x00007FF786E167CD+3579853]\n",
      "\tGetHandleVerifier [0x00007FF786E2D1D2+3672530]\n",
      "\tGetHandleVerifier [0x00007FF786E22153+3627347]\n",
      "\tGetHandleVerifier [0x00007FF786B8092A+868650]\n",
      "\t(No symbol) [0x00007FF786A22FFF]\n",
      "\t(No symbol) [0x00007FF786A1F4A4]\n",
      "\t(No symbol) [0x00007FF786A1F646]\n",
      "\t(No symbol) [0x00007FF786A0EAA9]\n",
      "\tBaseThreadInitThunk [0x00007FFB4C82E8D7+23]\n",
      "\tRtlUserThreadStart [0x00007FFB4E59BF6C+44]\n",
      "\n"
     ]
    },
    {
     "name": "stderr",
     "output_type": "stream",
     "text": [
      "Updating CommonName:  33%|███▎      | 1185/3539 [46:35<1:52:29,  2.87s/it] "
     ]
    },
    {
     "name": "stdout",
     "output_type": "stream",
     "text": [
      "Failed to get preferred name for ConceptID: 255046005. Error: Message: no such element: Unable to locate element: {\"method\":\"xpath\",\"selector\":\"//th[span[contains(text(), 'Preferred Name')]]/following-sibling::td/p\"}\n",
      "  (Session info: chrome=134.0.6998.118); For documentation on this error, please visit: https://www.selenium.dev/documentation/webdriver/troubleshooting/errors#no-such-element-exception\n",
      "Stacktrace:\n",
      "\tGetHandleVerifier [0x00007FF786DB4C25+3179557]\n",
      "\t(No symbol) [0x00007FF786A188A0]\n",
      "\t(No symbol) [0x00007FF7868A91CA]\n",
      "\t(No symbol) [0x00007FF7868FFA67]\n",
      "\t(No symbol) [0x00007FF7868FFC9C]\n",
      "\t(No symbol) [0x00007FF786953627]\n",
      "\t(No symbol) [0x00007FF786927C6F]\n",
      "\t(No symbol) [0x00007FF7869502F3]\n",
      "\t(No symbol) [0x00007FF786927A03]\n",
      "\t(No symbol) [0x00007FF7868F06D0]\n",
      "\t(No symbol) [0x00007FF7868F1983]\n",
      "\tGetHandleVerifier [0x00007FF786E167CD+3579853]\n",
      "\tGetHandleVerifier [0x00007FF786E2D1D2+3672530]\n",
      "\tGetHandleVerifier [0x00007FF786E22153+3627347]\n",
      "\tGetHandleVerifier [0x00007FF786B8092A+868650]\n",
      "\t(No symbol) [0x00007FF786A22FFF]\n",
      "\t(No symbol) [0x00007FF786A1F4A4]\n",
      "\t(No symbol) [0x00007FF786A1F646]\n",
      "\t(No symbol) [0x00007FF786A0EAA9]\n",
      "\tBaseThreadInitThunk [0x00007FFB4C82E8D7+23]\n",
      "\tRtlUserThreadStart [0x00007FFB4E59BF6C+44]\n",
      "\n"
     ]
    },
    {
     "name": "stderr",
     "output_type": "stream",
     "text": [
      "Updating CommonName:  34%|███▎      | 1189/3539 [46:47<1:47:50,  2.75s/it]"
     ]
    },
    {
     "name": "stdout",
     "output_type": "stream",
     "text": [
      "Failed to get preferred name for ConceptID: 302817000. Error: Message: no such element: Unable to locate element: {\"method\":\"xpath\",\"selector\":\"//th[span[contains(text(), 'Preferred Name')]]/following-sibling::td/p\"}\n",
      "  (Session info: chrome=134.0.6998.118); For documentation on this error, please visit: https://www.selenium.dev/documentation/webdriver/troubleshooting/errors#no-such-element-exception\n",
      "Stacktrace:\n",
      "\tGetHandleVerifier [0x00007FF786DB4C25+3179557]\n",
      "\t(No symbol) [0x00007FF786A188A0]\n",
      "\t(No symbol) [0x00007FF7868A91CA]\n",
      "\t(No symbol) [0x00007FF7868FFA67]\n",
      "\t(No symbol) [0x00007FF7868FFC9C]\n",
      "\t(No symbol) [0x00007FF786953627]\n",
      "\t(No symbol) [0x00007FF786927C6F]\n",
      "\t(No symbol) [0x00007FF7869502F3]\n",
      "\t(No symbol) [0x00007FF786927A03]\n",
      "\t(No symbol) [0x00007FF7868F06D0]\n",
      "\t(No symbol) [0x00007FF7868F1983]\n",
      "\tGetHandleVerifier [0x00007FF786E167CD+3579853]\n",
      "\tGetHandleVerifier [0x00007FF786E2D1D2+3672530]\n",
      "\tGetHandleVerifier [0x00007FF786E22153+3627347]\n",
      "\tGetHandleVerifier [0x00007FF786B8092A+868650]\n",
      "\t(No symbol) [0x00007FF786A22FFF]\n",
      "\t(No symbol) [0x00007FF786A1F4A4]\n",
      "\t(No symbol) [0x00007FF786A1F646]\n",
      "\t(No symbol) [0x00007FF786A0EAA9]\n",
      "\tBaseThreadInitThunk [0x00007FFB4C82E8D7+23]\n",
      "\tRtlUserThreadStart [0x00007FFB4E59BF6C+44]\n",
      "\n"
     ]
    },
    {
     "name": "stderr",
     "output_type": "stream",
     "text": [
      "Updating CommonName:  34%|███▍      | 1208/3539 [47:43<1:59:46,  3.08s/it]"
     ]
    },
    {
     "name": "stdout",
     "output_type": "stream",
     "text": [
      "Failed to get preferred name for ConceptID: 19155002. Error: Message: no such element: Unable to locate element: {\"method\":\"xpath\",\"selector\":\"//th[span[contains(text(), 'Preferred Name')]]/following-sibling::td/p\"}\n",
      "  (Session info: chrome=134.0.6998.118); For documentation on this error, please visit: https://www.selenium.dev/documentation/webdriver/troubleshooting/errors#no-such-element-exception\n",
      "Stacktrace:\n",
      "\tGetHandleVerifier [0x00007FF786DB4C25+3179557]\n",
      "\t(No symbol) [0x00007FF786A188A0]\n",
      "\t(No symbol) [0x00007FF7868A91CA]\n",
      "\t(No symbol) [0x00007FF7868FFA67]\n",
      "\t(No symbol) [0x00007FF7868FFC9C]\n",
      "\t(No symbol) [0x00007FF786953627]\n",
      "\t(No symbol) [0x00007FF786927C6F]\n",
      "\t(No symbol) [0x00007FF7869502F3]\n",
      "\t(No symbol) [0x00007FF786927A03]\n",
      "\t(No symbol) [0x00007FF7868F06D0]\n",
      "\t(No symbol) [0x00007FF7868F1983]\n",
      "\tGetHandleVerifier [0x00007FF786E167CD+3579853]\n",
      "\tGetHandleVerifier [0x00007FF786E2D1D2+3672530]\n",
      "\tGetHandleVerifier [0x00007FF786E22153+3627347]\n",
      "\tGetHandleVerifier [0x00007FF786B8092A+868650]\n",
      "\t(No symbol) [0x00007FF786A22FFF]\n",
      "\t(No symbol) [0x00007FF786A1F4A4]\n",
      "\t(No symbol) [0x00007FF786A1F646]\n",
      "\t(No symbol) [0x00007FF786A0EAA9]\n",
      "\tBaseThreadInitThunk [0x00007FFB4C82E8D7+23]\n",
      "\tRtlUserThreadStart [0x00007FFB4E59BF6C+44]\n",
      "\n"
     ]
    },
    {
     "name": "stderr",
     "output_type": "stream",
     "text": [
      "Updating CommonName:  37%|███▋      | 1306/3539 [57:33<5:15:35,  8.48s/it]"
     ]
    },
    {
     "name": "stdout",
     "output_type": "stream",
     "text": [
      "Failed to get preferred name for ConceptID: 236084000. Error: Message: no such element: Unable to locate element: {\"method\":\"xpath\",\"selector\":\"//th[span[contains(text(), 'Preferred Name')]]/following-sibling::td/p\"}\n",
      "  (Session info: chrome=134.0.6998.118); For documentation on this error, please visit: https://www.selenium.dev/documentation/webdriver/troubleshooting/errors#no-such-element-exception\n",
      "Stacktrace:\n",
      "\tGetHandleVerifier [0x00007FF786DB4C25+3179557]\n",
      "\t(No symbol) [0x00007FF786A188A0]\n",
      "\t(No symbol) [0x00007FF7868A91CA]\n",
      "\t(No symbol) [0x00007FF7868FFA67]\n",
      "\t(No symbol) [0x00007FF7868FFC9C]\n",
      "\t(No symbol) [0x00007FF786953627]\n",
      "\t(No symbol) [0x00007FF786927C6F]\n",
      "\t(No symbol) [0x00007FF7869502F3]\n",
      "\t(No symbol) [0x00007FF786927A03]\n",
      "\t(No symbol) [0x00007FF7868F06D0]\n",
      "\t(No symbol) [0x00007FF7868F1983]\n",
      "\tGetHandleVerifier [0x00007FF786E167CD+3579853]\n",
      "\tGetHandleVerifier [0x00007FF786E2D1D2+3672530]\n",
      "\tGetHandleVerifier [0x00007FF786E22153+3627347]\n",
      "\tGetHandleVerifier [0x00007FF786B8092A+868650]\n",
      "\t(No symbol) [0x00007FF786A22FFF]\n",
      "\t(No symbol) [0x00007FF786A1F4A4]\n",
      "\t(No symbol) [0x00007FF786A1F646]\n",
      "\t(No symbol) [0x00007FF786A0EAA9]\n",
      "\tBaseThreadInitThunk [0x00007FFB4C82E8D7+23]\n",
      "\tRtlUserThreadStart [0x00007FFB4E59BF6C+44]\n",
      "\n"
     ]
    },
    {
     "name": "stderr",
     "output_type": "stream",
     "text": [
      "Updating CommonName:  38%|███▊      | 1336/3539 [58:24<1:03:18,  1.72s/it]"
     ]
    },
    {
     "name": "stdout",
     "output_type": "stream",
     "text": [
      "Failed to get preferred name for ConceptID: 443492008. Error: Message: no such element: Unable to locate element: {\"method\":\"xpath\",\"selector\":\"//th[span[contains(text(), 'Preferred Name')]]/following-sibling::td/p\"}\n",
      "  (Session info: chrome=134.0.6998.118); For documentation on this error, please visit: https://www.selenium.dev/documentation/webdriver/troubleshooting/errors#no-such-element-exception\n",
      "Stacktrace:\n",
      "\tGetHandleVerifier [0x00007FF786DB4C25+3179557]\n",
      "\t(No symbol) [0x00007FF786A188A0]\n",
      "\t(No symbol) [0x00007FF7868A91CA]\n",
      "\t(No symbol) [0x00007FF7868FFA67]\n",
      "\t(No symbol) [0x00007FF7868FFC9C]\n",
      "\t(No symbol) [0x00007FF786953627]\n",
      "\t(No symbol) [0x00007FF786927C6F]\n",
      "\t(No symbol) [0x00007FF7869502F3]\n",
      "\t(No symbol) [0x00007FF786927A03]\n",
      "\t(No symbol) [0x00007FF7868F06D0]\n",
      "\t(No symbol) [0x00007FF7868F1983]\n",
      "\tGetHandleVerifier [0x00007FF786E167CD+3579853]\n",
      "\tGetHandleVerifier [0x00007FF786E2D1D2+3672530]\n",
      "\tGetHandleVerifier [0x00007FF786E22153+3627347]\n",
      "\tGetHandleVerifier [0x00007FF786B8092A+868650]\n",
      "\t(No symbol) [0x00007FF786A22FFF]\n",
      "\t(No symbol) [0x00007FF786A1F4A4]\n",
      "\t(No symbol) [0x00007FF786A1F646]\n",
      "\t(No symbol) [0x00007FF786A0EAA9]\n",
      "\tBaseThreadInitThunk [0x00007FFB4C82E8D7+23]\n",
      "\tRtlUserThreadStart [0x00007FFB4E59BF6C+44]\n",
      "\n"
     ]
    },
    {
     "name": "stderr",
     "output_type": "stream",
     "text": [
      "Updating CommonName:  38%|███▊      | 1342/3539 [58:41<1:25:07,  2.32s/it]"
     ]
    },
    {
     "name": "stdout",
     "output_type": "stream",
     "text": [
      "Failed to get preferred name for ConceptID: 236420000. Error: Message: no such element: Unable to locate element: {\"method\":\"xpath\",\"selector\":\"//th[span[contains(text(), 'Preferred Name')]]/following-sibling::td/p\"}\n",
      "  (Session info: chrome=134.0.6998.118); For documentation on this error, please visit: https://www.selenium.dev/documentation/webdriver/troubleshooting/errors#no-such-element-exception\n",
      "Stacktrace:\n",
      "\tGetHandleVerifier [0x00007FF786DB4C25+3179557]\n",
      "\t(No symbol) [0x00007FF786A188A0]\n",
      "\t(No symbol) [0x00007FF7868A91CA]\n",
      "\t(No symbol) [0x00007FF7868FFA67]\n",
      "\t(No symbol) [0x00007FF7868FFC9C]\n",
      "\t(No symbol) [0x00007FF786953627]\n",
      "\t(No symbol) [0x00007FF786927C6F]\n",
      "\t(No symbol) [0x00007FF7869502F3]\n",
      "\t(No symbol) [0x00007FF786927A03]\n",
      "\t(No symbol) [0x00007FF7868F06D0]\n",
      "\t(No symbol) [0x00007FF7868F1983]\n",
      "\tGetHandleVerifier [0x00007FF786E167CD+3579853]\n",
      "\tGetHandleVerifier [0x00007FF786E2D1D2+3672530]\n",
      "\tGetHandleVerifier [0x00007FF786E22153+3627347]\n",
      "\tGetHandleVerifier [0x00007FF786B8092A+868650]\n",
      "\t(No symbol) [0x00007FF786A22FFF]\n",
      "\t(No symbol) [0x00007FF786A1F4A4]\n",
      "\t(No symbol) [0x00007FF786A1F646]\n",
      "\t(No symbol) [0x00007FF786A0EAA9]\n",
      "\tBaseThreadInitThunk [0x00007FFB4C82E8D7+23]\n",
      "\tRtlUserThreadStart [0x00007FFB4E59BF6C+44]\n",
      "\n"
     ]
    },
    {
     "name": "stderr",
     "output_type": "stream",
     "text": [
      "Updating CommonName:  39%|███▉      | 1384/3539 [1:03:09<2:13:33,  3.72s/it] "
     ]
    },
    {
     "name": "stdout",
     "output_type": "stream",
     "text": [
      "Failed to get preferred name for ConceptID: 248122005. Error: Message: no such element: Unable to locate element: {\"method\":\"xpath\",\"selector\":\"//th[span[contains(text(), 'Preferred Name')]]/following-sibling::td/p\"}\n",
      "  (Session info: chrome=134.0.6998.118); For documentation on this error, please visit: https://www.selenium.dev/documentation/webdriver/troubleshooting/errors#no-such-element-exception\n",
      "Stacktrace:\n",
      "\tGetHandleVerifier [0x00007FF786DB4C25+3179557]\n",
      "\t(No symbol) [0x00007FF786A188A0]\n",
      "\t(No symbol) [0x00007FF7868A91CA]\n",
      "\t(No symbol) [0x00007FF7868FFA67]\n",
      "\t(No symbol) [0x00007FF7868FFC9C]\n",
      "\t(No symbol) [0x00007FF786953627]\n",
      "\t(No symbol) [0x00007FF786927C6F]\n",
      "\t(No symbol) [0x00007FF7869502F3]\n",
      "\t(No symbol) [0x00007FF786927A03]\n",
      "\t(No symbol) [0x00007FF7868F06D0]\n",
      "\t(No symbol) [0x00007FF7868F1983]\n",
      "\tGetHandleVerifier [0x00007FF786E167CD+3579853]\n",
      "\tGetHandleVerifier [0x00007FF786E2D1D2+3672530]\n",
      "\tGetHandleVerifier [0x00007FF786E22153+3627347]\n",
      "\tGetHandleVerifier [0x00007FF786B8092A+868650]\n",
      "\t(No symbol) [0x00007FF786A22FFF]\n",
      "\t(No symbol) [0x00007FF786A1F4A4]\n",
      "\t(No symbol) [0x00007FF786A1F646]\n",
      "\t(No symbol) [0x00007FF786A0EAA9]\n",
      "\tBaseThreadInitThunk [0x00007FFB4C82E8D7+23]\n",
      "\tRtlUserThreadStart [0x00007FFB4E59BF6C+44]\n",
      "\n"
     ]
    },
    {
     "name": "stderr",
     "output_type": "stream",
     "text": [
      "Updating CommonName:  42%|████▏     | 1474/3539 [1:13:31<2:20:54,  4.09s/it] "
     ]
    },
    {
     "name": "stdout",
     "output_type": "stream",
     "text": [
      "Failed to get preferred name for ConceptID: 445479007. Error: Message: no such element: Unable to locate element: {\"method\":\"xpath\",\"selector\":\"//th[span[contains(text(), 'Preferred Name')]]/following-sibling::td/p\"}\n",
      "  (Session info: chrome=134.0.6998.118); For documentation on this error, please visit: https://www.selenium.dev/documentation/webdriver/troubleshooting/errors#no-such-element-exception\n",
      "Stacktrace:\n",
      "\tGetHandleVerifier [0x00007FF786DB4C25+3179557]\n",
      "\t(No symbol) [0x00007FF786A188A0]\n",
      "\t(No symbol) [0x00007FF7868A91CA]\n",
      "\t(No symbol) [0x00007FF7868FFA67]\n",
      "\t(No symbol) [0x00007FF7868FFC9C]\n",
      "\t(No symbol) [0x00007FF786953627]\n",
      "\t(No symbol) [0x00007FF786927C6F]\n",
      "\t(No symbol) [0x00007FF7869502F3]\n",
      "\t(No symbol) [0x00007FF786927A03]\n",
      "\t(No symbol) [0x00007FF7868F06D0]\n",
      "\t(No symbol) [0x00007FF7868F1983]\n",
      "\tGetHandleVerifier [0x00007FF786E167CD+3579853]\n",
      "\tGetHandleVerifier [0x00007FF786E2D1D2+3672530]\n",
      "\tGetHandleVerifier [0x00007FF786E22153+3627347]\n",
      "\tGetHandleVerifier [0x00007FF786B8092A+868650]\n",
      "\t(No symbol) [0x00007FF786A22FFF]\n",
      "\t(No symbol) [0x00007FF786A1F4A4]\n",
      "\t(No symbol) [0x00007FF786A1F646]\n",
      "\t(No symbol) [0x00007FF786A0EAA9]\n",
      "\tBaseThreadInitThunk [0x00007FFB4C82E8D7+23]\n",
      "\tRtlUserThreadStart [0x00007FFB4E59BF6C+44]\n",
      "\n"
     ]
    },
    {
     "name": "stderr",
     "output_type": "stream",
     "text": [
      "Updating CommonName:  42%|████▏     | 1494/3539 [1:14:23<1:20:25,  2.36s/it]"
     ]
    },
    {
     "name": "stdout",
     "output_type": "stream",
     "text": [
      "Failed to get preferred name for ConceptID: 195080001. Error: Message: no such element: Unable to locate element: {\"method\":\"xpath\",\"selector\":\"//th[span[contains(text(), 'Preferred Name')]]/following-sibling::td/p\"}\n",
      "  (Session info: chrome=134.0.6998.118); For documentation on this error, please visit: https://www.selenium.dev/documentation/webdriver/troubleshooting/errors#no-such-element-exception\n",
      "Stacktrace:\n",
      "\tGetHandleVerifier [0x00007FF786DB4C25+3179557]\n",
      "\t(No symbol) [0x00007FF786A188A0]\n",
      "\t(No symbol) [0x00007FF7868A91CA]\n",
      "\t(No symbol) [0x00007FF7868FFA67]\n",
      "\t(No symbol) [0x00007FF7868FFC9C]\n",
      "\t(No symbol) [0x00007FF786953627]\n",
      "\t(No symbol) [0x00007FF786927C6F]\n",
      "\t(No symbol) [0x00007FF7869502F3]\n",
      "\t(No symbol) [0x00007FF786927A03]\n",
      "\t(No symbol) [0x00007FF7868F06D0]\n",
      "\t(No symbol) [0x00007FF7868F1983]\n",
      "\tGetHandleVerifier [0x00007FF786E167CD+3579853]\n",
      "\tGetHandleVerifier [0x00007FF786E2D1D2+3672530]\n",
      "\tGetHandleVerifier [0x00007FF786E22153+3627347]\n",
      "\tGetHandleVerifier [0x00007FF786B8092A+868650]\n",
      "\t(No symbol) [0x00007FF786A22FFF]\n",
      "\t(No symbol) [0x00007FF786A1F4A4]\n",
      "\t(No symbol) [0x00007FF786A1F646]\n",
      "\t(No symbol) [0x00007FF786A0EAA9]\n",
      "\tBaseThreadInitThunk [0x00007FFB4C82E8D7+23]\n",
      "\tRtlUserThreadStart [0x00007FFB4E59BF6C+44]\n",
      "\n"
     ]
    },
    {
     "name": "stderr",
     "output_type": "stream",
     "text": [
      "Updating CommonName:  42%|████▏     | 1500/3539 [1:14:49<1:38:27,  2.90s/it]"
     ]
    },
    {
     "name": "stdout",
     "output_type": "stream",
     "text": [
      "Failed to get preferred name for ConceptID: 52756005. Error: Message: no such element: Unable to locate element: {\"method\":\"xpath\",\"selector\":\"//th[span[contains(text(), 'Preferred Name')]]/following-sibling::td/p\"}\n",
      "  (Session info: chrome=134.0.6998.118); For documentation on this error, please visit: https://www.selenium.dev/documentation/webdriver/troubleshooting/errors#no-such-element-exception\n",
      "Stacktrace:\n",
      "\tGetHandleVerifier [0x00007FF786DB4C25+3179557]\n",
      "\t(No symbol) [0x00007FF786A188A0]\n",
      "\t(No symbol) [0x00007FF7868A91CA]\n",
      "\t(No symbol) [0x00007FF7868FFA67]\n",
      "\t(No symbol) [0x00007FF7868FFC9C]\n",
      "\t(No symbol) [0x00007FF786953627]\n",
      "\t(No symbol) [0x00007FF786927C6F]\n",
      "\t(No symbol) [0x00007FF7869502F3]\n",
      "\t(No symbol) [0x00007FF786927A03]\n",
      "\t(No symbol) [0x00007FF7868F06D0]\n",
      "\t(No symbol) [0x00007FF7868F1983]\n",
      "\tGetHandleVerifier [0x00007FF786E167CD+3579853]\n",
      "\tGetHandleVerifier [0x00007FF786E2D1D2+3672530]\n",
      "\tGetHandleVerifier [0x00007FF786E22153+3627347]\n",
      "\tGetHandleVerifier [0x00007FF786B8092A+868650]\n",
      "\t(No symbol) [0x00007FF786A22FFF]\n",
      "\t(No symbol) [0x00007FF786A1F4A4]\n",
      "\t(No symbol) [0x00007FF786A1F646]\n",
      "\t(No symbol) [0x00007FF786A0EAA9]\n",
      "\tBaseThreadInitThunk [0x00007FFB4C82E8D7+23]\n",
      "\tRtlUserThreadStart [0x00007FFB4E59BF6C+44]\n",
      "\n"
     ]
    },
    {
     "name": "stderr",
     "output_type": "stream",
     "text": [
      "Updating CommonName:  43%|████▎     | 1524/3539 [1:16:17<2:11:32,  3.92s/it]"
     ]
    },
    {
     "name": "stdout",
     "output_type": "stream",
     "text": [
      "Failed to get preferred name for ConceptID: 236084000. Error: Message: no such element: Unable to locate element: {\"method\":\"xpath\",\"selector\":\"//th[span[contains(text(), 'Preferred Name')]]/following-sibling::td/p\"}\n",
      "  (Session info: chrome=134.0.6998.118); For documentation on this error, please visit: https://www.selenium.dev/documentation/webdriver/troubleshooting/errors#no-such-element-exception\n",
      "Stacktrace:\n",
      "\tGetHandleVerifier [0x00007FF786DB4C25+3179557]\n",
      "\t(No symbol) [0x00007FF786A188A0]\n",
      "\t(No symbol) [0x00007FF7868A91CA]\n",
      "\t(No symbol) [0x00007FF7868FFA67]\n",
      "\t(No symbol) [0x00007FF7868FFC9C]\n",
      "\t(No symbol) [0x00007FF786953627]\n",
      "\t(No symbol) [0x00007FF786927C6F]\n",
      "\t(No symbol) [0x00007FF7869502F3]\n",
      "\t(No symbol) [0x00007FF786927A03]\n",
      "\t(No symbol) [0x00007FF7868F06D0]\n",
      "\t(No symbol) [0x00007FF7868F1983]\n",
      "\tGetHandleVerifier [0x00007FF786E167CD+3579853]\n",
      "\tGetHandleVerifier [0x00007FF786E2D1D2+3672530]\n",
      "\tGetHandleVerifier [0x00007FF786E22153+3627347]\n",
      "\tGetHandleVerifier [0x00007FF786B8092A+868650]\n",
      "\t(No symbol) [0x00007FF786A22FFF]\n",
      "\t(No symbol) [0x00007FF786A1F4A4]\n",
      "\t(No symbol) [0x00007FF786A1F646]\n",
      "\t(No symbol) [0x00007FF786A0EAA9]\n",
      "\tBaseThreadInitThunk [0x00007FFB4C82E8D7+23]\n",
      "\tRtlUserThreadStart [0x00007FFB4E59BF6C+44]\n",
      "\n"
     ]
    },
    {
     "name": "stderr",
     "output_type": "stream",
     "text": [
      "Updating CommonName:  43%|████▎     | 1525/3539 [1:16:19<1:53:27,  3.38s/it]"
     ]
    },
    {
     "name": "stdout",
     "output_type": "stream",
     "text": [
      "Failed to get preferred name for ConceptID: 95584002. Error: Message: no such element: Unable to locate element: {\"method\":\"xpath\",\"selector\":\"//th[span[contains(text(), 'Preferred Name')]]/following-sibling::td/p\"}\n",
      "  (Session info: chrome=134.0.6998.118); For documentation on this error, please visit: https://www.selenium.dev/documentation/webdriver/troubleshooting/errors#no-such-element-exception\n",
      "Stacktrace:\n",
      "\tGetHandleVerifier [0x00007FF786DB4C25+3179557]\n",
      "\t(No symbol) [0x00007FF786A188A0]\n",
      "\t(No symbol) [0x00007FF7868A91CA]\n",
      "\t(No symbol) [0x00007FF7868FFA67]\n",
      "\t(No symbol) [0x00007FF7868FFC9C]\n",
      "\t(No symbol) [0x00007FF786953627]\n",
      "\t(No symbol) [0x00007FF786927C6F]\n",
      "\t(No symbol) [0x00007FF7869502F3]\n",
      "\t(No symbol) [0x00007FF786927A03]\n",
      "\t(No symbol) [0x00007FF7868F06D0]\n",
      "\t(No symbol) [0x00007FF7868F1983]\n",
      "\tGetHandleVerifier [0x00007FF786E167CD+3579853]\n",
      "\tGetHandleVerifier [0x00007FF786E2D1D2+3672530]\n",
      "\tGetHandleVerifier [0x00007FF786E22153+3627347]\n",
      "\tGetHandleVerifier [0x00007FF786B8092A+868650]\n",
      "\t(No symbol) [0x00007FF786A22FFF]\n",
      "\t(No symbol) [0x00007FF786A1F4A4]\n",
      "\t(No symbol) [0x00007FF786A1F646]\n",
      "\t(No symbol) [0x00007FF786A0EAA9]\n",
      "\tBaseThreadInitThunk [0x00007FFB4C82E8D7+23]\n",
      "\tRtlUserThreadStart [0x00007FFB4E59BF6C+44]\n",
      "\n"
     ]
    },
    {
     "name": "stderr",
     "output_type": "stream",
     "text": [
      "Updating CommonName:  43%|████▎     | 1526/3539 [1:16:21<1:45:08,  3.13s/it]"
     ]
    },
    {
     "name": "stdout",
     "output_type": "stream",
     "text": [
      "Failed to get preferred name for ConceptID: 236633002. Error: Message: no such element: Unable to locate element: {\"method\":\"xpath\",\"selector\":\"//th[span[contains(text(), 'Preferred Name')]]/following-sibling::td/p\"}\n",
      "  (Session info: chrome=134.0.6998.118); For documentation on this error, please visit: https://www.selenium.dev/documentation/webdriver/troubleshooting/errors#no-such-element-exception\n",
      "Stacktrace:\n",
      "\tGetHandleVerifier [0x00007FF786DB4C25+3179557]\n",
      "\t(No symbol) [0x00007FF786A188A0]\n",
      "\t(No symbol) [0x00007FF7868A91CA]\n",
      "\t(No symbol) [0x00007FF7868FFA67]\n",
      "\t(No symbol) [0x00007FF7868FFC9C]\n",
      "\t(No symbol) [0x00007FF786953627]\n",
      "\t(No symbol) [0x00007FF786927C6F]\n",
      "\t(No symbol) [0x00007FF7869502F3]\n",
      "\t(No symbol) [0x00007FF786927A03]\n",
      "\t(No symbol) [0x00007FF7868F06D0]\n",
      "\t(No symbol) [0x00007FF7868F1983]\n",
      "\tGetHandleVerifier [0x00007FF786E167CD+3579853]\n",
      "\tGetHandleVerifier [0x00007FF786E2D1D2+3672530]\n",
      "\tGetHandleVerifier [0x00007FF786E22153+3627347]\n",
      "\tGetHandleVerifier [0x00007FF786B8092A+868650]\n",
      "\t(No symbol) [0x00007FF786A22FFF]\n",
      "\t(No symbol) [0x00007FF786A1F4A4]\n",
      "\t(No symbol) [0x00007FF786A1F646]\n",
      "\t(No symbol) [0x00007FF786A0EAA9]\n",
      "\tBaseThreadInitThunk [0x00007FFB4C82E8D7+23]\n",
      "\tRtlUserThreadStart [0x00007FFB4E59BF6C+44]\n",
      "\n"
     ]
    },
    {
     "name": "stderr",
     "output_type": "stream",
     "text": [
      "Updating CommonName:  43%|████▎     | 1536/3539 [1:17:34<2:25:44,  4.37s/it]"
     ]
    },
    {
     "name": "stdout",
     "output_type": "stream",
     "text": [
      "Failed to get preferred name for ConceptID: 66189004. Error: Message: no such element: Unable to locate element: {\"method\":\"xpath\",\"selector\":\"//th[span[contains(text(), 'Preferred Name')]]/following-sibling::td/p\"}\n",
      "  (Session info: chrome=134.0.6998.118); For documentation on this error, please visit: https://www.selenium.dev/documentation/webdriver/troubleshooting/errors#no-such-element-exception\n",
      "Stacktrace:\n",
      "\tGetHandleVerifier [0x00007FF786DB4C25+3179557]\n",
      "\t(No symbol) [0x00007FF786A188A0]\n",
      "\t(No symbol) [0x00007FF7868A91CA]\n",
      "\t(No symbol) [0x00007FF7868FFA67]\n",
      "\t(No symbol) [0x00007FF7868FFC9C]\n",
      "\t(No symbol) [0x00007FF786953627]\n",
      "\t(No symbol) [0x00007FF786927C6F]\n",
      "\t(No symbol) [0x00007FF7869502F3]\n",
      "\t(No symbol) [0x00007FF786927A03]\n",
      "\t(No symbol) [0x00007FF7868F06D0]\n",
      "\t(No symbol) [0x00007FF7868F1983]\n",
      "\tGetHandleVerifier [0x00007FF786E167CD+3579853]\n",
      "\tGetHandleVerifier [0x00007FF786E2D1D2+3672530]\n",
      "\tGetHandleVerifier [0x00007FF786E22153+3627347]\n",
      "\tGetHandleVerifier [0x00007FF786B8092A+868650]\n",
      "\t(No symbol) [0x00007FF786A22FFF]\n",
      "\t(No symbol) [0x00007FF786A1F4A4]\n",
      "\t(No symbol) [0x00007FF786A1F646]\n",
      "\t(No symbol) [0x00007FF786A0EAA9]\n",
      "\tBaseThreadInitThunk [0x00007FFB4C82E8D7+23]\n",
      "\tRtlUserThreadStart [0x00007FFB4E59BF6C+44]\n",
      "\n"
     ]
    },
    {
     "name": "stderr",
     "output_type": "stream",
     "text": [
      "Updating CommonName:  45%|████▌     | 1594/3539 [1:25:02<4:27:53,  8.26s/it]"
     ]
    },
    {
     "name": "stdout",
     "output_type": "stream",
     "text": [
      "Failed to get preferred name for ConceptID: 195080001. Error: Message: no such element: Unable to locate element: {\"method\":\"xpath\",\"selector\":\"//th[span[contains(text(), 'Preferred Name')]]/following-sibling::td/p\"}\n",
      "  (Session info: chrome=134.0.6998.118); For documentation on this error, please visit: https://www.selenium.dev/documentation/webdriver/troubleshooting/errors#no-such-element-exception\n",
      "Stacktrace:\n",
      "\tGetHandleVerifier [0x00007FF786DB4C25+3179557]\n",
      "\t(No symbol) [0x00007FF786A188A0]\n",
      "\t(No symbol) [0x00007FF7868A91CA]\n",
      "\t(No symbol) [0x00007FF7868FFA67]\n",
      "\t(No symbol) [0x00007FF7868FFC9C]\n",
      "\t(No symbol) [0x00007FF786953627]\n",
      "\t(No symbol) [0x00007FF786927C6F]\n",
      "\t(No symbol) [0x00007FF7869502F3]\n",
      "\t(No symbol) [0x00007FF786927A03]\n",
      "\t(No symbol) [0x00007FF7868F06D0]\n",
      "\t(No symbol) [0x00007FF7868F1983]\n",
      "\tGetHandleVerifier [0x00007FF786E167CD+3579853]\n",
      "\tGetHandleVerifier [0x00007FF786E2D1D2+3672530]\n",
      "\tGetHandleVerifier [0x00007FF786E22153+3627347]\n",
      "\tGetHandleVerifier [0x00007FF786B8092A+868650]\n",
      "\t(No symbol) [0x00007FF786A22FFF]\n",
      "\t(No symbol) [0x00007FF786A1F4A4]\n",
      "\t(No symbol) [0x00007FF786A1F646]\n",
      "\t(No symbol) [0x00007FF786A0EAA9]\n",
      "\tBaseThreadInitThunk [0x00007FFB4C82E8D7+23]\n",
      "\tRtlUserThreadStart [0x00007FFB4E59BF6C+44]\n",
      "\n"
     ]
    },
    {
     "name": "stderr",
     "output_type": "stream",
     "text": [
      "Updating CommonName:  46%|████▌     | 1613/3539 [1:26:04<1:42:16,  3.19s/it]"
     ]
    },
    {
     "name": "stdout",
     "output_type": "stream",
     "text": [
      "Failed to get preferred name for ConceptID: 32273002. Error: Message: no such element: Unable to locate element: {\"method\":\"xpath\",\"selector\":\"//th[span[contains(text(), 'Preferred Name')]]/following-sibling::td/p\"}\n",
      "  (Session info: chrome=134.0.6998.118); For documentation on this error, please visit: https://www.selenium.dev/documentation/webdriver/troubleshooting/errors#no-such-element-exception\n",
      "Stacktrace:\n",
      "\tGetHandleVerifier [0x00007FF786DB4C25+3179557]\n",
      "\t(No symbol) [0x00007FF786A188A0]\n",
      "\t(No symbol) [0x00007FF7868A91CA]\n",
      "\t(No symbol) [0x00007FF7868FFA67]\n",
      "\t(No symbol) [0x00007FF7868FFC9C]\n",
      "\t(No symbol) [0x00007FF786953627]\n",
      "\t(No symbol) [0x00007FF786927C6F]\n",
      "\t(No symbol) [0x00007FF7869502F3]\n",
      "\t(No symbol) [0x00007FF786927A03]\n",
      "\t(No symbol) [0x00007FF7868F06D0]\n",
      "\t(No symbol) [0x00007FF7868F1983]\n",
      "\tGetHandleVerifier [0x00007FF786E167CD+3579853]\n",
      "\tGetHandleVerifier [0x00007FF786E2D1D2+3672530]\n",
      "\tGetHandleVerifier [0x00007FF786E22153+3627347]\n",
      "\tGetHandleVerifier [0x00007FF786B8092A+868650]\n",
      "\t(No symbol) [0x00007FF786A22FFF]\n",
      "\t(No symbol) [0x00007FF786A1F4A4]\n",
      "\t(No symbol) [0x00007FF786A1F646]\n",
      "\t(No symbol) [0x00007FF786A0EAA9]\n",
      "\tBaseThreadInitThunk [0x00007FFB4C82E8D7+23]\n",
      "\tRtlUserThreadStart [0x00007FFB4E59BF6C+44]\n",
      "\n"
     ]
    },
    {
     "name": "stderr",
     "output_type": "stream",
     "text": [
      "Updating CommonName:  47%|████▋     | 1678/3539 [1:32:39<3:20:39,  6.47s/it]"
     ]
    },
    {
     "name": "stdout",
     "output_type": "stream",
     "text": [
      "Failed to get preferred name for ConceptID: 52756005. Error: Message: no such element: Unable to locate element: {\"method\":\"xpath\",\"selector\":\"//th[span[contains(text(), 'Preferred Name')]]/following-sibling::td/p\"}\n",
      "  (Session info: chrome=134.0.6998.118); For documentation on this error, please visit: https://www.selenium.dev/documentation/webdriver/troubleshooting/errors#no-such-element-exception\n",
      "Stacktrace:\n",
      "\tGetHandleVerifier [0x00007FF786DB4C25+3179557]\n",
      "\t(No symbol) [0x00007FF786A188A0]\n",
      "\t(No symbol) [0x00007FF7868A91CA]\n",
      "\t(No symbol) [0x00007FF7868FFA67]\n",
      "\t(No symbol) [0x00007FF7868FFC9C]\n",
      "\t(No symbol) [0x00007FF786953627]\n",
      "\t(No symbol) [0x00007FF786927C6F]\n",
      "\t(No symbol) [0x00007FF7869502F3]\n",
      "\t(No symbol) [0x00007FF786927A03]\n",
      "\t(No symbol) [0x00007FF7868F06D0]\n",
      "\t(No symbol) [0x00007FF7868F1983]\n",
      "\tGetHandleVerifier [0x00007FF786E167CD+3579853]\n",
      "\tGetHandleVerifier [0x00007FF786E2D1D2+3672530]\n",
      "\tGetHandleVerifier [0x00007FF786E22153+3627347]\n",
      "\tGetHandleVerifier [0x00007FF786B8092A+868650]\n",
      "\t(No symbol) [0x00007FF786A22FFF]\n",
      "\t(No symbol) [0x00007FF786A1F4A4]\n",
      "\t(No symbol) [0x00007FF786A1F646]\n",
      "\t(No symbol) [0x00007FF786A0EAA9]\n",
      "\tBaseThreadInitThunk [0x00007FFB4C82E8D7+23]\n",
      "\tRtlUserThreadStart [0x00007FFB4E59BF6C+44]\n",
      "\n"
     ]
    },
    {
     "name": "stderr",
     "output_type": "stream",
     "text": [
      "Updating CommonName:  48%|████▊     | 1682/3539 [1:33:17<3:31:32,  6.84s/it]"
     ]
    },
    {
     "name": "stdout",
     "output_type": "stream",
     "text": [
      "Failed to get preferred name for ConceptID: 182782007. Error: Message: no such element: Unable to locate element: {\"method\":\"xpath\",\"selector\":\"//th[span[contains(text(), 'Preferred Name')]]/following-sibling::td/p\"}\n",
      "  (Session info: chrome=134.0.6998.118); For documentation on this error, please visit: https://www.selenium.dev/documentation/webdriver/troubleshooting/errors#no-such-element-exception\n",
      "Stacktrace:\n",
      "\tGetHandleVerifier [0x00007FF786DB4C25+3179557]\n",
      "\t(No symbol) [0x00007FF786A188A0]\n",
      "\t(No symbol) [0x00007FF7868A91CA]\n",
      "\t(No symbol) [0x00007FF7868FFA67]\n",
      "\t(No symbol) [0x00007FF7868FFC9C]\n",
      "\t(No symbol) [0x00007FF786953627]\n",
      "\t(No symbol) [0x00007FF786927C6F]\n",
      "\t(No symbol) [0x00007FF7869502F3]\n",
      "\t(No symbol) [0x00007FF786927A03]\n",
      "\t(No symbol) [0x00007FF7868F06D0]\n",
      "\t(No symbol) [0x00007FF7868F1983]\n",
      "\tGetHandleVerifier [0x00007FF786E167CD+3579853]\n",
      "\tGetHandleVerifier [0x00007FF786E2D1D2+3672530]\n",
      "\tGetHandleVerifier [0x00007FF786E22153+3627347]\n",
      "\tGetHandleVerifier [0x00007FF786B8092A+868650]\n",
      "\t(No symbol) [0x00007FF786A22FFF]\n",
      "\t(No symbol) [0x00007FF786A1F4A4]\n",
      "\t(No symbol) [0x00007FF786A1F646]\n",
      "\t(No symbol) [0x00007FF786A0EAA9]\n",
      "\tBaseThreadInitThunk [0x00007FFB4C82E8D7+23]\n",
      "\tRtlUserThreadStart [0x00007FFB4E59BF6C+44]\n",
      "\n"
     ]
    },
    {
     "name": "stderr",
     "output_type": "stream",
     "text": [
      "Updating CommonName:  49%|████▊     | 1722/3539 [1:36:04<3:17:53,  6.53s/it]"
     ]
    },
    {
     "name": "stdout",
     "output_type": "stream",
     "text": [
      "Failed to get preferred name for ConceptID: 236425005. Error: Message: no such element: Unable to locate element: {\"method\":\"xpath\",\"selector\":\"//th[span[contains(text(), 'Preferred Name')]]/following-sibling::td/p\"}\n",
      "  (Session info: chrome=134.0.6998.118); For documentation on this error, please visit: https://www.selenium.dev/documentation/webdriver/troubleshooting/errors#no-such-element-exception\n",
      "Stacktrace:\n",
      "\tGetHandleVerifier [0x00007FF786DB4C25+3179557]\n",
      "\t(No symbol) [0x00007FF786A188A0]\n",
      "\t(No symbol) [0x00007FF7868A91CA]\n",
      "\t(No symbol) [0x00007FF7868FFA67]\n",
      "\t(No symbol) [0x00007FF7868FFC9C]\n",
      "\t(No symbol) [0x00007FF786953627]\n",
      "\t(No symbol) [0x00007FF786927C6F]\n",
      "\t(No symbol) [0x00007FF7869502F3]\n",
      "\t(No symbol) [0x00007FF786927A03]\n",
      "\t(No symbol) [0x00007FF7868F06D0]\n",
      "\t(No symbol) [0x00007FF7868F1983]\n",
      "\tGetHandleVerifier [0x00007FF786E167CD+3579853]\n",
      "\tGetHandleVerifier [0x00007FF786E2D1D2+3672530]\n",
      "\tGetHandleVerifier [0x00007FF786E22153+3627347]\n",
      "\tGetHandleVerifier [0x00007FF786B8092A+868650]\n",
      "\t(No symbol) [0x00007FF786A22FFF]\n",
      "\t(No symbol) [0x00007FF786A1F4A4]\n",
      "\t(No symbol) [0x00007FF786A1F646]\n",
      "\t(No symbol) [0x00007FF786A0EAA9]\n",
      "\tBaseThreadInitThunk [0x00007FFB4C82E8D7+23]\n",
      "\tRtlUserThreadStart [0x00007FFB4E59BF6C+44]\n",
      "\n"
     ]
    },
    {
     "name": "stderr",
     "output_type": "stream",
     "text": [
      "Updating CommonName:  49%|████▉     | 1751/3539 [1:37:47<2:00:14,  4.03s/it]"
     ]
    },
    {
     "name": "stdout",
     "output_type": "stream",
     "text": [
      "Failed to get preferred name for ConceptID: 302817000. Error: Message: no such element: Unable to locate element: {\"method\":\"xpath\",\"selector\":\"//th[span[contains(text(), 'Preferred Name')]]/following-sibling::td/p\"}\n",
      "  (Session info: chrome=134.0.6998.118); For documentation on this error, please visit: https://www.selenium.dev/documentation/webdriver/troubleshooting/errors#no-such-element-exception\n",
      "Stacktrace:\n",
      "\tGetHandleVerifier [0x00007FF786DB4C25+3179557]\n",
      "\t(No symbol) [0x00007FF786A188A0]\n",
      "\t(No symbol) [0x00007FF7868A91CA]\n",
      "\t(No symbol) [0x00007FF7868FFA67]\n",
      "\t(No symbol) [0x00007FF7868FFC9C]\n",
      "\t(No symbol) [0x00007FF786953627]\n",
      "\t(No symbol) [0x00007FF786927C6F]\n",
      "\t(No symbol) [0x00007FF7869502F3]\n",
      "\t(No symbol) [0x00007FF786927A03]\n",
      "\t(No symbol) [0x00007FF7868F06D0]\n",
      "\t(No symbol) [0x00007FF7868F1983]\n",
      "\tGetHandleVerifier [0x00007FF786E167CD+3579853]\n",
      "\tGetHandleVerifier [0x00007FF786E2D1D2+3672530]\n",
      "\tGetHandleVerifier [0x00007FF786E22153+3627347]\n",
      "\tGetHandleVerifier [0x00007FF786B8092A+868650]\n",
      "\t(No symbol) [0x00007FF786A22FFF]\n",
      "\t(No symbol) [0x00007FF786A1F4A4]\n",
      "\t(No symbol) [0x00007FF786A1F646]\n",
      "\t(No symbol) [0x00007FF786A0EAA9]\n",
      "\tBaseThreadInitThunk [0x00007FFB4C82E8D7+23]\n",
      "\tRtlUserThreadStart [0x00007FFB4E59BF6C+44]\n",
      "\n"
     ]
    },
    {
     "name": "stderr",
     "output_type": "stream",
     "text": [
      "Updating CommonName:  50%|█████     | 1775/3539 [1:38:57<45:39,  1.55s/it]  "
     ]
    },
    {
     "name": "stdout",
     "output_type": "stream",
     "text": [
      "Failed to get preferred name for ConceptID: 170951000. Error: Message: no such element: Unable to locate element: {\"method\":\"xpath\",\"selector\":\"//th[span[contains(text(), 'Preferred Name')]]/following-sibling::td/p\"}\n",
      "  (Session info: chrome=134.0.6998.118); For documentation on this error, please visit: https://www.selenium.dev/documentation/webdriver/troubleshooting/errors#no-such-element-exception\n",
      "Stacktrace:\n",
      "\tGetHandleVerifier [0x00007FF786DB4C25+3179557]\n",
      "\t(No symbol) [0x00007FF786A188A0]\n",
      "\t(No symbol) [0x00007FF7868A91CA]\n",
      "\t(No symbol) [0x00007FF7868FFA67]\n",
      "\t(No symbol) [0x00007FF7868FFC9C]\n",
      "\t(No symbol) [0x00007FF786953627]\n",
      "\t(No symbol) [0x00007FF786927C6F]\n",
      "\t(No symbol) [0x00007FF7869502F3]\n",
      "\t(No symbol) [0x00007FF786927A03]\n",
      "\t(No symbol) [0x00007FF7868F06D0]\n",
      "\t(No symbol) [0x00007FF7868F1983]\n",
      "\tGetHandleVerifier [0x00007FF786E167CD+3579853]\n",
      "\tGetHandleVerifier [0x00007FF786E2D1D2+3672530]\n",
      "\tGetHandleVerifier [0x00007FF786E22153+3627347]\n",
      "\tGetHandleVerifier [0x00007FF786B8092A+868650]\n",
      "\t(No symbol) [0x00007FF786A22FFF]\n",
      "\t(No symbol) [0x00007FF786A1F4A4]\n",
      "\t(No symbol) [0x00007FF786A1F646]\n",
      "\t(No symbol) [0x00007FF786A0EAA9]\n",
      "\tBaseThreadInitThunk [0x00007FFB4C82E8D7+23]\n",
      "\tRtlUserThreadStart [0x00007FFB4E59BF6C+44]\n",
      "\n"
     ]
    },
    {
     "name": "stderr",
     "output_type": "stream",
     "text": [
      "Updating CommonName:  51%|█████     | 1798/3539 [1:39:55<50:15,  1.73s/it]  "
     ]
    },
    {
     "name": "stdout",
     "output_type": "stream",
     "text": [
      "Failed to get preferred name for ConceptID: 408856003. Error: Message: no such element: Unable to locate element: {\"method\":\"xpath\",\"selector\":\"//th[span[contains(text(), 'Preferred Name')]]/following-sibling::td/p\"}\n",
      "  (Session info: chrome=134.0.6998.118); For documentation on this error, please visit: https://www.selenium.dev/documentation/webdriver/troubleshooting/errors#no-such-element-exception\n",
      "Stacktrace:\n",
      "\tGetHandleVerifier [0x00007FF786DB4C25+3179557]\n",
      "\t(No symbol) [0x00007FF786A188A0]\n",
      "\t(No symbol) [0x00007FF7868A91CA]\n",
      "\t(No symbol) [0x00007FF7868FFA67]\n",
      "\t(No symbol) [0x00007FF7868FFC9C]\n",
      "\t(No symbol) [0x00007FF786953627]\n",
      "\t(No symbol) [0x00007FF786927C6F]\n",
      "\t(No symbol) [0x00007FF7869502F3]\n",
      "\t(No symbol) [0x00007FF786927A03]\n",
      "\t(No symbol) [0x00007FF7868F06D0]\n",
      "\t(No symbol) [0x00007FF7868F1983]\n",
      "\tGetHandleVerifier [0x00007FF786E167CD+3579853]\n",
      "\tGetHandleVerifier [0x00007FF786E2D1D2+3672530]\n",
      "\tGetHandleVerifier [0x00007FF786E22153+3627347]\n",
      "\tGetHandleVerifier [0x00007FF786B8092A+868650]\n",
      "\t(No symbol) [0x00007FF786A22FFF]\n",
      "\t(No symbol) [0x00007FF786A1F4A4]\n",
      "\t(No symbol) [0x00007FF786A1F646]\n",
      "\t(No symbol) [0x00007FF786A0EAA9]\n",
      "\tBaseThreadInitThunk [0x00007FFB4C82E8D7+23]\n",
      "\tRtlUserThreadStart [0x00007FFB4E59BF6C+44]\n",
      "\n"
     ]
    },
    {
     "name": "stderr",
     "output_type": "stream",
     "text": [
      "Updating CommonName:  51%|█████     | 1802/3539 [1:40:31<1:53:39,  3.93s/it]"
     ]
    },
    {
     "name": "stdout",
     "output_type": "stream",
     "text": [
      "Failed to get preferred name for ConceptID: 52756005. Error: Message: no such element: Unable to locate element: {\"method\":\"xpath\",\"selector\":\"//th[span[contains(text(), 'Preferred Name')]]/following-sibling::td/p\"}\n",
      "  (Session info: chrome=134.0.6998.118); For documentation on this error, please visit: https://www.selenium.dev/documentation/webdriver/troubleshooting/errors#no-such-element-exception\n",
      "Stacktrace:\n",
      "\tGetHandleVerifier [0x00007FF786DB4C25+3179557]\n",
      "\t(No symbol) [0x00007FF786A188A0]\n",
      "\t(No symbol) [0x00007FF7868A91CA]\n",
      "\t(No symbol) [0x00007FF7868FFA67]\n",
      "\t(No symbol) [0x00007FF7868FFC9C]\n",
      "\t(No symbol) [0x00007FF786953627]\n",
      "\t(No symbol) [0x00007FF786927C6F]\n",
      "\t(No symbol) [0x00007FF7869502F3]\n",
      "\t(No symbol) [0x00007FF786927A03]\n",
      "\t(No symbol) [0x00007FF7868F06D0]\n",
      "\t(No symbol) [0x00007FF7868F1983]\n",
      "\tGetHandleVerifier [0x00007FF786E167CD+3579853]\n",
      "\tGetHandleVerifier [0x00007FF786E2D1D2+3672530]\n",
      "\tGetHandleVerifier [0x00007FF786E22153+3627347]\n",
      "\tGetHandleVerifier [0x00007FF786B8092A+868650]\n",
      "\t(No symbol) [0x00007FF786A22FFF]\n",
      "\t(No symbol) [0x00007FF786A1F4A4]\n",
      "\t(No symbol) [0x00007FF786A1F646]\n",
      "\t(No symbol) [0x00007FF786A0EAA9]\n",
      "\tBaseThreadInitThunk [0x00007FFB4C82E8D7+23]\n",
      "\tRtlUserThreadStart [0x00007FFB4E59BF6C+44]\n",
      "\n"
     ]
    },
    {
     "name": "stderr",
     "output_type": "stream",
     "text": [
      "Updating CommonName:  51%|█████▏    | 1818/3539 [1:43:20<6:20:15, 13.26s/it]"
     ]
    },
    {
     "name": "stdout",
     "output_type": "stream",
     "text": [
      "Failed to get preferred name for ConceptID: 236420000. Error: Message: no such element: Unable to locate element: {\"method\":\"xpath\",\"selector\":\"//th[span[contains(text(), 'Preferred Name')]]/following-sibling::td/p\"}\n",
      "  (Session info: chrome=134.0.6998.118); For documentation on this error, please visit: https://www.selenium.dev/documentation/webdriver/troubleshooting/errors#no-such-element-exception\n",
      "Stacktrace:\n",
      "\tGetHandleVerifier [0x00007FF786DB4C25+3179557]\n",
      "\t(No symbol) [0x00007FF786A188A0]\n",
      "\t(No symbol) [0x00007FF7868A91CA]\n",
      "\t(No symbol) [0x00007FF7868FFA67]\n",
      "\t(No symbol) [0x00007FF7868FFC9C]\n",
      "\t(No symbol) [0x00007FF786953627]\n",
      "\t(No symbol) [0x00007FF786927C6F]\n",
      "\t(No symbol) [0x00007FF7869502F3]\n",
      "\t(No symbol) [0x00007FF786927A03]\n",
      "\t(No symbol) [0x00007FF7868F06D0]\n",
      "\t(No symbol) [0x00007FF7868F1983]\n",
      "\tGetHandleVerifier [0x00007FF786E167CD+3579853]\n",
      "\tGetHandleVerifier [0x00007FF786E2D1D2+3672530]\n",
      "\tGetHandleVerifier [0x00007FF786E22153+3627347]\n",
      "\tGetHandleVerifier [0x00007FF786B8092A+868650]\n",
      "\t(No symbol) [0x00007FF786A22FFF]\n",
      "\t(No symbol) [0x00007FF786A1F4A4]\n",
      "\t(No symbol) [0x00007FF786A1F646]\n",
      "\t(No symbol) [0x00007FF786A0EAA9]\n",
      "\tBaseThreadInitThunk [0x00007FFB4C82E8D7+23]\n",
      "\tRtlUserThreadStart [0x00007FFB4E59BF6C+44]\n",
      "\n"
     ]
    },
    {
     "name": "stderr",
     "output_type": "stream",
     "text": [
      "Updating CommonName:  51%|█████▏    | 1821/3539 [1:43:22<3:17:56,  6.91s/it]"
     ]
    },
    {
     "name": "stdout",
     "output_type": "stream",
     "text": [
      "Failed to get preferred name for ConceptID: 32273002. Error: Message: no such element: Unable to locate element: {\"method\":\"xpath\",\"selector\":\"//th[span[contains(text(), 'Preferred Name')]]/following-sibling::td/p\"}\n",
      "  (Session info: chrome=134.0.6998.118); For documentation on this error, please visit: https://www.selenium.dev/documentation/webdriver/troubleshooting/errors#no-such-element-exception\n",
      "Stacktrace:\n",
      "\tGetHandleVerifier [0x00007FF786DB4C25+3179557]\n",
      "\t(No symbol) [0x00007FF786A188A0]\n",
      "\t(No symbol) [0x00007FF7868A91CA]\n",
      "\t(No symbol) [0x00007FF7868FFA67]\n",
      "\t(No symbol) [0x00007FF7868FFC9C]\n",
      "\t(No symbol) [0x00007FF786953627]\n",
      "\t(No symbol) [0x00007FF786927C6F]\n",
      "\t(No symbol) [0x00007FF7869502F3]\n",
      "\t(No symbol) [0x00007FF786927A03]\n",
      "\t(No symbol) [0x00007FF7868F06D0]\n",
      "\t(No symbol) [0x00007FF7868F1983]\n",
      "\tGetHandleVerifier [0x00007FF786E167CD+3579853]\n",
      "\tGetHandleVerifier [0x00007FF786E2D1D2+3672530]\n",
      "\tGetHandleVerifier [0x00007FF786E22153+3627347]\n",
      "\tGetHandleVerifier [0x00007FF786B8092A+868650]\n",
      "\t(No symbol) [0x00007FF786A22FFF]\n",
      "\t(No symbol) [0x00007FF786A1F4A4]\n",
      "\t(No symbol) [0x00007FF786A1F646]\n",
      "\t(No symbol) [0x00007FF786A0EAA9]\n",
      "\tBaseThreadInitThunk [0x00007FFB4C82E8D7+23]\n",
      "\tRtlUserThreadStart [0x00007FFB4E59BF6C+44]\n",
      "\n"
     ]
    },
    {
     "name": "stderr",
     "output_type": "stream",
     "text": [
      "Updating CommonName:  53%|█████▎    | 1870/3539 [1:46:47<44:17,  1.59s/it]  "
     ]
    },
    {
     "name": "stdout",
     "output_type": "stream",
     "text": [
      "Failed to get preferred name for ConceptID: 397803000. Error: Message: no such element: Unable to locate element: {\"method\":\"xpath\",\"selector\":\"//th[span[contains(text(), 'Preferred Name')]]/following-sibling::td/p\"}\n",
      "  (Session info: chrome=134.0.6998.118); For documentation on this error, please visit: https://www.selenium.dev/documentation/webdriver/troubleshooting/errors#no-such-element-exception\n",
      "Stacktrace:\n",
      "\tGetHandleVerifier [0x00007FF786DB4C25+3179557]\n",
      "\t(No symbol) [0x00007FF786A188A0]\n",
      "\t(No symbol) [0x00007FF7868A91CA]\n",
      "\t(No symbol) [0x00007FF7868FFA67]\n",
      "\t(No symbol) [0x00007FF7868FFC9C]\n",
      "\t(No symbol) [0x00007FF786953627]\n",
      "\t(No symbol) [0x00007FF786927C6F]\n",
      "\t(No symbol) [0x00007FF7869502F3]\n",
      "\t(No symbol) [0x00007FF786927A03]\n",
      "\t(No symbol) [0x00007FF7868F06D0]\n",
      "\t(No symbol) [0x00007FF7868F1983]\n",
      "\tGetHandleVerifier [0x00007FF786E167CD+3579853]\n",
      "\tGetHandleVerifier [0x00007FF786E2D1D2+3672530]\n",
      "\tGetHandleVerifier [0x00007FF786E22153+3627347]\n",
      "\tGetHandleVerifier [0x00007FF786B8092A+868650]\n",
      "\t(No symbol) [0x00007FF786A22FFF]\n",
      "\t(No symbol) [0x00007FF786A1F4A4]\n",
      "\t(No symbol) [0x00007FF786A1F646]\n",
      "\t(No symbol) [0x00007FF786A0EAA9]\n",
      "\tBaseThreadInitThunk [0x00007FFB4C82E8D7+23]\n",
      "\tRtlUserThreadStart [0x00007FFB4E59BF6C+44]\n",
      "\n"
     ]
    },
    {
     "name": "stderr",
     "output_type": "stream",
     "text": [
      "Updating CommonName:  53%|█████▎    | 1878/3539 [1:47:01<47:02,  1.70s/it]"
     ]
    },
    {
     "name": "stdout",
     "output_type": "stream",
     "text": [
      "Failed to get preferred name for ConceptID: 236084000. Error: Message: no such element: Unable to locate element: {\"method\":\"xpath\",\"selector\":\"//th[span[contains(text(), 'Preferred Name')]]/following-sibling::td/p\"}\n",
      "  (Session info: chrome=134.0.6998.118); For documentation on this error, please visit: https://www.selenium.dev/documentation/webdriver/troubleshooting/errors#no-such-element-exception\n",
      "Stacktrace:\n",
      "\tGetHandleVerifier [0x00007FF786DB4C25+3179557]\n",
      "\t(No symbol) [0x00007FF786A188A0]\n",
      "\t(No symbol) [0x00007FF7868A91CA]\n",
      "\t(No symbol) [0x00007FF7868FFA67]\n",
      "\t(No symbol) [0x00007FF7868FFC9C]\n",
      "\t(No symbol) [0x00007FF786953627]\n",
      "\t(No symbol) [0x00007FF786927C6F]\n",
      "\t(No symbol) [0x00007FF7869502F3]\n",
      "\t(No symbol) [0x00007FF786927A03]\n",
      "\t(No symbol) [0x00007FF7868F06D0]\n",
      "\t(No symbol) [0x00007FF7868F1983]\n",
      "\tGetHandleVerifier [0x00007FF786E167CD+3579853]\n",
      "\tGetHandleVerifier [0x00007FF786E2D1D2+3672530]\n",
      "\tGetHandleVerifier [0x00007FF786E22153+3627347]\n",
      "\tGetHandleVerifier [0x00007FF786B8092A+868650]\n",
      "\t(No symbol) [0x00007FF786A22FFF]\n",
      "\t(No symbol) [0x00007FF786A1F4A4]\n",
      "\t(No symbol) [0x00007FF786A1F646]\n",
      "\t(No symbol) [0x00007FF786A0EAA9]\n",
      "\tBaseThreadInitThunk [0x00007FFB4C82E8D7+23]\n",
      "\tRtlUserThreadStart [0x00007FFB4E59BF6C+44]\n",
      "\n"
     ]
    },
    {
     "name": "stderr",
     "output_type": "stream",
     "text": [
      "Updating CommonName:  54%|█████▎    | 1899/3539 [1:48:44<48:46,  1.78s/it]  "
     ]
    },
    {
     "name": "stdout",
     "output_type": "stream",
     "text": [
      "Failed to get preferred name for ConceptID: 236425005. Error: Message: no such element: Unable to locate element: {\"method\":\"xpath\",\"selector\":\"//th[span[contains(text(), 'Preferred Name')]]/following-sibling::td/p\"}\n",
      "  (Session info: chrome=134.0.6998.118); For documentation on this error, please visit: https://www.selenium.dev/documentation/webdriver/troubleshooting/errors#no-such-element-exception\n",
      "Stacktrace:\n",
      "\tGetHandleVerifier [0x00007FF786DB4C25+3179557]\n",
      "\t(No symbol) [0x00007FF786A188A0]\n",
      "\t(No symbol) [0x00007FF7868A91CA]\n",
      "\t(No symbol) [0x00007FF7868FFA67]\n",
      "\t(No symbol) [0x00007FF7868FFC9C]\n",
      "\t(No symbol) [0x00007FF786953627]\n",
      "\t(No symbol) [0x00007FF786927C6F]\n",
      "\t(No symbol) [0x00007FF7869502F3]\n",
      "\t(No symbol) [0x00007FF786927A03]\n",
      "\t(No symbol) [0x00007FF7868F06D0]\n",
      "\t(No symbol) [0x00007FF7868F1983]\n",
      "\tGetHandleVerifier [0x00007FF786E167CD+3579853]\n",
      "\tGetHandleVerifier [0x00007FF786E2D1D2+3672530]\n",
      "\tGetHandleVerifier [0x00007FF786E22153+3627347]\n",
      "\tGetHandleVerifier [0x00007FF786B8092A+868650]\n",
      "\t(No symbol) [0x00007FF786A22FFF]\n",
      "\t(No symbol) [0x00007FF786A1F4A4]\n",
      "\t(No symbol) [0x00007FF786A1F646]\n",
      "\t(No symbol) [0x00007FF786A0EAA9]\n",
      "\tBaseThreadInitThunk [0x00007FFB4C82E8D7+23]\n",
      "\tRtlUserThreadStart [0x00007FFB4E59BF6C+44]\n",
      "\n"
     ]
    },
    {
     "name": "stderr",
     "output_type": "stream",
     "text": [
      "Updating CommonName:  54%|█████▍    | 1912/3539 [1:49:08<34:44,  1.28s/it]  "
     ]
    },
    {
     "name": "stdout",
     "output_type": "stream",
     "text": [
      "Failed to get preferred name for ConceptID: 32273002. Error: Message: no such element: Unable to locate element: {\"method\":\"xpath\",\"selector\":\"//th[span[contains(text(), 'Preferred Name')]]/following-sibling::td/p\"}\n",
      "  (Session info: chrome=134.0.6998.118); For documentation on this error, please visit: https://www.selenium.dev/documentation/webdriver/troubleshooting/errors#no-such-element-exception\n",
      "Stacktrace:\n",
      "\tGetHandleVerifier [0x00007FF786DB4C25+3179557]\n",
      "\t(No symbol) [0x00007FF786A188A0]\n",
      "\t(No symbol) [0x00007FF7868A91CA]\n",
      "\t(No symbol) [0x00007FF7868FFA67]\n",
      "\t(No symbol) [0x00007FF7868FFC9C]\n",
      "\t(No symbol) [0x00007FF786953627]\n",
      "\t(No symbol) [0x00007FF786927C6F]\n",
      "\t(No symbol) [0x00007FF7869502F3]\n",
      "\t(No symbol) [0x00007FF786927A03]\n",
      "\t(No symbol) [0x00007FF7868F06D0]\n",
      "\t(No symbol) [0x00007FF7868F1983]\n",
      "\tGetHandleVerifier [0x00007FF786E167CD+3579853]\n",
      "\tGetHandleVerifier [0x00007FF786E2D1D2+3672530]\n",
      "\tGetHandleVerifier [0x00007FF786E22153+3627347]\n",
      "\tGetHandleVerifier [0x00007FF786B8092A+868650]\n",
      "\t(No symbol) [0x00007FF786A22FFF]\n",
      "\t(No symbol) [0x00007FF786A1F4A4]\n",
      "\t(No symbol) [0x00007FF786A1F646]\n",
      "\t(No symbol) [0x00007FF786A0EAA9]\n",
      "\tBaseThreadInitThunk [0x00007FFB4C82E8D7+23]\n",
      "\tRtlUserThreadStart [0x00007FFB4E59BF6C+44]\n",
      "\n"
     ]
    },
    {
     "name": "stderr",
     "output_type": "stream",
     "text": [
      "Updating CommonName:  55%|█████▍    | 1929/3539 [1:50:08<1:36:53,  3.61s/it]"
     ]
    },
    {
     "name": "stdout",
     "output_type": "stream",
     "text": [
      "Failed to get preferred name for ConceptID: 239928004. Error: Message: no such element: Unable to locate element: {\"method\":\"xpath\",\"selector\":\"//th[span[contains(text(), 'Preferred Name')]]/following-sibling::td/p\"}\n",
      "  (Session info: chrome=134.0.6998.118); For documentation on this error, please visit: https://www.selenium.dev/documentation/webdriver/troubleshooting/errors#no-such-element-exception\n",
      "Stacktrace:\n",
      "\tGetHandleVerifier [0x00007FF786DB4C25+3179557]\n",
      "\t(No symbol) [0x00007FF786A188A0]\n",
      "\t(No symbol) [0x00007FF7868A91CA]\n",
      "\t(No symbol) [0x00007FF7868FFA67]\n",
      "\t(No symbol) [0x00007FF7868FFC9C]\n",
      "\t(No symbol) [0x00007FF786953627]\n",
      "\t(No symbol) [0x00007FF786927C6F]\n",
      "\t(No symbol) [0x00007FF7869502F3]\n",
      "\t(No symbol) [0x00007FF786927A03]\n",
      "\t(No symbol) [0x00007FF7868F06D0]\n",
      "\t(No symbol) [0x00007FF7868F1983]\n",
      "\tGetHandleVerifier [0x00007FF786E167CD+3579853]\n",
      "\tGetHandleVerifier [0x00007FF786E2D1D2+3672530]\n",
      "\tGetHandleVerifier [0x00007FF786E22153+3627347]\n",
      "\tGetHandleVerifier [0x00007FF786B8092A+868650]\n",
      "\t(No symbol) [0x00007FF786A22FFF]\n",
      "\t(No symbol) [0x00007FF786A1F4A4]\n",
      "\t(No symbol) [0x00007FF786A1F646]\n",
      "\t(No symbol) [0x00007FF786A0EAA9]\n",
      "\tBaseThreadInitThunk [0x00007FFB4C82E8D7+23]\n",
      "\tRtlUserThreadStart [0x00007FFB4E59BF6C+44]\n",
      "\n"
     ]
    },
    {
     "name": "stderr",
     "output_type": "stream",
     "text": [
      "Updating CommonName:  55%|█████▍    | 1937/3539 [1:51:12<2:20:09,  5.25s/it]"
     ]
    },
    {
     "name": "stdout",
     "output_type": "stream",
     "text": [
      "Failed to get preferred name for ConceptID: 33339001. Error: Message: no such element: Unable to locate element: {\"method\":\"xpath\",\"selector\":\"//th[span[contains(text(), 'Preferred Name')]]/following-sibling::td/p\"}\n",
      "  (Session info: chrome=134.0.6998.118); For documentation on this error, please visit: https://www.selenium.dev/documentation/webdriver/troubleshooting/errors#no-such-element-exception\n",
      "Stacktrace:\n",
      "\tGetHandleVerifier [0x00007FF786DB4C25+3179557]\n",
      "\t(No symbol) [0x00007FF786A188A0]\n",
      "\t(No symbol) [0x00007FF7868A91CA]\n",
      "\t(No symbol) [0x00007FF7868FFA67]\n",
      "\t(No symbol) [0x00007FF7868FFC9C]\n",
      "\t(No symbol) [0x00007FF786953627]\n",
      "\t(No symbol) [0x00007FF786927C6F]\n",
      "\t(No symbol) [0x00007FF7869502F3]\n",
      "\t(No symbol) [0x00007FF786927A03]\n",
      "\t(No symbol) [0x00007FF7868F06D0]\n",
      "\t(No symbol) [0x00007FF7868F1983]\n",
      "\tGetHandleVerifier [0x00007FF786E167CD+3579853]\n",
      "\tGetHandleVerifier [0x00007FF786E2D1D2+3672530]\n",
      "\tGetHandleVerifier [0x00007FF786E22153+3627347]\n",
      "\tGetHandleVerifier [0x00007FF786B8092A+868650]\n",
      "\t(No symbol) [0x00007FF786A22FFF]\n",
      "\t(No symbol) [0x00007FF786A1F4A4]\n",
      "\t(No symbol) [0x00007FF786A1F646]\n",
      "\t(No symbol) [0x00007FF786A0EAA9]\n",
      "\tBaseThreadInitThunk [0x00007FFB4C82E8D7+23]\n",
      "\tRtlUserThreadStart [0x00007FFB4E59BF6C+44]\n",
      "\n"
     ]
    },
    {
     "name": "stderr",
     "output_type": "stream",
     "text": [
      "Updating CommonName:  55%|█████▌    | 1955/3539 [1:52:29<1:47:31,  4.07s/it]"
     ]
    },
    {
     "name": "stdout",
     "output_type": "stream",
     "text": [
      "Failed to get preferred name for ConceptID: 33339001. Error: Message: no such element: Unable to locate element: {\"method\":\"xpath\",\"selector\":\"//th[span[contains(text(), 'Preferred Name')]]/following-sibling::td/p\"}\n",
      "  (Session info: chrome=134.0.6998.118); For documentation on this error, please visit: https://www.selenium.dev/documentation/webdriver/troubleshooting/errors#no-such-element-exception\n",
      "Stacktrace:\n",
      "\tGetHandleVerifier [0x00007FF786DB4C25+3179557]\n",
      "\t(No symbol) [0x00007FF786A188A0]\n",
      "\t(No symbol) [0x00007FF7868A91CA]\n",
      "\t(No symbol) [0x00007FF7868FFA67]\n",
      "\t(No symbol) [0x00007FF7868FFC9C]\n",
      "\t(No symbol) [0x00007FF786953627]\n",
      "\t(No symbol) [0x00007FF786927C6F]\n",
      "\t(No symbol) [0x00007FF7869502F3]\n",
      "\t(No symbol) [0x00007FF786927A03]\n",
      "\t(No symbol) [0x00007FF7868F06D0]\n",
      "\t(No symbol) [0x00007FF7868F1983]\n",
      "\tGetHandleVerifier [0x00007FF786E167CD+3579853]\n",
      "\tGetHandleVerifier [0x00007FF786E2D1D2+3672530]\n",
      "\tGetHandleVerifier [0x00007FF786E22153+3627347]\n",
      "\tGetHandleVerifier [0x00007FF786B8092A+868650]\n",
      "\t(No symbol) [0x00007FF786A22FFF]\n",
      "\t(No symbol) [0x00007FF786A1F4A4]\n",
      "\t(No symbol) [0x00007FF786A1F646]\n",
      "\t(No symbol) [0x00007FF786A0EAA9]\n",
      "\tBaseThreadInitThunk [0x00007FFB4C82E8D7+23]\n",
      "\tRtlUserThreadStart [0x00007FFB4E59BF6C+44]\n",
      "\n"
     ]
    },
    {
     "name": "stderr",
     "output_type": "stream",
     "text": [
      "Updating CommonName:  55%|█████▌    | 1959/3539 [1:52:30<1:02:28,  2.37s/it]"
     ]
    },
    {
     "name": "stdout",
     "output_type": "stream",
     "text": [
      "Failed to get preferred name for ConceptID: 410795001. Error: Message: no such element: Unable to locate element: {\"method\":\"xpath\",\"selector\":\"//th[span[contains(text(), 'Preferred Name')]]/following-sibling::td/p\"}\n",
      "  (Session info: chrome=134.0.6998.118); For documentation on this error, please visit: https://www.selenium.dev/documentation/webdriver/troubleshooting/errors#no-such-element-exception\n",
      "Stacktrace:\n",
      "\tGetHandleVerifier [0x00007FF786DB4C25+3179557]\n",
      "\t(No symbol) [0x00007FF786A188A0]\n",
      "\t(No symbol) [0x00007FF7868A91CA]\n",
      "\t(No symbol) [0x00007FF7868FFA67]\n",
      "\t(No symbol) [0x00007FF7868FFC9C]\n",
      "\t(No symbol) [0x00007FF786953627]\n",
      "\t(No symbol) [0x00007FF786927C6F]\n",
      "\t(No symbol) [0x00007FF7869502F3]\n",
      "\t(No symbol) [0x00007FF786927A03]\n",
      "\t(No symbol) [0x00007FF7868F06D0]\n",
      "\t(No symbol) [0x00007FF7868F1983]\n",
      "\tGetHandleVerifier [0x00007FF786E167CD+3579853]\n",
      "\tGetHandleVerifier [0x00007FF786E2D1D2+3672530]\n",
      "\tGetHandleVerifier [0x00007FF786E22153+3627347]\n",
      "\tGetHandleVerifier [0x00007FF786B8092A+868650]\n",
      "\t(No symbol) [0x00007FF786A22FFF]\n",
      "\t(No symbol) [0x00007FF786A1F4A4]\n",
      "\t(No symbol) [0x00007FF786A1F646]\n",
      "\t(No symbol) [0x00007FF786A0EAA9]\n",
      "\tBaseThreadInitThunk [0x00007FFB4C82E8D7+23]\n",
      "\tRtlUserThreadStart [0x00007FFB4E59BF6C+44]\n",
      "\n"
     ]
    },
    {
     "name": "stderr",
     "output_type": "stream",
     "text": [
      "Updating CommonName:  56%|█████▌    | 1969/3539 [1:52:47<41:19,  1.58s/it]  "
     ]
    },
    {
     "name": "stdout",
     "output_type": "stream",
     "text": [
      "Failed to get preferred name for ConceptID: 240411003. Error: Message: no such element: Unable to locate element: {\"method\":\"xpath\",\"selector\":\"//th[span[contains(text(), 'Preferred Name')]]/following-sibling::td/p\"}\n",
      "  (Session info: chrome=134.0.6998.118); For documentation on this error, please visit: https://www.selenium.dev/documentation/webdriver/troubleshooting/errors#no-such-element-exception\n",
      "Stacktrace:\n",
      "\tGetHandleVerifier [0x00007FF786DB4C25+3179557]\n",
      "\t(No symbol) [0x00007FF786A188A0]\n",
      "\t(No symbol) [0x00007FF7868A91CA]\n",
      "\t(No symbol) [0x00007FF7868FFA67]\n",
      "\t(No symbol) [0x00007FF7868FFC9C]\n",
      "\t(No symbol) [0x00007FF786953627]\n",
      "\t(No symbol) [0x00007FF786927C6F]\n",
      "\t(No symbol) [0x00007FF7869502F3]\n",
      "\t(No symbol) [0x00007FF786927A03]\n",
      "\t(No symbol) [0x00007FF7868F06D0]\n",
      "\t(No symbol) [0x00007FF7868F1983]\n",
      "\tGetHandleVerifier [0x00007FF786E167CD+3579853]\n",
      "\tGetHandleVerifier [0x00007FF786E2D1D2+3672530]\n",
      "\tGetHandleVerifier [0x00007FF786E22153+3627347]\n",
      "\tGetHandleVerifier [0x00007FF786B8092A+868650]\n",
      "\t(No symbol) [0x00007FF786A22FFF]\n",
      "\t(No symbol) [0x00007FF786A1F4A4]\n",
      "\t(No symbol) [0x00007FF786A1F646]\n",
      "\t(No symbol) [0x00007FF786A0EAA9]\n",
      "\tBaseThreadInitThunk [0x00007FFB4C82E8D7+23]\n",
      "\tRtlUserThreadStart [0x00007FFB4E59BF6C+44]\n",
      "\n"
     ]
    },
    {
     "name": "stderr",
     "output_type": "stream",
     "text": [
      "Updating CommonName:  56%|█████▌    | 1977/3539 [1:53:31<1:21:41,  3.14s/it]"
     ]
    },
    {
     "name": "stdout",
     "output_type": "stream",
     "text": [
      "Failed to get preferred name for ConceptID: 33339001. Error: Message: no such element: Unable to locate element: {\"method\":\"xpath\",\"selector\":\"//th[span[contains(text(), 'Preferred Name')]]/following-sibling::td/p\"}\n",
      "  (Session info: chrome=134.0.6998.118); For documentation on this error, please visit: https://www.selenium.dev/documentation/webdriver/troubleshooting/errors#no-such-element-exception\n",
      "Stacktrace:\n",
      "\tGetHandleVerifier [0x00007FF786DB4C25+3179557]\n",
      "\t(No symbol) [0x00007FF786A188A0]\n",
      "\t(No symbol) [0x00007FF7868A91CA]\n",
      "\t(No symbol) [0x00007FF7868FFA67]\n",
      "\t(No symbol) [0x00007FF7868FFC9C]\n",
      "\t(No symbol) [0x00007FF786953627]\n",
      "\t(No symbol) [0x00007FF786927C6F]\n",
      "\t(No symbol) [0x00007FF7869502F3]\n",
      "\t(No symbol) [0x00007FF786927A03]\n",
      "\t(No symbol) [0x00007FF7868F06D0]\n",
      "\t(No symbol) [0x00007FF7868F1983]\n",
      "\tGetHandleVerifier [0x00007FF786E167CD+3579853]\n",
      "\tGetHandleVerifier [0x00007FF786E2D1D2+3672530]\n",
      "\tGetHandleVerifier [0x00007FF786E22153+3627347]\n",
      "\tGetHandleVerifier [0x00007FF786B8092A+868650]\n",
      "\t(No symbol) [0x00007FF786A22FFF]\n",
      "\t(No symbol) [0x00007FF786A1F4A4]\n",
      "\t(No symbol) [0x00007FF786A1F646]\n",
      "\t(No symbol) [0x00007FF786A0EAA9]\n",
      "\tBaseThreadInitThunk [0x00007FFB4C82E8D7+23]\n",
      "\tRtlUserThreadStart [0x00007FFB4E59BF6C+44]\n",
      "\n"
     ]
    },
    {
     "name": "stderr",
     "output_type": "stream",
     "text": [
      "Updating CommonName:  56%|█████▌    | 1988/3539 [1:54:02<1:06:41,  2.58s/it]"
     ]
    },
    {
     "name": "stdout",
     "output_type": "stream",
     "text": [
      "Failed to get preferred name for ConceptID: 410795001. Error: Message: no such element: Unable to locate element: {\"method\":\"xpath\",\"selector\":\"//th[span[contains(text(), 'Preferred Name')]]/following-sibling::td/p\"}\n",
      "  (Session info: chrome=134.0.6998.118); For documentation on this error, please visit: https://www.selenium.dev/documentation/webdriver/troubleshooting/errors#no-such-element-exception\n",
      "Stacktrace:\n",
      "\tGetHandleVerifier [0x00007FF786DB4C25+3179557]\n",
      "\t(No symbol) [0x00007FF786A188A0]\n",
      "\t(No symbol) [0x00007FF7868A91CA]\n",
      "\t(No symbol) [0x00007FF7868FFA67]\n",
      "\t(No symbol) [0x00007FF7868FFC9C]\n",
      "\t(No symbol) [0x00007FF786953627]\n",
      "\t(No symbol) [0x00007FF786927C6F]\n",
      "\t(No symbol) [0x00007FF7869502F3]\n",
      "\t(No symbol) [0x00007FF786927A03]\n",
      "\t(No symbol) [0x00007FF7868F06D0]\n",
      "\t(No symbol) [0x00007FF7868F1983]\n",
      "\tGetHandleVerifier [0x00007FF786E167CD+3579853]\n",
      "\tGetHandleVerifier [0x00007FF786E2D1D2+3672530]\n",
      "\tGetHandleVerifier [0x00007FF786E22153+3627347]\n",
      "\tGetHandleVerifier [0x00007FF786B8092A+868650]\n",
      "\t(No symbol) [0x00007FF786A22FFF]\n",
      "\t(No symbol) [0x00007FF786A1F4A4]\n",
      "\t(No symbol) [0x00007FF786A1F646]\n",
      "\t(No symbol) [0x00007FF786A0EAA9]\n",
      "\tBaseThreadInitThunk [0x00007FFB4C82E8D7+23]\n",
      "\tRtlUserThreadStart [0x00007FFB4E59BF6C+44]\n",
      "\n"
     ]
    },
    {
     "name": "stderr",
     "output_type": "stream",
     "text": [
      "Updating CommonName:  56%|█████▋    | 1995/3539 [1:54:24<1:13:41,  2.86s/it]"
     ]
    },
    {
     "name": "stdout",
     "output_type": "stream",
     "text": [
      "Failed to get preferred name for ConceptID: 69878008. Error: Message: no such element: Unable to locate element: {\"method\":\"xpath\",\"selector\":\"//th[span[contains(text(), 'Preferred Name')]]/following-sibling::td/p\"}\n",
      "  (Session info: chrome=134.0.6998.118); For documentation on this error, please visit: https://www.selenium.dev/documentation/webdriver/troubleshooting/errors#no-such-element-exception\n",
      "Stacktrace:\n",
      "\tGetHandleVerifier [0x00007FF786DB4C25+3179557]\n",
      "\t(No symbol) [0x00007FF786A188A0]\n",
      "\t(No symbol) [0x00007FF7868A91CA]\n",
      "\t(No symbol) [0x00007FF7868FFA67]\n",
      "\t(No symbol) [0x00007FF7868FFC9C]\n",
      "\t(No symbol) [0x00007FF786953627]\n",
      "\t(No symbol) [0x00007FF786927C6F]\n",
      "\t(No symbol) [0x00007FF7869502F3]\n",
      "\t(No symbol) [0x00007FF786927A03]\n",
      "\t(No symbol) [0x00007FF7868F06D0]\n",
      "\t(No symbol) [0x00007FF7868F1983]\n",
      "\tGetHandleVerifier [0x00007FF786E167CD+3579853]\n",
      "\tGetHandleVerifier [0x00007FF786E2D1D2+3672530]\n",
      "\tGetHandleVerifier [0x00007FF786E22153+3627347]\n",
      "\tGetHandleVerifier [0x00007FF786B8092A+868650]\n",
      "\t(No symbol) [0x00007FF786A22FFF]\n",
      "\t(No symbol) [0x00007FF786A1F4A4]\n",
      "\t(No symbol) [0x00007FF786A1F646]\n",
      "\t(No symbol) [0x00007FF786A0EAA9]\n",
      "\tBaseThreadInitThunk [0x00007FFB4C82E8D7+23]\n",
      "\tRtlUserThreadStart [0x00007FFB4E59BF6C+44]\n",
      "\n"
     ]
    },
    {
     "name": "stderr",
     "output_type": "stream",
     "text": [
      "Updating CommonName:  56%|█████▋    | 1996/3539 [1:54:25<1:05:54,  2.56s/it]"
     ]
    },
    {
     "name": "stdout",
     "output_type": "stream",
     "text": [
      "Failed to get preferred name for ConceptID: 69878008. Error: Message: no such element: Unable to locate element: {\"method\":\"xpath\",\"selector\":\"//th[span[contains(text(), 'Preferred Name')]]/following-sibling::td/p\"}\n",
      "  (Session info: chrome=134.0.6998.118); For documentation on this error, please visit: https://www.selenium.dev/documentation/webdriver/troubleshooting/errors#no-such-element-exception\n",
      "Stacktrace:\n",
      "\tGetHandleVerifier [0x00007FF786DB4C25+3179557]\n",
      "\t(No symbol) [0x00007FF786A188A0]\n",
      "\t(No symbol) [0x00007FF7868A91CA]\n",
      "\t(No symbol) [0x00007FF7868FFA67]\n",
      "\t(No symbol) [0x00007FF7868FFC9C]\n",
      "\t(No symbol) [0x00007FF786953627]\n",
      "\t(No symbol) [0x00007FF786927C6F]\n",
      "\t(No symbol) [0x00007FF7869502F3]\n",
      "\t(No symbol) [0x00007FF786927A03]\n",
      "\t(No symbol) [0x00007FF7868F06D0]\n",
      "\t(No symbol) [0x00007FF7868F1983]\n",
      "\tGetHandleVerifier [0x00007FF786E167CD+3579853]\n",
      "\tGetHandleVerifier [0x00007FF786E2D1D2+3672530]\n",
      "\tGetHandleVerifier [0x00007FF786E22153+3627347]\n",
      "\tGetHandleVerifier [0x00007FF786B8092A+868650]\n",
      "\t(No symbol) [0x00007FF786A22FFF]\n",
      "\t(No symbol) [0x00007FF786A1F4A4]\n",
      "\t(No symbol) [0x00007FF786A1F646]\n",
      "\t(No symbol) [0x00007FF786A0EAA9]\n",
      "\tBaseThreadInitThunk [0x00007FFB4C82E8D7+23]\n",
      "\tRtlUserThreadStart [0x00007FFB4E59BF6C+44]\n",
      "\n"
     ]
    },
    {
     "name": "stderr",
     "output_type": "stream",
     "text": [
      "Updating CommonName:  57%|█████▋    | 2013/3539 [1:54:56<32:51,  1.29s/it]  "
     ]
    },
    {
     "name": "stdout",
     "output_type": "stream",
     "text": [
      "Failed to get preferred name for ConceptID: 315004001. Error: Message: no such element: Unable to locate element: {\"method\":\"xpath\",\"selector\":\"//th[span[contains(text(), 'Preferred Name')]]/following-sibling::td/p\"}\n",
      "  (Session info: chrome=134.0.6998.118); For documentation on this error, please visit: https://www.selenium.dev/documentation/webdriver/troubleshooting/errors#no-such-element-exception\n",
      "Stacktrace:\n",
      "\tGetHandleVerifier [0x00007FF786DB4C25+3179557]\n",
      "\t(No symbol) [0x00007FF786A188A0]\n",
      "\t(No symbol) [0x00007FF7868A91CA]\n",
      "\t(No symbol) [0x00007FF7868FFA67]\n",
      "\t(No symbol) [0x00007FF7868FFC9C]\n",
      "\t(No symbol) [0x00007FF786953627]\n",
      "\t(No symbol) [0x00007FF786927C6F]\n",
      "\t(No symbol) [0x00007FF7869502F3]\n",
      "\t(No symbol) [0x00007FF786927A03]\n",
      "\t(No symbol) [0x00007FF7868F06D0]\n",
      "\t(No symbol) [0x00007FF7868F1983]\n",
      "\tGetHandleVerifier [0x00007FF786E167CD+3579853]\n",
      "\tGetHandleVerifier [0x00007FF786E2D1D2+3672530]\n",
      "\tGetHandleVerifier [0x00007FF786E22153+3627347]\n",
      "\tGetHandleVerifier [0x00007FF786B8092A+868650]\n",
      "\t(No symbol) [0x00007FF786A22FFF]\n",
      "\t(No symbol) [0x00007FF786A1F4A4]\n",
      "\t(No symbol) [0x00007FF786A1F646]\n",
      "\t(No symbol) [0x00007FF786A0EAA9]\n",
      "\tBaseThreadInitThunk [0x00007FFB4C82E8D7+23]\n",
      "\tRtlUserThreadStart [0x00007FFB4E59BF6C+44]\n",
      "\n"
     ]
    },
    {
     "name": "stderr",
     "output_type": "stream",
     "text": [
      "Updating CommonName:  57%|█████▋    | 2022/3539 [1:55:09<34:01,  1.35s/it]"
     ]
    },
    {
     "name": "stdout",
     "output_type": "stream",
     "text": [
      "Failed to get preferred name for ConceptID: 410795001. Error: Message: no such element: Unable to locate element: {\"method\":\"xpath\",\"selector\":\"//th[span[contains(text(), 'Preferred Name')]]/following-sibling::td/p\"}\n",
      "  (Session info: chrome=134.0.6998.118); For documentation on this error, please visit: https://www.selenium.dev/documentation/webdriver/troubleshooting/errors#no-such-element-exception\n",
      "Stacktrace:\n",
      "\tGetHandleVerifier [0x00007FF786DB4C25+3179557]\n",
      "\t(No symbol) [0x00007FF786A188A0]\n",
      "\t(No symbol) [0x00007FF7868A91CA]\n",
      "\t(No symbol) [0x00007FF7868FFA67]\n",
      "\t(No symbol) [0x00007FF7868FFC9C]\n",
      "\t(No symbol) [0x00007FF786953627]\n",
      "\t(No symbol) [0x00007FF786927C6F]\n",
      "\t(No symbol) [0x00007FF7869502F3]\n",
      "\t(No symbol) [0x00007FF786927A03]\n",
      "\t(No symbol) [0x00007FF7868F06D0]\n",
      "\t(No symbol) [0x00007FF7868F1983]\n",
      "\tGetHandleVerifier [0x00007FF786E167CD+3579853]\n",
      "\tGetHandleVerifier [0x00007FF786E2D1D2+3672530]\n",
      "\tGetHandleVerifier [0x00007FF786E22153+3627347]\n",
      "\tGetHandleVerifier [0x00007FF786B8092A+868650]\n",
      "\t(No symbol) [0x00007FF786A22FFF]\n",
      "\t(No symbol) [0x00007FF786A1F4A4]\n",
      "\t(No symbol) [0x00007FF786A1F646]\n",
      "\t(No symbol) [0x00007FF786A0EAA9]\n",
      "\tBaseThreadInitThunk [0x00007FFB4C82E8D7+23]\n",
      "\tRtlUserThreadStart [0x00007FFB4E59BF6C+44]\n",
      "\n"
     ]
    },
    {
     "name": "stderr",
     "output_type": "stream",
     "text": [
      "Updating CommonName:  58%|█████▊    | 2055/3539 [1:58:11<53:54,  2.18s/it]  "
     ]
    },
    {
     "name": "stdout",
     "output_type": "stream",
     "text": [
      "Failed to get preferred name for ConceptID: 285618001. Error: Message: no such element: Unable to locate element: {\"method\":\"xpath\",\"selector\":\"//th[span[contains(text(), 'Preferred Name')]]/following-sibling::td/p\"}\n",
      "  (Session info: chrome=134.0.6998.118); For documentation on this error, please visit: https://www.selenium.dev/documentation/webdriver/troubleshooting/errors#no-such-element-exception\n",
      "Stacktrace:\n",
      "\tGetHandleVerifier [0x00007FF786DB4C25+3179557]\n",
      "\t(No symbol) [0x00007FF786A188A0]\n",
      "\t(No symbol) [0x00007FF7868A91CA]\n",
      "\t(No symbol) [0x00007FF7868FFA67]\n",
      "\t(No symbol) [0x00007FF7868FFC9C]\n",
      "\t(No symbol) [0x00007FF786953627]\n",
      "\t(No symbol) [0x00007FF786927C6F]\n",
      "\t(No symbol) [0x00007FF7869502F3]\n",
      "\t(No symbol) [0x00007FF786927A03]\n",
      "\t(No symbol) [0x00007FF7868F06D0]\n",
      "\t(No symbol) [0x00007FF7868F1983]\n",
      "\tGetHandleVerifier [0x00007FF786E167CD+3579853]\n",
      "\tGetHandleVerifier [0x00007FF786E2D1D2+3672530]\n",
      "\tGetHandleVerifier [0x00007FF786E22153+3627347]\n",
      "\tGetHandleVerifier [0x00007FF786B8092A+868650]\n",
      "\t(No symbol) [0x00007FF786A22FFF]\n",
      "\t(No symbol) [0x00007FF786A1F4A4]\n",
      "\t(No symbol) [0x00007FF786A1F646]\n",
      "\t(No symbol) [0x00007FF786A0EAA9]\n",
      "\tBaseThreadInitThunk [0x00007FFB4C82E8D7+23]\n",
      "\tRtlUserThreadStart [0x00007FFB4E59BF6C+44]\n",
      "\n"
     ]
    },
    {
     "name": "stderr",
     "output_type": "stream",
     "text": [
      "Updating CommonName:  59%|█████▉    | 2085/3539 [1:59:51<1:17:56,  3.22s/it]"
     ]
    },
    {
     "name": "stdout",
     "output_type": "stream",
     "text": [
      "Failed to get preferred name for ConceptID: 33339001. Error: Message: no such element: Unable to locate element: {\"method\":\"xpath\",\"selector\":\"//th[span[contains(text(), 'Preferred Name')]]/following-sibling::td/p\"}\n",
      "  (Session info: chrome=134.0.6998.118); For documentation on this error, please visit: https://www.selenium.dev/documentation/webdriver/troubleshooting/errors#no-such-element-exception\n",
      "Stacktrace:\n",
      "\tGetHandleVerifier [0x00007FF786DB4C25+3179557]\n",
      "\t(No symbol) [0x00007FF786A188A0]\n",
      "\t(No symbol) [0x00007FF7868A91CA]\n",
      "\t(No symbol) [0x00007FF7868FFA67]\n",
      "\t(No symbol) [0x00007FF7868FFC9C]\n",
      "\t(No symbol) [0x00007FF786953627]\n",
      "\t(No symbol) [0x00007FF786927C6F]\n",
      "\t(No symbol) [0x00007FF7869502F3]\n",
      "\t(No symbol) [0x00007FF786927A03]\n",
      "\t(No symbol) [0x00007FF7868F06D0]\n",
      "\t(No symbol) [0x00007FF7868F1983]\n",
      "\tGetHandleVerifier [0x00007FF786E167CD+3579853]\n",
      "\tGetHandleVerifier [0x00007FF786E2D1D2+3672530]\n",
      "\tGetHandleVerifier [0x00007FF786E22153+3627347]\n",
      "\tGetHandleVerifier [0x00007FF786B8092A+868650]\n",
      "\t(No symbol) [0x00007FF786A22FFF]\n",
      "\t(No symbol) [0x00007FF786A1F4A4]\n",
      "\t(No symbol) [0x00007FF786A1F646]\n",
      "\t(No symbol) [0x00007FF786A0EAA9]\n",
      "\tBaseThreadInitThunk [0x00007FFB4C82E8D7+23]\n",
      "\tRtlUserThreadStart [0x00007FFB4E59BF6C+44]\n",
      "\n"
     ]
    },
    {
     "name": "stderr",
     "output_type": "stream",
     "text": [
      "Updating CommonName:  61%|██████▏   | 2172/3539 [2:06:54<30:06,  1.32s/it]  "
     ]
    },
    {
     "name": "stdout",
     "output_type": "stream",
     "text": [
      "Failed to get preferred name for ConceptID: 266677000. Error: Message: no such element: Unable to locate element: {\"method\":\"xpath\",\"selector\":\"//th[span[contains(text(), 'Preferred Name')]]/following-sibling::td/p\"}\n",
      "  (Session info: chrome=134.0.6998.118); For documentation on this error, please visit: https://www.selenium.dev/documentation/webdriver/troubleshooting/errors#no-such-element-exception\n",
      "Stacktrace:\n",
      "\tGetHandleVerifier [0x00007FF786DB4C25+3179557]\n",
      "\t(No symbol) [0x00007FF786A188A0]\n",
      "\t(No symbol) [0x00007FF7868A91CA]\n",
      "\t(No symbol) [0x00007FF7868FFA67]\n",
      "\t(No symbol) [0x00007FF7868FFC9C]\n",
      "\t(No symbol) [0x00007FF786953627]\n",
      "\t(No symbol) [0x00007FF786927C6F]\n",
      "\t(No symbol) [0x00007FF7869502F3]\n",
      "\t(No symbol) [0x00007FF786927A03]\n",
      "\t(No symbol) [0x00007FF7868F06D0]\n",
      "\t(No symbol) [0x00007FF7868F1983]\n",
      "\tGetHandleVerifier [0x00007FF786E167CD+3579853]\n",
      "\tGetHandleVerifier [0x00007FF786E2D1D2+3672530]\n",
      "\tGetHandleVerifier [0x00007FF786E22153+3627347]\n",
      "\tGetHandleVerifier [0x00007FF786B8092A+868650]\n",
      "\t(No symbol) [0x00007FF786A22FFF]\n",
      "\t(No symbol) [0x00007FF786A1F4A4]\n",
      "\t(No symbol) [0x00007FF786A1F646]\n",
      "\t(No symbol) [0x00007FF786A0EAA9]\n",
      "\tBaseThreadInitThunk [0x00007FFB4C82E8D7+23]\n",
      "\tRtlUserThreadStart [0x00007FFB4E59BF6C+44]\n",
      "\n"
     ]
    },
    {
     "name": "stderr",
     "output_type": "stream",
     "text": [
      "Updating CommonName:  63%|██████▎   | 2226/3539 [2:12:59<54:08,  2.47s/it]  "
     ]
    },
    {
     "name": "stdout",
     "output_type": "stream",
     "text": [
      "Failed to get preferred name for ConceptID: 236425005. Error: Message: no such element: Unable to locate element: {\"method\":\"xpath\",\"selector\":\"//th[span[contains(text(), 'Preferred Name')]]/following-sibling::td/p\"}\n",
      "  (Session info: chrome=134.0.6998.118); For documentation on this error, please visit: https://www.selenium.dev/documentation/webdriver/troubleshooting/errors#no-such-element-exception\n",
      "Stacktrace:\n",
      "\tGetHandleVerifier [0x00007FF786DB4C25+3179557]\n",
      "\t(No symbol) [0x00007FF786A188A0]\n",
      "\t(No symbol) [0x00007FF7868A91CA]\n",
      "\t(No symbol) [0x00007FF7868FFA67]\n",
      "\t(No symbol) [0x00007FF7868FFC9C]\n",
      "\t(No symbol) [0x00007FF786953627]\n",
      "\t(No symbol) [0x00007FF786927C6F]\n",
      "\t(No symbol) [0x00007FF7869502F3]\n",
      "\t(No symbol) [0x00007FF786927A03]\n",
      "\t(No symbol) [0x00007FF7868F06D0]\n",
      "\t(No symbol) [0x00007FF7868F1983]\n",
      "\tGetHandleVerifier [0x00007FF786E167CD+3579853]\n",
      "\tGetHandleVerifier [0x00007FF786E2D1D2+3672530]\n",
      "\tGetHandleVerifier [0x00007FF786E22153+3627347]\n",
      "\tGetHandleVerifier [0x00007FF786B8092A+868650]\n",
      "\t(No symbol) [0x00007FF786A22FFF]\n",
      "\t(No symbol) [0x00007FF786A1F4A4]\n",
      "\t(No symbol) [0x00007FF786A1F646]\n",
      "\t(No symbol) [0x00007FF786A0EAA9]\n",
      "\tBaseThreadInitThunk [0x00007FFB4C82E8D7+23]\n",
      "\tRtlUserThreadStart [0x00007FFB4E59BF6C+44]\n",
      "\n"
     ]
    },
    {
     "name": "stderr",
     "output_type": "stream",
     "text": [
      "Updating CommonName:  64%|██████▍   | 2268/3539 [2:19:06<2:37:23,  7.43s/it]"
     ]
    },
    {
     "name": "stdout",
     "output_type": "stream",
     "text": [
      "Failed to get preferred name for ConceptID: 236425005. Error: Message: no such element: Unable to locate element: {\"method\":\"xpath\",\"selector\":\"//th[span[contains(text(), 'Preferred Name')]]/following-sibling::td/p\"}\n",
      "  (Session info: chrome=134.0.6998.118); For documentation on this error, please visit: https://www.selenium.dev/documentation/webdriver/troubleshooting/errors#no-such-element-exception\n",
      "Stacktrace:\n",
      "\tGetHandleVerifier [0x00007FF786DB4C25+3179557]\n",
      "\t(No symbol) [0x00007FF786A188A0]\n",
      "\t(No symbol) [0x00007FF7868A91CA]\n",
      "\t(No symbol) [0x00007FF7868FFA67]\n",
      "\t(No symbol) [0x00007FF7868FFC9C]\n",
      "\t(No symbol) [0x00007FF786953627]\n",
      "\t(No symbol) [0x00007FF786927C6F]\n",
      "\t(No symbol) [0x00007FF7869502F3]\n",
      "\t(No symbol) [0x00007FF786927A03]\n",
      "\t(No symbol) [0x00007FF7868F06D0]\n",
      "\t(No symbol) [0x00007FF7868F1983]\n",
      "\tGetHandleVerifier [0x00007FF786E167CD+3579853]\n",
      "\tGetHandleVerifier [0x00007FF786E2D1D2+3672530]\n",
      "\tGetHandleVerifier [0x00007FF786E22153+3627347]\n",
      "\tGetHandleVerifier [0x00007FF786B8092A+868650]\n",
      "\t(No symbol) [0x00007FF786A22FFF]\n",
      "\t(No symbol) [0x00007FF786A1F4A4]\n",
      "\t(No symbol) [0x00007FF786A1F646]\n",
      "\t(No symbol) [0x00007FF786A0EAA9]\n",
      "\tBaseThreadInitThunk [0x00007FFB4C82E8D7+23]\n",
      "\tRtlUserThreadStart [0x00007FFB4E59BF6C+44]\n",
      "\n"
     ]
    },
    {
     "name": "stderr",
     "output_type": "stream",
     "text": [
      "Updating CommonName:  65%|██████▍   | 2286/3539 [2:21:45<2:47:13,  8.01s/it]"
     ]
    },
    {
     "name": "stdout",
     "output_type": "stream",
     "text": [
      "Failed to get preferred name for ConceptID: 236425005. Error: Message: no such element: Unable to locate element: {\"method\":\"xpath\",\"selector\":\"//th[span[contains(text(), 'Preferred Name')]]/following-sibling::td/p\"}\n",
      "  (Session info: chrome=134.0.6998.118); For documentation on this error, please visit: https://www.selenium.dev/documentation/webdriver/troubleshooting/errors#no-such-element-exception\n",
      "Stacktrace:\n",
      "\tGetHandleVerifier [0x00007FF786DB4C25+3179557]\n",
      "\t(No symbol) [0x00007FF786A188A0]\n",
      "\t(No symbol) [0x00007FF7868A91CA]\n",
      "\t(No symbol) [0x00007FF7868FFA67]\n",
      "\t(No symbol) [0x00007FF7868FFC9C]\n",
      "\t(No symbol) [0x00007FF786953627]\n",
      "\t(No symbol) [0x00007FF786927C6F]\n",
      "\t(No symbol) [0x00007FF7869502F3]\n",
      "\t(No symbol) [0x00007FF786927A03]\n",
      "\t(No symbol) [0x00007FF7868F06D0]\n",
      "\t(No symbol) [0x00007FF7868F1983]\n",
      "\tGetHandleVerifier [0x00007FF786E167CD+3579853]\n",
      "\tGetHandleVerifier [0x00007FF786E2D1D2+3672530]\n",
      "\tGetHandleVerifier [0x00007FF786E22153+3627347]\n",
      "\tGetHandleVerifier [0x00007FF786B8092A+868650]\n",
      "\t(No symbol) [0x00007FF786A22FFF]\n",
      "\t(No symbol) [0x00007FF786A1F4A4]\n",
      "\t(No symbol) [0x00007FF786A1F646]\n",
      "\t(No symbol) [0x00007FF786A0EAA9]\n",
      "\tBaseThreadInitThunk [0x00007FFB4C82E8D7+23]\n",
      "\tRtlUserThreadStart [0x00007FFB4E59BF6C+44]\n",
      "\n"
     ]
    },
    {
     "name": "stderr",
     "output_type": "stream",
     "text": [
      "Updating CommonName:  65%|██████▍   | 2295/3539 [2:22:08<57:12,  2.76s/it]  "
     ]
    },
    {
     "name": "stdout",
     "output_type": "stream",
     "text": [
      "Failed to get preferred name for ConceptID: 236425005. Error: Message: no such element: Unable to locate element: {\"method\":\"xpath\",\"selector\":\"//th[span[contains(text(), 'Preferred Name')]]/following-sibling::td/p\"}\n",
      "  (Session info: chrome=134.0.6998.118); For documentation on this error, please visit: https://www.selenium.dev/documentation/webdriver/troubleshooting/errors#no-such-element-exception\n",
      "Stacktrace:\n",
      "\tGetHandleVerifier [0x00007FF786DB4C25+3179557]\n",
      "\t(No symbol) [0x00007FF786A188A0]\n",
      "\t(No symbol) [0x00007FF7868A91CA]\n",
      "\t(No symbol) [0x00007FF7868FFA67]\n",
      "\t(No symbol) [0x00007FF7868FFC9C]\n",
      "\t(No symbol) [0x00007FF786953627]\n",
      "\t(No symbol) [0x00007FF786927C6F]\n",
      "\t(No symbol) [0x00007FF7869502F3]\n",
      "\t(No symbol) [0x00007FF786927A03]\n",
      "\t(No symbol) [0x00007FF7868F06D0]\n",
      "\t(No symbol) [0x00007FF7868F1983]\n",
      "\tGetHandleVerifier [0x00007FF786E167CD+3579853]\n",
      "\tGetHandleVerifier [0x00007FF786E2D1D2+3672530]\n",
      "\tGetHandleVerifier [0x00007FF786E22153+3627347]\n",
      "\tGetHandleVerifier [0x00007FF786B8092A+868650]\n",
      "\t(No symbol) [0x00007FF786A22FFF]\n",
      "\t(No symbol) [0x00007FF786A1F4A4]\n",
      "\t(No symbol) [0x00007FF786A1F646]\n",
      "\t(No symbol) [0x00007FF786A0EAA9]\n",
      "\tBaseThreadInitThunk [0x00007FFB4C82E8D7+23]\n",
      "\tRtlUserThreadStart [0x00007FFB4E59BF6C+44]\n",
      "\n"
     ]
    },
    {
     "name": "stderr",
     "output_type": "stream",
     "text": [
      "Updating CommonName:  66%|██████▌   | 2328/3539 [2:24:33<54:13,  2.69s/it]  "
     ]
    },
    {
     "name": "stdout",
     "output_type": "stream",
     "text": [
      "Failed to get preferred name for ConceptID: 236425005. Error: Message: no such element: Unable to locate element: {\"method\":\"xpath\",\"selector\":\"//th[span[contains(text(), 'Preferred Name')]]/following-sibling::td/p\"}\n",
      "  (Session info: chrome=134.0.6998.118); For documentation on this error, please visit: https://www.selenium.dev/documentation/webdriver/troubleshooting/errors#no-such-element-exception\n",
      "Stacktrace:\n",
      "\tGetHandleVerifier [0x00007FF786DB4C25+3179557]\n",
      "\t(No symbol) [0x00007FF786A188A0]\n",
      "\t(No symbol) [0x00007FF7868A91CA]\n",
      "\t(No symbol) [0x00007FF7868FFA67]\n",
      "\t(No symbol) [0x00007FF7868FFC9C]\n",
      "\t(No symbol) [0x00007FF786953627]\n",
      "\t(No symbol) [0x00007FF786927C6F]\n",
      "\t(No symbol) [0x00007FF7869502F3]\n",
      "\t(No symbol) [0x00007FF786927A03]\n",
      "\t(No symbol) [0x00007FF7868F06D0]\n",
      "\t(No symbol) [0x00007FF7868F1983]\n",
      "\tGetHandleVerifier [0x00007FF786E167CD+3579853]\n",
      "\tGetHandleVerifier [0x00007FF786E2D1D2+3672530]\n",
      "\tGetHandleVerifier [0x00007FF786E22153+3627347]\n",
      "\tGetHandleVerifier [0x00007FF786B8092A+868650]\n",
      "\t(No symbol) [0x00007FF786A22FFF]\n",
      "\t(No symbol) [0x00007FF786A1F4A4]\n",
      "\t(No symbol) [0x00007FF786A1F646]\n",
      "\t(No symbol) [0x00007FF786A0EAA9]\n",
      "\tBaseThreadInitThunk [0x00007FFB4C82E8D7+23]\n",
      "\tRtlUserThreadStart [0x00007FFB4E59BF6C+44]\n",
      "\n"
     ]
    },
    {
     "name": "stderr",
     "output_type": "stream",
     "text": [
      "Updating CommonName:  69%|██████▉   | 2455/3539 [2:34:07<53:49,  2.98s/it]  "
     ]
    },
    {
     "name": "stdout",
     "output_type": "stream",
     "text": [
      "Failed to get preferred name for ConceptID: 186634008. Error: Message: no such element: Unable to locate element: {\"method\":\"xpath\",\"selector\":\"//th[span[contains(text(), 'Preferred Name')]]/following-sibling::td/p\"}\n",
      "  (Session info: chrome=134.0.6998.118); For documentation on this error, please visit: https://www.selenium.dev/documentation/webdriver/troubleshooting/errors#no-such-element-exception\n",
      "Stacktrace:\n",
      "\tGetHandleVerifier [0x00007FF786DB4C25+3179557]\n",
      "\t(No symbol) [0x00007FF786A188A0]\n",
      "\t(No symbol) [0x00007FF7868A91CA]\n",
      "\t(No symbol) [0x00007FF7868FFA67]\n",
      "\t(No symbol) [0x00007FF7868FFC9C]\n",
      "\t(No symbol) [0x00007FF786953627]\n",
      "\t(No symbol) [0x00007FF786927C6F]\n",
      "\t(No symbol) [0x00007FF7869502F3]\n",
      "\t(No symbol) [0x00007FF786927A03]\n",
      "\t(No symbol) [0x00007FF7868F06D0]\n",
      "\t(No symbol) [0x00007FF7868F1983]\n",
      "\tGetHandleVerifier [0x00007FF786E167CD+3579853]\n",
      "\tGetHandleVerifier [0x00007FF786E2D1D2+3672530]\n",
      "\tGetHandleVerifier [0x00007FF786E22153+3627347]\n",
      "\tGetHandleVerifier [0x00007FF786B8092A+868650]\n",
      "\t(No symbol) [0x00007FF786A22FFF]\n",
      "\t(No symbol) [0x00007FF786A1F4A4]\n",
      "\t(No symbol) [0x00007FF786A1F646]\n",
      "\t(No symbol) [0x00007FF786A0EAA9]\n",
      "\tBaseThreadInitThunk [0x00007FFB4C82E8D7+23]\n",
      "\tRtlUserThreadStart [0x00007FFB4E59BF6C+44]\n",
      "\n"
     ]
    },
    {
     "name": "stderr",
     "output_type": "stream",
     "text": [
      "Updating CommonName:  70%|██████▉   | 2462/3539 [2:34:36<57:09,  3.18s/it]  "
     ]
    },
    {
     "name": "stdout",
     "output_type": "stream",
     "text": [
      "Failed to get preferred name for ConceptID: 236425005. Error: Message: no such element: Unable to locate element: {\"method\":\"xpath\",\"selector\":\"//th[span[contains(text(), 'Preferred Name')]]/following-sibling::td/p\"}\n",
      "  (Session info: chrome=134.0.6998.118); For documentation on this error, please visit: https://www.selenium.dev/documentation/webdriver/troubleshooting/errors#no-such-element-exception\n",
      "Stacktrace:\n",
      "\tGetHandleVerifier [0x00007FF786DB4C25+3179557]\n",
      "\t(No symbol) [0x00007FF786A188A0]\n",
      "\t(No symbol) [0x00007FF7868A91CA]\n",
      "\t(No symbol) [0x00007FF7868FFA67]\n",
      "\t(No symbol) [0x00007FF7868FFC9C]\n",
      "\t(No symbol) [0x00007FF786953627]\n",
      "\t(No symbol) [0x00007FF786927C6F]\n",
      "\t(No symbol) [0x00007FF7869502F3]\n",
      "\t(No symbol) [0x00007FF786927A03]\n",
      "\t(No symbol) [0x00007FF7868F06D0]\n",
      "\t(No symbol) [0x00007FF7868F1983]\n",
      "\tGetHandleVerifier [0x00007FF786E167CD+3579853]\n",
      "\tGetHandleVerifier [0x00007FF786E2D1D2+3672530]\n",
      "\tGetHandleVerifier [0x00007FF786E22153+3627347]\n",
      "\tGetHandleVerifier [0x00007FF786B8092A+868650]\n",
      "\t(No symbol) [0x00007FF786A22FFF]\n",
      "\t(No symbol) [0x00007FF786A1F4A4]\n",
      "\t(No symbol) [0x00007FF786A1F646]\n",
      "\t(No symbol) [0x00007FF786A0EAA9]\n",
      "\tBaseThreadInitThunk [0x00007FFB4C82E8D7+23]\n",
      "\tRtlUserThreadStart [0x00007FFB4E59BF6C+44]\n",
      "\n"
     ]
    },
    {
     "name": "stderr",
     "output_type": "stream",
     "text": [
      "Updating CommonName:  70%|███████   | 2478/3539 [2:35:37<46:25,  2.63s/it]  "
     ]
    },
    {
     "name": "stdout",
     "output_type": "stream",
     "text": [
      "Failed to get preferred name for ConceptID: 236425005. Error: Message: no such element: Unable to locate element: {\"method\":\"xpath\",\"selector\":\"//th[span[contains(text(), 'Preferred Name')]]/following-sibling::td/p\"}\n",
      "  (Session info: chrome=134.0.6998.118); For documentation on this error, please visit: https://www.selenium.dev/documentation/webdriver/troubleshooting/errors#no-such-element-exception\n",
      "Stacktrace:\n",
      "\tGetHandleVerifier [0x00007FF786DB4C25+3179557]\n",
      "\t(No symbol) [0x00007FF786A188A0]\n",
      "\t(No symbol) [0x00007FF7868A91CA]\n",
      "\t(No symbol) [0x00007FF7868FFA67]\n",
      "\t(No symbol) [0x00007FF7868FFC9C]\n",
      "\t(No symbol) [0x00007FF786953627]\n",
      "\t(No symbol) [0x00007FF786927C6F]\n",
      "\t(No symbol) [0x00007FF7869502F3]\n",
      "\t(No symbol) [0x00007FF786927A03]\n",
      "\t(No symbol) [0x00007FF7868F06D0]\n",
      "\t(No symbol) [0x00007FF7868F1983]\n",
      "\tGetHandleVerifier [0x00007FF786E167CD+3579853]\n",
      "\tGetHandleVerifier [0x00007FF786E2D1D2+3672530]\n",
      "\tGetHandleVerifier [0x00007FF786E22153+3627347]\n",
      "\tGetHandleVerifier [0x00007FF786B8092A+868650]\n",
      "\t(No symbol) [0x00007FF786A22FFF]\n",
      "\t(No symbol) [0x00007FF786A1F4A4]\n",
      "\t(No symbol) [0x00007FF786A1F646]\n",
      "\t(No symbol) [0x00007FF786A0EAA9]\n",
      "\tBaseThreadInitThunk [0x00007FFB4C82E8D7+23]\n",
      "\tRtlUserThreadStart [0x00007FFB4E59BF6C+44]\n",
      "\n"
     ]
    },
    {
     "name": "stderr",
     "output_type": "stream",
     "text": [
      "Updating CommonName:  71%|███████▏  | 2524/3539 [2:38:25<58:46,  3.47s/it]  "
     ]
    },
    {
     "name": "stdout",
     "output_type": "stream",
     "text": [
      "Failed to get preferred name for ConceptID: 236425005. Error: Message: no such element: Unable to locate element: {\"method\":\"xpath\",\"selector\":\"//th[span[contains(text(), 'Preferred Name')]]/following-sibling::td/p\"}\n",
      "  (Session info: chrome=134.0.6998.118); For documentation on this error, please visit: https://www.selenium.dev/documentation/webdriver/troubleshooting/errors#no-such-element-exception\n",
      "Stacktrace:\n",
      "\tGetHandleVerifier [0x00007FF786DB4C25+3179557]\n",
      "\t(No symbol) [0x00007FF786A188A0]\n",
      "\t(No symbol) [0x00007FF7868A91CA]\n",
      "\t(No symbol) [0x00007FF7868FFA67]\n",
      "\t(No symbol) [0x00007FF7868FFC9C]\n",
      "\t(No symbol) [0x00007FF786953627]\n",
      "\t(No symbol) [0x00007FF786927C6F]\n",
      "\t(No symbol) [0x00007FF7869502F3]\n",
      "\t(No symbol) [0x00007FF786927A03]\n",
      "\t(No symbol) [0x00007FF7868F06D0]\n",
      "\t(No symbol) [0x00007FF7868F1983]\n",
      "\tGetHandleVerifier [0x00007FF786E167CD+3579853]\n",
      "\tGetHandleVerifier [0x00007FF786E2D1D2+3672530]\n",
      "\tGetHandleVerifier [0x00007FF786E22153+3627347]\n",
      "\tGetHandleVerifier [0x00007FF786B8092A+868650]\n",
      "\t(No symbol) [0x00007FF786A22FFF]\n",
      "\t(No symbol) [0x00007FF786A1F4A4]\n",
      "\t(No symbol) [0x00007FF786A1F646]\n",
      "\t(No symbol) [0x00007FF786A0EAA9]\n",
      "\tBaseThreadInitThunk [0x00007FFB4C82E8D7+23]\n",
      "\tRtlUserThreadStart [0x00007FFB4E59BF6C+44]\n",
      "\n"
     ]
    },
    {
     "name": "stderr",
     "output_type": "stream",
     "text": [
      "Updating CommonName:  75%|███████▍  | 2643/3539 [2:46:13<35:24,  2.37s/it]  "
     ]
    },
    {
     "name": "stdout",
     "output_type": "stream",
     "text": [
      "Failed to get preferred name for ConceptID: 236425005. Error: Message: no such element: Unable to locate element: {\"method\":\"xpath\",\"selector\":\"//th[span[contains(text(), 'Preferred Name')]]/following-sibling::td/p\"}\n",
      "  (Session info: chrome=134.0.6998.118); For documentation on this error, please visit: https://www.selenium.dev/documentation/webdriver/troubleshooting/errors#no-such-element-exception\n",
      "Stacktrace:\n",
      "\tGetHandleVerifier [0x00007FF786DB4C25+3179557]\n",
      "\t(No symbol) [0x00007FF786A188A0]\n",
      "\t(No symbol) [0x00007FF7868A91CA]\n",
      "\t(No symbol) [0x00007FF7868FFA67]\n",
      "\t(No symbol) [0x00007FF7868FFC9C]\n",
      "\t(No symbol) [0x00007FF786953627]\n",
      "\t(No symbol) [0x00007FF786927C6F]\n",
      "\t(No symbol) [0x00007FF7869502F3]\n",
      "\t(No symbol) [0x00007FF786927A03]\n",
      "\t(No symbol) [0x00007FF7868F06D0]\n",
      "\t(No symbol) [0x00007FF7868F1983]\n",
      "\tGetHandleVerifier [0x00007FF786E167CD+3579853]\n",
      "\tGetHandleVerifier [0x00007FF786E2D1D2+3672530]\n",
      "\tGetHandleVerifier [0x00007FF786E22153+3627347]\n",
      "\tGetHandleVerifier [0x00007FF786B8092A+868650]\n",
      "\t(No symbol) [0x00007FF786A22FFF]\n",
      "\t(No symbol) [0x00007FF786A1F4A4]\n",
      "\t(No symbol) [0x00007FF786A1F646]\n",
      "\t(No symbol) [0x00007FF786A0EAA9]\n",
      "\tBaseThreadInitThunk [0x00007FFB4C82E8D7+23]\n",
      "\tRtlUserThreadStart [0x00007FFB4E59BF6C+44]\n",
      "\n"
     ]
    },
    {
     "name": "stderr",
     "output_type": "stream",
     "text": [
      "Updating CommonName:  75%|███████▍  | 2652/3539 [2:46:31<26:02,  1.76s/it]"
     ]
    },
    {
     "name": "stdout",
     "output_type": "stream",
     "text": [
      "Failed to get preferred name for ConceptID: 236425005. Error: Message: no such element: Unable to locate element: {\"method\":\"xpath\",\"selector\":\"//th[span[contains(text(), 'Preferred Name')]]/following-sibling::td/p\"}\n",
      "  (Session info: chrome=134.0.6998.118); For documentation on this error, please visit: https://www.selenium.dev/documentation/webdriver/troubleshooting/errors#no-such-element-exception\n",
      "Stacktrace:\n",
      "\tGetHandleVerifier [0x00007FF786DB4C25+3179557]\n",
      "\t(No symbol) [0x00007FF786A188A0]\n",
      "\t(No symbol) [0x00007FF7868A91CA]\n",
      "\t(No symbol) [0x00007FF7868FFA67]\n",
      "\t(No symbol) [0x00007FF7868FFC9C]\n",
      "\t(No symbol) [0x00007FF786953627]\n",
      "\t(No symbol) [0x00007FF786927C6F]\n",
      "\t(No symbol) [0x00007FF7869502F3]\n",
      "\t(No symbol) [0x00007FF786927A03]\n",
      "\t(No symbol) [0x00007FF7868F06D0]\n",
      "\t(No symbol) [0x00007FF7868F1983]\n",
      "\tGetHandleVerifier [0x00007FF786E167CD+3579853]\n",
      "\tGetHandleVerifier [0x00007FF786E2D1D2+3672530]\n",
      "\tGetHandleVerifier [0x00007FF786E22153+3627347]\n",
      "\tGetHandleVerifier [0x00007FF786B8092A+868650]\n",
      "\t(No symbol) [0x00007FF786A22FFF]\n",
      "\t(No symbol) [0x00007FF786A1F4A4]\n",
      "\t(No symbol) [0x00007FF786A1F646]\n",
      "\t(No symbol) [0x00007FF786A0EAA9]\n",
      "\tBaseThreadInitThunk [0x00007FFB4C82E8D7+23]\n",
      "\tRtlUserThreadStart [0x00007FFB4E59BF6C+44]\n",
      "\n"
     ]
    },
    {
     "name": "stderr",
     "output_type": "stream",
     "text": [
      "Updating CommonName:  75%|███████▌  | 2670/3539 [2:47:21<28:22,  1.96s/it]"
     ]
    },
    {
     "name": "stdout",
     "output_type": "stream",
     "text": [
      "Failed to get preferred name for ConceptID: 236425005. Error: Message: no such element: Unable to locate element: {\"method\":\"xpath\",\"selector\":\"//th[span[contains(text(), 'Preferred Name')]]/following-sibling::td/p\"}\n",
      "  (Session info: chrome=134.0.6998.118); For documentation on this error, please visit: https://www.selenium.dev/documentation/webdriver/troubleshooting/errors#no-such-element-exception\n",
      "Stacktrace:\n",
      "\tGetHandleVerifier [0x00007FF786DB4C25+3179557]\n",
      "\t(No symbol) [0x00007FF786A188A0]\n",
      "\t(No symbol) [0x00007FF7868A91CA]\n",
      "\t(No symbol) [0x00007FF7868FFA67]\n",
      "\t(No symbol) [0x00007FF7868FFC9C]\n",
      "\t(No symbol) [0x00007FF786953627]\n",
      "\t(No symbol) [0x00007FF786927C6F]\n",
      "\t(No symbol) [0x00007FF7869502F3]\n",
      "\t(No symbol) [0x00007FF786927A03]\n",
      "\t(No symbol) [0x00007FF7868F06D0]\n",
      "\t(No symbol) [0x00007FF7868F1983]\n",
      "\tGetHandleVerifier [0x00007FF786E167CD+3579853]\n",
      "\tGetHandleVerifier [0x00007FF786E2D1D2+3672530]\n",
      "\tGetHandleVerifier [0x00007FF786E22153+3627347]\n",
      "\tGetHandleVerifier [0x00007FF786B8092A+868650]\n",
      "\t(No symbol) [0x00007FF786A22FFF]\n",
      "\t(No symbol) [0x00007FF786A1F4A4]\n",
      "\t(No symbol) [0x00007FF786A1F646]\n",
      "\t(No symbol) [0x00007FF786A0EAA9]\n",
      "\tBaseThreadInitThunk [0x00007FFB4C82E8D7+23]\n",
      "\tRtlUserThreadStart [0x00007FFB4E59BF6C+44]\n",
      "\n"
     ]
    },
    {
     "name": "stderr",
     "output_type": "stream",
     "text": [
      "Updating CommonName:  76%|███████▌  | 2682/3539 [2:48:02<39:01,  2.73s/it]"
     ]
    },
    {
     "name": "stdout",
     "output_type": "stream",
     "text": [
      "Failed to get preferred name for ConceptID: 236425005. Error: Message: no such element: Unable to locate element: {\"method\":\"xpath\",\"selector\":\"//th[span[contains(text(), 'Preferred Name')]]/following-sibling::td/p\"}\n",
      "  (Session info: chrome=134.0.6998.118); For documentation on this error, please visit: https://www.selenium.dev/documentation/webdriver/troubleshooting/errors#no-such-element-exception\n",
      "Stacktrace:\n",
      "\tGetHandleVerifier [0x00007FF786DB4C25+3179557]\n",
      "\t(No symbol) [0x00007FF786A188A0]\n",
      "\t(No symbol) [0x00007FF7868A91CA]\n",
      "\t(No symbol) [0x00007FF7868FFA67]\n",
      "\t(No symbol) [0x00007FF7868FFC9C]\n",
      "\t(No symbol) [0x00007FF786953627]\n",
      "\t(No symbol) [0x00007FF786927C6F]\n",
      "\t(No symbol) [0x00007FF7869502F3]\n",
      "\t(No symbol) [0x00007FF786927A03]\n",
      "\t(No symbol) [0x00007FF7868F06D0]\n",
      "\t(No symbol) [0x00007FF7868F1983]\n",
      "\tGetHandleVerifier [0x00007FF786E167CD+3579853]\n",
      "\tGetHandleVerifier [0x00007FF786E2D1D2+3672530]\n",
      "\tGetHandleVerifier [0x00007FF786E22153+3627347]\n",
      "\tGetHandleVerifier [0x00007FF786B8092A+868650]\n",
      "\t(No symbol) [0x00007FF786A22FFF]\n",
      "\t(No symbol) [0x00007FF786A1F4A4]\n",
      "\t(No symbol) [0x00007FF786A1F646]\n",
      "\t(No symbol) [0x00007FF786A0EAA9]\n",
      "\tBaseThreadInitThunk [0x00007FFB4C82E8D7+23]\n",
      "\tRtlUserThreadStart [0x00007FFB4E59BF6C+44]\n",
      "\n"
     ]
    },
    {
     "name": "stderr",
     "output_type": "stream",
     "text": [
      "Updating CommonName:  76%|███████▋  | 2703/3539 [2:49:26<29:46,  2.14s/it]  "
     ]
    },
    {
     "name": "stdout",
     "output_type": "stream",
     "text": [
      "Failed to get preferred name for ConceptID: 236425005. Error: Message: no such element: Unable to locate element: {\"method\":\"xpath\",\"selector\":\"//th[span[contains(text(), 'Preferred Name')]]/following-sibling::td/p\"}\n",
      "  (Session info: chrome=134.0.6998.118); For documentation on this error, please visit: https://www.selenium.dev/documentation/webdriver/troubleshooting/errors#no-such-element-exception\n",
      "Stacktrace:\n",
      "\tGetHandleVerifier [0x00007FF786DB4C25+3179557]\n",
      "\t(No symbol) [0x00007FF786A188A0]\n",
      "\t(No symbol) [0x00007FF7868A91CA]\n",
      "\t(No symbol) [0x00007FF7868FFA67]\n",
      "\t(No symbol) [0x00007FF7868FFC9C]\n",
      "\t(No symbol) [0x00007FF786953627]\n",
      "\t(No symbol) [0x00007FF786927C6F]\n",
      "\t(No symbol) [0x00007FF7869502F3]\n",
      "\t(No symbol) [0x00007FF786927A03]\n",
      "\t(No symbol) [0x00007FF7868F06D0]\n",
      "\t(No symbol) [0x00007FF7868F1983]\n",
      "\tGetHandleVerifier [0x00007FF786E167CD+3579853]\n",
      "\tGetHandleVerifier [0x00007FF786E2D1D2+3672530]\n",
      "\tGetHandleVerifier [0x00007FF786E22153+3627347]\n",
      "\tGetHandleVerifier [0x00007FF786B8092A+868650]\n",
      "\t(No symbol) [0x00007FF786A22FFF]\n",
      "\t(No symbol) [0x00007FF786A1F4A4]\n",
      "\t(No symbol) [0x00007FF786A1F646]\n",
      "\t(No symbol) [0x00007FF786A0EAA9]\n",
      "\tBaseThreadInitThunk [0x00007FFB4C82E8D7+23]\n",
      "\tRtlUserThreadStart [0x00007FFB4E59BF6C+44]\n",
      "\n"
     ]
    },
    {
     "name": "stderr",
     "output_type": "stream",
     "text": [
      "Updating CommonName:  78%|███████▊  | 2750/3539 [2:52:06<29:36,  2.25s/it]  "
     ]
    },
    {
     "name": "stdout",
     "output_type": "stream",
     "text": [
      "Failed to get preferred name for ConceptID: 236425005. Error: Message: no such element: Unable to locate element: {\"method\":\"xpath\",\"selector\":\"//th[span[contains(text(), 'Preferred Name')]]/following-sibling::td/p\"}\n",
      "  (Session info: chrome=134.0.6998.118); For documentation on this error, please visit: https://www.selenium.dev/documentation/webdriver/troubleshooting/errors#no-such-element-exception\n",
      "Stacktrace:\n",
      "\tGetHandleVerifier [0x00007FF786DB4C25+3179557]\n",
      "\t(No symbol) [0x00007FF786A188A0]\n",
      "\t(No symbol) [0x00007FF7868A91CA]\n",
      "\t(No symbol) [0x00007FF7868FFA67]\n",
      "\t(No symbol) [0x00007FF7868FFC9C]\n",
      "\t(No symbol) [0x00007FF786953627]\n",
      "\t(No symbol) [0x00007FF786927C6F]\n",
      "\t(No symbol) [0x00007FF7869502F3]\n",
      "\t(No symbol) [0x00007FF786927A03]\n",
      "\t(No symbol) [0x00007FF7868F06D0]\n",
      "\t(No symbol) [0x00007FF7868F1983]\n",
      "\tGetHandleVerifier [0x00007FF786E167CD+3579853]\n",
      "\tGetHandleVerifier [0x00007FF786E2D1D2+3672530]\n",
      "\tGetHandleVerifier [0x00007FF786E22153+3627347]\n",
      "\tGetHandleVerifier [0x00007FF786B8092A+868650]\n",
      "\t(No symbol) [0x00007FF786A22FFF]\n",
      "\t(No symbol) [0x00007FF786A1F4A4]\n",
      "\t(No symbol) [0x00007FF786A1F646]\n",
      "\t(No symbol) [0x00007FF786A0EAA9]\n",
      "\tBaseThreadInitThunk [0x00007FFB4C82E8D7+23]\n",
      "\tRtlUserThreadStart [0x00007FFB4E59BF6C+44]\n",
      "\n"
     ]
    },
    {
     "name": "stderr",
     "output_type": "stream",
     "text": [
      "Updating CommonName:  78%|███████▊  | 2754/3539 [2:52:12<22:08,  1.69s/it]"
     ]
    },
    {
     "name": "stdout",
     "output_type": "stream",
     "text": [
      "Failed to get preferred name for ConceptID: 236425005. Error: Message: no such element: Unable to locate element: {\"method\":\"xpath\",\"selector\":\"//th[span[contains(text(), 'Preferred Name')]]/following-sibling::td/p\"}\n",
      "  (Session info: chrome=134.0.6998.118); For documentation on this error, please visit: https://www.selenium.dev/documentation/webdriver/troubleshooting/errors#no-such-element-exception\n",
      "Stacktrace:\n",
      "\tGetHandleVerifier [0x00007FF786DB4C25+3179557]\n",
      "\t(No symbol) [0x00007FF786A188A0]\n",
      "\t(No symbol) [0x00007FF7868A91CA]\n",
      "\t(No symbol) [0x00007FF7868FFA67]\n",
      "\t(No symbol) [0x00007FF7868FFC9C]\n",
      "\t(No symbol) [0x00007FF786953627]\n",
      "\t(No symbol) [0x00007FF786927C6F]\n",
      "\t(No symbol) [0x00007FF7869502F3]\n",
      "\t(No symbol) [0x00007FF786927A03]\n",
      "\t(No symbol) [0x00007FF7868F06D0]\n",
      "\t(No symbol) [0x00007FF7868F1983]\n",
      "\tGetHandleVerifier [0x00007FF786E167CD+3579853]\n",
      "\tGetHandleVerifier [0x00007FF786E2D1D2+3672530]\n",
      "\tGetHandleVerifier [0x00007FF786E22153+3627347]\n",
      "\tGetHandleVerifier [0x00007FF786B8092A+868650]\n",
      "\t(No symbol) [0x00007FF786A22FFF]\n",
      "\t(No symbol) [0x00007FF786A1F4A4]\n",
      "\t(No symbol) [0x00007FF786A1F646]\n",
      "\t(No symbol) [0x00007FF786A0EAA9]\n",
      "\tBaseThreadInitThunk [0x00007FFB4C82E8D7+23]\n",
      "\tRtlUserThreadStart [0x00007FFB4E59BF6C+44]\n",
      "\n"
     ]
    },
    {
     "name": "stderr",
     "output_type": "stream",
     "text": [
      "Updating CommonName:  80%|███████▉  | 2814/3539 [2:55:41<21:42,  1.80s/it]  "
     ]
    },
    {
     "name": "stdout",
     "output_type": "stream",
     "text": [
      "Failed to get preferred name for ConceptID: 397803000. Error: Message: no such element: Unable to locate element: {\"method\":\"xpath\",\"selector\":\"//th[span[contains(text(), 'Preferred Name')]]/following-sibling::td/p\"}\n",
      "  (Session info: chrome=134.0.6998.118); For documentation on this error, please visit: https://www.selenium.dev/documentation/webdriver/troubleshooting/errors#no-such-element-exception\n",
      "Stacktrace:\n",
      "\tGetHandleVerifier [0x00007FF786DB4C25+3179557]\n",
      "\t(No symbol) [0x00007FF786A188A0]\n",
      "\t(No symbol) [0x00007FF7868A91CA]\n",
      "\t(No symbol) [0x00007FF7868FFA67]\n",
      "\t(No symbol) [0x00007FF7868FFC9C]\n",
      "\t(No symbol) [0x00007FF786953627]\n",
      "\t(No symbol) [0x00007FF786927C6F]\n",
      "\t(No symbol) [0x00007FF7869502F3]\n",
      "\t(No symbol) [0x00007FF786927A03]\n",
      "\t(No symbol) [0x00007FF7868F06D0]\n",
      "\t(No symbol) [0x00007FF7868F1983]\n",
      "\tGetHandleVerifier [0x00007FF786E167CD+3579853]\n",
      "\tGetHandleVerifier [0x00007FF786E2D1D2+3672530]\n",
      "\tGetHandleVerifier [0x00007FF786E22153+3627347]\n",
      "\tGetHandleVerifier [0x00007FF786B8092A+868650]\n",
      "\t(No symbol) [0x00007FF786A22FFF]\n",
      "\t(No symbol) [0x00007FF786A1F4A4]\n",
      "\t(No symbol) [0x00007FF786A1F646]\n",
      "\t(No symbol) [0x00007FF786A0EAA9]\n",
      "\tBaseThreadInitThunk [0x00007FFB4C82E8D7+23]\n",
      "\tRtlUserThreadStart [0x00007FFB4E59BF6C+44]\n",
      "\n"
     ]
    },
    {
     "name": "stderr",
     "output_type": "stream",
     "text": [
      "Updating CommonName:  82%|████████▏ | 2887/3539 [3:07:04<1:42:38,  9.45s/it]"
     ]
    },
    {
     "name": "stdout",
     "output_type": "stream",
     "text": [
      "Failed to get preferred name for ConceptID: 73422005. Error: Message: no such element: Unable to locate element: {\"method\":\"xpath\",\"selector\":\"//th[span[contains(text(), 'Preferred Name')]]/following-sibling::td/p\"}\n",
      "  (Session info: chrome=134.0.6998.118); For documentation on this error, please visit: https://www.selenium.dev/documentation/webdriver/troubleshooting/errors#no-such-element-exception\n",
      "Stacktrace:\n",
      "\tGetHandleVerifier [0x00007FF786DB4C25+3179557]\n",
      "\t(No symbol) [0x00007FF786A188A0]\n",
      "\t(No symbol) [0x00007FF7868A91CA]\n",
      "\t(No symbol) [0x00007FF7868FFA67]\n",
      "\t(No symbol) [0x00007FF7868FFC9C]\n",
      "\t(No symbol) [0x00007FF786953627]\n",
      "\t(No symbol) [0x00007FF786927C6F]\n",
      "\t(No symbol) [0x00007FF7869502F3]\n",
      "\t(No symbol) [0x00007FF786927A03]\n",
      "\t(No symbol) [0x00007FF7868F06D0]\n",
      "\t(No symbol) [0x00007FF7868F1983]\n",
      "\tGetHandleVerifier [0x00007FF786E167CD+3579853]\n",
      "\tGetHandleVerifier [0x00007FF786E2D1D2+3672530]\n",
      "\tGetHandleVerifier [0x00007FF786E22153+3627347]\n",
      "\tGetHandleVerifier [0x00007FF786B8092A+868650]\n",
      "\t(No symbol) [0x00007FF786A22FFF]\n",
      "\t(No symbol) [0x00007FF786A1F4A4]\n",
      "\t(No symbol) [0x00007FF786A1F646]\n",
      "\t(No symbol) [0x00007FF786A0EAA9]\n",
      "\tBaseThreadInitThunk [0x00007FFB4C82E8D7+23]\n",
      "\tRtlUserThreadStart [0x00007FFB4E59BF6C+44]\n",
      "\n"
     ]
    },
    {
     "name": "stderr",
     "output_type": "stream",
     "text": [
      "Updating CommonName:  82%|████████▏ | 2909/3539 [3:13:14<5:02:07, 28.77s/it]"
     ]
    },
    {
     "name": "stdout",
     "output_type": "stream",
     "text": [
      "Failed to get preferred name for ConceptID: 413183008. Error: Message: no such element: Unable to locate element: {\"method\":\"xpath\",\"selector\":\"//th[span[contains(text(), 'Preferred Name')]]/following-sibling::td/p\"}\n",
      "  (Session info: chrome=134.0.6998.118); For documentation on this error, please visit: https://www.selenium.dev/documentation/webdriver/troubleshooting/errors#no-such-element-exception\n",
      "Stacktrace:\n",
      "\tGetHandleVerifier [0x00007FF786DB4C25+3179557]\n",
      "\t(No symbol) [0x00007FF786A188A0]\n",
      "\t(No symbol) [0x00007FF7868A91CA]\n",
      "\t(No symbol) [0x00007FF7868FFA67]\n",
      "\t(No symbol) [0x00007FF7868FFC9C]\n",
      "\t(No symbol) [0x00007FF786953627]\n",
      "\t(No symbol) [0x00007FF786927C6F]\n",
      "\t(No symbol) [0x00007FF7869502F3]\n",
      "\t(No symbol) [0x00007FF786927A03]\n",
      "\t(No symbol) [0x00007FF7868F06D0]\n",
      "\t(No symbol) [0x00007FF7868F1983]\n",
      "\tGetHandleVerifier [0x00007FF786E167CD+3579853]\n",
      "\tGetHandleVerifier [0x00007FF786E2D1D2+3672530]\n",
      "\tGetHandleVerifier [0x00007FF786E22153+3627347]\n",
      "\tGetHandleVerifier [0x00007FF786B8092A+868650]\n",
      "\t(No symbol) [0x00007FF786A22FFF]\n",
      "\t(No symbol) [0x00007FF786A1F4A4]\n",
      "\t(No symbol) [0x00007FF786A1F646]\n",
      "\t(No symbol) [0x00007FF786A0EAA9]\n",
      "\tBaseThreadInitThunk [0x00007FFB4C82E8D7+23]\n",
      "\tRtlUserThreadStart [0x00007FFB4E59BF6C+44]\n",
      "\n"
     ]
    },
    {
     "name": "stderr",
     "output_type": "stream",
     "text": [
      "Updating CommonName:  82%|████████▏ | 2913/3539 [3:14:52<3:35:47, 20.68s/it]"
     ]
    },
    {
     "name": "stdout",
     "output_type": "stream",
     "text": [
      "Failed to get preferred name for ConceptID: 441628001. Error: Message: no such element: Unable to locate element: {\"method\":\"xpath\",\"selector\":\"//th[span[contains(text(), 'Preferred Name')]]/following-sibling::td/p\"}\n",
      "  (Session info: chrome=134.0.6998.118); For documentation on this error, please visit: https://www.selenium.dev/documentation/webdriver/troubleshooting/errors#no-such-element-exception\n",
      "Stacktrace:\n",
      "\tGetHandleVerifier [0x00007FF786DB4C25+3179557]\n",
      "\t(No symbol) [0x00007FF786A188A0]\n",
      "\t(No symbol) [0x00007FF7868A91CA]\n",
      "\t(No symbol) [0x00007FF7868FFA67]\n",
      "\t(No symbol) [0x00007FF7868FFC9C]\n",
      "\t(No symbol) [0x00007FF786953627]\n",
      "\t(No symbol) [0x00007FF786927C6F]\n",
      "\t(No symbol) [0x00007FF7869502F3]\n",
      "\t(No symbol) [0x00007FF786927A03]\n",
      "\t(No symbol) [0x00007FF7868F06D0]\n",
      "\t(No symbol) [0x00007FF7868F1983]\n",
      "\tGetHandleVerifier [0x00007FF786E167CD+3579853]\n",
      "\tGetHandleVerifier [0x00007FF786E2D1D2+3672530]\n",
      "\tGetHandleVerifier [0x00007FF786E22153+3627347]\n",
      "\tGetHandleVerifier [0x00007FF786B8092A+868650]\n",
      "\t(No symbol) [0x00007FF786A22FFF]\n",
      "\t(No symbol) [0x00007FF786A1F4A4]\n",
      "\t(No symbol) [0x00007FF786A1F646]\n",
      "\t(No symbol) [0x00007FF786A0EAA9]\n",
      "\tBaseThreadInitThunk [0x00007FFB4C82E8D7+23]\n",
      "\tRtlUserThreadStart [0x00007FFB4E59BF6C+44]\n",
      "\n"
     ]
    },
    {
     "name": "stderr",
     "output_type": "stream",
     "text": [
      "Updating CommonName:  82%|████████▏ | 2914/3539 [3:14:53<2:35:07, 14.89s/it]"
     ]
    },
    {
     "name": "stdout",
     "output_type": "stream",
     "text": [
      "Failed to get preferred name for ConceptID: 422228004. Error: Message: no such element: Unable to locate element: {\"method\":\"xpath\",\"selector\":\"//th[span[contains(text(), 'Preferred Name')]]/following-sibling::td/p\"}\n",
      "  (Session info: chrome=134.0.6998.118); For documentation on this error, please visit: https://www.selenium.dev/documentation/webdriver/troubleshooting/errors#no-such-element-exception\n",
      "Stacktrace:\n",
      "\tGetHandleVerifier [0x00007FF786DB4C25+3179557]\n",
      "\t(No symbol) [0x00007FF786A188A0]\n",
      "\t(No symbol) [0x00007FF7868A91CA]\n",
      "\t(No symbol) [0x00007FF7868FFA67]\n",
      "\t(No symbol) [0x00007FF7868FFC9C]\n",
      "\t(No symbol) [0x00007FF786953627]\n",
      "\t(No symbol) [0x00007FF786927C6F]\n",
      "\t(No symbol) [0x00007FF7869502F3]\n",
      "\t(No symbol) [0x00007FF786927A03]\n",
      "\t(No symbol) [0x00007FF7868F06D0]\n",
      "\t(No symbol) [0x00007FF7868F1983]\n",
      "\tGetHandleVerifier [0x00007FF786E167CD+3579853]\n",
      "\tGetHandleVerifier [0x00007FF786E2D1D2+3672530]\n",
      "\tGetHandleVerifier [0x00007FF786E22153+3627347]\n",
      "\tGetHandleVerifier [0x00007FF786B8092A+868650]\n",
      "\t(No symbol) [0x00007FF786A22FFF]\n",
      "\t(No symbol) [0x00007FF786A1F4A4]\n",
      "\t(No symbol) [0x00007FF786A1F646]\n",
      "\t(No symbol) [0x00007FF786A0EAA9]\n",
      "\tBaseThreadInitThunk [0x00007FFB4C82E8D7+23]\n",
      "\tRtlUserThreadStart [0x00007FFB4E59BF6C+44]\n",
      "\n"
     ]
    },
    {
     "name": "stderr",
     "output_type": "stream",
     "text": [
      "Updating CommonName:  83%|████████▎ | 2920/3539 [3:16:07<1:57:27, 11.39s/it]"
     ]
    },
    {
     "name": "stdout",
     "output_type": "stream",
     "text": [
      "Failed to get preferred name for ConceptID: 190416008. Error: Message: no such element: Unable to locate element: {\"method\":\"xpath\",\"selector\":\"//th[span[contains(text(), 'Preferred Name')]]/following-sibling::td/p\"}\n",
      "  (Session info: chrome=134.0.6998.118); For documentation on this error, please visit: https://www.selenium.dev/documentation/webdriver/troubleshooting/errors#no-such-element-exception\n",
      "Stacktrace:\n",
      "\tGetHandleVerifier [0x00007FF786DB4C25+3179557]\n",
      "\t(No symbol) [0x00007FF786A188A0]\n",
      "\t(No symbol) [0x00007FF7868A91CA]\n",
      "\t(No symbol) [0x00007FF7868FFA67]\n",
      "\t(No symbol) [0x00007FF7868FFC9C]\n",
      "\t(No symbol) [0x00007FF786953627]\n",
      "\t(No symbol) [0x00007FF786927C6F]\n",
      "\t(No symbol) [0x00007FF7869502F3]\n",
      "\t(No symbol) [0x00007FF786927A03]\n",
      "\t(No symbol) [0x00007FF7868F06D0]\n",
      "\t(No symbol) [0x00007FF7868F1983]\n",
      "\tGetHandleVerifier [0x00007FF786E167CD+3579853]\n",
      "\tGetHandleVerifier [0x00007FF786E2D1D2+3672530]\n",
      "\tGetHandleVerifier [0x00007FF786E22153+3627347]\n",
      "\tGetHandleVerifier [0x00007FF786B8092A+868650]\n",
      "\t(No symbol) [0x00007FF786A22FFF]\n",
      "\t(No symbol) [0x00007FF786A1F4A4]\n",
      "\t(No symbol) [0x00007FF786A1F646]\n",
      "\t(No symbol) [0x00007FF786A0EAA9]\n",
      "\tBaseThreadInitThunk [0x00007FFB4C82E8D7+23]\n",
      "\tRtlUserThreadStart [0x00007FFB4E59BF6C+44]\n",
      "\n"
     ]
    },
    {
     "name": "stderr",
     "output_type": "stream",
     "text": [
      "Updating CommonName:  83%|████████▎ | 2926/3539 [3:17:20<2:03:22, 12.08s/it]"
     ]
    },
    {
     "name": "stdout",
     "output_type": "stream",
     "text": [
      "Failed to get preferred name for ConceptID: 190390000. Error: Message: no such element: Unable to locate element: {\"method\":\"xpath\",\"selector\":\"//th[span[contains(text(), 'Preferred Name')]]/following-sibling::td/p\"}\n",
      "  (Session info: chrome=134.0.6998.118); For documentation on this error, please visit: https://www.selenium.dev/documentation/webdriver/troubleshooting/errors#no-such-element-exception\n",
      "Stacktrace:\n",
      "\tGetHandleVerifier [0x00007FF786DB4C25+3179557]\n",
      "\t(No symbol) [0x00007FF786A188A0]\n",
      "\t(No symbol) [0x00007FF7868A91CA]\n",
      "\t(No symbol) [0x00007FF7868FFA67]\n",
      "\t(No symbol) [0x00007FF7868FFC9C]\n",
      "\t(No symbol) [0x00007FF786953627]\n",
      "\t(No symbol) [0x00007FF786927C6F]\n",
      "\t(No symbol) [0x00007FF7869502F3]\n",
      "\t(No symbol) [0x00007FF786927A03]\n",
      "\t(No symbol) [0x00007FF7868F06D0]\n",
      "\t(No symbol) [0x00007FF7868F1983]\n",
      "\tGetHandleVerifier [0x00007FF786E167CD+3579853]\n",
      "\tGetHandleVerifier [0x00007FF786E2D1D2+3672530]\n",
      "\tGetHandleVerifier [0x00007FF786E22153+3627347]\n",
      "\tGetHandleVerifier [0x00007FF786B8092A+868650]\n",
      "\t(No symbol) [0x00007FF786A22FFF]\n",
      "\t(No symbol) [0x00007FF786A1F4A4]\n",
      "\t(No symbol) [0x00007FF786A1F646]\n",
      "\t(No symbol) [0x00007FF786A0EAA9]\n",
      "\tBaseThreadInitThunk [0x00007FFB4C82E8D7+23]\n",
      "\tRtlUserThreadStart [0x00007FFB4E59BF6C+44]\n",
      "\n"
     ]
    },
    {
     "name": "stderr",
     "output_type": "stream",
     "text": [
      "Updating CommonName:  83%|████████▎ | 2927/3539 [3:17:22<1:32:04,  9.03s/it]"
     ]
    },
    {
     "name": "stdout",
     "output_type": "stream",
     "text": [
      "Failed to get preferred name for ConceptID: 314904008. Error: Message: no such element: Unable to locate element: {\"method\":\"xpath\",\"selector\":\"//th[span[contains(text(), 'Preferred Name')]]/following-sibling::td/p\"}\n",
      "  (Session info: chrome=134.0.6998.118); For documentation on this error, please visit: https://www.selenium.dev/documentation/webdriver/troubleshooting/errors#no-such-element-exception\n",
      "Stacktrace:\n",
      "\tGetHandleVerifier [0x00007FF786DB4C25+3179557]\n",
      "\t(No symbol) [0x00007FF786A188A0]\n",
      "\t(No symbol) [0x00007FF7868A91CA]\n",
      "\t(No symbol) [0x00007FF7868FFA67]\n",
      "\t(No symbol) [0x00007FF7868FFC9C]\n",
      "\t(No symbol) [0x00007FF786953627]\n",
      "\t(No symbol) [0x00007FF786927C6F]\n",
      "\t(No symbol) [0x00007FF7869502F3]\n",
      "\t(No symbol) [0x00007FF786927A03]\n",
      "\t(No symbol) [0x00007FF7868F06D0]\n",
      "\t(No symbol) [0x00007FF7868F1983]\n",
      "\tGetHandleVerifier [0x00007FF786E167CD+3579853]\n",
      "\tGetHandleVerifier [0x00007FF786E2D1D2+3672530]\n",
      "\tGetHandleVerifier [0x00007FF786E22153+3627347]\n",
      "\tGetHandleVerifier [0x00007FF786B8092A+868650]\n",
      "\t(No symbol) [0x00007FF786A22FFF]\n",
      "\t(No symbol) [0x00007FF786A1F4A4]\n",
      "\t(No symbol) [0x00007FF786A1F646]\n",
      "\t(No symbol) [0x00007FF786A0EAA9]\n",
      "\tBaseThreadInitThunk [0x00007FFB4C82E8D7+23]\n",
      "\tRtlUserThreadStart [0x00007FFB4E59BF6C+44]\n",
      "\n"
     ]
    },
    {
     "name": "stderr",
     "output_type": "stream",
     "text": [
      "Updating CommonName:  84%|████████▍ | 2966/3539 [3:24:37<1:35:50, 10.04s/it]"
     ]
    },
    {
     "name": "stdout",
     "output_type": "stream",
     "text": [
      "Failed to get preferred name for ConceptID: 32273002. Error: Message: no such element: Unable to locate element: {\"method\":\"xpath\",\"selector\":\"//th[span[contains(text(), 'Preferred Name')]]/following-sibling::td/p\"}\n",
      "  (Session info: chrome=134.0.6998.118); For documentation on this error, please visit: https://www.selenium.dev/documentation/webdriver/troubleshooting/errors#no-such-element-exception\n",
      "Stacktrace:\n",
      "\tGetHandleVerifier [0x00007FF786DB4C25+3179557]\n",
      "\t(No symbol) [0x00007FF786A188A0]\n",
      "\t(No symbol) [0x00007FF7868A91CA]\n",
      "\t(No symbol) [0x00007FF7868FFA67]\n",
      "\t(No symbol) [0x00007FF7868FFC9C]\n",
      "\t(No symbol) [0x00007FF786953627]\n",
      "\t(No symbol) [0x00007FF786927C6F]\n",
      "\t(No symbol) [0x00007FF7869502F3]\n",
      "\t(No symbol) [0x00007FF786927A03]\n",
      "\t(No symbol) [0x00007FF7868F06D0]\n",
      "\t(No symbol) [0x00007FF7868F1983]\n",
      "\tGetHandleVerifier [0x00007FF786E167CD+3579853]\n",
      "\tGetHandleVerifier [0x00007FF786E2D1D2+3672530]\n",
      "\tGetHandleVerifier [0x00007FF786E22153+3627347]\n",
      "\tGetHandleVerifier [0x00007FF786B8092A+868650]\n",
      "\t(No symbol) [0x00007FF786A22FFF]\n",
      "\t(No symbol) [0x00007FF786A1F4A4]\n",
      "\t(No symbol) [0x00007FF786A1F646]\n",
      "\t(No symbol) [0x00007FF786A0EAA9]\n",
      "\tBaseThreadInitThunk [0x00007FFB4C82E8D7+23]\n",
      "\tRtlUserThreadStart [0x00007FFB4E59BF6C+44]\n",
      "\n"
     ]
    },
    {
     "name": "stderr",
     "output_type": "stream",
     "text": [
      "Updating CommonName:  84%|████████▍ | 2972/3539 [3:25:40<1:53:46, 12.04s/it]"
     ]
    },
    {
     "name": "stdout",
     "output_type": "stream",
     "text": [
      "Failed to get preferred name for ConceptID: 6129004. Error: Message: no such element: Unable to locate element: {\"method\":\"xpath\",\"selector\":\"//th[span[contains(text(), 'Preferred Name')]]/following-sibling::td/p\"}\n",
      "  (Session info: chrome=134.0.6998.118); For documentation on this error, please visit: https://www.selenium.dev/documentation/webdriver/troubleshooting/errors#no-such-element-exception\n",
      "Stacktrace:\n",
      "\tGetHandleVerifier [0x00007FF786DB4C25+3179557]\n",
      "\t(No symbol) [0x00007FF786A188A0]\n",
      "\t(No symbol) [0x00007FF7868A91CA]\n",
      "\t(No symbol) [0x00007FF7868FFA67]\n",
      "\t(No symbol) [0x00007FF7868FFC9C]\n",
      "\t(No symbol) [0x00007FF786953627]\n",
      "\t(No symbol) [0x00007FF786927C6F]\n",
      "\t(No symbol) [0x00007FF7869502F3]\n",
      "\t(No symbol) [0x00007FF786927A03]\n",
      "\t(No symbol) [0x00007FF7868F06D0]\n",
      "\t(No symbol) [0x00007FF7868F1983]\n",
      "\tGetHandleVerifier [0x00007FF786E167CD+3579853]\n",
      "\tGetHandleVerifier [0x00007FF786E2D1D2+3672530]\n",
      "\tGetHandleVerifier [0x00007FF786E22153+3627347]\n",
      "\tGetHandleVerifier [0x00007FF786B8092A+868650]\n",
      "\t(No symbol) [0x00007FF786A22FFF]\n",
      "\t(No symbol) [0x00007FF786A1F4A4]\n",
      "\t(No symbol) [0x00007FF786A1F646]\n",
      "\t(No symbol) [0x00007FF786A0EAA9]\n",
      "\tBaseThreadInitThunk [0x00007FFB4C82E8D7+23]\n",
      "\tRtlUserThreadStart [0x00007FFB4E59BF6C+44]\n",
      "\n"
     ]
    },
    {
     "name": "stderr",
     "output_type": "stream",
     "text": [
      "Updating CommonName:  86%|████████▌ | 3048/3539 [3:50:17<1:44:21, 12.75s/it]"
     ]
    },
    {
     "name": "stdout",
     "output_type": "stream",
     "text": [
      "Failed to get preferred name for ConceptID: 191615005. Error: Message: no such element: Unable to locate element: {\"method\":\"xpath\",\"selector\":\"//th[span[contains(text(), 'Preferred Name')]]/following-sibling::td/p\"}\n",
      "  (Session info: chrome=134.0.6998.118); For documentation on this error, please visit: https://www.selenium.dev/documentation/webdriver/troubleshooting/errors#no-such-element-exception\n",
      "Stacktrace:\n",
      "\tGetHandleVerifier [0x00007FF786DB4C25+3179557]\n",
      "\t(No symbol) [0x00007FF786A188A0]\n",
      "\t(No symbol) [0x00007FF7868A91CA]\n",
      "\t(No symbol) [0x00007FF7868FFA67]\n",
      "\t(No symbol) [0x00007FF7868FFC9C]\n",
      "\t(No symbol) [0x00007FF786953627]\n",
      "\t(No symbol) [0x00007FF786927C6F]\n",
      "\t(No symbol) [0x00007FF7869502F3]\n",
      "\t(No symbol) [0x00007FF786927A03]\n",
      "\t(No symbol) [0x00007FF7868F06D0]\n",
      "\t(No symbol) [0x00007FF7868F1983]\n",
      "\tGetHandleVerifier [0x00007FF786E167CD+3579853]\n",
      "\tGetHandleVerifier [0x00007FF786E2D1D2+3672530]\n",
      "\tGetHandleVerifier [0x00007FF786E22153+3627347]\n",
      "\tGetHandleVerifier [0x00007FF786B8092A+868650]\n",
      "\t(No symbol) [0x00007FF786A22FFF]\n",
      "\t(No symbol) [0x00007FF786A1F4A4]\n",
      "\t(No symbol) [0x00007FF786A1F646]\n",
      "\t(No symbol) [0x00007FF786A0EAA9]\n",
      "\tBaseThreadInitThunk [0x00007FFB4C82E8D7+23]\n",
      "\tRtlUserThreadStart [0x00007FFB4E59BF6C+44]\n",
      "\n"
     ]
    },
    {
     "name": "stderr",
     "output_type": "stream",
     "text": [
      "Updating CommonName:  87%|████████▋ | 3066/3539 [3:56:06<1:59:35, 15.17s/it]"
     ]
    },
    {
     "name": "stdout",
     "output_type": "stream",
     "text": [
      "Failed to get preferred name for ConceptID: 268620009. Error: Message: no such element: Unable to locate element: {\"method\":\"xpath\",\"selector\":\"//th[span[contains(text(), 'Preferred Name')]]/following-sibling::td/p\"}\n",
      "  (Session info: chrome=134.0.6998.118); For documentation on this error, please visit: https://www.selenium.dev/documentation/webdriver/troubleshooting/errors#no-such-element-exception\n",
      "Stacktrace:\n",
      "\tGetHandleVerifier [0x00007FF786DB4C25+3179557]\n",
      "\t(No symbol) [0x00007FF786A188A0]\n",
      "\t(No symbol) [0x00007FF7868A91CA]\n",
      "\t(No symbol) [0x00007FF7868FFA67]\n",
      "\t(No symbol) [0x00007FF7868FFC9C]\n",
      "\t(No symbol) [0x00007FF786953627]\n",
      "\t(No symbol) [0x00007FF786927C6F]\n",
      "\t(No symbol) [0x00007FF7869502F3]\n",
      "\t(No symbol) [0x00007FF786927A03]\n",
      "\t(No symbol) [0x00007FF7868F06D0]\n",
      "\t(No symbol) [0x00007FF7868F1983]\n",
      "\tGetHandleVerifier [0x00007FF786E167CD+3579853]\n",
      "\tGetHandleVerifier [0x00007FF786E2D1D2+3672530]\n",
      "\tGetHandleVerifier [0x00007FF786E22153+3627347]\n",
      "\tGetHandleVerifier [0x00007FF786B8092A+868650]\n",
      "\t(No symbol) [0x00007FF786A22FFF]\n",
      "\t(No symbol) [0x00007FF786A1F4A4]\n",
      "\t(No symbol) [0x00007FF786A1F646]\n",
      "\t(No symbol) [0x00007FF786A0EAA9]\n",
      "\tBaseThreadInitThunk [0x00007FFB4C82E8D7+23]\n",
      "\tRtlUserThreadStart [0x00007FFB4E59BF6C+44]\n",
      "\n"
     ]
    },
    {
     "name": "stderr",
     "output_type": "stream",
     "text": [
      "Updating CommonName:  87%|████████▋ | 3067/3539 [3:56:07<1:26:39, 11.02s/it]"
     ]
    },
    {
     "name": "stdout",
     "output_type": "stream",
     "text": [
      "Failed to get preferred name for ConceptID: 191606003. Error: Message: no such element: Unable to locate element: {\"method\":\"xpath\",\"selector\":\"//th[span[contains(text(), 'Preferred Name')]]/following-sibling::td/p\"}\n",
      "  (Session info: chrome=134.0.6998.118); For documentation on this error, please visit: https://www.selenium.dev/documentation/webdriver/troubleshooting/errors#no-such-element-exception\n",
      "Stacktrace:\n",
      "\tGetHandleVerifier [0x00007FF786DB4C25+3179557]\n",
      "\t(No symbol) [0x00007FF786A188A0]\n",
      "\t(No symbol) [0x00007FF7868A91CA]\n",
      "\t(No symbol) [0x00007FF7868FFA67]\n",
      "\t(No symbol) [0x00007FF7868FFC9C]\n",
      "\t(No symbol) [0x00007FF786953627]\n",
      "\t(No symbol) [0x00007FF786927C6F]\n",
      "\t(No symbol) [0x00007FF7869502F3]\n",
      "\t(No symbol) [0x00007FF786927A03]\n",
      "\t(No symbol) [0x00007FF7868F06D0]\n",
      "\t(No symbol) [0x00007FF7868F1983]\n",
      "\tGetHandleVerifier [0x00007FF786E167CD+3579853]\n",
      "\tGetHandleVerifier [0x00007FF786E2D1D2+3672530]\n",
      "\tGetHandleVerifier [0x00007FF786E22153+3627347]\n",
      "\tGetHandleVerifier [0x00007FF786B8092A+868650]\n",
      "\t(No symbol) [0x00007FF786A22FFF]\n",
      "\t(No symbol) [0x00007FF786A1F4A4]\n",
      "\t(No symbol) [0x00007FF786A1F646]\n",
      "\t(No symbol) [0x00007FF786A0EAA9]\n",
      "\tBaseThreadInitThunk [0x00007FFB4C82E8D7+23]\n",
      "\tRtlUserThreadStart [0x00007FFB4E59BF6C+44]\n",
      "\n"
     ]
    },
    {
     "name": "stderr",
     "output_type": "stream",
     "text": [
      "Updating CommonName:  87%|████████▋ | 3068/3539 [3:56:09<1:04:16,  8.19s/it]"
     ]
    },
    {
     "name": "stdout",
     "output_type": "stream",
     "text": [
      "Failed to get preferred name for ConceptID: 191601008. Error: Message: no such element: Unable to locate element: {\"method\":\"xpath\",\"selector\":\"//th[span[contains(text(), 'Preferred Name')]]/following-sibling::td/p\"}\n",
      "  (Session info: chrome=134.0.6998.118); For documentation on this error, please visit: https://www.selenium.dev/documentation/webdriver/troubleshooting/errors#no-such-element-exception\n",
      "Stacktrace:\n",
      "\tGetHandleVerifier [0x00007FF786DB4C25+3179557]\n",
      "\t(No symbol) [0x00007FF786A188A0]\n",
      "\t(No symbol) [0x00007FF7868A91CA]\n",
      "\t(No symbol) [0x00007FF7868FFA67]\n",
      "\t(No symbol) [0x00007FF7868FFC9C]\n",
      "\t(No symbol) [0x00007FF786953627]\n",
      "\t(No symbol) [0x00007FF786927C6F]\n",
      "\t(No symbol) [0x00007FF7869502F3]\n",
      "\t(No symbol) [0x00007FF786927A03]\n",
      "\t(No symbol) [0x00007FF7868F06D0]\n",
      "\t(No symbol) [0x00007FF7868F1983]\n",
      "\tGetHandleVerifier [0x00007FF786E167CD+3579853]\n",
      "\tGetHandleVerifier [0x00007FF786E2D1D2+3672530]\n",
      "\tGetHandleVerifier [0x00007FF786E22153+3627347]\n",
      "\tGetHandleVerifier [0x00007FF786B8092A+868650]\n",
      "\t(No symbol) [0x00007FF786A22FFF]\n",
      "\t(No symbol) [0x00007FF786A1F4A4]\n",
      "\t(No symbol) [0x00007FF786A1F646]\n",
      "\t(No symbol) [0x00007FF786A0EAA9]\n",
      "\tBaseThreadInitThunk [0x00007FFB4C82E8D7+23]\n",
      "\tRtlUserThreadStart [0x00007FFB4E59BF6C+44]\n",
      "\n"
     ]
    },
    {
     "name": "stderr",
     "output_type": "stream",
     "text": [
      "Updating CommonName:  87%|████████▋ | 3069/3539 [3:56:10<47:59,  6.13s/it]  "
     ]
    },
    {
     "name": "stdout",
     "output_type": "stream",
     "text": [
      "Failed to get preferred name for ConceptID: 191602001. Error: Message: no such element: Unable to locate element: {\"method\":\"xpath\",\"selector\":\"//th[span[contains(text(), 'Preferred Name')]]/following-sibling::td/p\"}\n",
      "  (Session info: chrome=134.0.6998.118); For documentation on this error, please visit: https://www.selenium.dev/documentation/webdriver/troubleshooting/errors#no-such-element-exception\n",
      "Stacktrace:\n",
      "\tGetHandleVerifier [0x00007FF786DB4C25+3179557]\n",
      "\t(No symbol) [0x00007FF786A188A0]\n",
      "\t(No symbol) [0x00007FF7868A91CA]\n",
      "\t(No symbol) [0x00007FF7868FFA67]\n",
      "\t(No symbol) [0x00007FF7868FFC9C]\n",
      "\t(No symbol) [0x00007FF786953627]\n",
      "\t(No symbol) [0x00007FF786927C6F]\n",
      "\t(No symbol) [0x00007FF7869502F3]\n",
      "\t(No symbol) [0x00007FF786927A03]\n",
      "\t(No symbol) [0x00007FF7868F06D0]\n",
      "\t(No symbol) [0x00007FF7868F1983]\n",
      "\tGetHandleVerifier [0x00007FF786E167CD+3579853]\n",
      "\tGetHandleVerifier [0x00007FF786E2D1D2+3672530]\n",
      "\tGetHandleVerifier [0x00007FF786E22153+3627347]\n",
      "\tGetHandleVerifier [0x00007FF786B8092A+868650]\n",
      "\t(No symbol) [0x00007FF786A22FFF]\n",
      "\t(No symbol) [0x00007FF786A1F4A4]\n",
      "\t(No symbol) [0x00007FF786A1F646]\n",
      "\t(No symbol) [0x00007FF786A0EAA9]\n",
      "\tBaseThreadInitThunk [0x00007FFB4C82E8D7+23]\n",
      "\tRtlUserThreadStart [0x00007FFB4E59BF6C+44]\n",
      "\n"
     ]
    },
    {
     "name": "stderr",
     "output_type": "stream",
     "text": [
      "Updating CommonName:  87%|████████▋ | 3078/3539 [3:58:27<1:20:40, 10.50s/it]"
     ]
    },
    {
     "name": "stdout",
     "output_type": "stream",
     "text": [
      "Failed to get preferred name for ConceptID: 32273002. Error: Message: no such element: Unable to locate element: {\"method\":\"xpath\",\"selector\":\"//th[span[contains(text(), 'Preferred Name')]]/following-sibling::td/p\"}\n",
      "  (Session info: chrome=134.0.6998.118); For documentation on this error, please visit: https://www.selenium.dev/documentation/webdriver/troubleshooting/errors#no-such-element-exception\n",
      "Stacktrace:\n",
      "\tGetHandleVerifier [0x00007FF786DB4C25+3179557]\n",
      "\t(No symbol) [0x00007FF786A188A0]\n",
      "\t(No symbol) [0x00007FF7868A91CA]\n",
      "\t(No symbol) [0x00007FF7868FFA67]\n",
      "\t(No symbol) [0x00007FF7868FFC9C]\n",
      "\t(No symbol) [0x00007FF786953627]\n",
      "\t(No symbol) [0x00007FF786927C6F]\n",
      "\t(No symbol) [0x00007FF7869502F3]\n",
      "\t(No symbol) [0x00007FF786927A03]\n",
      "\t(No symbol) [0x00007FF7868F06D0]\n",
      "\t(No symbol) [0x00007FF7868F1983]\n",
      "\tGetHandleVerifier [0x00007FF786E167CD+3579853]\n",
      "\tGetHandleVerifier [0x00007FF786E2D1D2+3672530]\n",
      "\tGetHandleVerifier [0x00007FF786E22153+3627347]\n",
      "\tGetHandleVerifier [0x00007FF786B8092A+868650]\n",
      "\t(No symbol) [0x00007FF786A22FFF]\n",
      "\t(No symbol) [0x00007FF786A1F4A4]\n",
      "\t(No symbol) [0x00007FF786A1F646]\n",
      "\t(No symbol) [0x00007FF786A0EAA9]\n",
      "\tBaseThreadInitThunk [0x00007FFB4C82E8D7+23]\n",
      "\tRtlUserThreadStart [0x00007FFB4E59BF6C+44]\n",
      "\n"
     ]
    },
    {
     "name": "stderr",
     "output_type": "stream",
     "text": [
      "Updating CommonName:  87%|████████▋ | 3083/3539 [3:58:36<30:01,  3.95s/it]  "
     ]
    },
    {
     "name": "stdout",
     "output_type": "stream",
     "text": [
      "Failed to get preferred name for ConceptID: 301361000. Error: Message: no such element: Unable to locate element: {\"method\":\"xpath\",\"selector\":\"//th[span[contains(text(), 'Preferred Name')]]/following-sibling::td/p\"}\n",
      "  (Session info: chrome=134.0.6998.118); For documentation on this error, please visit: https://www.selenium.dev/documentation/webdriver/troubleshooting/errors#no-such-element-exception\n",
      "Stacktrace:\n",
      "\tGetHandleVerifier [0x00007FF786DB4C25+3179557]\n",
      "\t(No symbol) [0x00007FF786A188A0]\n",
      "\t(No symbol) [0x00007FF7868A91CA]\n",
      "\t(No symbol) [0x00007FF7868FFA67]\n",
      "\t(No symbol) [0x00007FF7868FFC9C]\n",
      "\t(No symbol) [0x00007FF786953627]\n",
      "\t(No symbol) [0x00007FF786927C6F]\n",
      "\t(No symbol) [0x00007FF7869502F3]\n",
      "\t(No symbol) [0x00007FF786927A03]\n",
      "\t(No symbol) [0x00007FF7868F06D0]\n",
      "\t(No symbol) [0x00007FF7868F1983]\n",
      "\tGetHandleVerifier [0x00007FF786E167CD+3579853]\n",
      "\tGetHandleVerifier [0x00007FF786E2D1D2+3672530]\n",
      "\tGetHandleVerifier [0x00007FF786E22153+3627347]\n",
      "\tGetHandleVerifier [0x00007FF786B8092A+868650]\n",
      "\t(No symbol) [0x00007FF786A22FFF]\n",
      "\t(No symbol) [0x00007FF786A1F4A4]\n",
      "\t(No symbol) [0x00007FF786A1F646]\n",
      "\t(No symbol) [0x00007FF786A0EAA9]\n",
      "\tBaseThreadInitThunk [0x00007FFB4C82E8D7+23]\n",
      "\tRtlUserThreadStart [0x00007FFB4E59BF6C+44]\n",
      "\n"
     ]
    },
    {
     "name": "stderr",
     "output_type": "stream",
     "text": [
      "Updating CommonName:  88%|████████▊ | 3109/3539 [4:02:21<1:16:12, 10.63s/it]"
     ]
    },
    {
     "name": "stdout",
     "output_type": "stream",
     "text": [
      "Failed to get preferred name for ConceptID: 236084000. Error: Message: no such element: Unable to locate element: {\"method\":\"xpath\",\"selector\":\"//th[span[contains(text(), 'Preferred Name')]]/following-sibling::td/p\"}\n",
      "  (Session info: chrome=134.0.6998.118); For documentation on this error, please visit: https://www.selenium.dev/documentation/webdriver/troubleshooting/errors#no-such-element-exception\n",
      "Stacktrace:\n",
      "\tGetHandleVerifier [0x00007FF786DB4C25+3179557]\n",
      "\t(No symbol) [0x00007FF786A188A0]\n",
      "\t(No symbol) [0x00007FF7868A91CA]\n",
      "\t(No symbol) [0x00007FF7868FFA67]\n",
      "\t(No symbol) [0x00007FF7868FFC9C]\n",
      "\t(No symbol) [0x00007FF786953627]\n",
      "\t(No symbol) [0x00007FF786927C6F]\n",
      "\t(No symbol) [0x00007FF7869502F3]\n",
      "\t(No symbol) [0x00007FF786927A03]\n",
      "\t(No symbol) [0x00007FF7868F06D0]\n",
      "\t(No symbol) [0x00007FF7868F1983]\n",
      "\tGetHandleVerifier [0x00007FF786E167CD+3579853]\n",
      "\tGetHandleVerifier [0x00007FF786E2D1D2+3672530]\n",
      "\tGetHandleVerifier [0x00007FF786E22153+3627347]\n",
      "\tGetHandleVerifier [0x00007FF786B8092A+868650]\n",
      "\t(No symbol) [0x00007FF786A22FFF]\n",
      "\t(No symbol) [0x00007FF786A1F4A4]\n",
      "\t(No symbol) [0x00007FF786A1F646]\n",
      "\t(No symbol) [0x00007FF786A0EAA9]\n",
      "\tBaseThreadInitThunk [0x00007FFB4C82E8D7+23]\n",
      "\tRtlUserThreadStart [0x00007FFB4E59BF6C+44]\n",
      "\n"
     ]
    },
    {
     "name": "stderr",
     "output_type": "stream",
     "text": [
      "Updating CommonName:  88%|████████▊ | 3110/3539 [4:02:23<56:39,  7.92s/it]  "
     ]
    },
    {
     "name": "stdout",
     "output_type": "stream",
     "text": [
      "Failed to get preferred name for ConceptID: 34140002. Error: Message: no such element: Unable to locate element: {\"method\":\"xpath\",\"selector\":\"//th[span[contains(text(), 'Preferred Name')]]/following-sibling::td/p\"}\n",
      "  (Session info: chrome=134.0.6998.118); For documentation on this error, please visit: https://www.selenium.dev/documentation/webdriver/troubleshooting/errors#no-such-element-exception\n",
      "Stacktrace:\n",
      "\tGetHandleVerifier [0x00007FF786DB4C25+3179557]\n",
      "\t(No symbol) [0x00007FF786A188A0]\n",
      "\t(No symbol) [0x00007FF7868A91CA]\n",
      "\t(No symbol) [0x00007FF7868FFA67]\n",
      "\t(No symbol) [0x00007FF7868FFC9C]\n",
      "\t(No symbol) [0x00007FF786953627]\n",
      "\t(No symbol) [0x00007FF786927C6F]\n",
      "\t(No symbol) [0x00007FF7869502F3]\n",
      "\t(No symbol) [0x00007FF786927A03]\n",
      "\t(No symbol) [0x00007FF7868F06D0]\n",
      "\t(No symbol) [0x00007FF7868F1983]\n",
      "\tGetHandleVerifier [0x00007FF786E167CD+3579853]\n",
      "\tGetHandleVerifier [0x00007FF786E2D1D2+3672530]\n",
      "\tGetHandleVerifier [0x00007FF786E22153+3627347]\n",
      "\tGetHandleVerifier [0x00007FF786B8092A+868650]\n",
      "\t(No symbol) [0x00007FF786A22FFF]\n",
      "\t(No symbol) [0x00007FF786A1F4A4]\n",
      "\t(No symbol) [0x00007FF786A1F646]\n",
      "\t(No symbol) [0x00007FF786A0EAA9]\n",
      "\tBaseThreadInitThunk [0x00007FFB4C82E8D7+23]\n",
      "\tRtlUserThreadStart [0x00007FFB4E59BF6C+44]\n",
      "\n"
     ]
    },
    {
     "name": "stderr",
     "output_type": "stream",
     "text": [
      "Updating CommonName:  89%|████████▉ | 3144/3539 [4:05:17<15:52,  2.41s/it]  "
     ]
    },
    {
     "name": "stdout",
     "output_type": "stream",
     "text": [
      "Failed to get preferred name for ConceptID: 191634005. Error: Message: no such element: Unable to locate element: {\"method\":\"xpath\",\"selector\":\"//th[span[contains(text(), 'Preferred Name')]]/following-sibling::td/p\"}\n",
      "  (Session info: chrome=134.0.6998.118); For documentation on this error, please visit: https://www.selenium.dev/documentation/webdriver/troubleshooting/errors#no-such-element-exception\n",
      "Stacktrace:\n",
      "\tGetHandleVerifier [0x00007FF786DB4C25+3179557]\n",
      "\t(No symbol) [0x00007FF786A188A0]\n",
      "\t(No symbol) [0x00007FF7868A91CA]\n",
      "\t(No symbol) [0x00007FF7868FFA67]\n",
      "\t(No symbol) [0x00007FF7868FFC9C]\n",
      "\t(No symbol) [0x00007FF786953627]\n",
      "\t(No symbol) [0x00007FF786927C6F]\n",
      "\t(No symbol) [0x00007FF7869502F3]\n",
      "\t(No symbol) [0x00007FF786927A03]\n",
      "\t(No symbol) [0x00007FF7868F06D0]\n",
      "\t(No symbol) [0x00007FF7868F1983]\n",
      "\tGetHandleVerifier [0x00007FF786E167CD+3579853]\n",
      "\tGetHandleVerifier [0x00007FF786E2D1D2+3672530]\n",
      "\tGetHandleVerifier [0x00007FF786E22153+3627347]\n",
      "\tGetHandleVerifier [0x00007FF786B8092A+868650]\n",
      "\t(No symbol) [0x00007FF786A22FFF]\n",
      "\t(No symbol) [0x00007FF786A1F4A4]\n",
      "\t(No symbol) [0x00007FF786A1F646]\n",
      "\t(No symbol) [0x00007FF786A0EAA9]\n",
      "\tBaseThreadInitThunk [0x00007FFB4C82E8D7+23]\n",
      "\tRtlUserThreadStart [0x00007FFB4E59BF6C+44]\n",
      "\n"
     ]
    },
    {
     "name": "stderr",
     "output_type": "stream",
     "text": [
      "Updating CommonName:  89%|████████▉ | 3147/3539 [4:06:15<59:02,  9.04s/it]  "
     ]
    },
    {
     "name": "stdout",
     "output_type": "stream",
     "text": [
      "Failed to get preferred name for ConceptID: 191632009. Error: Message: no such element: Unable to locate element: {\"method\":\"xpath\",\"selector\":\"//th[span[contains(text(), 'Preferred Name')]]/following-sibling::td/p\"}\n",
      "  (Session info: chrome=134.0.6998.118); For documentation on this error, please visit: https://www.selenium.dev/documentation/webdriver/troubleshooting/errors#no-such-element-exception\n",
      "Stacktrace:\n",
      "\tGetHandleVerifier [0x00007FF786DB4C25+3179557]\n",
      "\t(No symbol) [0x00007FF786A188A0]\n",
      "\t(No symbol) [0x00007FF7868A91CA]\n",
      "\t(No symbol) [0x00007FF7868FFA67]\n",
      "\t(No symbol) [0x00007FF7868FFC9C]\n",
      "\t(No symbol) [0x00007FF786953627]\n",
      "\t(No symbol) [0x00007FF786927C6F]\n",
      "\t(No symbol) [0x00007FF7869502F3]\n",
      "\t(No symbol) [0x00007FF786927A03]\n",
      "\t(No symbol) [0x00007FF7868F06D0]\n",
      "\t(No symbol) [0x00007FF7868F1983]\n",
      "\tGetHandleVerifier [0x00007FF786E167CD+3579853]\n",
      "\tGetHandleVerifier [0x00007FF786E2D1D2+3672530]\n",
      "\tGetHandleVerifier [0x00007FF786E22153+3627347]\n",
      "\tGetHandleVerifier [0x00007FF786B8092A+868650]\n",
      "\t(No symbol) [0x00007FF786A22FFF]\n",
      "\t(No symbol) [0x00007FF786A1F4A4]\n",
      "\t(No symbol) [0x00007FF786A1F646]\n",
      "\t(No symbol) [0x00007FF786A0EAA9]\n",
      "\tBaseThreadInitThunk [0x00007FFB4C82E8D7+23]\n",
      "\tRtlUserThreadStart [0x00007FFB4E59BF6C+44]\n",
      "\n"
     ]
    },
    {
     "name": "stderr",
     "output_type": "stream",
     "text": [
      "Updating CommonName:  91%|█████████ | 3209/3539 [4:18:24<16:33,  3.01s/it]  "
     ]
    },
    {
     "name": "stdout",
     "output_type": "stream",
     "text": [
      "Failed to get preferred name for ConceptID: 191615005. Error: Message: no such element: Unable to locate element: {\"method\":\"xpath\",\"selector\":\"//th[span[contains(text(), 'Preferred Name')]]/following-sibling::td/p\"}\n",
      "  (Session info: chrome=134.0.6998.118); For documentation on this error, please visit: https://www.selenium.dev/documentation/webdriver/troubleshooting/errors#no-such-element-exception\n",
      "Stacktrace:\n",
      "\tGetHandleVerifier [0x00007FF786DB4C25+3179557]\n",
      "\t(No symbol) [0x00007FF786A188A0]\n",
      "\t(No symbol) [0x00007FF7868A91CA]\n",
      "\t(No symbol) [0x00007FF7868FFA67]\n",
      "\t(No symbol) [0x00007FF7868FFC9C]\n",
      "\t(No symbol) [0x00007FF786953627]\n",
      "\t(No symbol) [0x00007FF786927C6F]\n",
      "\t(No symbol) [0x00007FF7869502F3]\n",
      "\t(No symbol) [0x00007FF786927A03]\n",
      "\t(No symbol) [0x00007FF7868F06D0]\n",
      "\t(No symbol) [0x00007FF7868F1983]\n",
      "\tGetHandleVerifier [0x00007FF786E167CD+3579853]\n",
      "\tGetHandleVerifier [0x00007FF786E2D1D2+3672530]\n",
      "\tGetHandleVerifier [0x00007FF786E22153+3627347]\n",
      "\tGetHandleVerifier [0x00007FF786B8092A+868650]\n",
      "\t(No symbol) [0x00007FF786A22FFF]\n",
      "\t(No symbol) [0x00007FF786A1F4A4]\n",
      "\t(No symbol) [0x00007FF786A1F646]\n",
      "\t(No symbol) [0x00007FF786A0EAA9]\n",
      "\tBaseThreadInitThunk [0x00007FFB4C82E8D7+23]\n",
      "\tRtlUserThreadStart [0x00007FFB4E59BF6C+44]\n",
      "\n"
     ]
    },
    {
     "name": "stderr",
     "output_type": "stream",
     "text": [
      "Updating CommonName:  91%|█████████▏| 3231/3539 [4:22:22<22:34,  4.40s/it]  "
     ]
    },
    {
     "name": "stdout",
     "output_type": "stream",
     "text": [
      "Failed to get preferred name for ConceptID: 268620009. Error: Message: no such element: Unable to locate element: {\"method\":\"xpath\",\"selector\":\"//th[span[contains(text(), 'Preferred Name')]]/following-sibling::td/p\"}\n",
      "  (Session info: chrome=134.0.6998.118); For documentation on this error, please visit: https://www.selenium.dev/documentation/webdriver/troubleshooting/errors#no-such-element-exception\n",
      "Stacktrace:\n",
      "\tGetHandleVerifier [0x00007FF786DB4C25+3179557]\n",
      "\t(No symbol) [0x00007FF786A188A0]\n",
      "\t(No symbol) [0x00007FF7868A91CA]\n",
      "\t(No symbol) [0x00007FF7868FFA67]\n",
      "\t(No symbol) [0x00007FF7868FFC9C]\n",
      "\t(No symbol) [0x00007FF786953627]\n",
      "\t(No symbol) [0x00007FF786927C6F]\n",
      "\t(No symbol) [0x00007FF7869502F3]\n",
      "\t(No symbol) [0x00007FF786927A03]\n",
      "\t(No symbol) [0x00007FF7868F06D0]\n",
      "\t(No symbol) [0x00007FF7868F1983]\n",
      "\tGetHandleVerifier [0x00007FF786E167CD+3579853]\n",
      "\tGetHandleVerifier [0x00007FF786E2D1D2+3672530]\n",
      "\tGetHandleVerifier [0x00007FF786E22153+3627347]\n",
      "\tGetHandleVerifier [0x00007FF786B8092A+868650]\n",
      "\t(No symbol) [0x00007FF786A22FFF]\n",
      "\t(No symbol) [0x00007FF786A1F4A4]\n",
      "\t(No symbol) [0x00007FF786A1F646]\n",
      "\t(No symbol) [0x00007FF786A0EAA9]\n",
      "\tBaseThreadInitThunk [0x00007FFB4C82E8D7+23]\n",
      "\tRtlUserThreadStart [0x00007FFB4E59BF6C+44]\n",
      "\n"
     ]
    },
    {
     "name": "stderr",
     "output_type": "stream",
     "text": [
      "Updating CommonName:  91%|█████████▏| 3232/3539 [4:22:23<17:38,  3.45s/it]"
     ]
    },
    {
     "name": "stdout",
     "output_type": "stream",
     "text": [
      "Failed to get preferred name for ConceptID: 191606003. Error: Message: no such element: Unable to locate element: {\"method\":\"xpath\",\"selector\":\"//th[span[contains(text(), 'Preferred Name')]]/following-sibling::td/p\"}\n",
      "  (Session info: chrome=134.0.6998.118); For documentation on this error, please visit: https://www.selenium.dev/documentation/webdriver/troubleshooting/errors#no-such-element-exception\n",
      "Stacktrace:\n",
      "\tGetHandleVerifier [0x00007FF786DB4C25+3179557]\n",
      "\t(No symbol) [0x00007FF786A188A0]\n",
      "\t(No symbol) [0x00007FF7868A91CA]\n",
      "\t(No symbol) [0x00007FF7868FFA67]\n",
      "\t(No symbol) [0x00007FF7868FFC9C]\n",
      "\t(No symbol) [0x00007FF786953627]\n",
      "\t(No symbol) [0x00007FF786927C6F]\n",
      "\t(No symbol) [0x00007FF7869502F3]\n",
      "\t(No symbol) [0x00007FF786927A03]\n",
      "\t(No symbol) [0x00007FF7868F06D0]\n",
      "\t(No symbol) [0x00007FF7868F1983]\n",
      "\tGetHandleVerifier [0x00007FF786E167CD+3579853]\n",
      "\tGetHandleVerifier [0x00007FF786E2D1D2+3672530]\n",
      "\tGetHandleVerifier [0x00007FF786E22153+3627347]\n",
      "\tGetHandleVerifier [0x00007FF786B8092A+868650]\n",
      "\t(No symbol) [0x00007FF786A22FFF]\n",
      "\t(No symbol) [0x00007FF786A1F4A4]\n",
      "\t(No symbol) [0x00007FF786A1F646]\n",
      "\t(No symbol) [0x00007FF786A0EAA9]\n",
      "\tBaseThreadInitThunk [0x00007FFB4C82E8D7+23]\n",
      "\tRtlUserThreadStart [0x00007FFB4E59BF6C+44]\n",
      "\n"
     ]
    },
    {
     "name": "stderr",
     "output_type": "stream",
     "text": [
      "Updating CommonName:  91%|█████████▏| 3233/3539 [4:22:24<14:08,  2.77s/it]"
     ]
    },
    {
     "name": "stdout",
     "output_type": "stream",
     "text": [
      "Failed to get preferred name for ConceptID: 191601008. Error: Message: no such element: Unable to locate element: {\"method\":\"xpath\",\"selector\":\"//th[span[contains(text(), 'Preferred Name')]]/following-sibling::td/p\"}\n",
      "  (Session info: chrome=134.0.6998.118); For documentation on this error, please visit: https://www.selenium.dev/documentation/webdriver/troubleshooting/errors#no-such-element-exception\n",
      "Stacktrace:\n",
      "\tGetHandleVerifier [0x00007FF786DB4C25+3179557]\n",
      "\t(No symbol) [0x00007FF786A188A0]\n",
      "\t(No symbol) [0x00007FF7868A91CA]\n",
      "\t(No symbol) [0x00007FF7868FFA67]\n",
      "\t(No symbol) [0x00007FF7868FFC9C]\n",
      "\t(No symbol) [0x00007FF786953627]\n",
      "\t(No symbol) [0x00007FF786927C6F]\n",
      "\t(No symbol) [0x00007FF7869502F3]\n",
      "\t(No symbol) [0x00007FF786927A03]\n",
      "\t(No symbol) [0x00007FF7868F06D0]\n",
      "\t(No symbol) [0x00007FF7868F1983]\n",
      "\tGetHandleVerifier [0x00007FF786E167CD+3579853]\n",
      "\tGetHandleVerifier [0x00007FF786E2D1D2+3672530]\n",
      "\tGetHandleVerifier [0x00007FF786E22153+3627347]\n",
      "\tGetHandleVerifier [0x00007FF786B8092A+868650]\n",
      "\t(No symbol) [0x00007FF786A22FFF]\n",
      "\t(No symbol) [0x00007FF786A1F4A4]\n",
      "\t(No symbol) [0x00007FF786A1F646]\n",
      "\t(No symbol) [0x00007FF786A0EAA9]\n",
      "\tBaseThreadInitThunk [0x00007FFB4C82E8D7+23]\n",
      "\tRtlUserThreadStart [0x00007FFB4E59BF6C+44]\n",
      "\n"
     ]
    },
    {
     "name": "stderr",
     "output_type": "stream",
     "text": [
      "Updating CommonName:  91%|█████████▏| 3234/3539 [4:22:25<11:41,  2.30s/it]"
     ]
    },
    {
     "name": "stdout",
     "output_type": "stream",
     "text": [
      "Failed to get preferred name for ConceptID: 191602001. Error: Message: no such element: Unable to locate element: {\"method\":\"xpath\",\"selector\":\"//th[span[contains(text(), 'Preferred Name')]]/following-sibling::td/p\"}\n",
      "  (Session info: chrome=134.0.6998.118); For documentation on this error, please visit: https://www.selenium.dev/documentation/webdriver/troubleshooting/errors#no-such-element-exception\n",
      "Stacktrace:\n",
      "\tGetHandleVerifier [0x00007FF786DB4C25+3179557]\n",
      "\t(No symbol) [0x00007FF786A188A0]\n",
      "\t(No symbol) [0x00007FF7868A91CA]\n",
      "\t(No symbol) [0x00007FF7868FFA67]\n",
      "\t(No symbol) [0x00007FF7868FFC9C]\n",
      "\t(No symbol) [0x00007FF786953627]\n",
      "\t(No symbol) [0x00007FF786927C6F]\n",
      "\t(No symbol) [0x00007FF7869502F3]\n",
      "\t(No symbol) [0x00007FF786927A03]\n",
      "\t(No symbol) [0x00007FF7868F06D0]\n",
      "\t(No symbol) [0x00007FF7868F1983]\n",
      "\tGetHandleVerifier [0x00007FF786E167CD+3579853]\n",
      "\tGetHandleVerifier [0x00007FF786E2D1D2+3672530]\n",
      "\tGetHandleVerifier [0x00007FF786E22153+3627347]\n",
      "\tGetHandleVerifier [0x00007FF786B8092A+868650]\n",
      "\t(No symbol) [0x00007FF786A22FFF]\n",
      "\t(No symbol) [0x00007FF786A1F4A4]\n",
      "\t(No symbol) [0x00007FF786A1F646]\n",
      "\t(No symbol) [0x00007FF786A0EAA9]\n",
      "\tBaseThreadInitThunk [0x00007FFB4C82E8D7+23]\n",
      "\tRtlUserThreadStart [0x00007FFB4E59BF6C+44]\n",
      "\n"
     ]
    },
    {
     "name": "stderr",
     "output_type": "stream",
     "text": [
      "Updating CommonName:  91%|█████████▏| 3236/3539 [4:22:31<12:02,  2.39s/it]"
     ]
    },
    {
     "name": "stdout",
     "output_type": "stream",
     "text": [
      "Failed to get preferred name for ConceptID: 449108003. Error: Message: no such element: Unable to locate element: {\"method\":\"xpath\",\"selector\":\"//th[span[contains(text(), 'Preferred Name')]]/following-sibling::td/p\"}\n",
      "  (Session info: chrome=134.0.6998.118); For documentation on this error, please visit: https://www.selenium.dev/documentation/webdriver/troubleshooting/errors#no-such-element-exception\n",
      "Stacktrace:\n",
      "\tGetHandleVerifier [0x00007FF786DB4C25+3179557]\n",
      "\t(No symbol) [0x00007FF786A188A0]\n",
      "\t(No symbol) [0x00007FF7868A91CA]\n",
      "\t(No symbol) [0x00007FF7868FFA67]\n",
      "\t(No symbol) [0x00007FF7868FFC9C]\n",
      "\t(No symbol) [0x00007FF786953627]\n",
      "\t(No symbol) [0x00007FF786927C6F]\n",
      "\t(No symbol) [0x00007FF7869502F3]\n",
      "\t(No symbol) [0x00007FF786927A03]\n",
      "\t(No symbol) [0x00007FF7868F06D0]\n",
      "\t(No symbol) [0x00007FF7868F1983]\n",
      "\tGetHandleVerifier [0x00007FF786E167CD+3579853]\n",
      "\tGetHandleVerifier [0x00007FF786E2D1D2+3672530]\n",
      "\tGetHandleVerifier [0x00007FF786E22153+3627347]\n",
      "\tGetHandleVerifier [0x00007FF786B8092A+868650]\n",
      "\t(No symbol) [0x00007FF786A22FFF]\n",
      "\t(No symbol) [0x00007FF786A1F4A4]\n",
      "\t(No symbol) [0x00007FF786A1F646]\n",
      "\t(No symbol) [0x00007FF786A0EAA9]\n",
      "\tBaseThreadInitThunk [0x00007FFB4C82E8D7+23]\n",
      "\tRtlUserThreadStart [0x00007FFB4E59BF6C+44]\n",
      "\n"
     ]
    },
    {
     "name": "stderr",
     "output_type": "stream",
     "text": [
      "Updating CommonName:  92%|█████████▏| 3243/3539 [4:23:59<49:57, 10.13s/it]  "
     ]
    },
    {
     "name": "stdout",
     "output_type": "stream",
     "text": [
      "Failed to get preferred name for ConceptID: 188251003. Error: Message: no such element: Unable to locate element: {\"method\":\"xpath\",\"selector\":\"//th[span[contains(text(), 'Preferred Name')]]/following-sibling::td/p\"}\n",
      "  (Session info: chrome=134.0.6998.118); For documentation on this error, please visit: https://www.selenium.dev/documentation/webdriver/troubleshooting/errors#no-such-element-exception\n",
      "Stacktrace:\n",
      "\tGetHandleVerifier [0x00007FF786DB4C25+3179557]\n",
      "\t(No symbol) [0x00007FF786A188A0]\n",
      "\t(No symbol) [0x00007FF7868A91CA]\n",
      "\t(No symbol) [0x00007FF7868FFA67]\n",
      "\t(No symbol) [0x00007FF7868FFC9C]\n",
      "\t(No symbol) [0x00007FF786953627]\n",
      "\t(No symbol) [0x00007FF786927C6F]\n",
      "\t(No symbol) [0x00007FF7869502F3]\n",
      "\t(No symbol) [0x00007FF786927A03]\n",
      "\t(No symbol) [0x00007FF7868F06D0]\n",
      "\t(No symbol) [0x00007FF7868F1983]\n",
      "\tGetHandleVerifier [0x00007FF786E167CD+3579853]\n",
      "\tGetHandleVerifier [0x00007FF786E2D1D2+3672530]\n",
      "\tGetHandleVerifier [0x00007FF786E22153+3627347]\n",
      "\tGetHandleVerifier [0x00007FF786B8092A+868650]\n",
      "\t(No symbol) [0x00007FF786A22FFF]\n",
      "\t(No symbol) [0x00007FF786A1F4A4]\n",
      "\t(No symbol) [0x00007FF786A1F646]\n",
      "\t(No symbol) [0x00007FF786A0EAA9]\n",
      "\tBaseThreadInitThunk [0x00007FFB4C82E8D7+23]\n",
      "\tRtlUserThreadStart [0x00007FFB4E59BF6C+44]\n",
      "\n"
     ]
    },
    {
     "name": "stderr",
     "output_type": "stream",
     "text": [
      "Updating CommonName:  92%|█████████▏| 3273/3539 [4:27:43<21:43,  4.90s/it]  "
     ]
    },
    {
     "name": "stdout",
     "output_type": "stream",
     "text": [
      "Failed to get preferred name for ConceptID: 195080001. Error: Message: no such element: Unable to locate element: {\"method\":\"xpath\",\"selector\":\"//th[span[contains(text(), 'Preferred Name')]]/following-sibling::td/p\"}\n",
      "  (Session info: chrome=134.0.6998.118); For documentation on this error, please visit: https://www.selenium.dev/documentation/webdriver/troubleshooting/errors#no-such-element-exception\n",
      "Stacktrace:\n",
      "\tGetHandleVerifier [0x00007FF786DB4C25+3179557]\n",
      "\t(No symbol) [0x00007FF786A188A0]\n",
      "\t(No symbol) [0x00007FF7868A91CA]\n",
      "\t(No symbol) [0x00007FF7868FFA67]\n",
      "\t(No symbol) [0x00007FF7868FFC9C]\n",
      "\t(No symbol) [0x00007FF786953627]\n",
      "\t(No symbol) [0x00007FF786927C6F]\n",
      "\t(No symbol) [0x00007FF7869502F3]\n",
      "\t(No symbol) [0x00007FF786927A03]\n",
      "\t(No symbol) [0x00007FF7868F06D0]\n",
      "\t(No symbol) [0x00007FF7868F1983]\n",
      "\tGetHandleVerifier [0x00007FF786E167CD+3579853]\n",
      "\tGetHandleVerifier [0x00007FF786E2D1D2+3672530]\n",
      "\tGetHandleVerifier [0x00007FF786E22153+3627347]\n",
      "\tGetHandleVerifier [0x00007FF786B8092A+868650]\n",
      "\t(No symbol) [0x00007FF786A22FFF]\n",
      "\t(No symbol) [0x00007FF786A1F4A4]\n",
      "\t(No symbol) [0x00007FF786A1F646]\n",
      "\t(No symbol) [0x00007FF786A0EAA9]\n",
      "\tBaseThreadInitThunk [0x00007FFB4C82E8D7+23]\n",
      "\tRtlUserThreadStart [0x00007FFB4E59BF6C+44]\n",
      "\n"
     ]
    },
    {
     "name": "stderr",
     "output_type": "stream",
     "text": [
      "Updating CommonName:  94%|█████████▍| 3339/3539 [4:33:51<09:54,  2.97s/it]"
     ]
    },
    {
     "name": "stdout",
     "output_type": "stream",
     "text": [
      "Failed to get preferred name for ConceptID: 191615005. Error: Message: no such element: Unable to locate element: {\"method\":\"xpath\",\"selector\":\"//th[span[contains(text(), 'Preferred Name')]]/following-sibling::td/p\"}\n",
      "  (Session info: chrome=134.0.6998.118); For documentation on this error, please visit: https://www.selenium.dev/documentation/webdriver/troubleshooting/errors#no-such-element-exception\n",
      "Stacktrace:\n",
      "\tGetHandleVerifier [0x00007FF786DB4C25+3179557]\n",
      "\t(No symbol) [0x00007FF786A188A0]\n",
      "\t(No symbol) [0x00007FF7868A91CA]\n",
      "\t(No symbol) [0x00007FF7868FFA67]\n",
      "\t(No symbol) [0x00007FF7868FFC9C]\n",
      "\t(No symbol) [0x00007FF786953627]\n",
      "\t(No symbol) [0x00007FF786927C6F]\n",
      "\t(No symbol) [0x00007FF7869502F3]\n",
      "\t(No symbol) [0x00007FF786927A03]\n",
      "\t(No symbol) [0x00007FF7868F06D0]\n",
      "\t(No symbol) [0x00007FF7868F1983]\n",
      "\tGetHandleVerifier [0x00007FF786E167CD+3579853]\n",
      "\tGetHandleVerifier [0x00007FF786E2D1D2+3672530]\n",
      "\tGetHandleVerifier [0x00007FF786E22153+3627347]\n",
      "\tGetHandleVerifier [0x00007FF786B8092A+868650]\n",
      "\t(No symbol) [0x00007FF786A22FFF]\n",
      "\t(No symbol) [0x00007FF786A1F4A4]\n",
      "\t(No symbol) [0x00007FF786A1F646]\n",
      "\t(No symbol) [0x00007FF786A0EAA9]\n",
      "\tBaseThreadInitThunk [0x00007FFB4C82E8D7+23]\n",
      "\tRtlUserThreadStart [0x00007FFB4E59BF6C+44]\n",
      "\n"
     ]
    },
    {
     "name": "stderr",
     "output_type": "stream",
     "text": [
      "Updating CommonName:  95%|█████████▍| 3357/3539 [4:35:09<11:27,  3.78s/it]"
     ]
    },
    {
     "name": "stdout",
     "output_type": "stream",
     "text": [
      "Failed to get preferred name for ConceptID: 268620009. Error: Message: no such element: Unable to locate element: {\"method\":\"xpath\",\"selector\":\"//th[span[contains(text(), 'Preferred Name')]]/following-sibling::td/p\"}\n",
      "  (Session info: chrome=134.0.6998.118); For documentation on this error, please visit: https://www.selenium.dev/documentation/webdriver/troubleshooting/errors#no-such-element-exception\n",
      "Stacktrace:\n",
      "\tGetHandleVerifier [0x00007FF786DB4C25+3179557]\n",
      "\t(No symbol) [0x00007FF786A188A0]\n",
      "\t(No symbol) [0x00007FF7868A91CA]\n",
      "\t(No symbol) [0x00007FF7868FFA67]\n",
      "\t(No symbol) [0x00007FF7868FFC9C]\n",
      "\t(No symbol) [0x00007FF786953627]\n",
      "\t(No symbol) [0x00007FF786927C6F]\n",
      "\t(No symbol) [0x00007FF7869502F3]\n",
      "\t(No symbol) [0x00007FF786927A03]\n",
      "\t(No symbol) [0x00007FF7868F06D0]\n",
      "\t(No symbol) [0x00007FF7868F1983]\n",
      "\tGetHandleVerifier [0x00007FF786E167CD+3579853]\n",
      "\tGetHandleVerifier [0x00007FF786E2D1D2+3672530]\n",
      "\tGetHandleVerifier [0x00007FF786E22153+3627347]\n",
      "\tGetHandleVerifier [0x00007FF786B8092A+868650]\n",
      "\t(No symbol) [0x00007FF786A22FFF]\n",
      "\t(No symbol) [0x00007FF786A1F4A4]\n",
      "\t(No symbol) [0x00007FF786A1F646]\n",
      "\t(No symbol) [0x00007FF786A0EAA9]\n",
      "\tBaseThreadInitThunk [0x00007FFB4C82E8D7+23]\n",
      "\tRtlUserThreadStart [0x00007FFB4E59BF6C+44]\n",
      "\n"
     ]
    },
    {
     "name": "stderr",
     "output_type": "stream",
     "text": [
      "Updating CommonName:  95%|█████████▍| 3358/3539 [4:35:10<09:04,  3.01s/it]"
     ]
    },
    {
     "name": "stdout",
     "output_type": "stream",
     "text": [
      "Failed to get preferred name for ConceptID: 191606003. Error: Message: no such element: Unable to locate element: {\"method\":\"xpath\",\"selector\":\"//th[span[contains(text(), 'Preferred Name')]]/following-sibling::td/p\"}\n",
      "  (Session info: chrome=134.0.6998.118); For documentation on this error, please visit: https://www.selenium.dev/documentation/webdriver/troubleshooting/errors#no-such-element-exception\n",
      "Stacktrace:\n",
      "\tGetHandleVerifier [0x00007FF786DB4C25+3179557]\n",
      "\t(No symbol) [0x00007FF786A188A0]\n",
      "\t(No symbol) [0x00007FF7868A91CA]\n",
      "\t(No symbol) [0x00007FF7868FFA67]\n",
      "\t(No symbol) [0x00007FF7868FFC9C]\n",
      "\t(No symbol) [0x00007FF786953627]\n",
      "\t(No symbol) [0x00007FF786927C6F]\n",
      "\t(No symbol) [0x00007FF7869502F3]\n",
      "\t(No symbol) [0x00007FF786927A03]\n",
      "\t(No symbol) [0x00007FF7868F06D0]\n",
      "\t(No symbol) [0x00007FF7868F1983]\n",
      "\tGetHandleVerifier [0x00007FF786E167CD+3579853]\n",
      "\tGetHandleVerifier [0x00007FF786E2D1D2+3672530]\n",
      "\tGetHandleVerifier [0x00007FF786E22153+3627347]\n",
      "\tGetHandleVerifier [0x00007FF786B8092A+868650]\n",
      "\t(No symbol) [0x00007FF786A22FFF]\n",
      "\t(No symbol) [0x00007FF786A1F4A4]\n",
      "\t(No symbol) [0x00007FF786A1F646]\n",
      "\t(No symbol) [0x00007FF786A0EAA9]\n",
      "\tBaseThreadInitThunk [0x00007FFB4C82E8D7+23]\n",
      "\tRtlUserThreadStart [0x00007FFB4E59BF6C+44]\n",
      "\n"
     ]
    },
    {
     "name": "stderr",
     "output_type": "stream",
     "text": [
      "Updating CommonName:  95%|█████████▍| 3359/3539 [4:35:13<08:21,  2.78s/it]"
     ]
    },
    {
     "name": "stdout",
     "output_type": "stream",
     "text": [
      "Failed to get preferred name for ConceptID: 191601008. Error: Message: no such element: Unable to locate element: {\"method\":\"xpath\",\"selector\":\"//th[span[contains(text(), 'Preferred Name')]]/following-sibling::td/p\"}\n",
      "  (Session info: chrome=134.0.6998.118); For documentation on this error, please visit: https://www.selenium.dev/documentation/webdriver/troubleshooting/errors#no-such-element-exception\n",
      "Stacktrace:\n",
      "\tGetHandleVerifier [0x00007FF786DB4C25+3179557]\n",
      "\t(No symbol) [0x00007FF786A188A0]\n",
      "\t(No symbol) [0x00007FF7868A91CA]\n",
      "\t(No symbol) [0x00007FF7868FFA67]\n",
      "\t(No symbol) [0x00007FF7868FFC9C]\n",
      "\t(No symbol) [0x00007FF786953627]\n",
      "\t(No symbol) [0x00007FF786927C6F]\n",
      "\t(No symbol) [0x00007FF7869502F3]\n",
      "\t(No symbol) [0x00007FF786927A03]\n",
      "\t(No symbol) [0x00007FF7868F06D0]\n",
      "\t(No symbol) [0x00007FF7868F1983]\n",
      "\tGetHandleVerifier [0x00007FF786E167CD+3579853]\n",
      "\tGetHandleVerifier [0x00007FF786E2D1D2+3672530]\n",
      "\tGetHandleVerifier [0x00007FF786E22153+3627347]\n",
      "\tGetHandleVerifier [0x00007FF786B8092A+868650]\n",
      "\t(No symbol) [0x00007FF786A22FFF]\n",
      "\t(No symbol) [0x00007FF786A1F4A4]\n",
      "\t(No symbol) [0x00007FF786A1F646]\n",
      "\t(No symbol) [0x00007FF786A0EAA9]\n",
      "\tBaseThreadInitThunk [0x00007FFB4C82E8D7+23]\n",
      "\tRtlUserThreadStart [0x00007FFB4E59BF6C+44]\n",
      "\n"
     ]
    },
    {
     "name": "stderr",
     "output_type": "stream",
     "text": [
      "Updating CommonName:  95%|█████████▍| 3360/3539 [4:35:14<07:27,  2.50s/it]"
     ]
    },
    {
     "name": "stdout",
     "output_type": "stream",
     "text": [
      "Failed to get preferred name for ConceptID: 191602001. Error: Message: no such element: Unable to locate element: {\"method\":\"xpath\",\"selector\":\"//th[span[contains(text(), 'Preferred Name')]]/following-sibling::td/p\"}\n",
      "  (Session info: chrome=134.0.6998.118); For documentation on this error, please visit: https://www.selenium.dev/documentation/webdriver/troubleshooting/errors#no-such-element-exception\n",
      "Stacktrace:\n",
      "\tGetHandleVerifier [0x00007FF786DB4C25+3179557]\n",
      "\t(No symbol) [0x00007FF786A188A0]\n",
      "\t(No symbol) [0x00007FF7868A91CA]\n",
      "\t(No symbol) [0x00007FF7868FFA67]\n",
      "\t(No symbol) [0x00007FF7868FFC9C]\n",
      "\t(No symbol) [0x00007FF786953627]\n",
      "\t(No symbol) [0x00007FF786927C6F]\n",
      "\t(No symbol) [0x00007FF7869502F3]\n",
      "\t(No symbol) [0x00007FF786927A03]\n",
      "\t(No symbol) [0x00007FF7868F06D0]\n",
      "\t(No symbol) [0x00007FF7868F1983]\n",
      "\tGetHandleVerifier [0x00007FF786E167CD+3579853]\n",
      "\tGetHandleVerifier [0x00007FF786E2D1D2+3672530]\n",
      "\tGetHandleVerifier [0x00007FF786E22153+3627347]\n",
      "\tGetHandleVerifier [0x00007FF786B8092A+868650]\n",
      "\t(No symbol) [0x00007FF786A22FFF]\n",
      "\t(No symbol) [0x00007FF786A1F4A4]\n",
      "\t(No symbol) [0x00007FF786A1F646]\n",
      "\t(No symbol) [0x00007FF786A0EAA9]\n",
      "\tBaseThreadInitThunk [0x00007FFB4C82E8D7+23]\n",
      "\tRtlUserThreadStart [0x00007FFB4E59BF6C+44]\n",
      "\n"
     ]
    },
    {
     "name": "stderr",
     "output_type": "stream",
     "text": [
      "Updating CommonName:  95%|█████████▌| 3364/3539 [4:35:26<06:38,  2.28s/it]"
     ]
    },
    {
     "name": "stdout",
     "output_type": "stream",
     "text": [
      "Failed to get preferred name for ConceptID: 195080001. Error: Message: no such element: Unable to locate element: {\"method\":\"xpath\",\"selector\":\"//th[span[contains(text(), 'Preferred Name')]]/following-sibling::td/p\"}\n",
      "  (Session info: chrome=134.0.6998.118); For documentation on this error, please visit: https://www.selenium.dev/documentation/webdriver/troubleshooting/errors#no-such-element-exception\n",
      "Stacktrace:\n",
      "\tGetHandleVerifier [0x00007FF786DB4C25+3179557]\n",
      "\t(No symbol) [0x00007FF786A188A0]\n",
      "\t(No symbol) [0x00007FF7868A91CA]\n",
      "\t(No symbol) [0x00007FF7868FFA67]\n",
      "\t(No symbol) [0x00007FF7868FFC9C]\n",
      "\t(No symbol) [0x00007FF786953627]\n",
      "\t(No symbol) [0x00007FF786927C6F]\n",
      "\t(No symbol) [0x00007FF7869502F3]\n",
      "\t(No symbol) [0x00007FF786927A03]\n",
      "\t(No symbol) [0x00007FF7868F06D0]\n",
      "\t(No symbol) [0x00007FF7868F1983]\n",
      "\tGetHandleVerifier [0x00007FF786E167CD+3579853]\n",
      "\tGetHandleVerifier [0x00007FF786E2D1D2+3672530]\n",
      "\tGetHandleVerifier [0x00007FF786E22153+3627347]\n",
      "\tGetHandleVerifier [0x00007FF786B8092A+868650]\n",
      "\t(No symbol) [0x00007FF786A22FFF]\n",
      "\t(No symbol) [0x00007FF786A1F4A4]\n",
      "\t(No symbol) [0x00007FF786A1F646]\n",
      "\t(No symbol) [0x00007FF786A0EAA9]\n",
      "\tBaseThreadInitThunk [0x00007FFB4C82E8D7+23]\n",
      "\tRtlUserThreadStart [0x00007FFB4E59BF6C+44]\n",
      "\n"
     ]
    },
    {
     "name": "stderr",
     "output_type": "stream",
     "text": [
      "Updating CommonName:  96%|█████████▌| 3398/3539 [4:39:35<23:38, 10.06s/it]"
     ]
    },
    {
     "name": "stdout",
     "output_type": "stream",
     "text": [
      "Failed to get preferred name for ConceptID: 38342005. Error: Message: no such element: Unable to locate element: {\"method\":\"xpath\",\"selector\":\"//th[span[contains(text(), 'Preferred Name')]]/following-sibling::td/p\"}\n",
      "  (Session info: chrome=134.0.6998.118); For documentation on this error, please visit: https://www.selenium.dev/documentation/webdriver/troubleshooting/errors#no-such-element-exception\n",
      "Stacktrace:\n",
      "\tGetHandleVerifier [0x00007FF786DB4C25+3179557]\n",
      "\t(No symbol) [0x00007FF786A188A0]\n",
      "\t(No symbol) [0x00007FF7868A91CA]\n",
      "\t(No symbol) [0x00007FF7868FFA67]\n",
      "\t(No symbol) [0x00007FF7868FFC9C]\n",
      "\t(No symbol) [0x00007FF786953627]\n",
      "\t(No symbol) [0x00007FF786927C6F]\n",
      "\t(No symbol) [0x00007FF7869502F3]\n",
      "\t(No symbol) [0x00007FF786927A03]\n",
      "\t(No symbol) [0x00007FF7868F06D0]\n",
      "\t(No symbol) [0x00007FF7868F1983]\n",
      "\tGetHandleVerifier [0x00007FF786E167CD+3579853]\n",
      "\tGetHandleVerifier [0x00007FF786E2D1D2+3672530]\n",
      "\tGetHandleVerifier [0x00007FF786E22153+3627347]\n",
      "\tGetHandleVerifier [0x00007FF786B8092A+868650]\n",
      "\t(No symbol) [0x00007FF786A22FFF]\n",
      "\t(No symbol) [0x00007FF786A1F4A4]\n",
      "\t(No symbol) [0x00007FF786A1F646]\n",
      "\t(No symbol) [0x00007FF786A0EAA9]\n",
      "\tBaseThreadInitThunk [0x00007FFB4C82E8D7+23]\n",
      "\tRtlUserThreadStart [0x00007FFB4E59BF6C+44]\n",
      "\n"
     ]
    },
    {
     "name": "stderr",
     "output_type": "stream",
     "text": [
      "Updating CommonName:  97%|█████████▋| 3416/3539 [4:43:34<10:16,  5.01s/it]  "
     ]
    },
    {
     "name": "stdout",
     "output_type": "stream",
     "text": [
      "Failed to get preferred name for ConceptID: 236633002. Error: Message: no such element: Unable to locate element: {\"method\":\"xpath\",\"selector\":\"//th[span[contains(text(), 'Preferred Name')]]/following-sibling::td/p\"}\n",
      "  (Session info: chrome=134.0.6998.118); For documentation on this error, please visit: https://www.selenium.dev/documentation/webdriver/troubleshooting/errors#no-such-element-exception\n",
      "Stacktrace:\n",
      "\tGetHandleVerifier [0x00007FF786DB4C25+3179557]\n",
      "\t(No symbol) [0x00007FF786A188A0]\n",
      "\t(No symbol) [0x00007FF7868A91CA]\n",
      "\t(No symbol) [0x00007FF7868FFA67]\n",
      "\t(No symbol) [0x00007FF7868FFC9C]\n",
      "\t(No symbol) [0x00007FF786953627]\n",
      "\t(No symbol) [0x00007FF786927C6F]\n",
      "\t(No symbol) [0x00007FF7869502F3]\n",
      "\t(No symbol) [0x00007FF786927A03]\n",
      "\t(No symbol) [0x00007FF7868F06D0]\n",
      "\t(No symbol) [0x00007FF7868F1983]\n",
      "\tGetHandleVerifier [0x00007FF786E167CD+3579853]\n",
      "\tGetHandleVerifier [0x00007FF786E2D1D2+3672530]\n",
      "\tGetHandleVerifier [0x00007FF786E22153+3627347]\n",
      "\tGetHandleVerifier [0x00007FF786B8092A+868650]\n",
      "\t(No symbol) [0x00007FF786A22FFF]\n",
      "\t(No symbol) [0x00007FF786A1F4A4]\n",
      "\t(No symbol) [0x00007FF786A1F646]\n",
      "\t(No symbol) [0x00007FF786A0EAA9]\n",
      "\tBaseThreadInitThunk [0x00007FFB4C82E8D7+23]\n",
      "\tRtlUserThreadStart [0x00007FFB4E59BF6C+44]\n",
      "\n"
     ]
    },
    {
     "name": "stderr",
     "output_type": "stream",
     "text": [
      "Updating CommonName:  98%|█████████▊| 3465/3539 [4:47:23<04:01,  3.26s/it]"
     ]
    },
    {
     "name": "stdout",
     "output_type": "stream",
     "text": [
      "Failed to get preferred name for ConceptID: 191615005. Error: Message: no such element: Unable to locate element: {\"method\":\"xpath\",\"selector\":\"//th[span[contains(text(), 'Preferred Name')]]/following-sibling::td/p\"}\n",
      "  (Session info: chrome=134.0.6998.118); For documentation on this error, please visit: https://www.selenium.dev/documentation/webdriver/troubleshooting/errors#no-such-element-exception\n",
      "Stacktrace:\n",
      "\tGetHandleVerifier [0x00007FF786DB4C25+3179557]\n",
      "\t(No symbol) [0x00007FF786A188A0]\n",
      "\t(No symbol) [0x00007FF7868A91CA]\n",
      "\t(No symbol) [0x00007FF7868FFA67]\n",
      "\t(No symbol) [0x00007FF7868FFC9C]\n",
      "\t(No symbol) [0x00007FF786953627]\n",
      "\t(No symbol) [0x00007FF786927C6F]\n",
      "\t(No symbol) [0x00007FF7869502F3]\n",
      "\t(No symbol) [0x00007FF786927A03]\n",
      "\t(No symbol) [0x00007FF7868F06D0]\n",
      "\t(No symbol) [0x00007FF7868F1983]\n",
      "\tGetHandleVerifier [0x00007FF786E167CD+3579853]\n",
      "\tGetHandleVerifier [0x00007FF786E2D1D2+3672530]\n",
      "\tGetHandleVerifier [0x00007FF786E22153+3627347]\n",
      "\tGetHandleVerifier [0x00007FF786B8092A+868650]\n",
      "\t(No symbol) [0x00007FF786A22FFF]\n",
      "\t(No symbol) [0x00007FF786A1F4A4]\n",
      "\t(No symbol) [0x00007FF786A1F646]\n",
      "\t(No symbol) [0x00007FF786A0EAA9]\n",
      "\tBaseThreadInitThunk [0x00007FFB4C82E8D7+23]\n",
      "\tRtlUserThreadStart [0x00007FFB4E59BF6C+44]\n",
      "\n"
     ]
    },
    {
     "name": "stderr",
     "output_type": "stream",
     "text": [
      "Updating CommonName:  98%|█████████▊| 3483/3539 [4:48:58<03:42,  3.98s/it]"
     ]
    },
    {
     "name": "stdout",
     "output_type": "stream",
     "text": [
      "Failed to get preferred name for ConceptID: 268620009. Error: Message: no such element: Unable to locate element: {\"method\":\"xpath\",\"selector\":\"//th[span[contains(text(), 'Preferred Name')]]/following-sibling::td/p\"}\n",
      "  (Session info: chrome=134.0.6998.118); For documentation on this error, please visit: https://www.selenium.dev/documentation/webdriver/troubleshooting/errors#no-such-element-exception\n",
      "Stacktrace:\n",
      "\tGetHandleVerifier [0x00007FF786DB4C25+3179557]\n",
      "\t(No symbol) [0x00007FF786A188A0]\n",
      "\t(No symbol) [0x00007FF7868A91CA]\n",
      "\t(No symbol) [0x00007FF7868FFA67]\n",
      "\t(No symbol) [0x00007FF7868FFC9C]\n",
      "\t(No symbol) [0x00007FF786953627]\n",
      "\t(No symbol) [0x00007FF786927C6F]\n",
      "\t(No symbol) [0x00007FF7869502F3]\n",
      "\t(No symbol) [0x00007FF786927A03]\n",
      "\t(No symbol) [0x00007FF7868F06D0]\n",
      "\t(No symbol) [0x00007FF7868F1983]\n",
      "\tGetHandleVerifier [0x00007FF786E167CD+3579853]\n",
      "\tGetHandleVerifier [0x00007FF786E2D1D2+3672530]\n",
      "\tGetHandleVerifier [0x00007FF786E22153+3627347]\n",
      "\tGetHandleVerifier [0x00007FF786B8092A+868650]\n",
      "\t(No symbol) [0x00007FF786A22FFF]\n",
      "\t(No symbol) [0x00007FF786A1F4A4]\n",
      "\t(No symbol) [0x00007FF786A1F646]\n",
      "\t(No symbol) [0x00007FF786A0EAA9]\n",
      "\tBaseThreadInitThunk [0x00007FFB4C82E8D7+23]\n",
      "\tRtlUserThreadStart [0x00007FFB4E59BF6C+44]\n",
      "\n"
     ]
    },
    {
     "name": "stderr",
     "output_type": "stream",
     "text": [
      "Updating CommonName:  98%|█████████▊| 3484/3539 [4:48:59<02:53,  3.16s/it]"
     ]
    },
    {
     "name": "stdout",
     "output_type": "stream",
     "text": [
      "Failed to get preferred name for ConceptID: 191606003. Error: Message: no such element: Unable to locate element: {\"method\":\"xpath\",\"selector\":\"//th[span[contains(text(), 'Preferred Name')]]/following-sibling::td/p\"}\n",
      "  (Session info: chrome=134.0.6998.118); For documentation on this error, please visit: https://www.selenium.dev/documentation/webdriver/troubleshooting/errors#no-such-element-exception\n",
      "Stacktrace:\n",
      "\tGetHandleVerifier [0x00007FF786DB4C25+3179557]\n",
      "\t(No symbol) [0x00007FF786A188A0]\n",
      "\t(No symbol) [0x00007FF7868A91CA]\n",
      "\t(No symbol) [0x00007FF7868FFA67]\n",
      "\t(No symbol) [0x00007FF7868FFC9C]\n",
      "\t(No symbol) [0x00007FF786953627]\n",
      "\t(No symbol) [0x00007FF786927C6F]\n",
      "\t(No symbol) [0x00007FF7869502F3]\n",
      "\t(No symbol) [0x00007FF786927A03]\n",
      "\t(No symbol) [0x00007FF7868F06D0]\n",
      "\t(No symbol) [0x00007FF7868F1983]\n",
      "\tGetHandleVerifier [0x00007FF786E167CD+3579853]\n",
      "\tGetHandleVerifier [0x00007FF786E2D1D2+3672530]\n",
      "\tGetHandleVerifier [0x00007FF786E22153+3627347]\n",
      "\tGetHandleVerifier [0x00007FF786B8092A+868650]\n",
      "\t(No symbol) [0x00007FF786A22FFF]\n",
      "\t(No symbol) [0x00007FF786A1F4A4]\n",
      "\t(No symbol) [0x00007FF786A1F646]\n",
      "\t(No symbol) [0x00007FF786A0EAA9]\n",
      "\tBaseThreadInitThunk [0x00007FFB4C82E8D7+23]\n",
      "\tRtlUserThreadStart [0x00007FFB4E59BF6C+44]\n",
      "\n"
     ]
    },
    {
     "name": "stderr",
     "output_type": "stream",
     "text": [
      "Updating CommonName:  98%|█████████▊| 3485/3539 [4:49:00<02:19,  2.58s/it]"
     ]
    },
    {
     "name": "stdout",
     "output_type": "stream",
     "text": [
      "Failed to get preferred name for ConceptID: 191601008. Error: Message: no such element: Unable to locate element: {\"method\":\"xpath\",\"selector\":\"//th[span[contains(text(), 'Preferred Name')]]/following-sibling::td/p\"}\n",
      "  (Session info: chrome=134.0.6998.118); For documentation on this error, please visit: https://www.selenium.dev/documentation/webdriver/troubleshooting/errors#no-such-element-exception\n",
      "Stacktrace:\n",
      "\tGetHandleVerifier [0x00007FF786DB4C25+3179557]\n",
      "\t(No symbol) [0x00007FF786A188A0]\n",
      "\t(No symbol) [0x00007FF7868A91CA]\n",
      "\t(No symbol) [0x00007FF7868FFA67]\n",
      "\t(No symbol) [0x00007FF7868FFC9C]\n",
      "\t(No symbol) [0x00007FF786953627]\n",
      "\t(No symbol) [0x00007FF786927C6F]\n",
      "\t(No symbol) [0x00007FF7869502F3]\n",
      "\t(No symbol) [0x00007FF786927A03]\n",
      "\t(No symbol) [0x00007FF7868F06D0]\n",
      "\t(No symbol) [0x00007FF7868F1983]\n",
      "\tGetHandleVerifier [0x00007FF786E167CD+3579853]\n",
      "\tGetHandleVerifier [0x00007FF786E2D1D2+3672530]\n",
      "\tGetHandleVerifier [0x00007FF786E22153+3627347]\n",
      "\tGetHandleVerifier [0x00007FF786B8092A+868650]\n",
      "\t(No symbol) [0x00007FF786A22FFF]\n",
      "\t(No symbol) [0x00007FF786A1F4A4]\n",
      "\t(No symbol) [0x00007FF786A1F646]\n",
      "\t(No symbol) [0x00007FF786A0EAA9]\n",
      "\tBaseThreadInitThunk [0x00007FFB4C82E8D7+23]\n",
      "\tRtlUserThreadStart [0x00007FFB4E59BF6C+44]\n",
      "\n"
     ]
    },
    {
     "name": "stderr",
     "output_type": "stream",
     "text": [
      "Updating CommonName:  99%|█████████▊| 3486/3539 [4:49:01<01:55,  2.18s/it]"
     ]
    },
    {
     "name": "stdout",
     "output_type": "stream",
     "text": [
      "Failed to get preferred name for ConceptID: 191602001. Error: Message: no such element: Unable to locate element: {\"method\":\"xpath\",\"selector\":\"//th[span[contains(text(), 'Preferred Name')]]/following-sibling::td/p\"}\n",
      "  (Session info: chrome=134.0.6998.118); For documentation on this error, please visit: https://www.selenium.dev/documentation/webdriver/troubleshooting/errors#no-such-element-exception\n",
      "Stacktrace:\n",
      "\tGetHandleVerifier [0x00007FF786DB4C25+3179557]\n",
      "\t(No symbol) [0x00007FF786A188A0]\n",
      "\t(No symbol) [0x00007FF7868A91CA]\n",
      "\t(No symbol) [0x00007FF7868FFA67]\n",
      "\t(No symbol) [0x00007FF7868FFC9C]\n",
      "\t(No symbol) [0x00007FF786953627]\n",
      "\t(No symbol) [0x00007FF786927C6F]\n",
      "\t(No symbol) [0x00007FF7869502F3]\n",
      "\t(No symbol) [0x00007FF786927A03]\n",
      "\t(No symbol) [0x00007FF7868F06D0]\n",
      "\t(No symbol) [0x00007FF7868F1983]\n",
      "\tGetHandleVerifier [0x00007FF786E167CD+3579853]\n",
      "\tGetHandleVerifier [0x00007FF786E2D1D2+3672530]\n",
      "\tGetHandleVerifier [0x00007FF786E22153+3627347]\n",
      "\tGetHandleVerifier [0x00007FF786B8092A+868650]\n",
      "\t(No symbol) [0x00007FF786A22FFF]\n",
      "\t(No symbol) [0x00007FF786A1F4A4]\n",
      "\t(No symbol) [0x00007FF786A1F646]\n",
      "\t(No symbol) [0x00007FF786A0EAA9]\n",
      "\tBaseThreadInitThunk [0x00007FFB4C82E8D7+23]\n",
      "\tRtlUserThreadStart [0x00007FFB4E59BF6C+44]\n",
      "\n"
     ]
    },
    {
     "name": "stderr",
     "output_type": "stream",
     "text": [
      "Updating CommonName:  99%|█████████▉| 3499/3539 [4:52:18<10:07, 15.19s/it]"
     ]
    },
    {
     "name": "stdout",
     "output_type": "stream",
     "text": [
      "Failed to get preferred name for ConceptID: 312146001. Error: Message: no such element: Unable to locate element: {\"method\":\"xpath\",\"selector\":\"//th[span[contains(text(), 'Preferred Name')]]/following-sibling::td/p\"}\n",
      "  (Session info: chrome=134.0.6998.118); For documentation on this error, please visit: https://www.selenium.dev/documentation/webdriver/troubleshooting/errors#no-such-element-exception\n",
      "Stacktrace:\n",
      "\tGetHandleVerifier [0x00007FF786DB4C25+3179557]\n",
      "\t(No symbol) [0x00007FF786A188A0]\n",
      "\t(No symbol) [0x00007FF7868A91CA]\n",
      "\t(No symbol) [0x00007FF7868FFA67]\n",
      "\t(No symbol) [0x00007FF7868FFC9C]\n",
      "\t(No symbol) [0x00007FF786953627]\n",
      "\t(No symbol) [0x00007FF786927C6F]\n",
      "\t(No symbol) [0x00007FF7869502F3]\n",
      "\t(No symbol) [0x00007FF786927A03]\n",
      "\t(No symbol) [0x00007FF7868F06D0]\n",
      "\t(No symbol) [0x00007FF7868F1983]\n",
      "\tGetHandleVerifier [0x00007FF786E167CD+3579853]\n",
      "\tGetHandleVerifier [0x00007FF786E2D1D2+3672530]\n",
      "\tGetHandleVerifier [0x00007FF786E22153+3627347]\n",
      "\tGetHandleVerifier [0x00007FF786B8092A+868650]\n",
      "\t(No symbol) [0x00007FF786A22FFF]\n",
      "\t(No symbol) [0x00007FF786A1F4A4]\n",
      "\t(No symbol) [0x00007FF786A1F646]\n",
      "\t(No symbol) [0x00007FF786A0EAA9]\n",
      "\tBaseThreadInitThunk [0x00007FFB4C82E8D7+23]\n",
      "\tRtlUserThreadStart [0x00007FFB4E59BF6C+44]\n",
      "\n"
     ]
    },
    {
     "name": "stderr",
     "output_type": "stream",
     "text": [
      "Updating CommonName:  99%|█████████▉| 3500/3539 [4:52:19<07:17, 11.21s/it]"
     ]
    },
    {
     "name": "stdout",
     "output_type": "stream",
     "text": [
      "Failed to get preferred name for ConceptID: 473441009. Error: Message: no such element: Unable to locate element: {\"method\":\"xpath\",\"selector\":\"//th[span[contains(text(), 'Preferred Name')]]/following-sibling::td/p\"}\n",
      "  (Session info: chrome=134.0.6998.118); For documentation on this error, please visit: https://www.selenium.dev/documentation/webdriver/troubleshooting/errors#no-such-element-exception\n",
      "Stacktrace:\n",
      "\tGetHandleVerifier [0x00007FF786DB4C25+3179557]\n",
      "\t(No symbol) [0x00007FF786A188A0]\n",
      "\t(No symbol) [0x00007FF7868A91CA]\n",
      "\t(No symbol) [0x00007FF7868FFA67]\n",
      "\t(No symbol) [0x00007FF7868FFC9C]\n",
      "\t(No symbol) [0x00007FF786953627]\n",
      "\t(No symbol) [0x00007FF786927C6F]\n",
      "\t(No symbol) [0x00007FF7869502F3]\n",
      "\t(No symbol) [0x00007FF786927A03]\n",
      "\t(No symbol) [0x00007FF7868F06D0]\n",
      "\t(No symbol) [0x00007FF7868F1983]\n",
      "\tGetHandleVerifier [0x00007FF786E167CD+3579853]\n",
      "\tGetHandleVerifier [0x00007FF786E2D1D2+3672530]\n",
      "\tGetHandleVerifier [0x00007FF786E22153+3627347]\n",
      "\tGetHandleVerifier [0x00007FF786B8092A+868650]\n",
      "\t(No symbol) [0x00007FF786A22FFF]\n",
      "\t(No symbol) [0x00007FF786A1F4A4]\n",
      "\t(No symbol) [0x00007FF786A1F646]\n",
      "\t(No symbol) [0x00007FF786A0EAA9]\n",
      "\tBaseThreadInitThunk [0x00007FFB4C82E8D7+23]\n",
      "\tRtlUserThreadStart [0x00007FFB4E59BF6C+44]\n",
      "\n"
     ]
    },
    {
     "name": "stderr",
     "output_type": "stream",
     "text": [
      "Updating CommonName: 100%|██████████| 3539/3539 [4:56:35<00:00,  5.03s/it]\n"
     ]
    },
    {
     "name": "stdout",
     "output_type": "stream",
     "text": [
      "File saved as: ./DDDB_COMMON_NAME.csv\n"
     ]
    }
   ],
   "source": [
    "from tqdm import tqdm\n",
    "\n",
    "# Wrap iterrows() with tqdm to show the progress bar\n",
    "for index, row in tqdm(DDDB.iterrows(), total=len(DDDB), desc=\"Updating CommonName\"):\n",
    "    concept_id = str(row[\"SNOMED\"])\n",
    "\n",
    "    if pd.isna(row[\"CommonName\"]):\n",
    "        preferred_name = get_preferred_name(concept_id.strip())  # Use .strip() instead of .trim() in Python\n",
    "        if preferred_name:\n",
    "            # Update the 'CommonName' column\n",
    "            DDDB.loc[DDDB[\"SNOMED\"] == int(concept_id), \"CommonName\"] = preferred_name\n",
    "            \n",
    "    updated_row = DDDB.loc[DDDB[\"SNOMED\"] == int(concept_id)].iloc[0]\n",
    "\n",
    "    # if pd.isna(row[\"ICD11-Category\"]) and not pd.isna(row[\"CommonName\"]):\n",
    "    #     icd_category = get_icd11_category(concept_id)\n",
    "    #     if icd_category:\n",
    "    #         DDDB.loc[DDDB[\"SNOMED\"] == int(concept_id), \"ICD11-Category\"] = icd_category\n",
    "    \n",
    "\n",
    "# Save updated CSV\n",
    "output_path = \"./DDDB_COMMON_NAME.csv\"\n",
    "DDDB.to_csv(output_path, index=False)\n",
    "print(f\"File saved as: {output_path}\")\n",
    "\n",
    "# Close the browser\n",
    "driver.quit()"
   ]
  },
  {
   "cell_type": "code",
   "execution_count": 7,
   "metadata": {},
   "outputs": [],
   "source": [
    "DDDB.to_csv(\"./DDDB_COMMON_NAME_INCOMP.csv\", index=False)"
   ]
  },
  {
   "cell_type": "code",
   "execution_count": 11,
   "metadata": {},
   "outputs": [
    {
     "name": "stdout",
     "output_type": "stream",
     "text": [
      "Number of rows labeled 'INCOMPLETE' in 'CommonName': 158\n"
     ]
    }
   ],
   "source": [
    "incomplete_count = DDDB[DDDB['CommonName'] == 'INCOMPLETE'].shape[0]\n",
    "\n",
    "print(f\"Number of rows labeled 'INCOMPLETE' in 'CommonName': {incomplete_count}\")"
   ]
  }
 ],
 "metadata": {
  "kernelspec": {
   "display_name": "datatestingvenv",
   "language": "python",
   "name": "python3"
  },
  "language_info": {
   "codemirror_mode": {
    "name": "ipython",
    "version": 3
   },
   "file_extension": ".py",
   "mimetype": "text/x-python",
   "name": "python",
   "nbconvert_exporter": "python",
   "pygments_lexer": "ipython3",
   "version": "3.7.0"
  }
 },
 "nbformat": 4,
 "nbformat_minor": 2
}
