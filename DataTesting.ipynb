{
 "cells": [
  {
   "cell_type": "markdown",
   "metadata": {},
   "source": [
    "## Imports"
   ]
  },
  {
   "cell_type": "code",
   "execution_count": null,
   "metadata": {},
   "outputs": [],
   "source": []
  },
  {
   "cell_type": "code",
   "execution_count": 2,
   "metadata": {},
   "outputs": [],
   "source": [
    "import pandas as pd\n",
    "import json\n"
   ]
  },
  {
   "cell_type": "markdown",
   "metadata": {},
   "source": [
    "### DD-DB (Disease Drug-Database) (2017) <br>\n",
    "Input: Disease (NDF RT Notation) <br>\n",
    "Output: Drug (SNOMED Notation) <br>\n",
    "(484 diseases; 324 drugs; 3589 interactions) <br>\n",
    "*(There has to be a better one out there, will ask Dr. Narhi) <br>\n"
   ]
  },
  {
   "cell_type": "code",
   "execution_count": 5,
   "metadata": {},
   "outputs": [
    {
     "name": "stdout",
     "output_type": "stream",
     "text": [
      "        NDF-RT     SNOMED\n",
      "0  N0000004713   26929004\n",
      "1  N0000004713   56267009\n",
      "2  N0000004713   80098002\n",
      "3  N0000004713  386806002\n",
      "4  N0000004713  425390006\n"
     ]
    }
   ],
   "source": [
    "DDDB_PATH = \"./Data/DDDB/NIHMS851432-supplement-1.csv\"\n",
    "DDDB = pd.read_csv(DDDB_PATH)\n",
    "print(DDDB.head(5))"
   ]
  },
  {
   "cell_type": "code",
   "execution_count": 31,
   "metadata": {},
   "outputs": [
    {
     "ename": "ImportError",
     "evalue": "cannot import name 'get_host' from 'urllib3.util.url' (c:\\Users\\richa\\Desktop\\CodingWorkspaces\\DGI-Hypergraph\\datatestingvenv\\lib\\site-packages\\urllib3\\util\\url.py)",
     "output_type": "error",
     "traceback": [
      "\u001b[1;31m---------------------------------------------------------------------------\u001b[0m",
      "\u001b[1;31mImportError\u001b[0m                               Traceback (most recent call last)",
      "\u001b[1;32m~\\AppData\\Local\\Temp\\ipykernel_2520\\4226229141.py\u001b[0m in \u001b[0;36m<module>\u001b[1;34m\u001b[0m\n\u001b[1;32m----> 1\u001b[1;33m \u001b[1;32mimport\u001b[0m \u001b[0mrequests\u001b[0m\u001b[1;33m\u001b[0m\u001b[0m\n\u001b[0m\u001b[0;32m      2\u001b[0m \u001b[1;33m\u001b[0m\u001b[0m\n\u001b[0;32m      3\u001b[0m \u001b[1;32mdef\u001b[0m \u001b[0mget_drug_name_from_snomed\u001b[0m\u001b[1;33m(\u001b[0m\u001b[0msnomed_code\u001b[0m\u001b[1;33m)\u001b[0m\u001b[1;33m:\u001b[0m\u001b[1;33m\u001b[0m\u001b[0m\n\u001b[0;32m      4\u001b[0m     \u001b[1;31m# Base URL for the RXNorm API\u001b[0m\u001b[1;33m\u001b[0m\u001b[1;33m\u001b[0m\u001b[0m\n\u001b[0;32m      5\u001b[0m     \u001b[0mbase_url\u001b[0m \u001b[1;33m=\u001b[0m \u001b[1;34m\"https://rxnav.nlm.nih.gov/REST\"\u001b[0m\u001b[1;33m\u001b[0m\u001b[0m\n",
      "\u001b[1;32mc:\\Users\\richa\\Desktop\\CodingWorkspaces\\DGI-Hypergraph\\datatestingvenv\\lib\\site-packages\\requests\\__init__.py\u001b[0m in \u001b[0;36m<module>\u001b[1;34m\u001b[0m\n\u001b[0;32m     41\u001b[0m \u001b[1;32mimport\u001b[0m \u001b[0mwarnings\u001b[0m\u001b[1;33m\u001b[0m\u001b[0m\n\u001b[0;32m     42\u001b[0m \u001b[1;33m\u001b[0m\u001b[0m\n\u001b[1;32m---> 43\u001b[1;33m \u001b[1;32mimport\u001b[0m \u001b[0murllib3\u001b[0m\u001b[1;33m\u001b[0m\u001b[0m\n\u001b[0m\u001b[0;32m     44\u001b[0m \u001b[1;33m\u001b[0m\u001b[0m\n\u001b[0;32m     45\u001b[0m \u001b[1;32mfrom\u001b[0m \u001b[1;33m.\u001b[0m\u001b[0mexceptions\u001b[0m \u001b[1;32mimport\u001b[0m \u001b[0mRequestsDependencyWarning\u001b[0m\u001b[1;33m\u001b[0m\u001b[0m\n",
      "\u001b[1;32mc:\\Users\\richa\\Desktop\\CodingWorkspaces\\DGI-Hypergraph\\datatestingvenv\\lib\\site-packages\\urllib3\\__init__.py\u001b[0m in \u001b[0;36m<module>\u001b[1;34m\u001b[0m\n\u001b[0;32m     18\u001b[0m \u001b[1;32mfrom\u001b[0m \u001b[1;33m.\u001b[0m\u001b[0mutil\u001b[0m\u001b[1;33m.\u001b[0m\u001b[0mretry\u001b[0m \u001b[1;32mimport\u001b[0m \u001b[0mRetry\u001b[0m\u001b[1;33m\u001b[0m\u001b[0m\n\u001b[0;32m     19\u001b[0m \u001b[1;32mfrom\u001b[0m \u001b[1;33m.\u001b[0m\u001b[0mutil\u001b[0m\u001b[1;33m.\u001b[0m\u001b[0mtimeout\u001b[0m \u001b[1;32mimport\u001b[0m \u001b[0mTimeout\u001b[0m\u001b[1;33m\u001b[0m\u001b[0m\n\u001b[1;32m---> 20\u001b[1;33m \u001b[1;32mfrom\u001b[0m \u001b[1;33m.\u001b[0m\u001b[0mutil\u001b[0m\u001b[1;33m.\u001b[0m\u001b[0murl\u001b[0m \u001b[1;32mimport\u001b[0m \u001b[0mget_host\u001b[0m\u001b[1;33m\u001b[0m\u001b[0m\n\u001b[0m\u001b[0;32m     21\u001b[0m \u001b[1;33m\u001b[0m\u001b[0m\n\u001b[0;32m     22\u001b[0m \u001b[1;31m# === NOTE TO REPACKAGERS AND VENDORS ===\u001b[0m\u001b[1;33m\u001b[0m\u001b[1;33m\u001b[0m\u001b[0m\n",
      "\u001b[1;31mImportError\u001b[0m: cannot import name 'get_host' from 'urllib3.util.url' (c:\\Users\\richa\\Desktop\\CodingWorkspaces\\DGI-Hypergraph\\datatestingvenv\\lib\\site-packages\\urllib3\\util\\url.py)"
     ]
    }
   ],
   "source": [
    "import requests\n",
    "\n",
    "def get_drug_name_from_snomed(snomed_code):\n",
    "    # Base URL for the RXNorm API\n",
    "    base_url = \"https://rxnav.nlm.nih.gov/REST\"\n",
    "\n",
    "    # URL for resolving SNOMED code to RXNorm concept\n",
    "    url = f\"{base_url}/rxcui?query={snomed_code}\"\n",
    "\n",
    "    # Make the API request\n",
    "    response = requests.get(url)\n",
    "    \n",
    "    if response.status_code == 200:\n",
    "        data = response.json()\n",
    "        \n",
    "        # Extract the drug names from the API response\n",
    "        if 'rxnormGroup' in data:\n",
    "            drug_names = [entry['name'] for entry in data['rxnormGroup']['rxnormConcept']]\n",
    "            return drug_names\n",
    "        else:\n",
    "            return f\"No drug found for SNOMED code {snomed_code}\"\n",
    "    else:\n",
    "        return f\"Error: {response.status_code}\"\n",
    "\n",
    "# Example usage\n",
    "snomed_code = \"26929004\"  # Replace with your SNOMED code\n",
    "drug_names = get_drug_name_from_snomed(snomed_code)\n",
    "print(f\"Drug name(s) for SNOMED code {snomed_code}: {drug_names}\")\n"
   ]
  },
  {
   "cell_type": "markdown",
   "metadata": {},
   "source": [
    "### DGI-DB (Drug Gene Interaction-Database) (2024) <br>\n",
    "Input: Drug (Common Name) <br>\n",
    "Output: Gene Name (Common Name) <br>"
   ]
  },
  {
   "cell_type": "code",
   "execution_count": 16,
   "metadata": {},
   "outputs": [
    {
     "name": "stdout",
     "output_type": "stream",
     "text": [
      "  gene_claim_name gene_concept_id gene_name interaction_source_db_name  \\\n",
      "0          CYP2D6       hgnc:2625    CYP2D6                        DTC   \n",
      "1           PPARG       hgnc:9236     PPARG                        DTC   \n",
      "\n",
      "  interaction_source_db_version interaction_type  interaction_score  \\\n",
      "0                        9/2/20              NaN           0.017709   \n",
      "1                        9/2/20              NaN           0.840123   \n",
      "\n",
      "       drug_claim_name       drug_concept_id             drug_name approved  \\\n",
      "0           RACLOPRIDE          ncit:C152139            RACLOPRIDE    False   \n",
      "1  KALOPANAX-SAPONIN F  chembl:CHEMBL1833984  CHEMBL:CHEMBL1833984    False   \n",
      "\n",
      "  immunotherapy anti_neoplastic  \n",
      "0         False           False  \n",
      "1         False           False  \n"
     ]
    }
   ],
   "source": [
    "DGIDB_PATH = \"./Data/DGIDB/interactions.tsv\"\n",
    "DGIDB = pd.read_csv(DGIDB_PATH, sep=\"\\t\")\n",
    "print(DGIDB.head(2))"
   ]
  },
  {
   "cell_type": "code",
   "execution_count": 18,
   "metadata": {},
   "outputs": [
    {
     "name": "stdout",
     "output_type": "stream",
     "text": [
      "439            FAM178B\n",
      "2722            CACNG2\n",
      "2781             ASIC2\n",
      "2782             SH2B1\n",
      "2784            RABEP1\n",
      "5820             SCN5A\n",
      "8058             CREB1\n",
      "8059             ADCY1\n",
      "8063            OR52J3\n",
      "12496            GADL1\n",
      "12497              BCR\n",
      "14152             TPH1\n",
      "17463             CRY1\n",
      "18800            ADCY2\n",
      "20163         FAM177A1\n",
      "20166           OR52E2\n",
      "22999            MYO1H\n",
      "24290            EPHX2\n",
      "24519            HTR1B\n",
      "25719            ABCB1\n",
      "27210          GRAMD1B\n",
      "27215          OR52J2P\n",
      "27218            FKBP5\n",
      "28558            HTR2A\n",
      "30355            INPP1\n",
      "36007         TNFRSF1B\n",
      "38315    NCBIGENE:2030\n",
      "40403             DRD2\n",
      "40432            GNRH1\n",
      "40482              MPO\n",
      "41950             GFAP\n",
      "42902            HSPA4\n",
      "42950            NTRK2\n",
      "45482              NTS\n",
      "46330    NCBIGENE:1463\n",
      "47200             LMO2\n",
      "48267              FAS\n",
      "48291             IL1B\n",
      "48322           NFE2L2\n",
      "51295           MAPK14\n",
      "52626              MYC\n",
      "52969             BDNF\n",
      "54206           CAMK2G\n",
      "54311              SST\n",
      "78221            IMPA1\n",
      "78457            GSK3B\n",
      "83148            IMPA1\n",
      "83190            GSK3B\n",
      "95319            GSK3A\n",
      "95579            GSK3A\n",
      "Name: gene_claim_name, dtype: object\n"
     ]
    }
   ],
   "source": [
    "# Filter the rows where drug_name is 'lithium'\n",
    "# lithium is a common bipolar drug\n",
    "lithium_rows = DGIDB[DGIDB['drug_name'].str.contains('lithium', case=False, na=False)]\n",
    "# Print the first 2 rows\n",
    "print(lithium_rows[\"gene_claim_name\"])"
   ]
  },
  {
   "cell_type": "code",
   "execution_count": 19,
   "metadata": {},
   "outputs": [
    {
     "name": "stdout",
     "output_type": "stream",
     "text": [
      "NCBI Gene ID for FAM178B: 90678\n"
     ]
    }
   ],
   "source": [
    "from Bio import Entrez\n",
    "\n",
    "def get_ncbi_gene_id(gene_claim_name):\n",
    "    # Set your email address for Entrez (NCBI API)\n",
    "    Entrez.email = \"richard_huang@ucsb.edu\"\n",
    "    \n",
    "    # Search for the gene using the gene_claim_name\n",
    "    handle = Entrez.esearch(db=\"gene\", term=gene_claim_name, retmax=1)\n",
    "    record = Entrez.read(handle)\n",
    "    \n",
    "    # Extract the gene ID from the search results\n",
    "    if record['IdList']:\n",
    "        gene_id = record['IdList'][0]\n",
    "        return gene_id\n",
    "    else:\n",
    "        return None\n",
    "\n",
    "# Example usage\n",
    "gene_claim_name = \"FAM178B\"\n",
    "gene_id = get_ncbi_gene_id(gene_claim_name)\n",
    "print(f\"NCBI Gene ID for {gene_claim_name}: {gene_id}\")\n"
   ]
  },
  {
   "cell_type": "markdown",
   "metadata": {},
   "source": [
    "### Human Net (Gene - Gene dataset) (2022) <br>\n",
    "Input: Gene (NCBI Notation) <br>\n",
    "Output: Gene (NCBI Notation) <br>\n",
    "Used in DriverRWH"
   ]
  },
  {
   "cell_type": "code",
   "execution_count": 3,
   "metadata": {},
   "outputs": [
    {
     "name": "stdout",
     "output_type": "stream",
     "text": [
      "   Gene1  Gene2\n",
      "0  54936   7405\n",
      "1  10298    306\n",
      "2   6366   6370\n",
      "3  11021  51199\n",
      "4   4940   8372\n"
     ]
    }
   ],
   "source": [
    "HUMANNET_PATH = \"./Data/HumanNet/HumanNet-GSP.tsv\"\n",
    "HUMANNET = pd.read_csv(HUMANNET_PATH, sep=\"\\t\")\n",
    "print(HUMANNET.head(5))"
   ]
  },
  {
   "cell_type": "code",
   "execution_count": 7,
   "metadata": {},
   "outputs": [
    {
     "name": "stdout",
     "output_type": "stream",
     "text": [
      "Empty DataFrame\n",
      "Columns: [Gene1, Gene2]\n",
      "Index: []\n"
     ]
    }
   ],
   "source": [
    "FAM_GENE_ROWS = HUMANNET[HUMANNET['Gene1'].astype(str) == '1838']\n",
    "print(FAM_GENE_ROWS)\n"
   ]
  },
  {
   "cell_type": "markdown",
   "metadata": {},
   "source": [
    "### MSigDB (Molecular Signatures Database) <br>\n",
    "Input: Any given pathway or condition leading to a pathway <br>\n",
    "Output: Array of genes related to that pathway\n"
   ]
  },
  {
   "cell_type": "code",
   "execution_count": 9,
   "metadata": {},
   "outputs": [
    {
     "name": "stdout",
     "output_type": "stream",
     "text": [
      "['CHIT1', 'EMC3', 'FOXC2', 'MAP1A', 'MUSK', 'MYO1E', 'NOVA2', 'NTRK1', 'NXPH4', 'RHOV', 'RYR2', 'ZBTB7A']\n"
     ]
    }
   ],
   "source": [
    "MSIGDB_PATH = \"Data/MSigDB/c2.all.v2024.1.Hs.json\"\n",
    "with open(MSIGDB_PATH, 'r') as file:\n",
    "    MSIGDB = json.load(file)\n",
    "print(MSIGDB[\"PETRETTO_BLOOD_PRESSURE_UP\"][\"geneSymbols\"])\n",
    "# keys = MSIGDB.keys()\n",
    "# print(list(keys))"
   ]
  },
  {
   "cell_type": "code",
   "execution_count": 4,
   "metadata": {},
   "outputs": [
    {
     "name": "stderr",
     "output_type": "stream",
     "text": [
      "c:\\Users\\richa\\Desktop\\CodingWorkspaces\\DGI-Hypergraph\\datatestingvenv\\lib\\site-packages\\IPython\\core\\interactiveshell.py:3258: DtypeWarning: Columns (6) have mixed types.Specify dtype option on import or set low_memory=False.\n",
      "  interactivity=interactivity, compiler=compiler, result=result)\n"
     ]
    }
   ],
   "source": [
    "NCBI_PATH = \"Data/NIH_NCBI/gene_info.gz\"\n",
    "df = pd.read_csv(NCBI_PATH, compression=\"gzip\", sep=\"\\t\")\n"
   ]
  },
  {
   "cell_type": "code",
   "execution_count": 8,
   "metadata": {},
   "outputs": [
    {
     "name": "stdout",
     "output_type": "stream",
     "text": [
      "Index(['#tax_id', 'GeneID', 'Symbol', 'LocusTag', 'Synonyms', 'dbXrefs',\n",
      "       'chromosome', 'map_location', 'description', 'type_of_gene',\n",
      "       'Symbol_from_nomenclature_authority',\n",
      "       'Full_name_from_nomenclature_authority', 'Nomenclature_status',\n",
      "       'Other_designations', 'Modification_date', 'Feature_type'],\n",
      "      dtype='object')\n"
     ]
    }
   ],
   "source": [
    "print(df.keys())\n"
   ]
  },
  {
   "cell_type": "code",
   "execution_count": 10,
   "metadata": {},
   "outputs": [],
   "source": [
    "symbols = df[\"Symbol\"].unique()"
   ]
  },
  {
   "cell_type": "code",
   "execution_count": 12,
   "metadata": {},
   "outputs": [],
   "source": [
    "gsk3b_row = df[df['Symbol'] == 'GSK3B']"
   ]
  },
  {
   "cell_type": "code",
   "execution_count": 14,
   "metadata": {},
   "outputs": [
    {
     "name": "stdout",
     "output_type": "stream",
     "text": [
      "          #tax_id     GeneID Symbol LocusTag Synonyms  \\\n",
      "8035671      7888  122801850  GSK3B        -        -   \n",
      "10233591     8296  138525726  GSK3B        -        -   \n",
      "10294486     8319  138248789  GSK3B        -        -   \n",
      "10366969     8345  128652194  GSK3B        -        -   \n",
      "10473646     8384  120994338  GSK3B        -        -   \n",
      "\n",
      "                                  dbXrefs chromosome map_location  \\\n",
      "8035671                                 -    5.part0            -   \n",
      "10233591                                -         7p            -   \n",
      "10294486                                -          8            -   \n",
      "10366969                                -          3            -   \n",
      "10473646  EnsemblRapid:ENSBBFG00005005729          3            -   \n",
      "\n",
      "                              description    type_of_gene  \\\n",
      "8035671   glycogen synthase kinase 3 beta  protein-coding   \n",
      "10233591  glycogen synthase kinase 3 beta  protein-coding   \n",
      "10294486  glycogen synthase kinase 3 beta  protein-coding   \n",
      "10366969  glycogen synthase kinase 3 beta  protein-coding   \n",
      "10473646  glycogen synthase kinase 3 beta  protein-coding   \n",
      "\n",
      "         Symbol_from_nomenclature_authority  \\\n",
      "8035671                                   -   \n",
      "10233591                                  -   \n",
      "10294486                                  -   \n",
      "10366969                                  -   \n",
      "10473646                                  -   \n",
      "\n",
      "         Full_name_from_nomenclature_authority Nomenclature_status  \\\n",
      "8035671                                      -                   -   \n",
      "10233591                                     -                   -   \n",
      "10294486                                     -                   -   \n",
      "10366969                                     -                   -   \n",
      "10473646                                     -                   -   \n",
      "\n",
      "                                         Other_designations  \\\n",
      "8035671                     glycogen synthase kinase-3 beta   \n",
      "10233591                    glycogen synthase kinase-3 beta   \n",
      "10294486                    glycogen synthase kinase-3 beta   \n",
      "10366969  LOW QUALITY PROTEIN: glycogen synthase kinase-...   \n",
      "10473646                    glycogen synthase kinase-3 beta   \n",
      "\n",
      "          Modification_date Feature_type  \n",
      "8035671            20240322            -  \n",
      "10233591           20241120            -  \n",
      "10294486           20241023            -  \n",
      "10366969           20240325            -  \n",
      "10473646           20240321            -  \n"
     ]
    }
   ],
   "source": [
    "print(gsk3b_row.head())"
   ]
  },
  {
   "cell_type": "markdown",
   "metadata": {},
   "source": [
    "SNOMED Codes"
   ]
  },
  {
   "cell_type": "code",
   "execution_count": 1,
   "metadata": {},
   "outputs": [
    {
     "ename": "ValueError",
     "evalue": "Multiple files found in compressed zip file ['SnomedCT_ManagedServiceUS_PRODUCTION_US1000124_20240901T120000Z/', 'SnomedCT_ManagedServiceUS_PRODUCTION_US1000124_20240901T120000Z/Readme_en_20240901.txt', 'SnomedCT_ManagedServiceUS_PRODUCTION_US1000124_20240901T120000Z/Snapshot/', 'SnomedCT_ManagedServiceUS_PRODUCTION_US1000124_20240901T120000Z/Snapshot/Terminology/', 'SnomedCT_ManagedServiceUS_PRODUCTION_US1000124_20240901T120000Z/Snapshot/Terminology/sct2_Concept_Snapshot_US1000124_20240901.txt', 'SnomedCT_ManagedServiceUS_PRODUCTION_US1000124_20240901T120000Z/Snapshot/Terminology/sct2_Description_Snapshot-en_US1000124_20240901.txt', 'SnomedCT_ManagedServiceUS_PRODUCTION_US1000124_20240901T120000Z/Snapshot/Terminology/sct2_Identifier_Snapshot_US1000124_20240901.txt', 'SnomedCT_ManagedServiceUS_PRODUCTION_US1000124_20240901T120000Z/Snapshot/Terminology/sct2_Relationship_Snapshot_US1000124_20240901.txt', 'SnomedCT_ManagedServiceUS_PRODUCTION_US1000124_20240901T120000Z/Snapshot/Terminology/sct2_RelationshipConcreteValues_Snapshot_US1000124_20240901.txt', 'SnomedCT_ManagedServiceUS_PRODUCTION_US1000124_20240901T120000Z/Snapshot/Terminology/sct2_StatedRelationship_Snapshot_US1000124_20240901.txt', 'SnomedCT_ManagedServiceUS_PRODUCTION_US1000124_20240901T120000Z/Snapshot/Terminology/sct2_TextDefinition_Snapshot-en_US1000124_20240901.txt', 'SnomedCT_ManagedServiceUS_PRODUCTION_US1000124_20240901T120000Z/Snapshot/Terminology/sct2_sRefset_OWLExpressionSnapshot_US1000124_20240901.txt', 'SnomedCT_ManagedServiceUS_PRODUCTION_US1000124_20240901T120000Z/Snapshot/Refset/', 'SnomedCT_ManagedServiceUS_PRODUCTION_US1000124_20240901T120000Z/Snapshot/Refset/Content/', 'SnomedCT_ManagedServiceUS_PRODUCTION_US1000124_20240901T120000Z/Snapshot/Refset/Content/der2_cRefset_AssociationSnapshot_US1000124_20240901.txt', 'SnomedCT_ManagedServiceUS_PRODUCTION_US1000124_20240901T120000Z/Snapshot/Refset/Content/der2_cRefset_AttributeValueSnapshot_US1000124_20240901.txt', 'SnomedCT_ManagedServiceUS_PRODUCTION_US1000124_20240901T120000Z/Snapshot/Refset/Content/der2_Refset_SimpleSnapshot_US1000124_20240901.txt', 'SnomedCT_ManagedServiceUS_PRODUCTION_US1000124_20240901T120000Z/Snapshot/Refset/Map/', 'SnomedCT_ManagedServiceUS_PRODUCTION_US1000124_20240901T120000Z/Snapshot/Refset/Map/der2_iisssccRefset_ExtendedMapSnapshot_US1000124_20240901.txt', 'SnomedCT_ManagedServiceUS_PRODUCTION_US1000124_20240901T120000Z/Snapshot/Refset/Map/der2_sRefset_SimpleMapSnapshot_US1000124_20240901.txt', 'SnomedCT_ManagedServiceUS_PRODUCTION_US1000124_20240901T120000Z/Snapshot/Refset/Language/', 'SnomedCT_ManagedServiceUS_PRODUCTION_US1000124_20240901T120000Z/Snapshot/Refset/Language/der2_cRefset_LanguageSnapshot-en_US1000124_20240901.txt', 'SnomedCT_ManagedServiceUS_PRODUCTION_US1000124_20240901T120000Z/Snapshot/Refset/Metadata/', 'SnomedCT_ManagedServiceUS_PRODUCTION_US1000124_20240901T120000Z/Snapshot/Refset/Metadata/der2_cciRefset_RefsetDescriptorSnapshot_US1000124_20240901.txt', 'SnomedCT_ManagedServiceUS_PRODUCTION_US1000124_20240901T120000Z/Snapshot/Refset/Metadata/der2_ciRefset_DescriptionTypeSnapshot_US1000124_20240901.txt', 'SnomedCT_ManagedServiceUS_PRODUCTION_US1000124_20240901T120000Z/Snapshot/Refset/Metadata/der2_ssRefset_ModuleDependencySnapshot_US1000124_20240901.txt', 'SnomedCT_ManagedServiceUS_PRODUCTION_US1000124_20240901T120000Z/Snapshot/Refset/Metadata/der2_sssssssRefset_MRCMDomainSnapshot_US1000124_20240901.txt', 'SnomedCT_ManagedServiceUS_PRODUCTION_US1000124_20240901T120000Z/Snapshot/Refset/Metadata/der2_cissccRefset_MRCMAttributeDomainSnapshot_US1000124_20240901.txt', 'SnomedCT_ManagedServiceUS_PRODUCTION_US1000124_20240901T120000Z/Snapshot/Refset/Metadata/der2_ssccRefset_MRCMAttributeRangeSnapshot_US1000124_20240901.txt', 'SnomedCT_ManagedServiceUS_PRODUCTION_US1000124_20240901T120000Z/Snapshot/Refset/Metadata/der2_cRefset_MRCMModuleScopeSnapshot_US1000124_20240901.txt', 'SnomedCT_ManagedServiceUS_PRODUCTION_US1000124_20240901T120000Z/Snapshot/Refset/Metadata/der2_scsRefset_ComponentAnnotationStringValueSnapshot_US1000124_20240901.txt', 'SnomedCT_ManagedServiceUS_PRODUCTION_US1000124_20240901T120000Z/Snapshot/Refset/Metadata/der2_sscsRefset_MemberAnnotationStringValueSnapshot_US1000124_20240901.txt', 'SnomedCT_ManagedServiceUS_PRODUCTION_US1000124_20240901T120000Z/Full/', 'SnomedCT_ManagedServiceUS_PRODUCTION_US1000124_20240901T120000Z/Full/Terminology/', 'SnomedCT_ManagedServiceUS_PRODUCTION_US1000124_20240901T120000Z/Full/Terminology/sct2_Concept_Full_US1000124_20240901.txt', 'SnomedCT_ManagedServiceUS_PRODUCTION_US1000124_20240901T120000Z/Full/Terminology/sct2_Description_Full-en_US1000124_20240901.txt', 'SnomedCT_ManagedServiceUS_PRODUCTION_US1000124_20240901T120000Z/Full/Terminology/sct2_Identifier_Full_US1000124_20240901.txt', 'SnomedCT_ManagedServiceUS_PRODUCTION_US1000124_20240901T120000Z/Full/Terminology/sct2_Relationship_Full_US1000124_20240901.txt', 'SnomedCT_ManagedServiceUS_PRODUCTION_US1000124_20240901T120000Z/Full/Terminology/sct2_RelationshipConcreteValues_Full_US1000124_20240901.txt', 'SnomedCT_ManagedServiceUS_PRODUCTION_US1000124_20240901T120000Z/Full/Terminology/sct2_StatedRelationship_Full_US1000124_20240901.txt', 'SnomedCT_ManagedServiceUS_PRODUCTION_US1000124_20240901T120000Z/Full/Terminology/sct2_TextDefinition_Full-en_US1000124_20240901.txt', 'SnomedCT_ManagedServiceUS_PRODUCTION_US1000124_20240901T120000Z/Full/Terminology/sct2_sRefset_OWLExpressionFull_US1000124_20240901.txt', 'SnomedCT_ManagedServiceUS_PRODUCTION_US1000124_20240901T120000Z/Full/Refset/', 'SnomedCT_ManagedServiceUS_PRODUCTION_US1000124_20240901T120000Z/Full/Refset/Content/', 'SnomedCT_ManagedServiceUS_PRODUCTION_US1000124_20240901T120000Z/Full/Refset/Content/der2_cRefset_AssociationFull_US1000124_20240901.txt', 'SnomedCT_ManagedServiceUS_PRODUCTION_US1000124_20240901T120000Z/Full/Refset/Content/der2_cRefset_AttributeValueFull_US1000124_20240901.txt', 'SnomedCT_ManagedServiceUS_PRODUCTION_US1000124_20240901T120000Z/Full/Refset/Content/der2_Refset_SimpleFull_US1000124_20240901.txt', 'SnomedCT_ManagedServiceUS_PRODUCTION_US1000124_20240901T120000Z/Full/Refset/Map/', 'SnomedCT_ManagedServiceUS_PRODUCTION_US1000124_20240901T120000Z/Full/Refset/Map/der2_iisssccRefset_ExtendedMapFull_US1000124_20240901.txt', 'SnomedCT_ManagedServiceUS_PRODUCTION_US1000124_20240901T120000Z/Full/Refset/Map/der2_sRefset_SimpleMapFull_US1000124_20240901.txt', 'SnomedCT_ManagedServiceUS_PRODUCTION_US1000124_20240901T120000Z/Full/Refset/Language/', 'SnomedCT_ManagedServiceUS_PRODUCTION_US1000124_20240901T120000Z/Full/Refset/Language/der2_cRefset_LanguageFull-en_US1000124_20240901.txt', 'SnomedCT_ManagedServiceUS_PRODUCTION_US1000124_20240901T120000Z/Full/Refset/Metadata/', 'SnomedCT_ManagedServiceUS_PRODUCTION_US1000124_20240901T120000Z/Full/Refset/Metadata/der2_cciRefset_RefsetDescriptorFull_US1000124_20240901.txt', 'SnomedCT_ManagedServiceUS_PRODUCTION_US1000124_20240901T120000Z/Full/Refset/Metadata/der2_ciRefset_DescriptionTypeFull_US1000124_20240901.txt', 'SnomedCT_ManagedServiceUS_PRODUCTION_US1000124_20240901T120000Z/Full/Refset/Metadata/der2_ssRefset_ModuleDependencyFull_US1000124_20240901.txt', 'SnomedCT_ManagedServiceUS_PRODUCTION_US1000124_20240901T120000Z/Full/Refset/Metadata/der2_sssssssRefset_MRCMDomainFull_US1000124_20240901.txt', 'SnomedCT_ManagedServiceUS_PRODUCTION_US1000124_20240901T120000Z/Full/Refset/Metadata/der2_cissccRefset_MRCMAttributeDomainFull_US1000124_20240901.txt', 'SnomedCT_ManagedServiceUS_PRODUCTION_US1000124_20240901T120000Z/Full/Refset/Metadata/der2_ssccRefset_MRCMAttributeRangeFull_US1000124_20240901.txt', 'SnomedCT_ManagedServiceUS_PRODUCTION_US1000124_20240901T120000Z/Full/Refset/Metadata/der2_cRefset_MRCMModuleScopeFull_US1000124_20240901.txt', 'SnomedCT_ManagedServiceUS_PRODUCTION_US1000124_20240901T120000Z/Full/Refset/Metadata/der2_scsRefset_ComponentAnnotationStringValueFull_US1000124_20240901.txt', 'SnomedCT_ManagedServiceUS_PRODUCTION_US1000124_20240901T120000Z/Full/Refset/Metadata/der2_sscsRefset_MemberAnnotationStringValueFull_US1000124_20240901.txt']",
     "output_type": "error",
     "traceback": [
      "\u001b[1;31m---------------------------------------------------------------------------\u001b[0m",
      "\u001b[1;31mValueError\u001b[0m                                Traceback (most recent call last)",
      "\u001b[1;32m~\\AppData\\Local\\Temp\\ipykernel_12268\\1555173347.py\u001b[0m in \u001b[0;36m<module>\u001b[1;34m\u001b[0m\n\u001b[0;32m      1\u001b[0m \u001b[1;32mimport\u001b[0m \u001b[0mpandas\u001b[0m \u001b[1;32mas\u001b[0m \u001b[0mpd\u001b[0m\u001b[1;33m\u001b[0m\u001b[0m\n\u001b[0;32m      2\u001b[0m \u001b[0mSNOMED_PATH\u001b[0m \u001b[1;33m=\u001b[0m \u001b[1;34m\"./Data/SNOMEDCT/SNOMED.zip\"\u001b[0m\u001b[1;33m\u001b[0m\u001b[0m\n\u001b[1;32m----> 3\u001b[1;33m \u001b[0mSNOMED\u001b[0m \u001b[1;33m=\u001b[0m \u001b[0mpd\u001b[0m\u001b[1;33m.\u001b[0m\u001b[0mread_csv\u001b[0m\u001b[1;33m(\u001b[0m\u001b[0mSNOMED_PATH\u001b[0m\u001b[1;33m,\u001b[0m \u001b[0mcompression\u001b[0m\u001b[1;33m=\u001b[0m\u001b[1;34m\"zip\"\u001b[0m\u001b[1;33m,\u001b[0m \u001b[0msep\u001b[0m\u001b[1;33m=\u001b[0m\u001b[1;34m\"\\t\"\u001b[0m\u001b[1;33m)\u001b[0m\u001b[1;33m\u001b[0m\u001b[0m\n\u001b[0m",
      "\u001b[1;32mc:\\Users\\richa\\Desktop\\CodingWorkspaces\\DGI-Hypergraph\\datatestingvenv\\lib\\site-packages\\pandas\\io\\parsers.py\u001b[0m in \u001b[0;36mread_csv\u001b[1;34m(filepath_or_buffer, sep, delimiter, header, names, index_col, usecols, squeeze, prefix, mangle_dupe_cols, dtype, engine, converters, true_values, false_values, skipinitialspace, skiprows, skipfooter, nrows, na_values, keep_default_na, na_filter, verbose, skip_blank_lines, parse_dates, infer_datetime_format, keep_date_col, date_parser, dayfirst, cache_dates, iterator, chunksize, compression, thousands, decimal, lineterminator, quotechar, quoting, doublequote, escapechar, comment, encoding, dialect, error_bad_lines, warn_bad_lines, delim_whitespace, low_memory, memory_map, float_precision)\u001b[0m\n\u001b[0;32m    686\u001b[0m     )\n\u001b[0;32m    687\u001b[0m \u001b[1;33m\u001b[0m\u001b[0m\n\u001b[1;32m--> 688\u001b[1;33m     \u001b[1;32mreturn\u001b[0m \u001b[0m_read\u001b[0m\u001b[1;33m(\u001b[0m\u001b[0mfilepath_or_buffer\u001b[0m\u001b[1;33m,\u001b[0m \u001b[0mkwds\u001b[0m\u001b[1;33m)\u001b[0m\u001b[1;33m\u001b[0m\u001b[0m\n\u001b[0m\u001b[0;32m    689\u001b[0m \u001b[1;33m\u001b[0m\u001b[0m\n\u001b[0;32m    690\u001b[0m \u001b[1;33m\u001b[0m\u001b[0m\n",
      "\u001b[1;32mc:\\Users\\richa\\Desktop\\CodingWorkspaces\\DGI-Hypergraph\\datatestingvenv\\lib\\site-packages\\pandas\\io\\parsers.py\u001b[0m in \u001b[0;36m_read\u001b[1;34m(filepath_or_buffer, kwds)\u001b[0m\n\u001b[0;32m    452\u001b[0m \u001b[1;33m\u001b[0m\u001b[0m\n\u001b[0;32m    453\u001b[0m     \u001b[1;31m# Create the parser.\u001b[0m\u001b[1;33m\u001b[0m\u001b[1;33m\u001b[0m\u001b[0m\n\u001b[1;32m--> 454\u001b[1;33m     \u001b[0mparser\u001b[0m \u001b[1;33m=\u001b[0m \u001b[0mTextFileReader\u001b[0m\u001b[1;33m(\u001b[0m\u001b[0mfp_or_buf\u001b[0m\u001b[1;33m,\u001b[0m \u001b[1;33m**\u001b[0m\u001b[0mkwds\u001b[0m\u001b[1;33m)\u001b[0m\u001b[1;33m\u001b[0m\u001b[0m\n\u001b[0m\u001b[0;32m    455\u001b[0m \u001b[1;33m\u001b[0m\u001b[0m\n\u001b[0;32m    456\u001b[0m     \u001b[1;32mif\u001b[0m \u001b[0mchunksize\u001b[0m \u001b[1;32mor\u001b[0m \u001b[0miterator\u001b[0m\u001b[1;33m:\u001b[0m\u001b[1;33m\u001b[0m\u001b[0m\n",
      "\u001b[1;32mc:\\Users\\richa\\Desktop\\CodingWorkspaces\\DGI-Hypergraph\\datatestingvenv\\lib\\site-packages\\pandas\\io\\parsers.py\u001b[0m in \u001b[0;36m__init__\u001b[1;34m(self, f, engine, **kwds)\u001b[0m\n\u001b[0;32m    946\u001b[0m             \u001b[0mself\u001b[0m\u001b[1;33m.\u001b[0m\u001b[0moptions\u001b[0m\u001b[1;33m[\u001b[0m\u001b[1;34m\"has_index_names\"\u001b[0m\u001b[1;33m]\u001b[0m \u001b[1;33m=\u001b[0m \u001b[0mkwds\u001b[0m\u001b[1;33m[\u001b[0m\u001b[1;34m\"has_index_names\"\u001b[0m\u001b[1;33m]\u001b[0m\u001b[1;33m\u001b[0m\u001b[0m\n\u001b[0;32m    947\u001b[0m \u001b[1;33m\u001b[0m\u001b[0m\n\u001b[1;32m--> 948\u001b[1;33m         \u001b[0mself\u001b[0m\u001b[1;33m.\u001b[0m\u001b[0m_make_engine\u001b[0m\u001b[1;33m(\u001b[0m\u001b[0mself\u001b[0m\u001b[1;33m.\u001b[0m\u001b[0mengine\u001b[0m\u001b[1;33m)\u001b[0m\u001b[1;33m\u001b[0m\u001b[0m\n\u001b[0m\u001b[0;32m    949\u001b[0m \u001b[1;33m\u001b[0m\u001b[0m\n\u001b[0;32m    950\u001b[0m     \u001b[1;32mdef\u001b[0m \u001b[0mclose\u001b[0m\u001b[1;33m(\u001b[0m\u001b[0mself\u001b[0m\u001b[1;33m)\u001b[0m\u001b[1;33m:\u001b[0m\u001b[1;33m\u001b[0m\u001b[0m\n",
      "\u001b[1;32mc:\\Users\\richa\\Desktop\\CodingWorkspaces\\DGI-Hypergraph\\datatestingvenv\\lib\\site-packages\\pandas\\io\\parsers.py\u001b[0m in \u001b[0;36m_make_engine\u001b[1;34m(self, engine)\u001b[0m\n\u001b[0;32m   1178\u001b[0m     \u001b[1;32mdef\u001b[0m \u001b[0m_make_engine\u001b[0m\u001b[1;33m(\u001b[0m\u001b[0mself\u001b[0m\u001b[1;33m,\u001b[0m \u001b[0mengine\u001b[0m\u001b[1;33m=\u001b[0m\u001b[1;34m\"c\"\u001b[0m\u001b[1;33m)\u001b[0m\u001b[1;33m:\u001b[0m\u001b[1;33m\u001b[0m\u001b[0m\n\u001b[0;32m   1179\u001b[0m         \u001b[1;32mif\u001b[0m \u001b[0mengine\u001b[0m \u001b[1;33m==\u001b[0m \u001b[1;34m\"c\"\u001b[0m\u001b[1;33m:\u001b[0m\u001b[1;33m\u001b[0m\u001b[0m\n\u001b[1;32m-> 1180\u001b[1;33m             \u001b[0mself\u001b[0m\u001b[1;33m.\u001b[0m\u001b[0m_engine\u001b[0m \u001b[1;33m=\u001b[0m \u001b[0mCParserWrapper\u001b[0m\u001b[1;33m(\u001b[0m\u001b[0mself\u001b[0m\u001b[1;33m.\u001b[0m\u001b[0mf\u001b[0m\u001b[1;33m,\u001b[0m \u001b[1;33m**\u001b[0m\u001b[0mself\u001b[0m\u001b[1;33m.\u001b[0m\u001b[0moptions\u001b[0m\u001b[1;33m)\u001b[0m\u001b[1;33m\u001b[0m\u001b[0m\n\u001b[0m\u001b[0;32m   1181\u001b[0m         \u001b[1;32melse\u001b[0m\u001b[1;33m:\u001b[0m\u001b[1;33m\u001b[0m\u001b[0m\n\u001b[0;32m   1182\u001b[0m             \u001b[1;32mif\u001b[0m \u001b[0mengine\u001b[0m \u001b[1;33m==\u001b[0m \u001b[1;34m\"python\"\u001b[0m\u001b[1;33m:\u001b[0m\u001b[1;33m\u001b[0m\u001b[0m\n",
      "\u001b[1;32mc:\\Users\\richa\\Desktop\\CodingWorkspaces\\DGI-Hypergraph\\datatestingvenv\\lib\\site-packages\\pandas\\io\\parsers.py\u001b[0m in \u001b[0;36m__init__\u001b[1;34m(self, src, **kwds)\u001b[0m\n\u001b[0;32m   2008\u001b[0m         \u001b[0mkwds\u001b[0m\u001b[1;33m[\u001b[0m\u001b[1;34m\"usecols\"\u001b[0m\u001b[1;33m]\u001b[0m \u001b[1;33m=\u001b[0m \u001b[0mself\u001b[0m\u001b[1;33m.\u001b[0m\u001b[0musecols\u001b[0m\u001b[1;33m\u001b[0m\u001b[0m\n\u001b[0;32m   2009\u001b[0m \u001b[1;33m\u001b[0m\u001b[0m\n\u001b[1;32m-> 2010\u001b[1;33m         \u001b[0mself\u001b[0m\u001b[1;33m.\u001b[0m\u001b[0m_reader\u001b[0m \u001b[1;33m=\u001b[0m \u001b[0mparsers\u001b[0m\u001b[1;33m.\u001b[0m\u001b[0mTextReader\u001b[0m\u001b[1;33m(\u001b[0m\u001b[0msrc\u001b[0m\u001b[1;33m,\u001b[0m \u001b[1;33m**\u001b[0m\u001b[0mkwds\u001b[0m\u001b[1;33m)\u001b[0m\u001b[1;33m\u001b[0m\u001b[0m\n\u001b[0m\u001b[0;32m   2011\u001b[0m         \u001b[0mself\u001b[0m\u001b[1;33m.\u001b[0m\u001b[0munnamed_cols\u001b[0m \u001b[1;33m=\u001b[0m \u001b[0mself\u001b[0m\u001b[1;33m.\u001b[0m\u001b[0m_reader\u001b[0m\u001b[1;33m.\u001b[0m\u001b[0munnamed_cols\u001b[0m\u001b[1;33m\u001b[0m\u001b[0m\n\u001b[0;32m   2012\u001b[0m \u001b[1;33m\u001b[0m\u001b[0m\n",
      "\u001b[1;32mpandas\\_libs\\parsers.pyx\u001b[0m in \u001b[0;36mpandas._libs.parsers.TextReader.__cinit__\u001b[1;34m()\u001b[0m\n",
      "\u001b[1;32mpandas\\_libs\\parsers.pyx\u001b[0m in \u001b[0;36mpandas._libs.parsers.TextReader._setup_parser_source\u001b[1;34m()\u001b[0m\n",
      "\u001b[1;31mValueError\u001b[0m: Multiple files found in compressed zip file ['SnomedCT_ManagedServiceUS_PRODUCTION_US1000124_20240901T120000Z/', 'SnomedCT_ManagedServiceUS_PRODUCTION_US1000124_20240901T120000Z/Readme_en_20240901.txt', 'SnomedCT_ManagedServiceUS_PRODUCTION_US1000124_20240901T120000Z/Snapshot/', 'SnomedCT_ManagedServiceUS_PRODUCTION_US1000124_20240901T120000Z/Snapshot/Terminology/', 'SnomedCT_ManagedServiceUS_PRODUCTION_US1000124_20240901T120000Z/Snapshot/Terminology/sct2_Concept_Snapshot_US1000124_20240901.txt', 'SnomedCT_ManagedServiceUS_PRODUCTION_US1000124_20240901T120000Z/Snapshot/Terminology/sct2_Description_Snapshot-en_US1000124_20240901.txt', 'SnomedCT_ManagedServiceUS_PRODUCTION_US1000124_20240901T120000Z/Snapshot/Terminology/sct2_Identifier_Snapshot_US1000124_20240901.txt', 'SnomedCT_ManagedServiceUS_PRODUCTION_US1000124_20240901T120000Z/Snapshot/Terminology/sct2_Relationship_Snapshot_US1000124_20240901.txt', 'SnomedCT_ManagedServiceUS_PRODUCTION_US1000124_20240901T120000Z/Snapshot/Terminology/sct2_RelationshipConcreteValues_Snapshot_US1000124_20240901.txt', 'SnomedCT_ManagedServiceUS_PRODUCTION_US1000124_20240901T120000Z/Snapshot/Terminology/sct2_StatedRelationship_Snapshot_US1000124_20240901.txt', 'SnomedCT_ManagedServiceUS_PRODUCTION_US1000124_20240901T120000Z/Snapshot/Terminology/sct2_TextDefinition_Snapshot-en_US1000124_20240901.txt', 'SnomedCT_ManagedServiceUS_PRODUCTION_US1000124_20240901T120000Z/Snapshot/Terminology/sct2_sRefset_OWLExpressionSnapshot_US1000124_20240901.txt', 'SnomedCT_ManagedServiceUS_PRODUCTION_US1000124_20240901T120000Z/Snapshot/Refset/', 'SnomedCT_ManagedServiceUS_PRODUCTION_US1000124_20240901T120000Z/Snapshot/Refset/Content/', 'SnomedCT_ManagedServiceUS_PRODUCTION_US1000124_20240901T120000Z/Snapshot/Refset/Content/der2_cRefset_AssociationSnapshot_US1000124_20240901.txt', 'SnomedCT_ManagedServiceUS_PRODUCTION_US1000124_20240901T120000Z/Snapshot/Refset/Content/der2_cRefset_AttributeValueSnapshot_US1000124_20240901.txt', 'SnomedCT_ManagedServiceUS_PRODUCTION_US1000124_20240901T120000Z/Snapshot/Refset/Content/der2_Refset_SimpleSnapshot_US1000124_20240901.txt', 'SnomedCT_ManagedServiceUS_PRODUCTION_US1000124_20240901T120000Z/Snapshot/Refset/Map/', 'SnomedCT_ManagedServiceUS_PRODUCTION_US1000124_20240901T120000Z/Snapshot/Refset/Map/der2_iisssccRefset_ExtendedMapSnapshot_US1000124_20240901.txt', 'SnomedCT_ManagedServiceUS_PRODUCTION_US1000124_20240901T120000Z/Snapshot/Refset/Map/der2_sRefset_SimpleMapSnapshot_US1000124_20240901.txt', 'SnomedCT_ManagedServiceUS_PRODUCTION_US1000124_20240901T120000Z/Snapshot/Refset/Language/', 'SnomedCT_ManagedServiceUS_PRODUCTION_US1000124_20240901T120000Z/Snapshot/Refset/Language/der2_cRefset_LanguageSnapshot-en_US1000124_20240901.txt', 'SnomedCT_ManagedServiceUS_PRODUCTION_US1000124_20240901T120000Z/Snapshot/Refset/Metadata/', 'SnomedCT_ManagedServiceUS_PRODUCTION_US1000124_20240901T120000Z/Snapshot/Refset/Metadata/der2_cciRefset_RefsetDescriptorSnapshot_US1000124_20240901.txt', 'SnomedCT_ManagedServiceUS_PRODUCTION_US1000124_20240901T120000Z/Snapshot/Refset/Metadata/der2_ciRefset_DescriptionTypeSnapshot_US1000124_20240901.txt', 'SnomedCT_ManagedServiceUS_PRODUCTION_US1000124_20240901T120000Z/Snapshot/Refset/Metadata/der2_ssRefset_ModuleDependencySnapshot_US1000124_20240901.txt', 'SnomedCT_ManagedServiceUS_PRODUCTION_US1000124_20240901T120000Z/Snapshot/Refset/Metadata/der2_sssssssRefset_MRCMDomainSnapshot_US1000124_20240901.txt', 'SnomedCT_ManagedServiceUS_PRODUCTION_US1000124_20240901T120000Z/Snapshot/Refset/Metadata/der2_cissccRefset_MRCMAttributeDomainSnapshot_US1000124_20240901.txt', 'SnomedCT_ManagedServiceUS_PRODUCTION_US1000124_20240901T120000Z/Snapshot/Refset/Metadata/der2_ssccRefset_MRCMAttributeRangeSnapshot_US1000124_20240901.txt', 'SnomedCT_ManagedServiceUS_PRODUCTION_US1000124_20240901T120000Z/Snapshot/Refset/Metadata/der2_cRefset_MRCMModuleScopeSnapshot_US1000124_20240901.txt', 'SnomedCT_ManagedServiceUS_PRODUCTION_US1000124_20240901T120000Z/Snapshot/Refset/Metadata/der2_scsRefset_ComponentAnnotationStringValueSnapshot_US1000124_20240901.txt', 'SnomedCT_ManagedServiceUS_PRODUCTION_US1000124_20240901T120000Z/Snapshot/Refset/Metadata/der2_sscsRefset_MemberAnnotationStringValueSnapshot_US1000124_20240901.txt', 'SnomedCT_ManagedServiceUS_PRODUCTION_US1000124_20240901T120000Z/Full/', 'SnomedCT_ManagedServiceUS_PRODUCTION_US1000124_20240901T120000Z/Full/Terminology/', 'SnomedCT_ManagedServiceUS_PRODUCTION_US1000124_20240901T120000Z/Full/Terminology/sct2_Concept_Full_US1000124_20240901.txt', 'SnomedCT_ManagedServiceUS_PRODUCTION_US1000124_20240901T120000Z/Full/Terminology/sct2_Description_Full-en_US1000124_20240901.txt', 'SnomedCT_ManagedServiceUS_PRODUCTION_US1000124_20240901T120000Z/Full/Terminology/sct2_Identifier_Full_US1000124_20240901.txt', 'SnomedCT_ManagedServiceUS_PRODUCTION_US1000124_20240901T120000Z/Full/Terminology/sct2_Relationship_Full_US1000124_20240901.txt', 'SnomedCT_ManagedServiceUS_PRODUCTION_US1000124_20240901T120000Z/Full/Terminology/sct2_RelationshipConcreteValues_Full_US1000124_20240901.txt', 'SnomedCT_ManagedServiceUS_PRODUCTION_US1000124_20240901T120000Z/Full/Terminology/sct2_StatedRelationship_Full_US1000124_20240901.txt', 'SnomedCT_ManagedServiceUS_PRODUCTION_US1000124_20240901T120000Z/Full/Terminology/sct2_TextDefinition_Full-en_US1000124_20240901.txt', 'SnomedCT_ManagedServiceUS_PRODUCTION_US1000124_20240901T120000Z/Full/Terminology/sct2_sRefset_OWLExpressionFull_US1000124_20240901.txt', 'SnomedCT_ManagedServiceUS_PRODUCTION_US1000124_20240901T120000Z/Full/Refset/', 'SnomedCT_ManagedServiceUS_PRODUCTION_US1000124_20240901T120000Z/Full/Refset/Content/', 'SnomedCT_ManagedServiceUS_PRODUCTION_US1000124_20240901T120000Z/Full/Refset/Content/der2_cRefset_AssociationFull_US1000124_20240901.txt', 'SnomedCT_ManagedServiceUS_PRODUCTION_US1000124_20240901T120000Z/Full/Refset/Content/der2_cRefset_AttributeValueFull_US1000124_20240901.txt', 'SnomedCT_ManagedServiceUS_PRODUCTION_US1000124_20240901T120000Z/Full/Refset/Content/der2_Refset_SimpleFull_US1000124_20240901.txt', 'SnomedCT_ManagedServiceUS_PRODUCTION_US1000124_20240901T120000Z/Full/Refset/Map/', 'SnomedCT_ManagedServiceUS_PRODUCTION_US1000124_20240901T120000Z/Full/Refset/Map/der2_iisssccRefset_ExtendedMapFull_US1000124_20240901.txt', 'SnomedCT_ManagedServiceUS_PRODUCTION_US1000124_20240901T120000Z/Full/Refset/Map/der2_sRefset_SimpleMapFull_US1000124_20240901.txt', 'SnomedCT_ManagedServiceUS_PRODUCTION_US1000124_20240901T120000Z/Full/Refset/Language/', 'SnomedCT_ManagedServiceUS_PRODUCTION_US1000124_20240901T120000Z/Full/Refset/Language/der2_cRefset_LanguageFull-en_US1000124_20240901.txt', 'SnomedCT_ManagedServiceUS_PRODUCTION_US1000124_20240901T120000Z/Full/Refset/Metadata/', 'SnomedCT_ManagedServiceUS_PRODUCTION_US1000124_20240901T120000Z/Full/Refset/Metadata/der2_cciRefset_RefsetDescriptorFull_US1000124_20240901.txt', 'SnomedCT_ManagedServiceUS_PRODUCTION_US1000124_20240901T120000Z/Full/Refset/Metadata/der2_ciRefset_DescriptionTypeFull_US1000124_20240901.txt', 'SnomedCT_ManagedServiceUS_PRODUCTION_US1000124_20240901T120000Z/Full/Refset/Metadata/der2_ssRefset_ModuleDependencyFull_US1000124_20240901.txt', 'SnomedCT_ManagedServiceUS_PRODUCTION_US1000124_20240901T120000Z/Full/Refset/Metadata/der2_sssssssRefset_MRCMDomainFull_US1000124_20240901.txt', 'SnomedCT_ManagedServiceUS_PRODUCTION_US1000124_20240901T120000Z/Full/Refset/Metadata/der2_cissccRefset_MRCMAttributeDomainFull_US1000124_20240901.txt', 'SnomedCT_ManagedServiceUS_PRODUCTION_US1000124_20240901T120000Z/Full/Refset/Metadata/der2_ssccRefset_MRCMAttributeRangeFull_US1000124_20240901.txt', 'SnomedCT_ManagedServiceUS_PRODUCTION_US1000124_20240901T120000Z/Full/Refset/Metadata/der2_cRefset_MRCMModuleScopeFull_US1000124_20240901.txt', 'SnomedCT_ManagedServiceUS_PRODUCTION_US1000124_20240901T120000Z/Full/Refset/Metadata/der2_scsRefset_ComponentAnnotationStringValueFull_US1000124_20240901.txt', 'SnomedCT_ManagedServiceUS_PRODUCTION_US1000124_20240901T120000Z/Full/Refset/Metadata/der2_sscsRefset_MemberAnnotationStringValueFull_US1000124_20240901.txt']"
     ]
    }
   ],
   "source": [
    "import pandas as pd\n",
    "SNOMED_PATH = \"./Data/SNOMEDCT/SNOMED.zip\"\n",
    "SNOMED = pd.read_csv(SNOMED_PATH, compression=\"zip\", sep=\"\\t\")"
   ]
  },
  {
   "cell_type": "code",
   "execution_count": 1,
   "metadata": {},
   "outputs": [],
   "source": [
    "import pandas as pd\n",
    "import json\n",
    "dgidb = pd.read_csv(\"./Data/DGIDB/converted/human/dgidb_ncbi_v2.csv\")\n",
    "msigdb = json.load(open(\"./Data/MSigDB/converted/v2_pathway.json\"))\\"
   ]
  },
  {
   "cell_type": "code",
   "execution_count": 5,
   "metadata": {},
   "outputs": [
    {
     "name": "stdout",
     "output_type": "stream",
     "text": [
      "[[440, 604, 2921, 10468, 9027], [6364, 2921, 6372, 4609, 5743], [134, 150, 155185, 374, 400793, 27202, 135398, 771, 8839, 1952, 1154, 6387, 285489, 1960, 54898, 2274, 2288, 342184, 2353, 2296, 9687, 283120, 23493, 26353, 3487, 55540, 8645, 3860, 4277, 4602, 4603, 4609, 252969, 9368, 9722, 4886, 8204, 10439, 5174, 5241, 5570, 5366, 10105, 9536, 11031, 51195, 10125, 221662, 116362, 85004, 5979, 23541, 118980, 6446, 23678, 6478, 6584, 55244, 8140, 8614, 7031, 64699, 7162, 7164, 80139], [25805, 8537, 638, 29760, 90427, 7832, 901, 54541, 1942, 8507, 165215, 57822, 27198, 3554, 51474, 200879, 8495, 5874, 10252, 11037, 94241, 79679], [115, 134, 153, 155185, 79754, 400793, 771, 652968, 440193, 595, 1952, 1154, 6387, 51523, 1662, 64798, 285489, 399665, 1960, 54898, 9214, 2274, 2288, 342184, 2353, 2296, 9687, 3055, 23493, 26353, 3487, 55540, 3717, 8645, 9424, 3860, 164832, 149175, 154141, 4277, 55686, 4602, 4603, 4609, 252969, 9368, 79570, 51491, 4886, 2494, 8204, 29948, 5174, 5209, 5241, 5570, 440503, 5366, 10105, 157285, 9536, 54899, 11031, 51195, 5914, 10125, 221662, 116362, 5979, 23541, 56920, 118980, 6446, 23678, 6478, 6584, 55244, 8140, 139065, 8614, 55638, 7057, 25976, 64699, 7164, 57478, 23286, 80139]]\n"
     ]
    }
   ],
   "source": [
    "print(list(msigdb.values())[:5])  # Show the first 5 for inspection\n",
    "\n"
   ]
  },
  {
   "cell_type": "code",
   "execution_count": 6,
   "metadata": {},
   "outputs": [
    {
     "name": "stdout",
     "output_type": "stream",
     "text": [
      "HI\n"
     ]
    }
   ],
   "source": [
    "# Flatten the lists and convert to a set\n",
    "unique_values = set(gene for genes in msigdb.values() for gene in genes)\n",
    "\n",
    "# Now check for the string '1' or integer 1\n",
    "if \"1\" in unique_values or 1 in unique_values:\n",
    "    print(\"HI\")\n"
   ]
  },
  {
   "cell_type": "code",
   "execution_count": 9,
   "metadata": {},
   "outputs": [
    {
     "name": "stdout",
     "output_type": "stream",
     "text": [
      "1 is in pathway: IBRAHIM_NRF1_DOWN\n",
      "1 is in pathway: BLANCO_MELO_MERS_COV_INFECTION_MCR5_CELLS_DN\n",
      "1 is in pathway: CERVERA_SDHB_TARGETS_1_DN\n",
      "1 is in pathway: CHENG_IMPRINTED_BY_ESTRADIOL\n",
      "1 is in pathway: MEBARKI_HCC_PROGENITOR_WNT_DN\n",
      "1 is in pathway: MEBARKI_HCC_PROGENITOR_WNT_DN_CTNNB1_DEPENDENT\n",
      "1 is in pathway: MEBARKI_HCC_PROGENITOR_WNT_DN_BLOCKED_BY_FZD8CRD\n",
      "1 is in pathway: MEBARKI_HCC_PROGENITOR_WNT_DN_CTNNB1_DEPENDENT_BLOCKED_BY_FZD8CRD\n",
      "1 is in pathway: MEBARKI_HCC_PROGENITOR_FZD8CRD_DN\n",
      "1 is in pathway: CARRILLOREIXACH_HEPATOBLASTOMA_VS_NORMAL_DN\n",
      "1 is in pathway: CARRILLOREIXACH_HEPATOBLASTOMA_VS_NORMAL_HYPERMETHYLATED_AND_DN\n",
      "1 is in pathway: REACTOME_INNATE_IMMUNE_SYSTEM\n",
      "1 is in pathway: REACTOME_NEUTROPHIL_DEGRANULATION\n",
      "1 is in pathway: REACTOME_PLATELET_ACTIVATION_SIGNALING_AND_AGGREGATION\n",
      "1 is in pathway: REACTOME_RESPONSE_TO_ELEVATED_PLATELET_CYTOSOLIC_CA2\n",
      "1 is in pathway: BENPORATH_CYCLING_GENES\n",
      "1 is in pathway: BENPORATH_PROLIFERATION\n",
      "1 is in pathway: REACTOME_HEMOSTASIS\n"
     ]
    }
   ],
   "source": [
    "# Value to check (try both string and integer to be thorough)\n",
    "target_value = \"1\"  # or target_value = 1\n",
    "\n",
    "# Loop through msigdb to find the pathways containing the target value\n",
    "for pathway, genes in msigdb.items():\n",
    "    if target_value in genes:\n",
    "        print(f\"{target_value} is in pathway: {pathway}\")\n",
    "# Convert all to strings while checking\n",
    "for pathway, genes in msigdb.items():\n",
    "    if str(target_value) in map(str, genes):\n",
    "        print(f\"{target_value} is in pathway: {pathway}\")\n"
   ]
  }
 ],
 "metadata": {
  "kernelspec": {
   "display_name": "datatestingvenv",
   "language": "python",
   "name": "python3"
  },
  "language_info": {
   "codemirror_mode": {
    "name": "ipython",
    "version": 3
   },
   "file_extension": ".py",
   "mimetype": "text/x-python",
   "name": "python",
   "nbconvert_exporter": "python",
   "pygments_lexer": "ipython3",
   "version": "3.7.0"
  }
 },
 "nbformat": 4,
 "nbformat_minor": 2
}
