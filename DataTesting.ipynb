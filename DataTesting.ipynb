{
 "cells": [
  {
   "cell_type": "markdown",
   "metadata": {},
   "source": [
    "## Imports"
   ]
  },
  {
   "cell_type": "code",
   "execution_count": 1,
   "metadata": {},
   "outputs": [],
   "source": [
    "import pandas as pd\n",
    "import json\n"
   ]
  },
  {
   "cell_type": "markdown",
   "metadata": {},
   "source": [
    "### DD-DB (Disease Drug-Database) (2017) <br>\n",
    "Input: Disease (NDF RT Notation) <br>\n",
    "Output: Drug (SNOMED Notation) <br>\n",
    "(484 diseases; 324 drugs; 3589 interactions) <br>\n",
    "*(There has to be a better one out there, will ask Dr. Narhi) <br>\n"
   ]
  },
  {
   "cell_type": "code",
   "execution_count": 5,
   "metadata": {},
   "outputs": [
    {
     "name": "stdout",
     "output_type": "stream",
     "text": [
      "        NDF-RT     SNOMED\n",
      "0  N0000004713   26929004\n",
      "1  N0000004713   56267009\n",
      "2  N0000004713   80098002\n",
      "3  N0000004713  386806002\n",
      "4  N0000004713  425390006\n"
     ]
    }
   ],
   "source": [
    "DDDB_PATH = \"./Data/DDDB/NIHMS851432-supplement-1.csv\"\n",
    "DDDB = pd.read_csv(DDDB_PATH)\n",
    "print(DDDB.head(5))"
   ]
  },
  {
   "cell_type": "code",
   "execution_count": 31,
   "metadata": {},
   "outputs": [
    {
     "ename": "ImportError",
     "evalue": "cannot import name 'get_host' from 'urllib3.util.url' (c:\\Users\\richa\\Desktop\\CodingWorkspaces\\DGI-Hypergraph\\datatestingvenv\\lib\\site-packages\\urllib3\\util\\url.py)",
     "output_type": "error",
     "traceback": [
      "\u001b[1;31m---------------------------------------------------------------------------\u001b[0m",
      "\u001b[1;31mImportError\u001b[0m                               Traceback (most recent call last)",
      "\u001b[1;32m~\\AppData\\Local\\Temp\\ipykernel_2520\\4226229141.py\u001b[0m in \u001b[0;36m<module>\u001b[1;34m\u001b[0m\n\u001b[1;32m----> 1\u001b[1;33m \u001b[1;32mimport\u001b[0m \u001b[0mrequests\u001b[0m\u001b[1;33m\u001b[0m\u001b[0m\n\u001b[0m\u001b[0;32m      2\u001b[0m \u001b[1;33m\u001b[0m\u001b[0m\n\u001b[0;32m      3\u001b[0m \u001b[1;32mdef\u001b[0m \u001b[0mget_drug_name_from_snomed\u001b[0m\u001b[1;33m(\u001b[0m\u001b[0msnomed_code\u001b[0m\u001b[1;33m)\u001b[0m\u001b[1;33m:\u001b[0m\u001b[1;33m\u001b[0m\u001b[0m\n\u001b[0;32m      4\u001b[0m     \u001b[1;31m# Base URL for the RXNorm API\u001b[0m\u001b[1;33m\u001b[0m\u001b[1;33m\u001b[0m\u001b[0m\n\u001b[0;32m      5\u001b[0m     \u001b[0mbase_url\u001b[0m \u001b[1;33m=\u001b[0m \u001b[1;34m\"https://rxnav.nlm.nih.gov/REST\"\u001b[0m\u001b[1;33m\u001b[0m\u001b[0m\n",
      "\u001b[1;32mc:\\Users\\richa\\Desktop\\CodingWorkspaces\\DGI-Hypergraph\\datatestingvenv\\lib\\site-packages\\requests\\__init__.py\u001b[0m in \u001b[0;36m<module>\u001b[1;34m\u001b[0m\n\u001b[0;32m     41\u001b[0m \u001b[1;32mimport\u001b[0m \u001b[0mwarnings\u001b[0m\u001b[1;33m\u001b[0m\u001b[0m\n\u001b[0;32m     42\u001b[0m \u001b[1;33m\u001b[0m\u001b[0m\n\u001b[1;32m---> 43\u001b[1;33m \u001b[1;32mimport\u001b[0m \u001b[0murllib3\u001b[0m\u001b[1;33m\u001b[0m\u001b[0m\n\u001b[0m\u001b[0;32m     44\u001b[0m \u001b[1;33m\u001b[0m\u001b[0m\n\u001b[0;32m     45\u001b[0m \u001b[1;32mfrom\u001b[0m \u001b[1;33m.\u001b[0m\u001b[0mexceptions\u001b[0m \u001b[1;32mimport\u001b[0m \u001b[0mRequestsDependencyWarning\u001b[0m\u001b[1;33m\u001b[0m\u001b[0m\n",
      "\u001b[1;32mc:\\Users\\richa\\Desktop\\CodingWorkspaces\\DGI-Hypergraph\\datatestingvenv\\lib\\site-packages\\urllib3\\__init__.py\u001b[0m in \u001b[0;36m<module>\u001b[1;34m\u001b[0m\n\u001b[0;32m     18\u001b[0m \u001b[1;32mfrom\u001b[0m \u001b[1;33m.\u001b[0m\u001b[0mutil\u001b[0m\u001b[1;33m.\u001b[0m\u001b[0mretry\u001b[0m \u001b[1;32mimport\u001b[0m \u001b[0mRetry\u001b[0m\u001b[1;33m\u001b[0m\u001b[0m\n\u001b[0;32m     19\u001b[0m \u001b[1;32mfrom\u001b[0m \u001b[1;33m.\u001b[0m\u001b[0mutil\u001b[0m\u001b[1;33m.\u001b[0m\u001b[0mtimeout\u001b[0m \u001b[1;32mimport\u001b[0m \u001b[0mTimeout\u001b[0m\u001b[1;33m\u001b[0m\u001b[0m\n\u001b[1;32m---> 20\u001b[1;33m \u001b[1;32mfrom\u001b[0m \u001b[1;33m.\u001b[0m\u001b[0mutil\u001b[0m\u001b[1;33m.\u001b[0m\u001b[0murl\u001b[0m \u001b[1;32mimport\u001b[0m \u001b[0mget_host\u001b[0m\u001b[1;33m\u001b[0m\u001b[0m\n\u001b[0m\u001b[0;32m     21\u001b[0m \u001b[1;33m\u001b[0m\u001b[0m\n\u001b[0;32m     22\u001b[0m \u001b[1;31m# === NOTE TO REPACKAGERS AND VENDORS ===\u001b[0m\u001b[1;33m\u001b[0m\u001b[1;33m\u001b[0m\u001b[0m\n",
      "\u001b[1;31mImportError\u001b[0m: cannot import name 'get_host' from 'urllib3.util.url' (c:\\Users\\richa\\Desktop\\CodingWorkspaces\\DGI-Hypergraph\\datatestingvenv\\lib\\site-packages\\urllib3\\util\\url.py)"
     ]
    }
   ],
   "source": [
    "import requests\n",
    "\n",
    "def get_drug_name_from_snomed(snomed_code):\n",
    "    # Base URL for the RXNorm API\n",
    "    base_url = \"https://rxnav.nlm.nih.gov/REST\"\n",
    "\n",
    "    # URL for resolving SNOMED code to RXNorm concept\n",
    "    url = f\"{base_url}/rxcui?query={snomed_code}\"\n",
    "\n",
    "    # Make the API request\n",
    "    response = requests.get(url)\n",
    "    \n",
    "    if response.status_code == 200:\n",
    "        data = response.json()\n",
    "        \n",
    "        # Extract the drug names from the API response\n",
    "        if 'rxnormGroup' in data:\n",
    "            drug_names = [entry['name'] for entry in data['rxnormGroup']['rxnormConcept']]\n",
    "            return drug_names\n",
    "        else:\n",
    "            return f\"No drug found for SNOMED code {snomed_code}\"\n",
    "    else:\n",
    "        return f\"Error: {response.status_code}\"\n",
    "\n",
    "# Example usage\n",
    "snomed_code = \"26929004\"  # Replace with your SNOMED code\n",
    "drug_names = get_drug_name_from_snomed(snomed_code)\n",
    "print(f\"Drug name(s) for SNOMED code {snomed_code}: {drug_names}\")\n"
   ]
  },
  {
   "cell_type": "markdown",
   "metadata": {},
   "source": [
    "### DGI-DB (Drug Gene Interaction-Database) (2024) <br>\n",
    "Input: Drug (Common Name) <br>\n",
    "Output: Gene Name (Common Name) <br>"
   ]
  },
  {
   "cell_type": "code",
   "execution_count": 7,
   "metadata": {},
   "outputs": [
    {
     "name": "stdout",
     "output_type": "stream",
     "text": [
      "  gene_claim_name gene_concept_id gene_name interaction_source_db_name  \\\n",
      "0          CYP2D6       hgnc:2625    CYP2D6                        DTC   \n",
      "1           PPARG       hgnc:9236     PPARG                        DTC   \n",
      "\n",
      "  interaction_source_db_version interaction_type  interaction_score  \\\n",
      "0                        9/2/20              NaN           0.017709   \n",
      "1                        9/2/20              NaN           0.840123   \n",
      "\n",
      "       drug_claim_name       drug_concept_id             drug_name approved  \\\n",
      "0           RACLOPRIDE          ncit:C152139            RACLOPRIDE    False   \n",
      "1  KALOPANAX-SAPONIN F  chembl:CHEMBL1833984  CHEMBL:CHEMBL1833984    False   \n",
      "\n",
      "  immunotherapy anti_neoplastic  \n",
      "0         False           False  \n",
      "1         False           False  \n"
     ]
    }
   ],
   "source": [
    "DGIDB_PATH = \"./Data/DGIDB/interactions.tsv\"\n",
    "DGIDB = pd.read_csv(DGIDB_PATH, sep=\"\\t\")\n",
    "print(DGIDB.head(2))"
   ]
  },
  {
   "cell_type": "code",
   "execution_count": 16,
   "metadata": {},
   "outputs": [
    {
     "name": "stdout",
     "output_type": "stream",
     "text": [
      "439     FAM178B\n",
      "2722     CACNG2\n",
      "Name: gene_claim_name, dtype: object\n"
     ]
    }
   ],
   "source": [
    "# Filter the rows where drug_name is 'lithium'\n",
    "# lithium is a common bipolar drug\n",
    "lithium_rows = DGIDB[DGIDB['drug_name'].str.contains('lithium', case=False, na=False)]\n",
    "# Print the first 2 rows\n",
    "print(lithium_rows.head(2)[\"gene_claim_name\"])"
   ]
  },
  {
   "cell_type": "code",
   "execution_count": 19,
   "metadata": {},
   "outputs": [
    {
     "name": "stdout",
     "output_type": "stream",
     "text": [
      "NCBI Gene ID for FAM178B: 90678\n"
     ]
    }
   ],
   "source": [
    "from Bio import Entrez\n",
    "\n",
    "def get_ncbi_gene_id(gene_claim_name):\n",
    "    # Set your email address for Entrez (NCBI API)\n",
    "    Entrez.email = \"richard_huang@ucsb.edu\"\n",
    "    \n",
    "    # Search for the gene using the gene_claim_name\n",
    "    handle = Entrez.esearch(db=\"gene\", term=gene_claim_name, retmax=1)\n",
    "    record = Entrez.read(handle)\n",
    "    \n",
    "    # Extract the gene ID from the search results\n",
    "    if record['IdList']:\n",
    "        gene_id = record['IdList'][0]\n",
    "        return gene_id\n",
    "    else:\n",
    "        return None\n",
    "\n",
    "# Example usage\n",
    "gene_claim_name = \"FAM178B\"\n",
    "gene_id = get_ncbi_gene_id(gene_claim_name)\n",
    "print(f\"NCBI Gene ID for {gene_claim_name}: {gene_id}\")\n"
   ]
  },
  {
   "cell_type": "markdown",
   "metadata": {},
   "source": [
    "### Human Net (Gene - Gene dataset) (2022) <br>\n",
    "Input: Gene (NCBI Notation) <br>\n",
    "Output: Gene (NCBI Notation) <br>\n",
    "Used in DriverRWH"
   ]
  },
  {
   "cell_type": "code",
   "execution_count": 15,
   "metadata": {},
   "outputs": [
    {
     "name": "stdout",
     "output_type": "stream",
     "text": [
      "   Gene1  Gene2\n",
      "0  54936   7405\n",
      "1  10298    306\n",
      "2   6366   6370\n",
      "3  11021  51199\n",
      "4   4940   8372\n"
     ]
    }
   ],
   "source": [
    "HUMANNET_PATH = \"./Data/HumanNet/HumanNet-GSP.tsv\"\n",
    "HUMANNET = pd.read_csv(HUMANNET_PATH, sep=\"\\t\")\n",
    "print(HUMANNET.head(5))"
   ]
  },
  {
   "cell_type": "code",
   "execution_count": 24,
   "metadata": {},
   "outputs": [
    {
     "name": "stdout",
     "output_type": "stream",
     "text": [
      "        Gene1  Gene2\n",
      "31793   90678   9320\n",
      "44958   90678   9690\n",
      "83152   90678  92305\n",
      "86316   90678  91445\n",
      "90744   90678    997\n",
      "128491  90678  93343\n",
      "143333  90678   9921\n",
      "178778  90678   9978\n",
      "184355  90678   9666\n",
      "234302  90678   9711\n"
     ]
    }
   ],
   "source": [
    "FAM_GENE_ROWS = HUMANNET[HUMANNET['Gene1'].astype(str).str.contains('90678', case=False, na=False)]\n",
    "print(FAM_GENE_ROWS)\n"
   ]
  },
  {
   "cell_type": "markdown",
   "metadata": {},
   "source": [
    "### MSigDB (Molecular Signatures Database) <br>\n",
    "Input: Any given pathway or condition leading to a pathway <br>\n",
    "Output: Array of genes related to that pathway\n"
   ]
  },
  {
   "cell_type": "code",
   "execution_count": 9,
   "metadata": {},
   "outputs": [
    {
     "name": "stdout",
     "output_type": "stream",
     "text": [
      "['CHIT1', 'EMC3', 'FOXC2', 'MAP1A', 'MUSK', 'MYO1E', 'NOVA2', 'NTRK1', 'NXPH4', 'RHOV', 'RYR2', 'ZBTB7A']\n"
     ]
    }
   ],
   "source": [
    "MSIGDB_PATH = \"Data/MSigDB/c2.all.v2024.1.Hs.json\"\n",
    "with open(MSIGDB_PATH, 'r') as file:\n",
    "    MSIGDB = json.load(file)\n",
    "print(MSIGDB[\"PETRETTO_BLOOD_PRESSURE_UP\"][\"geneSymbols\"])\n",
    "# keys = MSIGDB.keys()\n",
    "# print(list(keys))"
   ]
  }
 ],
 "metadata": {
  "kernelspec": {
   "display_name": "datatestingvenv",
   "language": "python",
   "name": "python3"
  },
  "language_info": {
   "codemirror_mode": {
    "name": "ipython",
    "version": 3
   },
   "file_extension": ".py",
   "mimetype": "text/x-python",
   "name": "python",
   "nbconvert_exporter": "python",
   "pygments_lexer": "ipython3",
   "version": "3.7.0"
  }
 },
 "nbformat": 4,
 "nbformat_minor": 2
}
