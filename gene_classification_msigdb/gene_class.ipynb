{
 "cells": [
  {
   "cell_type": "code",
   "execution_count": 18,
   "metadata": {},
   "outputs": [],
   "source": [
    "import json\n",
    "\n",
    "# Load the JSON data from the file\n",
    "with open('../Data/MSigDB/converted/v3_pathway.json', 'r') as file:\n",
    "    msigdb = json.load(file)"
   ]
  },
  {
   "cell_type": "code",
   "execution_count": 19,
   "metadata": {},
   "outputs": [
    {
     "name": "stdout",
     "output_type": "stream",
     "text": [
      "                                                pathway  \\\n",
      "0                     FUJIWARA_PARK2_IN_LIVER_CANCER_DN   \n",
      "1                    BIERIE_INFLAMMATORY_RESPONSE_TGFB1   \n",
      "2                      LI_ESTROGENE_META_E2_RESPONSE_UP   \n",
      "3                      LI_ESTROGENE_META_E2_RESPONSE_DN   \n",
      "4                     LI_ESTROGENE_EARLY_E2_RESPONSE_UP   \n",
      "...                                                 ...   \n",
      "7406  REACTOME_INTRINSIC_PATHWAY_OF_FIBRIN_CLOT_FORM...   \n",
      "7407   REACTOME_COMMON_PATHWAY_OF_FIBRIN_CLOT_FORMATION   \n",
      "7408  REACTOME_FORMATION_OF_FIBRIN_CLOT_CLOTTING_CAS...   \n",
      "7409  REACTOME_INHIBITION_OF_THE_PROTEOLYTIC_ACTIVIT...   \n",
      "7410  REACTOME_AEROBIC_RESPIRATION_AND_RESPIRATORY_E...   \n",
      "\n",
      "                                                  genes  \n",
      "0                         [440, 604, 2921, 10468, 9027]  \n",
      "1                        [6364, 2921, 6372, 4609, 5743]  \n",
      "2     [134, 150, 155185, 374, 400793, 27202, 135398,...  \n",
      "3     [25805, 8537, 638, 29760, 90427, 7832, 901, 54...  \n",
      "4     [115, 134, 153, 155185, 79754, 400793, 771, 65...  \n",
      "...                                                 ...  \n",
      "7406  [2, 708, 2159, 2160, 2161, 2147, 2157, 2158, 2...  \n",
      "7407  [57126, 2159, 2162, 2165, 2147, 2149, 2153, 21...  \n",
      "7408  [2, 708, 57126, 2159, 2160, 2161, 2162, 2165, ...  \n",
      "7409  [64682, 10393, 51529, 25906, 119504, 29882, 29...  \n",
      "7410  [28976, 38, 50, 137872, 25852, 498, 506, 509, ...  \n",
      "\n",
      "[7411 rows x 2 columns]\n"
     ]
    }
   ],
   "source": [
    "import pandas as pd\n",
    "# Create a list of pathways and their associated gene arrays\n",
    "data_rows = []\n",
    "for pathway, genes in msigdb.items():\n",
    "    data_rows.append([pathway, genes])\n",
    "\n",
    "# Create a DataFrame from the list\n",
    "df = pd.DataFrame(data_rows, columns=['pathway', 'genes'])\n",
    "\n",
    "# Show the DataFrame\n",
    "print(df)"
   ]
  },
  {
   "cell_type": "code",
   "execution_count": 62,
   "metadata": {},
   "outputs": [
    {
     "name": "stdout",
     "output_type": "stream",
     "text": [
      "Number of empty categories: 6757\n",
      "2              LI_ESTROGENE_META_E2_RESPONSE_UP\n",
      "3              LI_ESTROGENE_META_E2_RESPONSE_DN\n",
      "4             LI_ESTROGENE_EARLY_E2_RESPONSE_UP\n",
      "5             LI_ESTROGENE_EARLY_E2_RESPONSE_DN\n",
      "6               LI_ESTROGENE_MID_E2_RESPONSE_UP\n",
      "7               LI_ESTROGENE_MID_E2_RESPONSE_DN\n",
      "8              LI_ESTROGENE_LATE_E2_RESPONSE_UP\n",
      "9              LI_ESTROGENE_LATE_E2_RESPONSE_DN\n",
      "10             LI_ESTROGENE_MCF7_E2_RESPONSE_UP\n",
      "11             LI_ESTROGENE_MCF7_E2_RESPONSE_DN\n",
      "12             LI_ESTROGENE_T47D_E2_RESPONSE_UP\n",
      "13             LI_ESTROGENE_T47D_E2_RESPONSE_DN\n",
      "14    LI_ESTROGENE_NON_MCF7_T47D_E2_RESPONSE_UP\n",
      "15    LI_ESTROGENE_NON_MCF7_T47D_E2_RESPONSE_DN\n",
      "16       LI_ESTROGENE_BIDIRECTIONAL_E2_RESPONSE\n",
      "17        PURWIN_A375_MEWO_COMMON_SOX10_TARGETS\n",
      "18                    PURWIN_A375_SOX10_TARGETS\n",
      "19                    PURWIN_MEWO_SOX10_TARGETS\n",
      "20          SHARMA_ASTROCYTOMA_WITH_NF1_SYNDROM\n",
      "23               CORONEL_RFX7_DIRECT_TARGETS_UP\n",
      "Name: pathway, dtype: object\n",
      "                                                pathway  \\\n",
      "0                     FUJIWARA_PARK2_IN_LIVER_CANCER_DN   \n",
      "1                    BIERIE_INFLAMMATORY_RESPONSE_TGFB1   \n",
      "2                      LI_ESTROGENE_META_E2_RESPONSE_UP   \n",
      "3                      LI_ESTROGENE_META_E2_RESPONSE_DN   \n",
      "4                     LI_ESTROGENE_EARLY_E2_RESPONSE_UP   \n",
      "...                                                 ...   \n",
      "7406  REACTOME_INTRINSIC_PATHWAY_OF_FIBRIN_CLOT_FORM...   \n",
      "7407   REACTOME_COMMON_PATHWAY_OF_FIBRIN_CLOT_FORMATION   \n",
      "7408  REACTOME_FORMATION_OF_FIBRIN_CLOT_CLOTTING_CAS...   \n",
      "7409  REACTOME_INHIBITION_OF_THE_PROTEOLYTIC_ACTIVIT...   \n",
      "7410  REACTOME_AEROBIC_RESPIRATION_AND_RESPIRATORY_E...   \n",
      "\n",
      "                                                  genes category  \n",
      "0                         [440, 604, 2921, 10468, 9027]   cancer  \n",
      "1                        [6364, 2921, 6372, 4609, 5743]   immune  \n",
      "2     [134, 150, 155185, 374, 400793, 27202, 135398,...     None  \n",
      "3     [25805, 8537, 638, 29760, 90427, 7832, 901, 54...     None  \n",
      "4     [115, 134, 153, 155185, 79754, 400793, 771, 65...     None  \n",
      "...                                                 ...      ...  \n",
      "7406  [2, 708, 2159, 2160, 2161, 2147, 2157, 2158, 2...     None  \n",
      "7407  [57126, 2159, 2162, 2165, 2147, 2149, 2153, 21...     None  \n",
      "7408  [2, 708, 57126, 2159, 2160, 2161, 2162, 2165, ...     None  \n",
      "7409  [64682, 10393, 51529, 25906, 119504, 29882, 29...     None  \n",
      "7410  [28976, 38, 50, 137872, 25852, 498, 506, 509, ...     None  \n",
      "\n",
      "[7411 rows x 3 columns]\n"
     ]
    }
   ],
   "source": [
    "# Cancer Pathways\n",
    "\n",
    "# Metabolic Pathways\n",
    "\n",
    "# Immune Response Pathways\n",
    "\n",
    "# Signal Transduction Pathways\n",
    "\n",
    "# Neurodegenerative Pathways\n",
    "\n",
    "# Create a DataFrame from the list\n",
    "df = pd.DataFrame(data_rows, columns=['pathway', 'genes'])\n",
    "\n",
    "# Step 1: Initial categorization for 'cancer' and 'tumor'\n",
    "df['category'] = df['pathway'].apply(lambda x: 'cancer' if 'cancer' in x.lower() or 'tumor' in x.lower() else None)\n",
    "\n",
    "# Step 2: Additional categorization for 'immune'\n",
    "df['category'] = df.apply(lambda x: 'immune' if 'inflammatory' in x['pathway'].lower() and x['category'] is None else x['category'], axis=1)\n",
    "\n",
    "empty_categories = df[df['category'].isna()]\n",
    "\n",
    "print(f\"Number of empty categories: {len(empty_categories)}\")\n",
    "\n",
    "print(empty_categories[\"pathway\"][:20])\n",
    "\n",
    "# Display the updated DataFrame\n",
    "print(df)"
   ]
  },
  {
   "cell_type": "code",
   "execution_count": 75,
   "metadata": {},
   "outputs": [
    {
     "name": "stdout",
     "output_type": "stream",
     "text": [
      "The function of GABBR1 is: androgen receptor\n"
     ]
    }
   ],
   "source": [
    "from Bio import Entrez\n",
    "\n",
    "def get_gene_function(gene_name):\n",
    "    Entrez.email = \"richard_huang@ucsb.edu\"  # Always set your email for NCBI queries\n",
    "    handle = Entrez.esearch(db=\"gene\", term=gene_name, retmax=1)\n",
    "    record = Entrez.read(handle)\n",
    "    gene_id = record['IdList'][0]  # Get the first gene ID\n",
    "    \n",
    "    handle = Entrez.esummary(db=\"gene\", id=gene_id)\n",
    "    summary = Entrez.read(handle)\n",
    "    \n",
    "    # Extracting the gene description (function)\n",
    "    description = summary['DocumentSummarySet'][\"DocumentSummary\"][0][\"Description\"]\n",
    "    return description\n",
    "\n",
    "# Example Usage\n",
    "gene_name = \"GABBR1\"\n",
    "gene_function = get_gene_function(gene_name)\n",
    "print(f\"The function of {gene_name} is: {gene_function}\")\n"
   ]
  }
 ],
 "metadata": {
  "kernelspec": {
   "display_name": "datatestingvenv",
   "language": "python",
   "name": "python3"
  },
  "language_info": {
   "codemirror_mode": {
    "name": "ipython",
    "version": 3
   },
   "file_extension": ".py",
   "mimetype": "text/x-python",
   "name": "python",
   "nbconvert_exporter": "python",
   "pygments_lexer": "ipython3",
   "version": "3.7.0"
  }
 },
 "nbformat": 4,
 "nbformat_minor": 2
}
