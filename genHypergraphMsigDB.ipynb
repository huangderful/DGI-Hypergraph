{
 "cells": [
  {
   "cell_type": "code",
   "execution_count": 1,
   "metadata": {},
   "outputs": [
    {
     "name": "stderr",
     "output_type": "stream",
     "text": [
      "c:\\Users\\richa\\Desktop\\CodingWorkspaces\\DGI-Hypergraph\\datatestingvenv\\lib\\site-packages\\IPython\\core\\interactiveshell.py:3258: DtypeWarning: Columns (2,4,6,8,9,10) have mixed types.Specify dtype option on import or set low_memory=False.\n",
      "  interactivity=interactivity, compiler=compiler, result=result)\n"
     ]
    }
   ],
   "source": [
    "import pandas as pd\n",
    "from scipy.sparse import dok_matrix, save_npz\n",
    "from tqdm import tqdm\n",
    "tqdm.pandas()  # Enable tqdm for pandas\n",
    "import json\n",
    "MSIGDB_PATH = \"Data/MSigDB/c2.all.v2024.1.Hs.json\"\n",
    "with open(MSIGDB_PATH, 'r') as file:\n",
    "    MSIGDB = json.load(file)\n",
    "DDDB_PATH = \"./Data/DDDB/NIHMS851432-supplement-1.csv\"\n",
    "DDDB = pd.read_csv(DDDB_PATH)\n",
    "NCBI_PATH = \"./Data/ncbi/gene2refseq.gz\"\n",
    "NCBI_INFO = pd.read_csv(NCBI_PATH, sep='\\t', compression='gzip')"
   ]
  },
  {
   "cell_type": "code",
   "execution_count": 2,
   "metadata": {},
   "outputs": [
    {
     "name": "stdout",
     "output_type": "stream",
     "text": [
      "['ABCB1', 'ABCC4', 'ABCD3', 'ABHD4', 'ABRAXAS2', 'ACAP2', 'ACBD3', 'ACER3', 'ACKR3', 'ACSL1', 'ACTR3', 'ADI1', 'AFG3L2', 'AFTPH', 'AGFG1', 'AHCYL1', 'AHSA1', 'AIDA', 'AIFM2', 'AIRIM', 'AK4', 'AKR1B10', 'AKR1C1', 'AKR1C2', 'AKR1C3', 'ALDH1L2', 'ALDH2', 'AMFR', 'ANKRD42', 'ANXA5', 'ANXA7', 'AP3S2', 'APCDD1L-DT', 'ARCN1', 'ARFGEF1', 'ARL5A', 'ARL8B', 'ARMT1', 'ARPC2', 'ARRDC4', 'ASAP2', 'ASF1A', 'ASNS', 'ASPH', 'ATMIN', 'ATP10D', 'ATP11B', 'ATP1A3', 'ATXN10', 'AVEN', 'B3GALNT2', 'B4GALNT1', 'BACH1', 'BAG2', 'BAG3', 'BCAP31', 'BCL2L13', 'BLOC1S5-TXNDC5', 'BLTP3B', 'BMP6', 'BPNT2', 'BRAP', 'BRD7', 'BTBD10', 'C22orf23', 'CALU', 'CANX', 'CARS1', 'CBFB', 'CBR1', 'CCDC47', 'CCDC59', 'CCSAP', 'CCT5', 'CCT6A', 'CCT7', 'CD44', 'CDC123', 'CEBPG', 'CEP20', 'CEP290', 'CEP85', 'CFAP97', 'CLCC1', 'CLIC4', 'CLINT1', 'CLIP1', 'CLIP4', 'CLU', 'CMAS', 'CMPK1', 'CORO1C', 'CSDE1', 'CSGALNACT2', 'CSNK1A1', 'CSNK1G3', 'CSNK2A2', 'CTBS', 'CTNNBL1', 'CTSL', 'CUL1', 'CUL2', 'CUL3', 'DCTN4', 'DDX21', 'DENR', 'DESI1', 'DESI2', 'DGKG', 'DKC1', 'DNAJA1', 'DNAJB11', 'DNAJB4', 'DNAJB9', 'DNAJC10', 'DNAJC3', 'DNAJC7', 'DNTTIP2', 'DYNC1LI1', 'E2F6', 'EARS2', 'EDEM3', 'EID3', 'EIF2A', 'EIF2S2', 'EIF3D', 'EIF3J', 'EIF4G2', 'EIF5', 'ENOX2', 'ENTPD7', 'EPB41L4B', 'EPDR1', 'ERI1', 'ERO1A', 'ERP44', 'ESF1', 'ETF1', 'ETFDH', 'ETV5', 'EXOSC3', 'F2RL2', 'FAF2', 'FAM91A1', 'FBXO28', 'FBXO30', 'FBXW10', 'FECH', 'FERMT2', 'FKBP14', 'FNDC3A', 'FOSL1', 'FTH1', 'FTL', 'FUBP3', 'FXR1', 'FXR2', 'FYTTD1', 'G6PD', 'GABARAPL1', 'GABPB1', 'GALNT1', 'GARS1', 'GBE1', 'GCLC', 'GCLM', 'GFM1', 'GFPT1', 'GFPT2', 'GGNBP2', 'GHITM', 'GLA', 'GNA13', 'GNAI3', 'GNPDA1', 'GOLGA4', 'GOLM2', 'GPAT3', 'GPATCH2L', 'GPR89A', 'GSR', 'GTF2E2', 'GTF3C3', 'HBS1L', 'HKDC1', 'HMOX1', 'HPD', 'HSP90AB1', 'HSP90B1', 'HSPA13', 'HSPA4', 'HSPA5', 'HSPA8', 'HSPA9', 'HSPB8', 'HTATIP2', 'IDE', 'IDH3A', 'IDS', 'IFRD1', 'IKBKG', 'IL27RA', 'IL6R', 'ISY1', 'ITCH', 'KCMF1', 'KCTD20', 'KEAP1', 'KIAA0232', 'KIAA1191', 'KIF14', 'KIF21A', 'KIF2A', 'KIF3B', 'KIF5B', 'KPNA1', 'KPNA4', 'KTN1', 'LIFR', 'LINC00942', 'LMAN1', 'LPGAT1', 'LRP12', 'LRP8', 'LRRFIP2', 'LSG1', 'LUCAT1', 'LYAR', 'M6PR', 'MAFG', 'MAK16', 'MAN1A2', 'MANF', 'MAP1A', 'MAP2', 'MAPK6', 'MAPRE1', 'MARS1', 'MCUR1', 'ME1', 'MEF2A', 'MERTK', 'METAP2', 'MFAP3', 'MFSD12', 'MGST1', 'MICU2', 'MIER3', 'MLH3', 'MORC4', 'MORF4L1', 'MRNIP', 'MROH7-TTC4', 'MRPS30', 'MSANTD3', 'MSN', 'MTDH', 'MTHFD2', 'MTIF2', 'MTMR12', 'MTPN', 'MYC', 'NAA30', 'NAA50', 'NARS1', 'NBN', 'NCKAP1', 'NCL', 'NCOA3', 'NCOA7', 'NECAB3', 'NEK4', 'NFE2L2', 'NIPA2', 'NLN', 'NOCT', 'NOL10', 'NOLC1', 'NQO1', 'NQO2', 'NR0B1', 'NRCAM', 'NRG1', 'NSUN2', 'NSUN3', 'NUCB2', 'NUFIP2', 'NUMB', 'NUP153', 'NUP43', 'NXPE3', 'ODC1', 'OPA1', 'OSBPL11', 'OSGIN1', 'OTULIN', 'OXCT1', 'PACC1', 'PAFAH1B2', 'PAPOLA', 'PDIA3', 'PEA15', 'PELO', 'PEX19', 'PGD', 'PGGT1B', 'PHAX', 'PHC1', 'PIP5K1A', 'PIR', 'PITHD1', 'PITPNB', 'PLAA', 'PNPLA8', 'PPIL4', 'PPM1B', 'PPP1R15A', 'PPP2CA', 'PPP2CB', 'PPP3R1', 'PPP4R3B', 'PPT1', 'PRDX1', 'PRDX6', 'PRECSIT', 'PREPL', 'PRKAR1A', 'PRKCI', 'PRPF18', 'PRPF40A', 'PSMC1', 'PSMD11', 'PSMD12', 'PTDSS1', 'PTP4A2', 'RAB10', 'RAB14', 'RAB18', 'RAB1A', 'RAB21', 'RAB5IF', 'RABEP1', 'RANBP9', 'RARS1', 'RB1CC1', 'RBM19', 'RBM27', 'RCN1', 'REPS1', 'RFFL', 'RFLNB', 'RGS20', 'RIMOC1', 'RIT1', 'RNF10', 'RNF11', 'RNF216', 'RNF6', 'RNF8', 'RPAP3', 'RPL7L1', 'RPS6KB1', 'RPS6KC1', 'RRAGD', 'RRAS2', 'RTN4', 'RUSC2', 'RWDD2B', 'RXYLT1', 'SAMD8', 'SARAF', 'SCCPDH', 'SCFD1', 'SDCBP', 'SDE2', 'SEC23B', 'SEH1L', 'SEL1L3', 'SENP2', 'SERINC3', 'SERP1', 'SERPINE2', 'SET', 'SFMBT1', 'SGTB', 'SHC1', 'SLC12A8', 'SLC16A1', 'SLC16A7', 'SLC1A4', 'SLC1A5', 'SLC25A32', 'SLC30A5', 'SLC30A6', 'SLC35F2', 'SLC38A6', 'SLC39A14', 'SLC39A6', 'SLC3A2', 'SLC41A2', 'SLC48A1', 'SLC6A15', 'SLC7A11', 'SLC7A11-AS1', 'SLC7A5', 'SLCO2B1', 'SLTM', 'SLU7', 'SMG8', 'SNAPC3', 'SNW1', 'SPANXA2', 'SPART', 'SPATS2', 'SPCS2', 'SPP1', 'SPTY2D1', 'SPX', 'SQSTM1', 'SRP54', 'SRP72', 'SRPRB', 'SRPX2', 'SRXN1', 'SSB', 'SSR1', 'STARD7', 'STAU2', 'STIP1', 'STK24', 'STK40', 'STRN3', 'STT3B', 'STX3', 'STYK1', 'SUCO', 'SULT1A1', 'SUPV3L1', 'SUZ12', 'SYNJ2', 'SYT2', 'TAF4B', 'TAF5', 'TALDO1', 'TARS1', 'TBK1', 'TFE3', 'TFRC', 'TGS1', 'TICAM2', 'TIMM17A', 'TLK2', 'TLR1', 'TM9SF2', 'TM9SF3', 'TMBIM6', 'TMED10', 'TMED2', 'TMED5', 'TMED7', 'TMEM168', 'TMEM209', 'TMEM33', 'TMEM39A', 'TMEM87A', 'TMOD3', 'TMT1B', 'TMTC1', 'TNFRSF12A', 'TNFRSF1A', 'TNIP3', 'TOMM34', 'TOR1AIP2', 'TOR1B', 'TRIB3', 'TRIM16', 'TRIM16L', 'TRIM4', 'TRIM44', 'TRIM54', 'TSR1', 'TTC17', 'TUBA4A', 'TUBB3', 'TVP23C', 'TWSG1', 'TXNRD1', 'TYW3', 'UBA6-DT', 'UBC', 'UBE2K', 'UBQLN1', 'UCK2', 'UGDH', 'UNKL', 'USO1', 'USP10', 'USP38', 'USP46', 'UTP15', 'VAMP7', 'VDAC1', 'VDAC2', 'VEZT', 'VPS35', 'VPS41', 'VPS54', 'WARS1', 'WASHC2A', 'WASHC2C', 'WDR26', 'WDR43', 'WWP1', 'XPOT', 'YARS1', 'YES1', 'YIPF6', 'YME1L1', 'YWHAB', 'ZBTB20', 'ZBTB41', 'ZDHHC18', 'ZEB1', 'ZNF148', 'ZNF189', 'ZNF330', 'ZNF426', 'ZNF678', 'ZNF697', 'ZNG1B', 'ZPR1', 'ZRANB2', 'ZZZ3']\n"
     ]
    }
   ],
   "source": [
    "pathway_to_genes = {pathway: data[\"geneSymbols\"] for pathway, data in MSIGDB.items()}\n",
    "print(pathway_to_genes[\"IBRAHIM_NRF2_UP\"])"
   ]
  },
  {
   "cell_type": "code",
   "execution_count": 6,
   "metadata": {},
   "outputs": [
    {
     "name": "stdout",
     "output_type": "stream",
     "text": [
      "NCBI Gene ID for A1BG: 1\n"
     ]
    }
   ],
   "source": [
    "# Filter for Homo sapiens genes (tax_id = 9606)\n",
    "human_gene2refseq = NCBI_INFO[NCBI_INFO['#tax_id'] == 9606]\n",
    "\n",
    "# Create a mapping from gene claim names (Symbol) to NCBI gene IDs (GeneID)\n",
    "gene_claim_to_id = pd.Series(human_gene2refseq.GeneID.values, index=human_gene2refseq.Symbol).to_dict()\n",
    "gene_claim_name = \"A1BG\"\n",
    "ncbi_gene_id = gene_claim_to_id.get(gene_claim_name, \"Gene name not found\")\n",
    "print(f\"NCBI Gene ID for {gene_claim_name}: {ncbi_gene_id}\")"
   ]
  },
  {
   "cell_type": "code",
   "execution_count": 4,
   "metadata": {},
   "outputs": [],
   "source": [
    "def get_ncbi_gene_id(gene_claim_name):\n",
    "    return gene_claim_to_id.get(gene_claim_name, None)"
   ]
  },
  {
   "cell_type": "code",
   "execution_count": 5,
   "metadata": {},
   "outputs": [
    {
     "name": "stdout",
     "output_type": "stream",
     "text": [
      "JSON file 'pathway_to_ncbi_ids.json' has been created successfully!\n"
     ]
    }
   ],
   "source": [
    "import json\n",
    "\n",
    "# Initialize the new dictionary\n",
    "pathway_to_ncbi_ids = {}\n",
    "\n",
    "# Iterate through each pathway and gene symbols\n",
    "for pathway, gene_symbols in pathway_to_genes.items():\n",
    "    ncbi_ids = [get_ncbi_gene_id(gene) for gene in gene_symbols]\n",
    "    # Filter out any None values if gene symbol was not found in the mapping\n",
    "    ncbi_ids = [ncbi_id for ncbi_id in ncbi_ids if ncbi_id is not None]\n",
    "    pathway_to_ncbi_ids[pathway] = ncbi_ids\n",
    "\n",
    "# Save the new dictionary to a JSON file\n",
    "with open('pathway_to_ncbi_ids.json', 'w') as json_file:\n",
    "    json.dump(pathway_to_ncbi_ids, json_file, indent=4)\n",
    "\n",
    "print(\"JSON file 'pathway_to_ncbi_ids.json' has been created successfully!\")\n"
   ]
  },
  {
   "cell_type": "code",
   "execution_count": 7,
   "metadata": {},
   "outputs": [
    {
     "name": "stdout",
     "output_type": "stream",
     "text": [
      "Binary incidence matrix saved as 'hypergraph_incidence_matrix_msigdb_using_dict_with_missing_genes.npz'.\n"
     ]
    }
   ],
   "source": [
    "from scipy.sparse import dok_matrix, save_npz\n",
    "import pandas as pd\n",
    "import numpy as np\n",
    "with open(\"./Data/MSigDB/converted/v3_pathway.json\", \"r\") as f:\n",
    "    pathway_data = json.load(f)\n",
    "# Get unique genes and pathways\n",
    "# Ensure all gene IDs are strings\n",
    "pathway_data = {pathway: [str(gene) for gene in genes] for pathway, genes in pathway_data.items()}\n",
    "\n",
    "# Get unique genes and pathways\n",
    "genes = sorted(set(gene for genes in pathway_data.values() for gene in genes))\n",
    "pathways = list(pathway_data.keys())\n",
    "\n",
    "# Create mappings\n",
    "gene_to_index = {gene: i for i, gene in enumerate(genes)}\n",
    "pathway_to_index = {pathway: j for j, pathway in enumerate(pathways)}\n",
    "\n",
    "# Initialize DOK matrix\n",
    "binary_incidence_matrix = dok_matrix((len(genes), len(pathways)), dtype=np.int8)\n",
    "\n",
    "# Populate the matrix\n",
    "for pathway, gene_list in pathway_data.items():\n",
    "    j = pathway_to_index[pathway]  # Column index for pathway\n",
    "    for gene in gene_list:\n",
    "        i = gene_to_index[gene]  # Row index for gene\n",
    "        binary_incidence_matrix[i, j] = 1  # Binary presence\n",
    "\n",
    "# Convert to CSR format for efficiency\n",
    "binary_csr_matrix = binary_incidence_matrix.tocsr()\n",
    "\n",
    "# Save the matrix\n",
    "save_npz(\"hypergraph_incidence_matrix_msigdb_using_dict_with_missing_genes.npz\", binary_csr_matrix)\n",
    "\n",
    "# Print confirmation\n",
    "print(\"Binary incidence matrix saved as 'hypergraph_incidence_matrix_msigdb_using_dict_with_missing_genes.npz'.\")"
   ]
  },
  {
   "cell_type": "code",
   "execution_count": 8,
   "metadata": {},
   "outputs": [
    {
     "name": "stdout",
     "output_type": "stream",
     "text": [
      "  (11579, 0)\t1\n",
      "  (15659, 0)\t1\n",
      "  (8820, 0)\t1\n",
      "  (1485, 0)\t1\n",
      "  (20736, 0)\t1\n",
      "  (15975, 1)\t1\n",
      "  (8820, 1)\t1\n",
      "  (15982, 1)\t1\n",
      "  (11873, 1)\t1\n",
      "  (15042, 1)\t1\n",
      "  (3648, 2)\t1\n",
      "  (4332, 2)\t1\n",
      "  (4584, 2)\t1\n",
      "  (10093, 2)\t1\n",
      "  (10953, 2)\t1\n",
      "  (7845, 2)\t1\n",
      "  (3698, 2)\t1\n",
      "  (18103, 2)\t1\n",
      "  (20519, 2)\t1\n",
      "  (5235, 2)\t1\n",
      "  (2784, 2)\t1\n",
      "  (15994, 2)\t1\n",
      "  (8440, 2)\t1\n",
      "  (5246, 2)\t1\n",
      "  (13637, 2)\t1\n",
      "  :\t:\n",
      "  (7170, 7410)\t1\n",
      "  (18262, 7410)\t1\n",
      "  (985, 7410)\t1\n",
      "  (13642, 7410)\t1\n",
      "  (17807, 7410)\t1\n",
      "  (17808, 7410)\t1\n",
      "  (17811, 7410)\t1\n",
      "  (17844, 7410)\t1\n",
      "  (17845, 7410)\t1\n",
      "  (17846, 7410)\t1\n",
      "  (13956, 7410)\t1\n",
      "  (19724, 7410)\t1\n",
      "  (18289, 7410)\t1\n",
      "  (11670, 7410)\t1\n",
      "  (17662, 7410)\t1\n",
      "  (8880, 7410)\t1\n",
      "  (2230, 7410)\t1\n",
      "  (17871, 7410)\t1\n",
      "  (17872, 7410)\t1\n",
      "  (17873, 7410)\t1\n",
      "  (17874, 7410)\t1\n",
      "  (17875, 7410)\t1\n",
      "  (7769, 7410)\t1\n",
      "  (17897, 7410)\t1\n",
      "  (18869, 7410)\t1\n"
     ]
    }
   ],
   "source": [
    "print(binary_incidence_matrix)"
   ]
  },
  {
   "cell_type": "code",
   "execution_count": 9,
   "metadata": {},
   "outputs": [
    {
     "name": "stdout",
     "output_type": "stream",
     "text": [
      "gene_to_index and pathway_to_index have been saved as separate JSON files.\n"
     ]
    }
   ],
   "source": [
    "import json\n",
    "\n",
    "# Create pathway_to_index mapping\n",
    "pathway_to_index = {pathway: idx for idx, pathway in enumerate(pathway_to_genes)}\n",
    "\n",
    "# Save gene_to_index as a separate JSON file\n",
    "with open(\"gene_to_index.json\", \"w\") as gene_json_file:\n",
    "    json.dump(gene_to_index, gene_json_file, indent=4)\n",
    "\n",
    "# Save pathway_to_index as a separate JSON file\n",
    "with open(\"pathway_to_index.json\", \"w\") as pathway_json_file:\n",
    "    json.dump(pathway_to_index, pathway_json_file, indent=4)\n",
    "\n",
    "print(\"gene_to_index and pathway_to_index have been saved as separate JSON files.\")\n"
   ]
  },
  {
   "cell_type": "code",
   "execution_count": 11,
   "metadata": {},
   "outputs": [],
   "source": [
    "HUMANNET_PATH = \"./Data/HumanNet/HumanNet-GSP.tsv\"\n",
    "HUMANNET = pd.read_csv(HUMANNET_PATH, sep=\"\\t\")"
   ]
  },
  {
   "cell_type": "code",
   "execution_count": 12,
   "metadata": {},
   "outputs": [
    {
     "name": "stdout",
     "output_type": "stream",
     "text": [
      "Weighted incidence matrix saved as 'hypergraph_weighted_incidence_matrix.npz'.\n"
     ]
    }
   ],
   "source": [
    "from scipy.sparse import dok_matrix, save_npz\n",
    "import pandas as pd\n",
    "\n",
    "# Calculate gene degrees in HumanNet\n",
    "genes_in_humannet = pd.unique(HUMANNET[['Gene1', 'Gene2']].values.ravel())\n",
    "gene_to_degree = {gene: 0 for gene in genes_in_humannet}\n",
    "\n",
    "for _, row in HUMANNET.iterrows():\n",
    "    gene_to_degree[row[\"Gene1\"]] += 1\n",
    "    gene_to_degree[row[\"Gene2\"]] += 1\n",
    "\n",
    "# Initialize a sparse incidence matrix\n",
    "weighted_incidence_matrix = dok_matrix((len(genes), len(pathways)), dtype=float)\n",
    "\n",
    "# Populate the incidence matrix with degree as weight\n",
    "for pathway, gene_list in pathway_data.items():\n",
    "    j = pathway_to_index[pathway]  # Column index for pathway\n",
    "    \n",
    "    # Assign degree as weight to all involved genes\n",
    "    for gene in gene_list:\n",
    "        if gene in gene_to_index:\n",
    "            i = gene_to_index[gene]  # Row index for gene\n",
    "            degree = gene_to_degree.get(gene, 0.01)  # Fallback to 0.01 if gene is missing\n",
    "            weighted_incidence_matrix[i, j] = degree\n",
    "\n",
    "# Convert to CSR format for efficiency\n",
    "weighted_csr_matrix = weighted_incidence_matrix.tocsr()\n",
    "\n",
    "# Save the matrix as .npz file\n",
    "save_npz(\"hypergraph_weighted_incidence_matrix.npz\", weighted_csr_matrix)\n",
    "\n",
    "# Print confirmation\n",
    "print(\"Weighted incidence matrix saved as 'hypergraph_weighted_incidence_matrix.npz'.\")\n"
   ]
  },
  {
   "cell_type": "code",
   "execution_count": 13,
   "metadata": {},
   "outputs": [
    {
     "name": "stdout",
     "output_type": "stream",
     "text": [
      "  (11579, 0)\t0.01\n",
      "  (15659, 0)\t0.01\n",
      "  (8820, 0)\t0.01\n",
      "  (1485, 0)\t0.01\n",
      "  (20736, 0)\t0.01\n",
      "  (15975, 1)\t0.01\n",
      "  (8820, 1)\t0.01\n",
      "  (15982, 1)\t0.01\n",
      "  (11873, 1)\t0.01\n",
      "  (15042, 1)\t0.01\n",
      "  (3648, 2)\t0.01\n",
      "  (4332, 2)\t0.01\n",
      "  (4584, 2)\t0.01\n",
      "  (10093, 2)\t0.01\n",
      "  (10953, 2)\t0.01\n",
      "  (7845, 2)\t0.01\n",
      "  (3698, 2)\t0.01\n",
      "  (18103, 2)\t0.01\n",
      "  (20519, 2)\t0.01\n",
      "  (5235, 2)\t0.01\n",
      "  (2784, 2)\t0.01\n",
      "  (15994, 2)\t0.01\n",
      "  (8440, 2)\t0.01\n",
      "  (5246, 2)\t0.01\n",
      "  (13637, 2)\t0.01\n",
      "  :\t:\n",
      "  (7170, 7410)\t0.01\n",
      "  (18262, 7410)\t0.01\n",
      "  (985, 7410)\t0.01\n",
      "  (13642, 7410)\t0.01\n",
      "  (17807, 7410)\t0.01\n",
      "  (17808, 7410)\t0.01\n",
      "  (17811, 7410)\t0.01\n",
      "  (17844, 7410)\t0.01\n",
      "  (17845, 7410)\t0.01\n",
      "  (17846, 7410)\t0.01\n",
      "  (13956, 7410)\t0.01\n",
      "  (19724, 7410)\t0.01\n",
      "  (18289, 7410)\t0.01\n",
      "  (11670, 7410)\t0.01\n",
      "  (17662, 7410)\t0.01\n",
      "  (8880, 7410)\t0.01\n",
      "  (2230, 7410)\t0.01\n",
      "  (17871, 7410)\t0.01\n",
      "  (17872, 7410)\t0.01\n",
      "  (17873, 7410)\t0.01\n",
      "  (17874, 7410)\t0.01\n",
      "  (17875, 7410)\t0.01\n",
      "  (7769, 7410)\t0.01\n",
      "  (17897, 7410)\t0.01\n",
      "  (18869, 7410)\t0.01\n"
     ]
    }
   ],
   "source": [
    "print(weighted_incidence_matrix)"
   ]
  }
 ],
 "metadata": {
  "kernelspec": {
   "display_name": "datatestingvenv",
   "language": "python",
   "name": "python3"
  },
  "language_info": {
   "codemirror_mode": {
    "name": "ipython",
    "version": 3
   },
   "file_extension": ".py",
   "mimetype": "text/x-python",
   "name": "python",
   "nbconvert_exporter": "python",
   "pygments_lexer": "ipython3",
   "version": "3.7.0"
  }
 },
 "nbformat": 4,
 "nbformat_minor": 2
}
