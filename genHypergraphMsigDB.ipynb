{
 "cells": [
  {
   "cell_type": "code",
   "execution_count": 1,
   "metadata": {},
   "outputs": [
    {
     "name": "stderr",
     "output_type": "stream",
     "text": [
      "c:\\Users\\richa\\Desktop\\CodingWorkspaces\\DGI-Hypergraph\\datatestingvenv\\lib\\site-packages\\IPython\\core\\interactiveshell.py:3258: DtypeWarning: Columns (2,4,6,8,9,10) have mixed types.Specify dtype option on import or set low_memory=False.\n",
      "  interactivity=interactivity, compiler=compiler, result=result)\n"
     ]
    }
   ],
   "source": [
    "import pandas as pd\n",
    "from scipy.sparse import dok_matrix, save_npz\n",
    "from tqdm import tqdm\n",
    "tqdm.pandas()  # Enable tqdm for pandas\n",
    "import json\n",
    "MSIGDB_PATH = \"Data/MSigDB/c2.all.v2024.1.Hs.json\"\n",
    "with open(MSIGDB_PATH, 'r') as file:\n",
    "    MSIGDB = json.load(file)\n",
    "DDDB_PATH = \"./Data/DDDB/NIHMS851432-supplement-1.csv\"\n",
    "DDDB = pd.read_csv(DDDB_PATH)\n",
    "NCBI_PATH = \"./Data/ncbi/gene2refseq.gz\"\n",
    "NCBI_INFO = pd.read_csv(NCBI_PATH, sep='\\t', compression='gzip')"
   ]
  },
  {
   "cell_type": "code",
   "execution_count": 5,
   "metadata": {},
   "outputs": [
    {
     "name": "stdout",
     "output_type": "stream",
     "text": [
      "['ABCB1', 'ABCC4', 'ABCD3', 'ABHD4', 'ABRAXAS2', 'ACAP2', 'ACBD3', 'ACER3', 'ACKR3', 'ACSL1', 'ACTR3', 'ADI1', 'AFG3L2', 'AFTPH', 'AGFG1', 'AHCYL1', 'AHSA1', 'AIDA', 'AIFM2', 'AIRIM', 'AK4', 'AKR1B10', 'AKR1C1', 'AKR1C2', 'AKR1C3', 'ALDH1L2', 'ALDH2', 'AMFR', 'ANKRD42', 'ANXA5', 'ANXA7', 'AP3S2', 'APCDD1L-DT', 'ARCN1', 'ARFGEF1', 'ARL5A', 'ARL8B', 'ARMT1', 'ARPC2', 'ARRDC4', 'ASAP2', 'ASF1A', 'ASNS', 'ASPH', 'ATMIN', 'ATP10D', 'ATP11B', 'ATP1A3', 'ATXN10', 'AVEN', 'B3GALNT2', 'B4GALNT1', 'BACH1', 'BAG2', 'BAG3', 'BCAP31', 'BCL2L13', 'BLOC1S5-TXNDC5', 'BLTP3B', 'BMP6', 'BPNT2', 'BRAP', 'BRD7', 'BTBD10', 'C22orf23', 'CALU', 'CANX', 'CARS1', 'CBFB', 'CBR1', 'CCDC47', 'CCDC59', 'CCSAP', 'CCT5', 'CCT6A', 'CCT7', 'CD44', 'CDC123', 'CEBPG', 'CEP20', 'CEP290', 'CEP85', 'CFAP97', 'CLCC1', 'CLIC4', 'CLINT1', 'CLIP1', 'CLIP4', 'CLU', 'CMAS', 'CMPK1', 'CORO1C', 'CSDE1', 'CSGALNACT2', 'CSNK1A1', 'CSNK1G3', 'CSNK2A2', 'CTBS', 'CTNNBL1', 'CTSL', 'CUL1', 'CUL2', 'CUL3', 'DCTN4', 'DDX21', 'DENR', 'DESI1', 'DESI2', 'DGKG', 'DKC1', 'DNAJA1', 'DNAJB11', 'DNAJB4', 'DNAJB9', 'DNAJC10', 'DNAJC3', 'DNAJC7', 'DNTTIP2', 'DYNC1LI1', 'E2F6', 'EARS2', 'EDEM3', 'EID3', 'EIF2A', 'EIF2S2', 'EIF3D', 'EIF3J', 'EIF4G2', 'EIF5', 'ENOX2', 'ENTPD7', 'EPB41L4B', 'EPDR1', 'ERI1', 'ERO1A', 'ERP44', 'ESF1', 'ETF1', 'ETFDH', 'ETV5', 'EXOSC3', 'F2RL2', 'FAF2', 'FAM91A1', 'FBXO28', 'FBXO30', 'FBXW10', 'FECH', 'FERMT2', 'FKBP14', 'FNDC3A', 'FOSL1', 'FTH1', 'FTL', 'FUBP3', 'FXR1', 'FXR2', 'FYTTD1', 'G6PD', 'GABARAPL1', 'GABPB1', 'GALNT1', 'GARS1', 'GBE1', 'GCLC', 'GCLM', 'GFM1', 'GFPT1', 'GFPT2', 'GGNBP2', 'GHITM', 'GLA', 'GNA13', 'GNAI3', 'GNPDA1', 'GOLGA4', 'GOLM2', 'GPAT3', 'GPATCH2L', 'GPR89A', 'GSR', 'GTF2E2', 'GTF3C3', 'HBS1L', 'HKDC1', 'HMOX1', 'HPD', 'HSP90AB1', 'HSP90B1', 'HSPA13', 'HSPA4', 'HSPA5', 'HSPA8', 'HSPA9', 'HSPB8', 'HTATIP2', 'IDE', 'IDH3A', 'IDS', 'IFRD1', 'IKBKG', 'IL27RA', 'IL6R', 'ISY1', 'ITCH', 'KCMF1', 'KCTD20', 'KEAP1', 'KIAA0232', 'KIAA1191', 'KIF14', 'KIF21A', 'KIF2A', 'KIF3B', 'KIF5B', 'KPNA1', 'KPNA4', 'KTN1', 'LIFR', 'LINC00942', 'LMAN1', 'LPGAT1', 'LRP12', 'LRP8', 'LRRFIP2', 'LSG1', 'LUCAT1', 'LYAR', 'M6PR', 'MAFG', 'MAK16', 'MAN1A2', 'MANF', 'MAP1A', 'MAP2', 'MAPK6', 'MAPRE1', 'MARS1', 'MCUR1', 'ME1', 'MEF2A', 'MERTK', 'METAP2', 'MFAP3', 'MFSD12', 'MGST1', 'MICU2', 'MIER3', 'MLH3', 'MORC4', 'MORF4L1', 'MRNIP', 'MROH7-TTC4', 'MRPS30', 'MSANTD3', 'MSN', 'MTDH', 'MTHFD2', 'MTIF2', 'MTMR12', 'MTPN', 'MYC', 'NAA30', 'NAA50', 'NARS1', 'NBN', 'NCKAP1', 'NCL', 'NCOA3', 'NCOA7', 'NECAB3', 'NEK4', 'NFE2L2', 'NIPA2', 'NLN', 'NOCT', 'NOL10', 'NOLC1', 'NQO1', 'NQO2', 'NR0B1', 'NRCAM', 'NRG1', 'NSUN2', 'NSUN3', 'NUCB2', 'NUFIP2', 'NUMB', 'NUP153', 'NUP43', 'NXPE3', 'ODC1', 'OPA1', 'OSBPL11', 'OSGIN1', 'OTULIN', 'OXCT1', 'PACC1', 'PAFAH1B2', 'PAPOLA', 'PDIA3', 'PEA15', 'PELO', 'PEX19', 'PGD', 'PGGT1B', 'PHAX', 'PHC1', 'PIP5K1A', 'PIR', 'PITHD1', 'PITPNB', 'PLAA', 'PNPLA8', 'PPIL4', 'PPM1B', 'PPP1R15A', 'PPP2CA', 'PPP2CB', 'PPP3R1', 'PPP4R3B', 'PPT1', 'PRDX1', 'PRDX6', 'PRECSIT', 'PREPL', 'PRKAR1A', 'PRKCI', 'PRPF18', 'PRPF40A', 'PSMC1', 'PSMD11', 'PSMD12', 'PTDSS1', 'PTP4A2', 'RAB10', 'RAB14', 'RAB18', 'RAB1A', 'RAB21', 'RAB5IF', 'RABEP1', 'RANBP9', 'RARS1', 'RB1CC1', 'RBM19', 'RBM27', 'RCN1', 'REPS1', 'RFFL', 'RFLNB', 'RGS20', 'RIMOC1', 'RIT1', 'RNF10', 'RNF11', 'RNF216', 'RNF6', 'RNF8', 'RPAP3', 'RPL7L1', 'RPS6KB1', 'RPS6KC1', 'RRAGD', 'RRAS2', 'RTN4', 'RUSC2', 'RWDD2B', 'RXYLT1', 'SAMD8', 'SARAF', 'SCCPDH', 'SCFD1', 'SDCBP', 'SDE2', 'SEC23B', 'SEH1L', 'SEL1L3', 'SENP2', 'SERINC3', 'SERP1', 'SERPINE2', 'SET', 'SFMBT1', 'SGTB', 'SHC1', 'SLC12A8', 'SLC16A1', 'SLC16A7', 'SLC1A4', 'SLC1A5', 'SLC25A32', 'SLC30A5', 'SLC30A6', 'SLC35F2', 'SLC38A6', 'SLC39A14', 'SLC39A6', 'SLC3A2', 'SLC41A2', 'SLC48A1', 'SLC6A15', 'SLC7A11', 'SLC7A11-AS1', 'SLC7A5', 'SLCO2B1', 'SLTM', 'SLU7', 'SMG8', 'SNAPC3', 'SNW1', 'SPANXA2', 'SPART', 'SPATS2', 'SPCS2', 'SPP1', 'SPTY2D1', 'SPX', 'SQSTM1', 'SRP54', 'SRP72', 'SRPRB', 'SRPX2', 'SRXN1', 'SSB', 'SSR1', 'STARD7', 'STAU2', 'STIP1', 'STK24', 'STK40', 'STRN3', 'STT3B', 'STX3', 'STYK1', 'SUCO', 'SULT1A1', 'SUPV3L1', 'SUZ12', 'SYNJ2', 'SYT2', 'TAF4B', 'TAF5', 'TALDO1', 'TARS1', 'TBK1', 'TFE3', 'TFRC', 'TGS1', 'TICAM2', 'TIMM17A', 'TLK2', 'TLR1', 'TM9SF2', 'TM9SF3', 'TMBIM6', 'TMED10', 'TMED2', 'TMED5', 'TMED7', 'TMEM168', 'TMEM209', 'TMEM33', 'TMEM39A', 'TMEM87A', 'TMOD3', 'TMT1B', 'TMTC1', 'TNFRSF12A', 'TNFRSF1A', 'TNIP3', 'TOMM34', 'TOR1AIP2', 'TOR1B', 'TRIB3', 'TRIM16', 'TRIM16L', 'TRIM4', 'TRIM44', 'TRIM54', 'TSR1', 'TTC17', 'TUBA4A', 'TUBB3', 'TVP23C', 'TWSG1', 'TXNRD1', 'TYW3', 'UBA6-DT', 'UBC', 'UBE2K', 'UBQLN1', 'UCK2', 'UGDH', 'UNKL', 'USO1', 'USP10', 'USP38', 'USP46', 'UTP15', 'VAMP7', 'VDAC1', 'VDAC2', 'VEZT', 'VPS35', 'VPS41', 'VPS54', 'WARS1', 'WASHC2A', 'WASHC2C', 'WDR26', 'WDR43', 'WWP1', 'XPOT', 'YARS1', 'YES1', 'YIPF6', 'YME1L1', 'YWHAB', 'ZBTB20', 'ZBTB41', 'ZDHHC18', 'ZEB1', 'ZNF148', 'ZNF189', 'ZNF330', 'ZNF426', 'ZNF678', 'ZNF697', 'ZNG1B', 'ZPR1', 'ZRANB2', 'ZZZ3']\n"
     ]
    }
   ],
   "source": [
    "pathway_to_genes = {pathway: data[\"geneSymbols\"] for pathway, data in MSIGDB.items()}\n",
    "print(pathway_to_genes[\"IBRAHIM_NRF2_UP\"])"
   ]
  },
  {
   "cell_type": "code",
   "execution_count": 6,
   "metadata": {},
   "outputs": [
    {
     "name": "stdout",
     "output_type": "stream",
     "text": [
      "NCBI Gene ID for TP53: 7157\n"
     ]
    }
   ],
   "source": [
    "# Filter for Homo sapiens genes (tax_id = 9606)\n",
    "human_gene2refseq = NCBI_INFO[NCBI_INFO['#tax_id'] == 9606]\n",
    "\n",
    "# Create a mapping from gene claim names (Symbol) to NCBI gene IDs (GeneID)\n",
    "gene_claim_to_id = pd.Series(human_gene2refseq.GeneID.values, index=human_gene2refseq.Symbol).to_dict()\n",
    "gene_claim_name = \"TP53\"\n",
    "ncbi_gene_id = gene_claim_to_id.get(gene_claim_name, \"Gene name not found\")\n",
    "print(f\"NCBI Gene ID for {gene_claim_name}: {ncbi_gene_id}\")"
   ]
  },
  {
   "cell_type": "code",
   "execution_count": 4,
   "metadata": {},
   "outputs": [],
   "source": [
    "def get_ncbi_gene_id(gene_claim_name):\n",
    "    return gene_claim_to_id.get(gene_claim_name, None)"
   ]
  },
  {
   "cell_type": "code",
   "execution_count": 7,
   "metadata": {},
   "outputs": [
    {
     "name": "stdout",
     "output_type": "stream",
     "text": [
      "JSON file 'pathway_to_ncbi_ids.json' has been created successfully!\n"
     ]
    }
   ],
   "source": [
    "import json\n",
    "\n",
    "# Initialize the new dictionary\n",
    "pathway_to_ncbi_ids = {}\n",
    "\n",
    "# Iterate through each pathway and gene symbols\n",
    "for pathway, gene_symbols in pathway_to_genes.items():\n",
    "    ncbi_ids = [get_ncbi_gene_id(gene) for gene in gene_symbols]\n",
    "    # Filter out any None values if gene symbol was not found in the mapping\n",
    "    ncbi_ids = [ncbi_id for ncbi_id in ncbi_ids if ncbi_id is not None]\n",
    "    pathway_to_ncbi_ids[pathway] = ncbi_ids\n",
    "\n",
    "# Save the new dictionary to a JSON file\n",
    "with open('pathway_to_ncbi_ids.json', 'w') as json_file:\n",
    "    json.dump(pathway_to_ncbi_ids, json_file, indent=4)\n",
    "\n",
    "print(\"JSON file 'pathway_to_ncbi_ids.json' has been created successfully!\")\n"
   ]
  },
  {
   "cell_type": "code",
   "execution_count": 8,
   "metadata": {},
   "outputs": [
    {
     "name": "stdout",
     "output_type": "stream",
     "text": [
      "['N0000146152' 'N0000147738' 'N0000148257' 'N0000148465' 'N0000148690'\n",
      " 'N0000022085' 'N0000146214' 'N0000146226' 'N0000146247' 'N0000146289'\n",
      " 'N0000147028' 'N0000147608' 'N0000147892' 'N0000148350' 'N0000148390'\n",
      " 'N0000148786']\n"
     ]
    }
   ],
   "source": [
    "ndfrt_values = DDDB.loc[DDDB[\"SNOMED\"] == 13746004, \"NDF-RT\"].to_numpy()\n",
    "print(ndfrt_values)\n"
   ]
  },
  {
   "cell_type": "code",
   "execution_count": 9,
   "metadata": {},
   "outputs": [
    {
     "name": "stdout",
     "output_type": "stream",
     "text": [
      "NDF-RT Code: N0000004713 -> Drug Name: donepezil [Chemical/Ingredient]\n"
     ]
    }
   ],
   "source": [
    "import requests\n",
    "\n",
    "# Set your BioPortal API key here\n",
    "BIOPORTAL_API_KEY = \"ddb8139c-1d85-4ccf-96c0-2f855b5114ae\"\n",
    "\n",
    "def get_drug_name_from_ndfrt(ndfrt_code):\n",
    "    \"\"\"Fetches the drug name for a given NDF-RT code using the BioPortal API.\"\"\"\n",
    "    base_url = f\"https://data.bioontology.org/ontologies/NDFRT/classes/http%3A%2F%2Fpurl.bioontology.org%2Fontology%2FNDFRT%2F{ndfrt_code}\"\n",
    "    \n",
    "    headers = {\"Authorization\": f\"apikey token={BIOPORTAL_API_KEY}\"}\n",
    "    \n",
    "    response = requests.get(base_url, headers=headers)\n",
    "    \n",
    "    if response.status_code == 200:\n",
    "        data = response.json()\n",
    "        return data.get(\"prefLabel\", \"Unknown Drug\")  # Extract drug name (preferred label)\n",
    "    else:\n",
    "        print(f\"Error {response.status_code}: {response.text}\")\n",
    "        return \"Unknown Drug\"\n",
    "\n",
    "# Example Usage\n",
    "ndfrt_code = \"N0000004713\"\n",
    "drug_name = get_drug_name_from_ndfrt(ndfrt_code)\n",
    "print(f\"NDF-RT Code: {ndfrt_code} -> Drug Name: {drug_name}\")\n"
   ]
  },
  {
   "cell_type": "code",
   "execution_count": 10,
   "metadata": {},
   "outputs": [
    {
     "name": "stdout",
     "output_type": "stream",
     "text": [
      "['CLONAZEPAM', 'BUPROPION', 'SERTRALINE', 'OLANZAPINE', 'ZIPRASIDONE', 'QUETIAPINE', 'CHLORPROMAZINE', 'CARBAMAZEPINE', 'ALLOPURINOL', 'PERPHENAZINE', 'VALPROIC ACID', 'CLOZAPINE', 'LITHIUM', 'RISPERIDONE', 'LAMOTRIGINE', 'ARIPIPRAZOLE']\n"
     ]
    }
   ],
   "source": [
    "bipolar_drugs = []\n",
    "for drug in ndfrt_values:\n",
    "    bipolar_drugs.append(get_drug_name_from_ndfrt(drug))\n",
    "print(bipolar_drugs)"
   ]
  },
  {
   "cell_type": "code",
   "execution_count": 12,
   "metadata": {},
   "outputs": [
    {
     "name": "stdout",
     "output_type": "stream",
     "text": [
      "Drug: CLONAZEPAM -> Appears 17 times in DGIDB\n",
      "Drug: BUPROPION -> Appears 1 times in DGIDB\n",
      "Drug: SERTRALINE -> Appears 7 times in DGIDB\n",
      "Drug: OLANZAPINE -> Appears 7 times in DGIDB\n",
      "Drug: ZIPRASIDONE -> Appears 2 times in DGIDB\n",
      "Drug: QUETIAPINE -> Appears 2 times in DGIDB\n",
      "Drug: CHLORPROMAZINE -> Appears 19 times in DGIDB\n",
      "Drug: CARBAMAZEPINE -> Appears 25 times in DGIDB\n",
      "Drug: ALLOPURINOL -> Appears 6 times in DGIDB\n",
      "Drug: PERPHENAZINE -> Appears 14 times in DGIDB\n",
      "Drug: VALPROIC ACID -> Appears 36 times in DGIDB\n",
      "Drug: CLOZAPINE -> Appears 26 times in DGIDB\n",
      "Drug: LITHIUM -> Appears 19 times in DGIDB\n",
      "Drug: RISPERIDONE -> Appears 14 times in DGIDB\n",
      "Drug: LAMOTRIGINE -> Appears 17 times in DGIDB\n",
      "Drug: ARIPIPRAZOLE -> Appears 3 times in DGIDB\n"
     ]
    },
    {
     "name": "stderr",
     "output_type": "stream",
     "text": [
      "c:\\Users\\richa\\Desktop\\CodingWorkspaces\\DGI-Hypergraph\\datatestingvenv\\lib\\site-packages\\IPython\\core\\interactiveshell.py:3258: DtypeWarning: Columns (10,11,12) have mixed types.Specify dtype option on import or set low_memory=False.\n",
      "  interactivity=interactivity, compiler=compiler, result=result)\n"
     ]
    }
   ],
   "source": [
    "DGIDB =pd.read_csv(\"./Data/DGIDB/converted/human/dgidb_ncbi_v3.csv\")\n",
    "# Convert to Pandas Series for optimized counting\n",
    "bipolar_drug_counts = {drug: (DGIDB[\"drug_claim_name\"] == drug).sum() for drug in bipolar_drugs}\n",
    "\n",
    "# Print results\n",
    "for drug, count in bipolar_drug_counts.items():\n",
    "    print(f\"Drug: {drug} -> Appears {count} times in DGIDB\")\n"
   ]
  },
  {
   "cell_type": "code",
   "execution_count": 13,
   "metadata": {},
   "outputs": [
    {
     "name": "stdout",
     "output_type": "stream",
     "text": [
      "Fixed JSON saved as 'bipolar_gene_counts.json'\n",
      "{\n",
      "    \"1813\": 11,\n",
      "    \"1576\": 9,\n",
      "    \"1544\": 8,\n",
      "    \"1565\": 7,\n",
      "    \"3356\": 7,\n",
      "    \"1559\": 6,\n",
      "    \"1557\": 5,\n",
      "    \"1812\": 3,\n",
      "    \"5617\": 3,\n",
      "    \"3952\": 3\n",
      "}\n"
     ]
    }
   ],
   "source": [
    "import json\n",
    "\n",
    "# Filter DGIDB for rows where \"drug_claim_name\" is in bipolar_drugs\n",
    "filtered_dgidb = DGIDB[DGIDB[\"drug_claim_name\"].isin(bipolar_drugs)]\n",
    "# Count occurrences of each unique ncbi_gene_id\n",
    "# Convert ncbi_gene_id to string before counting\n",
    "ncbi_gene_counts = (\n",
    "    filtered_dgidb[\"ncbi_gene_id\"]\n",
    "    .astype(int)  # Convert to integer to drop .0\n",
    "    .astype(str)  # Convert to string\n",
    "    .value_counts()\n",
    "    .to_dict()\n",
    ")\n",
    "\n",
    "# Save JSON with correct format\n",
    "with open(\"bipolar_gene_counts.json\", \"w\") as f:\n",
    "    json.dump(ncbi_gene_counts, f, indent=4)\n",
    "\n",
    "print(\"Fixed JSON saved as 'bipolar_gene_counts.json'\")\n",
    "\n",
    "\n",
    "# Print confirmation and first few entries\n",
    "print(json.dumps(dict(list(ncbi_gene_counts.items())[:10]), indent=4))  # Preview first 10\n"
   ]
  },
  {
   "cell_type": "code",
   "execution_count": 18,
   "metadata": {},
   "outputs": [
    {
     "name": "stdout",
     "output_type": "stream",
     "text": [
      "Binary incidence matrix saved as 'hypergraph_incidence_matrix_msigdb_using_dict_with_missing_genes.npz'.\n"
     ]
    }
   ],
   "source": [
    "from scipy.sparse import dok_matrix, save_npz\n",
    "import pandas as pd\n",
    "import numpy as np\n",
    "with open(\"pathway_to_ncbi_ids.json\", \"r\") as f:\n",
    "    pathway_data = json.load(f)\n",
    "# Get unique genes and pathways\n",
    "genes = sorted(set(gene for genes in pathway_data.values() for gene in genes))\n",
    "pathways = list(pathway_data.keys())\n",
    "\n",
    "# Create mappings\n",
    "gene_to_index = {gene: i for i, gene in enumerate(genes)}\n",
    "pathway_to_index = {pathway: j for j, pathway in enumerate(pathways)}\n",
    "\n",
    "# Initialize DOK matrix\n",
    "binary_incidence_matrix = dok_matrix((len(genes), len(pathways)), dtype=np.int8)\n",
    "\n",
    "# Populate the matrix\n",
    "for pathway, gene_list in pathway_data.items():\n",
    "    j = pathway_to_index[pathway]  # Column index for pathway\n",
    "    for gene in gene_list:\n",
    "        i = gene_to_index[gene]  # Row index for gene\n",
    "        binary_incidence_matrix[i, j] = 1  # Binary presence\n",
    "\n",
    "# Convert to CSR format for efficiency\n",
    "binary_csr_matrix = binary_incidence_matrix.tocsr()\n",
    "\n",
    "# Save the matrix\n",
    "save_npz(\"hypergraph_incidence_matrix_msigdb_using_dict_with_missing_genes.npz\", binary_csr_matrix)\n",
    "\n",
    "# Print confirmation\n",
    "print(\"Binary incidence matrix saved as 'hypergraph_incidence_matrix_msigdb_using_dict_with_missing_genes.npz'.\")"
   ]
  },
  {
   "cell_type": "code",
   "execution_count": 19,
   "metadata": {},
   "outputs": [
    {
     "name": "stdout",
     "output_type": "stream",
     "text": [
      "  (328, 0)\t1\n",
      "  (427, 0)\t1\n",
      "  (2012, 0)\t1\n",
      "  (7272, 0)\t1\n",
      "  (6103, 0)\t1\n",
      "  (4398, 1)\t1\n",
      "  (2012, 1)\t1\n",
      "  (4404, 1)\t1\n",
      "  (3104, 1)\t1\n",
      "  (3965, 1)\t1\n",
      "  (95, 2)\t1\n",
      "  (106, 2)\t1\n",
      "  (16487, 2)\t1\n",
      "  (278, 2)\t1\n",
      "  (19176, 2)\t1\n",
      "  (9275, 2)\t1\n",
      "  (15772, 2)\t1\n",
      "  (554, 2)\t1\n",
      "  (5984, 2)\t1\n",
      "  (1380, 2)\t1\n",
      "  (849, 2)\t1\n",
      "  (4413, 2)\t1\n",
      "  (17944, 2)\t1\n",
      "  (1387, 2)\t1\n",
      "  (10734, 2)\t1\n",
      "  :\t:\n",
      "  (8756, 7410)\t1\n",
      "  (12745, 7410)\t1\n",
      "  (6993, 7410)\t1\n",
      "  (10738, 7410)\t1\n",
      "  (5121, 7410)\t1\n",
      "  (5122, 7410)\t1\n",
      "  (5124, 7410)\t1\n",
      "  (5150, 7410)\t1\n",
      "  (5151, 7410)\t1\n",
      "  (5152, 7410)\t1\n",
      "  (11020, 7410)\t1\n",
      "  (13940, 7410)\t1\n",
      "  (20548, 7410)\t1\n",
      "  (19604, 7410)\t1\n",
      "  (20392, 7410)\t1\n",
      "  (9627, 7410)\t1\n",
      "  (7671, 7410)\t1\n",
      "  (5175, 7410)\t1\n",
      "  (5176, 7410)\t1\n",
      "  (5177, 7410)\t1\n",
      "  (5178, 7410)\t1\n",
      "  (5179, 7410)\t1\n",
      "  (9208, 7410)\t1\n",
      "  (5199, 7410)\t1\n",
      "  (13307, 7410)\t1\n"
     ]
    }
   ],
   "source": [
    "print(binary_incidence_matrix)"
   ]
  },
  {
   "cell_type": "code",
   "execution_count": 26,
   "metadata": {},
   "outputs": [
    {
     "name": "stdout",
     "output_type": "stream",
     "text": [
      "['1813', '1576', '1544', '1565', '3356', '1559', '1557', '1812', '5617', '3952', '3363', '7157', '4922', '3757', '9734', '627', '6336', '3065', '7124', '55869', '7133', '11280', '1814', '2678', '6326', '6335', '10014', '3417', '6332', '8841', '6323', '355', '1815', '2194', '7915', '6750', '6329', '9759', '3358', '51564', '6328', '10951', '367', '6311', '3066', '7066', '3308', '6334', '6331', '6714', '7252', '885', '2554', '2561', '4915', '83933', '3350', '5243', '3727', '4005', '3628', '2559', '818', '3106', '5538', '4158', '2908', '51053', '51738', '2475', '2567', '4908', '983', '4609', '1432', '2565', '2556', '1571', '2560', '79885', '4780', '1543', '11201', '54737', '4353', '1555', '2562', '5893', '5294', '632', '2548', '2671', '3558', '2564', '3553', '6606', '596', '2558', '361', '1577', '9429', '2668', '1072', '18', '10013', '2796', '2568', '3725', '2563', '4907', '8314', '3760', '7498', '7334', '2566', '2670', '10919', '6505', '2555', '2557', '55879']\n"
     ]
    }
   ],
   "source": [
    "bipolar_genes = list(ncbi_gene_counts.keys())\n",
    "print(bipolar_genes)\n"
   ]
  },
  {
   "cell_type": "code",
   "execution_count": 20,
   "metadata": {},
   "outputs": [
    {
     "name": "stdout",
     "output_type": "stream",
     "text": [
      "gene_to_index and pathway_to_index have been saved as separate JSON files.\n"
     ]
    }
   ],
   "source": [
    "import json\n",
    "\n",
    "# Create pathway_to_index mapping\n",
    "pathway_to_index = {pathway: idx for idx, pathway in enumerate(pathway_to_genes)}\n",
    "\n",
    "# Save gene_to_index as a separate JSON file\n",
    "with open(\"gene_to_index.json\", \"w\") as gene_json_file:\n",
    "    json.dump(gene_to_index, gene_json_file, indent=4)\n",
    "\n",
    "# Save pathway_to_index as a separate JSON file\n",
    "with open(\"pathway_to_index.json\", \"w\") as pathway_json_file:\n",
    "    json.dump(pathway_to_index, pathway_json_file, indent=4)\n",
    "\n",
    "print(\"gene_to_index and pathway_to_index have been saved as separate JSON files.\")\n"
   ]
  },
  {
   "cell_type": "code",
   "execution_count": 27,
   "metadata": {},
   "outputs": [
    {
     "name": "stdout",
     "output_type": "stream",
     "text": [
      "Weighted incidence matrix saved as 'hypergraph_weighted_incidence_matrix.npz'.\n"
     ]
    }
   ],
   "source": [
    "# Initialize DOK matrix\n",
    "weighted_incidence_matrix = dok_matrix((len(gene_to_index), len(pathway_to_index)), dtype=float)\n",
    "\n",
    "# Populate the matrix with weights\n",
    "for pathway, gene_list in pathway_data.items():\n",
    "    j = pathway_to_index[pathway]  # Column index for pathway\n",
    "    total_genes = len(gene_list)\n",
    "    \n",
    "    # Count bipolar genes in this pathway\n",
    "    num_bipolar_genes = sum(1 for gene in gene_list if str(gene) in bipolar_genes)\n",
    "    \n",
    "    # Compute weight\n",
    "    weight = num_bipolar_genes / total_genes if total_genes > 0 else 0\n",
    "    \n",
    "    # Assign weight to all involved genes\n",
    "    for gene in gene_list:\n",
    "        i = gene_to_index[gene]  # Row index for gene\n",
    "        weighted_incidence_matrix[i, j] = weight  # Assign weight instead of binary 1\n",
    "\n",
    "# Convert to CSR format for efficiency\n",
    "weighted_csr_matrix = weighted_incidence_matrix.tocsr()\n",
    "\n",
    "# Save the matrix\n",
    "save_npz(\"hypergraph_weighted_incidence_matrix.npz\", weighted_csr_matrix)\n",
    "\n",
    "# Print confirmation\n",
    "print(\"Weighted incidence matrix saved as 'hypergraph_weighted_incidence_matrix.npz'.\")\n"
   ]
  },
  {
   "cell_type": "code",
   "execution_count": 28,
   "metadata": {},
   "outputs": [
    {
     "name": "stdout",
     "output_type": "stream",
     "text": [
      "  (4398, 1)\t0.2\n",
      "  (2012, 1)\t0.2\n",
      "  (4404, 1)\t0.2\n",
      "  (3104, 1)\t0.2\n",
      "  (3965, 1)\t0.2\n",
      "  (95, 2)\t0.015384615384615385\n",
      "  (106, 2)\t0.015384615384615385\n",
      "  (16487, 2)\t0.015384615384615385\n",
      "  (278, 2)\t0.015384615384615385\n",
      "  (19176, 2)\t0.015384615384615385\n",
      "  (9275, 2)\t0.015384615384615385\n",
      "  (15772, 2)\t0.015384615384615385\n",
      "  (554, 2)\t0.015384615384615385\n",
      "  (5984, 2)\t0.015384615384615385\n",
      "  (1380, 2)\t0.015384615384615385\n",
      "  (849, 2)\t0.015384615384615385\n",
      "  (4413, 2)\t0.015384615384615385\n",
      "  (17944, 2)\t0.015384615384615385\n",
      "  (1387, 2)\t0.015384615384615385\n",
      "  (10734, 2)\t0.015384615384615385\n",
      "  (1623, 2)\t0.015384615384615385\n",
      "  (1630, 2)\t0.015384615384615385\n",
      "  (18307, 2)\t0.015384615384615385\n",
      "  (1677, 2)\t0.015384615384615385\n",
      "  (1635, 2)\t0.015384615384615385\n",
      "  :\t:\n",
      "  (9225, 7402)\t0.1111111111111111\n",
      "  (1337, 7402)\t0.1111111111111111\n",
      "  (8397, 7402)\t0.1111111111111111\n",
      "  (4917, 7402)\t0.1111111111111111\n",
      "  (4918, 7402)\t0.1111111111111111\n",
      "  (5029, 7402)\t0.1111111111111111\n",
      "  (5031, 7402)\t0.1111111111111111\n",
      "  (5812, 7402)\t0.1111111111111111\n",
      "  (5032, 7402)\t0.1111111111111111\n",
      "  (612, 7404)\t0.0625\n",
      "  (674, 7404)\t0.0625\n",
      "  (5982, 7404)\t0.0625\n",
      "  (5925, 7404)\t0.0625\n",
      "  (262, 7404)\t0.0625\n",
      "  (263, 7404)\t0.0625\n",
      "  (8603, 7404)\t0.0625\n",
      "  (5901, 7404)\t0.0625\n",
      "  (16191, 7404)\t0.0625\n",
      "  (18520, 7404)\t0.0625\n",
      "  (4981, 7404)\t0.0625\n",
      "  (5946, 7404)\t0.0625\n",
      "  (5944, 7404)\t0.0625\n",
      "  (5907, 7404)\t0.0625\n",
      "  (5884, 7404)\t0.0625\n",
      "  (5055, 7404)\t0.0625\n"
     ]
    }
   ],
   "source": [
    "print(weighted_incidence_matrix)"
   ]
  }
 ],
 "metadata": {
  "kernelspec": {
   "display_name": "datatestingvenv",
   "language": "python",
   "name": "python3"
  },
  "language_info": {
   "codemirror_mode": {
    "name": "ipython",
    "version": 3
   },
   "file_extension": ".py",
   "mimetype": "text/x-python",
   "name": "python",
   "nbconvert_exporter": "python",
   "pygments_lexer": "ipython3",
   "version": "3.7.0"
  }
 },
 "nbformat": 4,
 "nbformat_minor": 2
}
